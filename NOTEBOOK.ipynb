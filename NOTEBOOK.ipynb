{
 "cells": [
  {
   "cell_type": "markdown",
   "metadata": {},
   "source": [
    "# FRANCE TRAVEL RECOMMENDER"
   ]
  },
  {
   "cell_type": "markdown",
   "metadata": {},
   "source": [
    "<img src=\"img/image.jpg\" alt=\"Image\" width=\"30%\" height=\"30%\">"
   ]
  },
  {
   "cell_type": "markdown",
   "metadata": {},
   "source": [
    "## Importation des librairies"
   ]
  },
  {
   "cell_type": "code",
   "execution_count": 10,
   "metadata": {},
   "outputs": [],
   "source": [
    "import pandas as pd\n",
    "import requests\n",
    "import json\n",
    "import plotly.express as px\n",
    "from fuzzywuzzy import process\n",
    "import os"
   ]
  },
  {
   "cell_type": "markdown",
   "metadata": {},
   "source": [
    "## Coordonnées GPS (API nominatim.org)"
   ]
  },
  {
   "cell_type": "code",
   "execution_count": 2,
   "metadata": {},
   "outputs": [],
   "source": [
    "# Importation de la liste des villes\n",
    "list_cities = pd.read_csv('src/list_cities.csv', header=None)[0].to_list()\n",
    "\n",
    "# Définition des URL de l'API\n",
    "start_url = 'https://nominatim.openstreetmap.org/search.php?city='\n",
    "end_url = '&country=France&format=jsonv2'"
   ]
  },
  {
   "cell_type": "code",
   "execution_count": 3,
   "metadata": {},
   "outputs": [],
   "source": [
    "# Récupération des données API latitude et longitude de chaque ville de list_cities\n",
    "\n",
    "list_lon = []\n",
    "list_lat = []\n",
    "\n",
    "for city in list_cities:\n",
    "    r = requests.get(f'{start_url}{city}{end_url}')\n",
    "    lat = r.json()[0]['lat']\n",
    "    lon = r.json()[0]['lon']\n",
    "    list_lat.append(lat)\n",
    "    list_lon.append(lon)\n",
    "    \n",
    "\n",
    "# Création du dataframe à partir des coordonnées par ville\n",
    "\n",
    "df = pd.DataFrame({\n",
    "    'city' : list_cities,\n",
    "    'latitude' : list_lat,\n",
    "    'longitude' : list_lon})\n",
    "\n",
    "df['id'] = df.index + 1\n",
    "\n",
    "df.to_csv('src/api_gps.csv', index=False)"
   ]
  },
  {
   "cell_type": "code",
   "execution_count": 4,
   "metadata": {},
   "outputs": [
    {
     "data": {
      "text/html": [
       "<div>\n",
       "<style scoped>\n",
       "    .dataframe tbody tr th:only-of-type {\n",
       "        vertical-align: middle;\n",
       "    }\n",
       "\n",
       "    .dataframe tbody tr th {\n",
       "        vertical-align: top;\n",
       "    }\n",
       "\n",
       "    .dataframe thead th {\n",
       "        text-align: right;\n",
       "    }\n",
       "</style>\n",
       "<table border=\"1\" class=\"dataframe\">\n",
       "  <thead>\n",
       "    <tr style=\"text-align: right;\">\n",
       "      <th></th>\n",
       "      <th>city</th>\n",
       "      <th>latitude</th>\n",
       "      <th>longitude</th>\n",
       "      <th>id</th>\n",
       "    </tr>\n",
       "  </thead>\n",
       "  <tbody>\n",
       "    <tr>\n",
       "      <th>0</th>\n",
       "      <td>Mont Saint Michel</td>\n",
       "      <td>48.635954</td>\n",
       "      <td>-1.511460</td>\n",
       "      <td>1</td>\n",
       "    </tr>\n",
       "    <tr>\n",
       "      <th>1</th>\n",
       "      <td>St Malo</td>\n",
       "      <td>48.649518</td>\n",
       "      <td>-2.026041</td>\n",
       "      <td>2</td>\n",
       "    </tr>\n",
       "    <tr>\n",
       "      <th>2</th>\n",
       "      <td>Bayeux</td>\n",
       "      <td>49.276462</td>\n",
       "      <td>-0.702474</td>\n",
       "      <td>3</td>\n",
       "    </tr>\n",
       "    <tr>\n",
       "      <th>3</th>\n",
       "      <td>Le Havre</td>\n",
       "      <td>49.493898</td>\n",
       "      <td>0.107973</td>\n",
       "      <td>4</td>\n",
       "    </tr>\n",
       "    <tr>\n",
       "      <th>4</th>\n",
       "      <td>Rouen</td>\n",
       "      <td>49.440459</td>\n",
       "      <td>1.093966</td>\n",
       "      <td>5</td>\n",
       "    </tr>\n",
       "  </tbody>\n",
       "</table>\n",
       "</div>"
      ],
      "text/plain": [
       "                city   latitude  longitude  id\n",
       "0  Mont Saint Michel  48.635954  -1.511460   1\n",
       "1            St Malo  48.649518  -2.026041   2\n",
       "2             Bayeux  49.276462  -0.702474   3\n",
       "3           Le Havre  49.493898   0.107973   4\n",
       "4              Rouen  49.440459   1.093966   5"
      ]
     },
     "metadata": {},
     "output_type": "display_data"
    },
    {
     "data": {
      "text/html": [
       "<div>\n",
       "<style scoped>\n",
       "    .dataframe tbody tr th:only-of-type {\n",
       "        vertical-align: middle;\n",
       "    }\n",
       "\n",
       "    .dataframe tbody tr th {\n",
       "        vertical-align: top;\n",
       "    }\n",
       "\n",
       "    .dataframe thead th {\n",
       "        text-align: right;\n",
       "    }\n",
       "</style>\n",
       "<table border=\"1\" class=\"dataframe\">\n",
       "  <thead>\n",
       "    <tr style=\"text-align: right;\">\n",
       "      <th></th>\n",
       "      <th>city</th>\n",
       "      <th>latitude</th>\n",
       "      <th>longitude</th>\n",
       "      <th>id</th>\n",
       "    </tr>\n",
       "  </thead>\n",
       "  <tbody>\n",
       "    <tr>\n",
       "      <th>30</th>\n",
       "      <td>Toulouse</td>\n",
       "      <td>43.604462</td>\n",
       "      <td>1.444247</td>\n",
       "      <td>31</td>\n",
       "    </tr>\n",
       "    <tr>\n",
       "      <th>31</th>\n",
       "      <td>Montauban</td>\n",
       "      <td>44.017584</td>\n",
       "      <td>1.354999</td>\n",
       "      <td>32</td>\n",
       "    </tr>\n",
       "    <tr>\n",
       "      <th>32</th>\n",
       "      <td>Biarritz</td>\n",
       "      <td>43.483252</td>\n",
       "      <td>-1.559278</td>\n",
       "      <td>33</td>\n",
       "    </tr>\n",
       "    <tr>\n",
       "      <th>33</th>\n",
       "      <td>Bayonne</td>\n",
       "      <td>43.494514</td>\n",
       "      <td>-1.473666</td>\n",
       "      <td>34</td>\n",
       "    </tr>\n",
       "    <tr>\n",
       "      <th>34</th>\n",
       "      <td>La Rochelle</td>\n",
       "      <td>46.159113</td>\n",
       "      <td>-1.152043</td>\n",
       "      <td>35</td>\n",
       "    </tr>\n",
       "  </tbody>\n",
       "</table>\n",
       "</div>"
      ],
      "text/plain": [
       "           city   latitude  longitude  id\n",
       "30     Toulouse  43.604462   1.444247  31\n",
       "31    Montauban  44.017584   1.354999  32\n",
       "32     Biarritz  43.483252  -1.559278  33\n",
       "33      Bayonne  43.494514  -1.473666  34\n",
       "34  La Rochelle  46.159113  -1.152043  35"
      ]
     },
     "metadata": {},
     "output_type": "display_data"
    }
   ],
   "source": [
    "# Chargement du dataframe à partir du fichier api_gps.csv\n",
    "\n",
    "df = pd.read_csv('src/api_gps.csv')\n",
    "\n",
    "display(df.head())\n",
    "display(df.tail())"
   ]
  },
  {
   "cell_type": "markdown",
   "metadata": {},
   "source": [
    "## Prévisions Météo (API openweathermap.org)"
   ]
  },
  {
   "cell_type": "code",
   "execution_count": 5,
   "metadata": {},
   "outputs": [],
   "source": [
    "# URL + KEY API\n",
    "\n",
    "# Votre clé API openweathermap.org\n",
    "# api_keys = os.environ.get('API_KEY')\n",
    "\n",
    "# Ma clé API\n",
    "api_keys = '3080fdce1a3bf4f8a9b433bd4e30daa7'\n",
    "\n",
    "start_url = 'https://api.openweathermap.org/data/2.5/forecast?'\n",
    "lat_url = 'lat='\n",
    "lon_url = 'lon='\n",
    "end_url = f'&units=metric&appid={api_keys}'"
   ]
  },
  {
   "cell_type": "code",
   "execution_count": 6,
   "metadata": {},
   "outputs": [],
   "source": [
    "# Récuperer les données API + les regrouper dans une liste\n",
    "\n",
    "results_list = []\n",
    "\n",
    "for city, lat, lon in zip(df['city'], df['latitude'], df['longitude']):\n",
    "    r2 = requests.get(f'{start_url}{lat_url}{lat}&{lon_url}{lon}{end_url}')\n",
    "    r2_json = r2.json()\n",
    "    r2_json['city'] = city\n",
    "    results_list.append(r2_json)\n",
    "    \n",
    "# Enregistrer le fichier au format JSON\n",
    "\n",
    "with open('src/api_weather.json', 'w') as fichier_json:\n",
    "    json.dump(results_list, fichier_json)"
   ]
  },
  {
   "cell_type": "code",
   "execution_count": 7,
   "metadata": {},
   "outputs": [],
   "source": [
    "# Charger le fichier JSON api_gps\n",
    "\n",
    "with open('src/api_weather.json', 'r') as fichier_json:\n",
    "    results_list = json.load(fichier_json)"
   ]
  },
  {
   "cell_type": "code",
   "execution_count": 8,
   "metadata": {},
   "outputs": [],
   "source": [
    "# Créer une liste par attributs\n",
    "\n",
    "datetime = []\n",
    "temperature = []\n",
    "weather = []\n",
    "pop = []\n",
    "rain = []\n",
    "city = []\n",
    "\n",
    "for result in results_list:\n",
    "    for forecast in result['list']:\n",
    "        city_for = result['city']\n",
    "        city.append(city_for)\n",
    "        datetime_for = forecast['dt_txt']\n",
    "        datetime.append(datetime_for)\n",
    "        temperature_for = forecast['main']['temp']\n",
    "        temperature.append(temperature_for)\n",
    "        weather_for = forecast['weather'][0]['main']\n",
    "        weather.append(weather_for)\n",
    "        pop_for = forecast['pop']\n",
    "        pop.append(pop_for)\n",
    "        \n",
    "        \n",
    "    for forecast in result['list'][1:]:\n",
    "        if 'rain' in forecast:\n",
    "            rain_for = forecast['rain']['3h']\n",
    "            rain.append(rain_for)\n",
    "        else:\n",
    "            rain.append(0)\n",
    "    rain.append(0)"
   ]
  },
  {
   "cell_type": "code",
   "execution_count": 9,
   "metadata": {},
   "outputs": [
    {
     "data": {
      "text/html": [
       "<div>\n",
       "<style scoped>\n",
       "    .dataframe tbody tr th:only-of-type {\n",
       "        vertical-align: middle;\n",
       "    }\n",
       "\n",
       "    .dataframe tbody tr th {\n",
       "        vertical-align: top;\n",
       "    }\n",
       "\n",
       "    .dataframe thead th {\n",
       "        text-align: right;\n",
       "    }\n",
       "</style>\n",
       "<table border=\"1\" class=\"dataframe\">\n",
       "  <thead>\n",
       "    <tr style=\"text-align: right;\">\n",
       "      <th></th>\n",
       "      <th>city</th>\n",
       "      <th>latitude</th>\n",
       "      <th>longitude</th>\n",
       "      <th>id</th>\n",
       "      <th>datetime</th>\n",
       "      <th>temperature</th>\n",
       "      <th>weather</th>\n",
       "      <th>pop</th>\n",
       "      <th>rain</th>\n",
       "    </tr>\n",
       "  </thead>\n",
       "  <tbody>\n",
       "    <tr>\n",
       "      <th>0</th>\n",
       "      <td>Mont Saint Michel</td>\n",
       "      <td>48.635954</td>\n",
       "      <td>-1.511460</td>\n",
       "      <td>1</td>\n",
       "      <td>2024-01-24 12:00:00</td>\n",
       "      <td>13.24</td>\n",
       "      <td>Clouds</td>\n",
       "      <td>0.0</td>\n",
       "      <td>0.00</td>\n",
       "    </tr>\n",
       "    <tr>\n",
       "      <th>1</th>\n",
       "      <td>Mont Saint Michel</td>\n",
       "      <td>48.635954</td>\n",
       "      <td>-1.511460</td>\n",
       "      <td>1</td>\n",
       "      <td>2024-01-24 15:00:00</td>\n",
       "      <td>12.52</td>\n",
       "      <td>Clouds</td>\n",
       "      <td>0.0</td>\n",
       "      <td>0.13</td>\n",
       "    </tr>\n",
       "    <tr>\n",
       "      <th>2</th>\n",
       "      <td>Mont Saint Michel</td>\n",
       "      <td>48.635954</td>\n",
       "      <td>-1.511460</td>\n",
       "      <td>1</td>\n",
       "      <td>2024-01-24 18:00:00</td>\n",
       "      <td>12.03</td>\n",
       "      <td>Rain</td>\n",
       "      <td>0.2</td>\n",
       "      <td>0.12</td>\n",
       "    </tr>\n",
       "    <tr>\n",
       "      <th>3</th>\n",
       "      <td>Mont Saint Michel</td>\n",
       "      <td>48.635954</td>\n",
       "      <td>-1.511460</td>\n",
       "      <td>1</td>\n",
       "      <td>2024-01-24 21:00:00</td>\n",
       "      <td>12.26</td>\n",
       "      <td>Rain</td>\n",
       "      <td>0.2</td>\n",
       "      <td>0.00</td>\n",
       "    </tr>\n",
       "    <tr>\n",
       "      <th>4</th>\n",
       "      <td>Mont Saint Michel</td>\n",
       "      <td>48.635954</td>\n",
       "      <td>-1.511460</td>\n",
       "      <td>1</td>\n",
       "      <td>2024-01-25 00:00:00</td>\n",
       "      <td>11.69</td>\n",
       "      <td>Clouds</td>\n",
       "      <td>0.0</td>\n",
       "      <td>0.00</td>\n",
       "    </tr>\n",
       "    <tr>\n",
       "      <th>...</th>\n",
       "      <td>...</td>\n",
       "      <td>...</td>\n",
       "      <td>...</td>\n",
       "      <td>...</td>\n",
       "      <td>...</td>\n",
       "      <td>...</td>\n",
       "      <td>...</td>\n",
       "      <td>...</td>\n",
       "      <td>...</td>\n",
       "    </tr>\n",
       "    <tr>\n",
       "      <th>1395</th>\n",
       "      <td>La Rochelle</td>\n",
       "      <td>46.159113</td>\n",
       "      <td>-1.152043</td>\n",
       "      <td>35</td>\n",
       "      <td>2024-01-28 21:00:00</td>\n",
       "      <td>9.71</td>\n",
       "      <td>Clouds</td>\n",
       "      <td>0.0</td>\n",
       "      <td>0.00</td>\n",
       "    </tr>\n",
       "    <tr>\n",
       "      <th>1396</th>\n",
       "      <td>La Rochelle</td>\n",
       "      <td>46.159113</td>\n",
       "      <td>-1.152043</td>\n",
       "      <td>35</td>\n",
       "      <td>2024-01-29 00:00:00</td>\n",
       "      <td>9.35</td>\n",
       "      <td>Clouds</td>\n",
       "      <td>0.0</td>\n",
       "      <td>0.00</td>\n",
       "    </tr>\n",
       "    <tr>\n",
       "      <th>1397</th>\n",
       "      <td>La Rochelle</td>\n",
       "      <td>46.159113</td>\n",
       "      <td>-1.152043</td>\n",
       "      <td>35</td>\n",
       "      <td>2024-01-29 03:00:00</td>\n",
       "      <td>9.23</td>\n",
       "      <td>Clouds</td>\n",
       "      <td>0.0</td>\n",
       "      <td>0.00</td>\n",
       "    </tr>\n",
       "    <tr>\n",
       "      <th>1398</th>\n",
       "      <td>La Rochelle</td>\n",
       "      <td>46.159113</td>\n",
       "      <td>-1.152043</td>\n",
       "      <td>35</td>\n",
       "      <td>2024-01-29 06:00:00</td>\n",
       "      <td>8.92</td>\n",
       "      <td>Clouds</td>\n",
       "      <td>0.0</td>\n",
       "      <td>0.00</td>\n",
       "    </tr>\n",
       "    <tr>\n",
       "      <th>1399</th>\n",
       "      <td>La Rochelle</td>\n",
       "      <td>46.159113</td>\n",
       "      <td>-1.152043</td>\n",
       "      <td>35</td>\n",
       "      <td>2024-01-29 09:00:00</td>\n",
       "      <td>9.23</td>\n",
       "      <td>Clouds</td>\n",
       "      <td>0.0</td>\n",
       "      <td>0.00</td>\n",
       "    </tr>\n",
       "  </tbody>\n",
       "</table>\n",
       "<p>1400 rows × 9 columns</p>\n",
       "</div>"
      ],
      "text/plain": [
       "                   city   latitude  longitude  id            datetime  \\\n",
       "0     Mont Saint Michel  48.635954  -1.511460   1 2024-01-24 12:00:00   \n",
       "1     Mont Saint Michel  48.635954  -1.511460   1 2024-01-24 15:00:00   \n",
       "2     Mont Saint Michel  48.635954  -1.511460   1 2024-01-24 18:00:00   \n",
       "3     Mont Saint Michel  48.635954  -1.511460   1 2024-01-24 21:00:00   \n",
       "4     Mont Saint Michel  48.635954  -1.511460   1 2024-01-25 00:00:00   \n",
       "...                 ...        ...        ...  ..                 ...   \n",
       "1395        La Rochelle  46.159113  -1.152043  35 2024-01-28 21:00:00   \n",
       "1396        La Rochelle  46.159113  -1.152043  35 2024-01-29 00:00:00   \n",
       "1397        La Rochelle  46.159113  -1.152043  35 2024-01-29 03:00:00   \n",
       "1398        La Rochelle  46.159113  -1.152043  35 2024-01-29 06:00:00   \n",
       "1399        La Rochelle  46.159113  -1.152043  35 2024-01-29 09:00:00   \n",
       "\n",
       "      temperature weather  pop  rain  \n",
       "0           13.24  Clouds  0.0  0.00  \n",
       "1           12.52  Clouds  0.0  0.13  \n",
       "2           12.03    Rain  0.2  0.12  \n",
       "3           12.26    Rain  0.2  0.00  \n",
       "4           11.69  Clouds  0.0  0.00  \n",
       "...           ...     ...  ...   ...  \n",
       "1395         9.71  Clouds  0.0  0.00  \n",
       "1396         9.35  Clouds  0.0  0.00  \n",
       "1397         9.23  Clouds  0.0  0.00  \n",
       "1398         8.92  Clouds  0.0  0.00  \n",
       "1399         9.23  Clouds  0.0  0.00  \n",
       "\n",
       "[1400 rows x 9 columns]"
      ]
     },
     "execution_count": 9,
     "metadata": {},
     "output_type": "execute_result"
    }
   ],
   "source": [
    "# Creation du second dataframe df_weather\n",
    "\n",
    "data = {\n",
    "    'city': city,\n",
    "    'datetime': datetime,\n",
    "    'temperature': temperature,\n",
    "    'weather': weather,\n",
    "    'pop': pop,\n",
    "    'rain': rain\n",
    "}\n",
    "\n",
    "df_weather = pd.DataFrame(data)\n",
    "df_weather['datetime'] = pd.to_datetime(df_weather['datetime'])\n",
    "df_weather\n",
    "\n",
    "# Fusion des 2 dataframes\n",
    "df_data = pd.merge(df, df_weather, on='city')\n",
    "\n",
    "df_data"
   ]
  },
  {
   "cell_type": "code",
   "execution_count": 10,
   "metadata": {},
   "outputs": [
    {
     "data": {
      "text/html": [
       "<div>\n",
       "<style scoped>\n",
       "    .dataframe tbody tr th:only-of-type {\n",
       "        vertical-align: middle;\n",
       "    }\n",
       "\n",
       "    .dataframe tbody tr th {\n",
       "        vertical-align: top;\n",
       "    }\n",
       "\n",
       "    .dataframe thead th {\n",
       "        text-align: right;\n",
       "    }\n",
       "</style>\n",
       "<table border=\"1\" class=\"dataframe\">\n",
       "  <thead>\n",
       "    <tr style=\"text-align: right;\">\n",
       "      <th></th>\n",
       "      <th>id</th>\n",
       "      <th>city</th>\n",
       "      <th>datetime</th>\n",
       "      <th>max_temperature</th>\n",
       "      <th>most_frequent_weather</th>\n",
       "      <th>pop_rain</th>\n",
       "    </tr>\n",
       "  </thead>\n",
       "  <tbody>\n",
       "    <tr>\n",
       "      <th>0</th>\n",
       "      <td>1</td>\n",
       "      <td>Mont Saint Michel</td>\n",
       "      <td>2024-01-24</td>\n",
       "      <td>13.24</td>\n",
       "      <td>Clouds</td>\n",
       "      <td>0.0240</td>\n",
       "    </tr>\n",
       "    <tr>\n",
       "      <th>1</th>\n",
       "      <td>1</td>\n",
       "      <td>Mont Saint Michel</td>\n",
       "      <td>2024-01-25</td>\n",
       "      <td>11.83</td>\n",
       "      <td>Clouds</td>\n",
       "      <td>0.1456</td>\n",
       "    </tr>\n",
       "    <tr>\n",
       "      <th>2</th>\n",
       "      <td>1</td>\n",
       "      <td>Mont Saint Michel</td>\n",
       "      <td>2024-01-26</td>\n",
       "      <td>12.22</td>\n",
       "      <td>Clouds</td>\n",
       "      <td>0.7592</td>\n",
       "    </tr>\n",
       "    <tr>\n",
       "      <th>3</th>\n",
       "      <td>1</td>\n",
       "      <td>Mont Saint Michel</td>\n",
       "      <td>2024-01-27</td>\n",
       "      <td>8.15</td>\n",
       "      <td>Clouds</td>\n",
       "      <td>0.0000</td>\n",
       "    </tr>\n",
       "    <tr>\n",
       "      <th>4</th>\n",
       "      <td>1</td>\n",
       "      <td>Mont Saint Michel</td>\n",
       "      <td>2024-01-28</td>\n",
       "      <td>10.89</td>\n",
       "      <td>Clouds</td>\n",
       "      <td>0.0000</td>\n",
       "    </tr>\n",
       "    <tr>\n",
       "      <th>...</th>\n",
       "      <td>...</td>\n",
       "      <td>...</td>\n",
       "      <td>...</td>\n",
       "      <td>...</td>\n",
       "      <td>...</td>\n",
       "      <td>...</td>\n",
       "    </tr>\n",
       "    <tr>\n",
       "      <th>205</th>\n",
       "      <td>35</td>\n",
       "      <td>La Rochelle</td>\n",
       "      <td>2024-01-25</td>\n",
       "      <td>12.32</td>\n",
       "      <td>Clouds</td>\n",
       "      <td>0.0000</td>\n",
       "    </tr>\n",
       "    <tr>\n",
       "      <th>206</th>\n",
       "      <td>35</td>\n",
       "      <td>La Rochelle</td>\n",
       "      <td>2024-01-26</td>\n",
       "      <td>12.01</td>\n",
       "      <td>Clouds</td>\n",
       "      <td>0.0000</td>\n",
       "    </tr>\n",
       "    <tr>\n",
       "      <th>207</th>\n",
       "      <td>35</td>\n",
       "      <td>La Rochelle</td>\n",
       "      <td>2024-01-27</td>\n",
       "      <td>10.60</td>\n",
       "      <td>Clouds</td>\n",
       "      <td>0.0000</td>\n",
       "    </tr>\n",
       "    <tr>\n",
       "      <th>208</th>\n",
       "      <td>35</td>\n",
       "      <td>La Rochelle</td>\n",
       "      <td>2024-01-28</td>\n",
       "      <td>11.68</td>\n",
       "      <td>Clouds</td>\n",
       "      <td>0.0000</td>\n",
       "    </tr>\n",
       "    <tr>\n",
       "      <th>209</th>\n",
       "      <td>35</td>\n",
       "      <td>La Rochelle</td>\n",
       "      <td>2024-01-29</td>\n",
       "      <td>9.35</td>\n",
       "      <td>Clouds</td>\n",
       "      <td>0.0000</td>\n",
       "    </tr>\n",
       "  </tbody>\n",
       "</table>\n",
       "<p>210 rows × 6 columns</p>\n",
       "</div>"
      ],
      "text/plain": [
       "     id               city    datetime  max_temperature most_frequent_weather  \\\n",
       "0     1  Mont Saint Michel  2024-01-24            13.24                Clouds   \n",
       "1     1  Mont Saint Michel  2024-01-25            11.83                Clouds   \n",
       "2     1  Mont Saint Michel  2024-01-26            12.22                Clouds   \n",
       "3     1  Mont Saint Michel  2024-01-27             8.15                Clouds   \n",
       "4     1  Mont Saint Michel  2024-01-28            10.89                Clouds   \n",
       "..   ..                ...         ...              ...                   ...   \n",
       "205  35        La Rochelle  2024-01-25            12.32                Clouds   \n",
       "206  35        La Rochelle  2024-01-26            12.01                Clouds   \n",
       "207  35        La Rochelle  2024-01-27            10.60                Clouds   \n",
       "208  35        La Rochelle  2024-01-28            11.68                Clouds   \n",
       "209  35        La Rochelle  2024-01-29             9.35                Clouds   \n",
       "\n",
       "     pop_rain  \n",
       "0      0.0240  \n",
       "1      0.1456  \n",
       "2      0.7592  \n",
       "3      0.0000  \n",
       "4      0.0000  \n",
       "..        ...  \n",
       "205    0.0000  \n",
       "206    0.0000  \n",
       "207    0.0000  \n",
       "208    0.0000  \n",
       "209    0.0000  \n",
       "\n",
       "[210 rows x 6 columns]"
      ]
     },
     "execution_count": 10,
     "metadata": {},
     "output_type": "execute_result"
    }
   ],
   "source": [
    "df_data['pop_rain'] = df_data['pop'] * df_data['rain']\n",
    "\n",
    "# Groupez les données par jour et effectuez les calculs\n",
    "df_daily = df_data.groupby(['id', 'city', df_data['datetime'].dt.date]).agg(\n",
    "    max_temperature=('temperature', 'max'),\n",
    "    most_frequent_weather=('weather', lambda x: x.mode().iloc[0]),\n",
    "    pop_rain=('pop_rain', 'sum'),\n",
    ").reset_index()\n",
    "\n",
    "# Affichez le DataFrame résultant\n",
    "df_daily"
   ]
  },
  {
   "cell_type": "markdown",
   "metadata": {},
   "source": [
    "Si vous souhaitez enregistrer le fichier des prévisions météo quotidienne sur votre AWS S3, vous pouvez utiliser la commande suivante :"
   ]
  },
  {
   "cell_type": "code",
   "execution_count": 11,
   "metadata": {},
   "outputs": [],
   "source": [
    "# # Enregistrement du fichier weather_daily au format CSV sur AWS S3\n",
    "\n",
    "# import boto3\n",
    "\n",
    "# # Connexion à la session S3\n",
    "\n",
    "# session = boto3.Session(profile_name='default')\n",
    "# s3 = session.resource(\"s3\")\n",
    "# print(s3)\n",
    "\n",
    "# bucket_name = YOUR_BUCKET_NAME\n",
    "# bucket = s3.Bucket(bucket_name)\n",
    "\n",
    "# # Créer le fichier CSV dans le bucket\n",
    "# filepath = 'YOUR_PATH/weather_daily.csv'\n",
    "\n",
    "# put_object = bucket.put_object(\n",
    "#     Key=filepath, \n",
    "#     Body=df_daily.to_csv(index=False))\n",
    "\n",
    "# print(f'Le fichier a été créé dans le bucket au chemin : {filepath}')"
   ]
  },
  {
   "cell_type": "code",
   "execution_count": 12,
   "metadata": {},
   "outputs": [
    {
     "data": {
      "text/html": [
       "<div>\n",
       "<style scoped>\n",
       "    .dataframe tbody tr th:only-of-type {\n",
       "        vertical-align: middle;\n",
       "    }\n",
       "\n",
       "    .dataframe tbody tr th {\n",
       "        vertical-align: top;\n",
       "    }\n",
       "\n",
       "    .dataframe thead th {\n",
       "        text-align: right;\n",
       "    }\n",
       "</style>\n",
       "<table border=\"1\" class=\"dataframe\">\n",
       "  <thead>\n",
       "    <tr style=\"text-align: right;\">\n",
       "      <th></th>\n",
       "      <th>id</th>\n",
       "      <th>city</th>\n",
       "      <th>max_temperature</th>\n",
       "      <th>most_frequent_weather</th>\n",
       "      <th>pop_rain</th>\n",
       "      <th>latitude</th>\n",
       "      <th>longitude</th>\n",
       "    </tr>\n",
       "  </thead>\n",
       "  <tbody>\n",
       "    <tr>\n",
       "      <th>0</th>\n",
       "      <td>1</td>\n",
       "      <td>Mont Saint Michel</td>\n",
       "      <td>13.24</td>\n",
       "      <td>Clouds</td>\n",
       "      <td>1.0</td>\n",
       "      <td>48.635954</td>\n",
       "      <td>-1.511460</td>\n",
       "    </tr>\n",
       "    <tr>\n",
       "      <th>1</th>\n",
       "      <td>2</td>\n",
       "      <td>St Malo</td>\n",
       "      <td>12.37</td>\n",
       "      <td>Clouds</td>\n",
       "      <td>1.0</td>\n",
       "      <td>48.649518</td>\n",
       "      <td>-2.026041</td>\n",
       "    </tr>\n",
       "    <tr>\n",
       "      <th>2</th>\n",
       "      <td>3</td>\n",
       "      <td>Bayeux</td>\n",
       "      <td>12.68</td>\n",
       "      <td>Clouds</td>\n",
       "      <td>0.0</td>\n",
       "      <td>49.276462</td>\n",
       "      <td>-0.702474</td>\n",
       "    </tr>\n",
       "    <tr>\n",
       "      <th>3</th>\n",
       "      <td>4</td>\n",
       "      <td>Le Havre</td>\n",
       "      <td>11.14</td>\n",
       "      <td>Clouds</td>\n",
       "      <td>1.0</td>\n",
       "      <td>49.493898</td>\n",
       "      <td>0.107973</td>\n",
       "    </tr>\n",
       "    <tr>\n",
       "      <th>4</th>\n",
       "      <td>5</td>\n",
       "      <td>Rouen</td>\n",
       "      <td>12.18</td>\n",
       "      <td>Clouds</td>\n",
       "      <td>0.0</td>\n",
       "      <td>49.440459</td>\n",
       "      <td>1.093966</td>\n",
       "    </tr>\n",
       "  </tbody>\n",
       "</table>\n",
       "</div>"
      ],
      "text/plain": [
       "   id               city  max_temperature most_frequent_weather  pop_rain  \\\n",
       "0   1  Mont Saint Michel            13.24                Clouds       1.0   \n",
       "1   2            St Malo            12.37                Clouds       1.0   \n",
       "2   3             Bayeux            12.68                Clouds       0.0   \n",
       "3   4           Le Havre            11.14                Clouds       1.0   \n",
       "4   5              Rouen            12.18                Clouds       0.0   \n",
       "\n",
       "    latitude  longitude  \n",
       "0  48.635954  -1.511460  \n",
       "1  48.649518  -2.026041  \n",
       "2  49.276462  -0.702474  \n",
       "3  49.493898   0.107973  \n",
       "4  49.440459   1.093966  "
      ]
     },
     "execution_count": 12,
     "metadata": {},
     "output_type": "execute_result"
    }
   ],
   "source": [
    "# Groupez les données par city\n",
    "\n",
    "df_unique = df_data.groupby(['id', 'city']).agg(\n",
    "    max_temperature=('temperature', 'max'),\n",
    "    most_frequent_weather=('weather', lambda x: x.mode().iloc[0]),\n",
    "    pop_rain=('pop_rain', 'sum'),\n",
    ").round({'pop_rain': 0}).reset_index()\n",
    "\n",
    "# Fusion pour récupérer latitude et longitude\n",
    "\n",
    "df_unique = pd.merge(df_unique, df, on='city').iloc[:,:-1]\n",
    "df_unique = df_unique.rename(columns={'id_x': 'id'})\n",
    "df_unique.head()"
   ]
  },
  {
   "cell_type": "markdown",
   "metadata": {},
   "source": [
    "Si vous souhaitez enregistrer le fichier des prévisions météo par ville sur votre AWS S3, vous pouvez utiliser la commande suivante :"
   ]
  },
  {
   "cell_type": "code",
   "execution_count": 13,
   "metadata": {},
   "outputs": [],
   "source": [
    "# # Enregistrement du fichier weather_cities au format CSV sur AWS S3\n",
    "\n",
    "# import boto3\n",
    "\n",
    "# # Connexion à la session S3\n",
    "\n",
    "# session = boto3.Session(profile_name='default')\n",
    "# s3 = session.resource(\"s3\")\n",
    "# print(s3)\n",
    "\n",
    "# bucket_name = YOUR_BUCKET_NAME\n",
    "# bucket = s3.Bucket(bucket_name)\n",
    "\n",
    "# # Créer un fichier dans le bucket\n",
    "# filepath = 'YOUR_PATH/weather_cities.csv'\n",
    "\n",
    "# put_object = bucket.put_object(\n",
    "#     Key=filepath, \n",
    "#     Body=df_daily.to_csv(index=False))\n",
    "\n",
    "# print(f'Le fichier a été créé dans le bucket au chemin : {filepath}')"
   ]
  },
  {
   "cell_type": "code",
   "execution_count": 14,
   "metadata": {},
   "outputs": [
    {
     "data": {
      "text/html": [
       "<div>\n",
       "<style scoped>\n",
       "    .dataframe tbody tr th:only-of-type {\n",
       "        vertical-align: middle;\n",
       "    }\n",
       "\n",
       "    .dataframe tbody tr th {\n",
       "        vertical-align: top;\n",
       "    }\n",
       "\n",
       "    .dataframe thead th {\n",
       "        text-align: right;\n",
       "    }\n",
       "</style>\n",
       "<table border=\"1\" class=\"dataframe\">\n",
       "  <thead>\n",
       "    <tr style=\"text-align: right;\">\n",
       "      <th></th>\n",
       "      <th>id</th>\n",
       "      <th>city</th>\n",
       "      <th>max_temperature</th>\n",
       "      <th>most_frequent_weather</th>\n",
       "      <th>pop_rain</th>\n",
       "      <th>latitude</th>\n",
       "      <th>longitude</th>\n",
       "    </tr>\n",
       "  </thead>\n",
       "  <tbody>\n",
       "    <tr>\n",
       "      <th>0</th>\n",
       "      <td>1</td>\n",
       "      <td>Mont Saint Michel</td>\n",
       "      <td>13.24</td>\n",
       "      <td>Clouds</td>\n",
       "      <td>1.0</td>\n",
       "      <td>48.635954</td>\n",
       "      <td>-1.511460</td>\n",
       "    </tr>\n",
       "    <tr>\n",
       "      <th>1</th>\n",
       "      <td>2</td>\n",
       "      <td>St Malo</td>\n",
       "      <td>12.37</td>\n",
       "      <td>Clouds</td>\n",
       "      <td>1.0</td>\n",
       "      <td>48.649518</td>\n",
       "      <td>-2.026041</td>\n",
       "    </tr>\n",
       "    <tr>\n",
       "      <th>2</th>\n",
       "      <td>3</td>\n",
       "      <td>Bayeux</td>\n",
       "      <td>12.68</td>\n",
       "      <td>Clouds</td>\n",
       "      <td>0.0</td>\n",
       "      <td>49.276462</td>\n",
       "      <td>-0.702474</td>\n",
       "    </tr>\n",
       "    <tr>\n",
       "      <th>3</th>\n",
       "      <td>4</td>\n",
       "      <td>Le Havre</td>\n",
       "      <td>11.14</td>\n",
       "      <td>Clouds</td>\n",
       "      <td>1.0</td>\n",
       "      <td>49.493898</td>\n",
       "      <td>0.107973</td>\n",
       "    </tr>\n",
       "    <tr>\n",
       "      <th>4</th>\n",
       "      <td>5</td>\n",
       "      <td>Rouen</td>\n",
       "      <td>12.18</td>\n",
       "      <td>Clouds</td>\n",
       "      <td>0.0</td>\n",
       "      <td>49.440459</td>\n",
       "      <td>1.093966</td>\n",
       "    </tr>\n",
       "    <tr>\n",
       "      <th>5</th>\n",
       "      <td>6</td>\n",
       "      <td>Paris</td>\n",
       "      <td>13.13</td>\n",
       "      <td>Clouds</td>\n",
       "      <td>0.0</td>\n",
       "      <td>48.858890</td>\n",
       "      <td>2.320041</td>\n",
       "    </tr>\n",
       "    <tr>\n",
       "      <th>6</th>\n",
       "      <td>7</td>\n",
       "      <td>Amiens</td>\n",
       "      <td>12.27</td>\n",
       "      <td>Clouds</td>\n",
       "      <td>0.0</td>\n",
       "      <td>49.894171</td>\n",
       "      <td>2.295695</td>\n",
       "    </tr>\n",
       "    <tr>\n",
       "      <th>7</th>\n",
       "      <td>8</td>\n",
       "      <td>Lille</td>\n",
       "      <td>11.41</td>\n",
       "      <td>Clouds</td>\n",
       "      <td>0.0</td>\n",
       "      <td>50.636565</td>\n",
       "      <td>3.063528</td>\n",
       "    </tr>\n",
       "    <tr>\n",
       "      <th>8</th>\n",
       "      <td>9</td>\n",
       "      <td>Strasbourg</td>\n",
       "      <td>12.90</td>\n",
       "      <td>Clouds</td>\n",
       "      <td>3.0</td>\n",
       "      <td>48.584614</td>\n",
       "      <td>7.750713</td>\n",
       "    </tr>\n",
       "    <tr>\n",
       "      <th>9</th>\n",
       "      <td>10</td>\n",
       "      <td>Chateau du Haut Koenigsbourg</td>\n",
       "      <td>9.54</td>\n",
       "      <td>Clouds</td>\n",
       "      <td>5.0</td>\n",
       "      <td>48.249523</td>\n",
       "      <td>7.345492</td>\n",
       "    </tr>\n",
       "    <tr>\n",
       "      <th>10</th>\n",
       "      <td>11</td>\n",
       "      <td>Colmar</td>\n",
       "      <td>12.72</td>\n",
       "      <td>Clouds</td>\n",
       "      <td>3.0</td>\n",
       "      <td>48.077752</td>\n",
       "      <td>7.357964</td>\n",
       "    </tr>\n",
       "    <tr>\n",
       "      <th>11</th>\n",
       "      <td>12</td>\n",
       "      <td>Eguisheim</td>\n",
       "      <td>12.69</td>\n",
       "      <td>Clouds</td>\n",
       "      <td>3.0</td>\n",
       "      <td>48.044797</td>\n",
       "      <td>7.307962</td>\n",
       "    </tr>\n",
       "    <tr>\n",
       "      <th>12</th>\n",
       "      <td>13</td>\n",
       "      <td>Besancon</td>\n",
       "      <td>12.46</td>\n",
       "      <td>Clouds</td>\n",
       "      <td>2.0</td>\n",
       "      <td>47.238022</td>\n",
       "      <td>6.024362</td>\n",
       "    </tr>\n",
       "    <tr>\n",
       "      <th>13</th>\n",
       "      <td>14</td>\n",
       "      <td>Dijon</td>\n",
       "      <td>14.04</td>\n",
       "      <td>Clouds</td>\n",
       "      <td>1.0</td>\n",
       "      <td>47.321581</td>\n",
       "      <td>5.041470</td>\n",
       "    </tr>\n",
       "    <tr>\n",
       "      <th>14</th>\n",
       "      <td>15</td>\n",
       "      <td>Annecy</td>\n",
       "      <td>13.16</td>\n",
       "      <td>Clouds</td>\n",
       "      <td>0.0</td>\n",
       "      <td>45.899235</td>\n",
       "      <td>6.128885</td>\n",
       "    </tr>\n",
       "    <tr>\n",
       "      <th>15</th>\n",
       "      <td>16</td>\n",
       "      <td>Grenoble</td>\n",
       "      <td>15.97</td>\n",
       "      <td>Clouds</td>\n",
       "      <td>0.0</td>\n",
       "      <td>45.187560</td>\n",
       "      <td>5.735782</td>\n",
       "    </tr>\n",
       "    <tr>\n",
       "      <th>16</th>\n",
       "      <td>17</td>\n",
       "      <td>Lyon</td>\n",
       "      <td>14.29</td>\n",
       "      <td>Clouds</td>\n",
       "      <td>0.0</td>\n",
       "      <td>45.757814</td>\n",
       "      <td>4.832011</td>\n",
       "    </tr>\n",
       "    <tr>\n",
       "      <th>17</th>\n",
       "      <td>18</td>\n",
       "      <td>Gorges du Verdon</td>\n",
       "      <td>14.27</td>\n",
       "      <td>Clouds</td>\n",
       "      <td>0.0</td>\n",
       "      <td>43.749656</td>\n",
       "      <td>6.328562</td>\n",
       "    </tr>\n",
       "    <tr>\n",
       "      <th>18</th>\n",
       "      <td>19</td>\n",
       "      <td>Bormes les Mimosas</td>\n",
       "      <td>15.73</td>\n",
       "      <td>Clouds</td>\n",
       "      <td>0.0</td>\n",
       "      <td>43.150697</td>\n",
       "      <td>6.341928</td>\n",
       "    </tr>\n",
       "    <tr>\n",
       "      <th>19</th>\n",
       "      <td>20</td>\n",
       "      <td>Cassis</td>\n",
       "      <td>17.74</td>\n",
       "      <td>Clouds</td>\n",
       "      <td>0.0</td>\n",
       "      <td>43.214036</td>\n",
       "      <td>5.539632</td>\n",
       "    </tr>\n",
       "    <tr>\n",
       "      <th>20</th>\n",
       "      <td>21</td>\n",
       "      <td>Marseille</td>\n",
       "      <td>17.53</td>\n",
       "      <td>Clouds</td>\n",
       "      <td>0.0</td>\n",
       "      <td>43.296174</td>\n",
       "      <td>5.369953</td>\n",
       "    </tr>\n",
       "    <tr>\n",
       "      <th>21</th>\n",
       "      <td>22</td>\n",
       "      <td>Aix en Provence</td>\n",
       "      <td>16.80</td>\n",
       "      <td>Clouds</td>\n",
       "      <td>0.0</td>\n",
       "      <td>43.529842</td>\n",
       "      <td>5.447474</td>\n",
       "    </tr>\n",
       "    <tr>\n",
       "      <th>22</th>\n",
       "      <td>23</td>\n",
       "      <td>Avignon</td>\n",
       "      <td>17.03</td>\n",
       "      <td>Clouds</td>\n",
       "      <td>0.0</td>\n",
       "      <td>43.949249</td>\n",
       "      <td>4.805901</td>\n",
       "    </tr>\n",
       "    <tr>\n",
       "      <th>23</th>\n",
       "      <td>24</td>\n",
       "      <td>Uzes</td>\n",
       "      <td>17.08</td>\n",
       "      <td>Clouds</td>\n",
       "      <td>0.0</td>\n",
       "      <td>44.012128</td>\n",
       "      <td>4.419672</td>\n",
       "    </tr>\n",
       "    <tr>\n",
       "      <th>24</th>\n",
       "      <td>25</td>\n",
       "      <td>Nimes</td>\n",
       "      <td>18.06</td>\n",
       "      <td>Clouds</td>\n",
       "      <td>0.0</td>\n",
       "      <td>43.837425</td>\n",
       "      <td>4.360069</td>\n",
       "    </tr>\n",
       "    <tr>\n",
       "      <th>25</th>\n",
       "      <td>26</td>\n",
       "      <td>Aigues Mortes</td>\n",
       "      <td>17.59</td>\n",
       "      <td>Clouds</td>\n",
       "      <td>0.0</td>\n",
       "      <td>43.566152</td>\n",
       "      <td>4.191540</td>\n",
       "    </tr>\n",
       "    <tr>\n",
       "      <th>26</th>\n",
       "      <td>27</td>\n",
       "      <td>Saintes Maries de la mer</td>\n",
       "      <td>16.84</td>\n",
       "      <td>Clouds</td>\n",
       "      <td>0.0</td>\n",
       "      <td>43.451592</td>\n",
       "      <td>4.427720</td>\n",
       "    </tr>\n",
       "    <tr>\n",
       "      <th>27</th>\n",
       "      <td>28</td>\n",
       "      <td>Collioure</td>\n",
       "      <td>19.85</td>\n",
       "      <td>Clouds</td>\n",
       "      <td>0.0</td>\n",
       "      <td>42.525050</td>\n",
       "      <td>3.083155</td>\n",
       "    </tr>\n",
       "    <tr>\n",
       "      <th>28</th>\n",
       "      <td>29</td>\n",
       "      <td>Carcassonne</td>\n",
       "      <td>18.51</td>\n",
       "      <td>Clouds</td>\n",
       "      <td>0.0</td>\n",
       "      <td>43.213036</td>\n",
       "      <td>2.349107</td>\n",
       "    </tr>\n",
       "    <tr>\n",
       "      <th>29</th>\n",
       "      <td>30</td>\n",
       "      <td>Ariege</td>\n",
       "      <td>19.12</td>\n",
       "      <td>Clouds</td>\n",
       "      <td>0.0</td>\n",
       "      <td>42.992743</td>\n",
       "      <td>1.612497</td>\n",
       "    </tr>\n",
       "    <tr>\n",
       "      <th>30</th>\n",
       "      <td>31</td>\n",
       "      <td>Toulouse</td>\n",
       "      <td>16.19</td>\n",
       "      <td>Clouds</td>\n",
       "      <td>0.0</td>\n",
       "      <td>43.604462</td>\n",
       "      <td>1.444247</td>\n",
       "    </tr>\n",
       "    <tr>\n",
       "      <th>31</th>\n",
       "      <td>32</td>\n",
       "      <td>Montauban</td>\n",
       "      <td>15.80</td>\n",
       "      <td>Clouds</td>\n",
       "      <td>0.0</td>\n",
       "      <td>44.017584</td>\n",
       "      <td>1.354999</td>\n",
       "    </tr>\n",
       "    <tr>\n",
       "      <th>32</th>\n",
       "      <td>33</td>\n",
       "      <td>Biarritz</td>\n",
       "      <td>17.20</td>\n",
       "      <td>Clouds</td>\n",
       "      <td>0.0</td>\n",
       "      <td>43.483252</td>\n",
       "      <td>-1.559278</td>\n",
       "    </tr>\n",
       "    <tr>\n",
       "      <th>33</th>\n",
       "      <td>34</td>\n",
       "      <td>Bayonne</td>\n",
       "      <td>17.99</td>\n",
       "      <td>Clouds</td>\n",
       "      <td>0.0</td>\n",
       "      <td>43.494514</td>\n",
       "      <td>-1.473666</td>\n",
       "    </tr>\n",
       "    <tr>\n",
       "      <th>34</th>\n",
       "      <td>35</td>\n",
       "      <td>La Rochelle</td>\n",
       "      <td>12.95</td>\n",
       "      <td>Clouds</td>\n",
       "      <td>0.0</td>\n",
       "      <td>46.159113</td>\n",
       "      <td>-1.152043</td>\n",
       "    </tr>\n",
       "  </tbody>\n",
       "</table>\n",
       "</div>"
      ],
      "text/plain": [
       "    id                          city  max_temperature most_frequent_weather  \\\n",
       "0    1             Mont Saint Michel            13.24                Clouds   \n",
       "1    2                       St Malo            12.37                Clouds   \n",
       "2    3                        Bayeux            12.68                Clouds   \n",
       "3    4                      Le Havre            11.14                Clouds   \n",
       "4    5                         Rouen            12.18                Clouds   \n",
       "5    6                         Paris            13.13                Clouds   \n",
       "6    7                        Amiens            12.27                Clouds   \n",
       "7    8                         Lille            11.41                Clouds   \n",
       "8    9                    Strasbourg            12.90                Clouds   \n",
       "9   10  Chateau du Haut Koenigsbourg             9.54                Clouds   \n",
       "10  11                        Colmar            12.72                Clouds   \n",
       "11  12                     Eguisheim            12.69                Clouds   \n",
       "12  13                      Besancon            12.46                Clouds   \n",
       "13  14                         Dijon            14.04                Clouds   \n",
       "14  15                        Annecy            13.16                Clouds   \n",
       "15  16                      Grenoble            15.97                Clouds   \n",
       "16  17                          Lyon            14.29                Clouds   \n",
       "17  18              Gorges du Verdon            14.27                Clouds   \n",
       "18  19            Bormes les Mimosas            15.73                Clouds   \n",
       "19  20                        Cassis            17.74                Clouds   \n",
       "20  21                     Marseille            17.53                Clouds   \n",
       "21  22               Aix en Provence            16.80                Clouds   \n",
       "22  23                       Avignon            17.03                Clouds   \n",
       "23  24                          Uzes            17.08                Clouds   \n",
       "24  25                         Nimes            18.06                Clouds   \n",
       "25  26                 Aigues Mortes            17.59                Clouds   \n",
       "26  27      Saintes Maries de la mer            16.84                Clouds   \n",
       "27  28                     Collioure            19.85                Clouds   \n",
       "28  29                   Carcassonne            18.51                Clouds   \n",
       "29  30                        Ariege            19.12                Clouds   \n",
       "30  31                      Toulouse            16.19                Clouds   \n",
       "31  32                     Montauban            15.80                Clouds   \n",
       "32  33                      Biarritz            17.20                Clouds   \n",
       "33  34                       Bayonne            17.99                Clouds   \n",
       "34  35                   La Rochelle            12.95                Clouds   \n",
       "\n",
       "    pop_rain   latitude  longitude  \n",
       "0        1.0  48.635954  -1.511460  \n",
       "1        1.0  48.649518  -2.026041  \n",
       "2        0.0  49.276462  -0.702474  \n",
       "3        1.0  49.493898   0.107973  \n",
       "4        0.0  49.440459   1.093966  \n",
       "5        0.0  48.858890   2.320041  \n",
       "6        0.0  49.894171   2.295695  \n",
       "7        0.0  50.636565   3.063528  \n",
       "8        3.0  48.584614   7.750713  \n",
       "9        5.0  48.249523   7.345492  \n",
       "10       3.0  48.077752   7.357964  \n",
       "11       3.0  48.044797   7.307962  \n",
       "12       2.0  47.238022   6.024362  \n",
       "13       1.0  47.321581   5.041470  \n",
       "14       0.0  45.899235   6.128885  \n",
       "15       0.0  45.187560   5.735782  \n",
       "16       0.0  45.757814   4.832011  \n",
       "17       0.0  43.749656   6.328562  \n",
       "18       0.0  43.150697   6.341928  \n",
       "19       0.0  43.214036   5.539632  \n",
       "20       0.0  43.296174   5.369953  \n",
       "21       0.0  43.529842   5.447474  \n",
       "22       0.0  43.949249   4.805901  \n",
       "23       0.0  44.012128   4.419672  \n",
       "24       0.0  43.837425   4.360069  \n",
       "25       0.0  43.566152   4.191540  \n",
       "26       0.0  43.451592   4.427720  \n",
       "27       0.0  42.525050   3.083155  \n",
       "28       0.0  43.213036   2.349107  \n",
       "29       0.0  42.992743   1.612497  \n",
       "30       0.0  43.604462   1.444247  \n",
       "31       0.0  44.017584   1.354999  \n",
       "32       0.0  43.483252  -1.559278  \n",
       "33       0.0  43.494514  -1.473666  \n",
       "34       0.0  46.159113  -1.152043  "
      ]
     },
     "execution_count": 14,
     "metadata": {},
     "output_type": "execute_result"
    }
   ],
   "source": [
    "df_unique"
   ]
  },
  {
   "cell_type": "code",
   "execution_count": 15,
   "metadata": {},
   "outputs": [
    {
     "data": {
      "application/vnd.plotly.v1+json": {
       "config": {
        "plotlyServerURL": "https://plot.ly"
       },
       "data": [
        {
         "hovertemplate": "inverse_pop_rain=%{marker.size}<br>city=%{text}<br>latitude=%{lat}<br>longitude=%{lon}<br>max_temperature=%{marker.color}<extra></extra>",
         "lat": [
          48.6359541,
          48.649518,
          49.2764624,
          49.4938975,
          49.4404591,
          48.8588897,
          49.8941708,
          50.6365654,
          48.584614,
          48.2495226,
          48.0777517,
          48.0447968,
          47.2380222,
          47.3215806,
          45.8992348,
          45.1875602,
          45.7578137,
          43.7496562,
          43.1506968,
          43.2140359,
          43.2961743,
          43.5298424,
          43.9492493,
          44.0121279,
          43.8374249,
          43.5661521,
          43.4515922,
          42.52505,
          43.2130358,
          42.9927428,
          43.6044622,
          44.0175835,
          43.4832523,
          43.4945144,
          46.1591126
         ],
         "legendgroup": "",
         "lon": [
          -1.511459954959514,
          -2.0260409,
          -0.7024738,
          0.1079732,
          1.0939658,
          2.3200410217200766,
          2.2956951,
          3.0635282,
          7.7507127,
          7.3454923,
          7.3579641,
          7.3079618,
          6.0243622,
          5.0414701,
          6.1288847,
          5.7357819,
          4.8320114,
          6.3285616,
          6.3419285,
          5.5396318,
          5.3699525,
          5.4474738,
          4.8059012,
          4.4196718,
          4.3600687,
          4.19154,
          4.4277202,
          3.0831554,
          2.3491069,
          1.6124975,
          1.4442469,
          1.3549991,
          -1.5592776,
          -1.4736657,
          -1.1520434
         ],
         "marker": {
          "color": [
           13.24,
           12.37,
           12.68,
           11.14,
           12.18,
           13.13,
           12.27,
           11.41,
           12.9,
           9.54,
           12.72,
           12.69,
           12.46,
           14.04,
           13.16,
           15.97,
           14.29,
           14.27,
           15.73,
           17.74,
           17.53,
           16.8,
           17.03,
           17.08,
           18.06,
           17.59,
           16.84,
           19.85,
           18.51,
           19.12,
           16.19,
           15.8,
           17.2,
           17.99,
           12.95
          ],
          "coloraxis": "coloraxis",
          "size": [
           5,
           5,
           6,
           5,
           6,
           6,
           6,
           6,
           3,
           1,
           3,
           3,
           4,
           5,
           6,
           6,
           6,
           6,
           6,
           6,
           6,
           6,
           6,
           6,
           6,
           6,
           6,
           6,
           6,
           6,
           6,
           6,
           6,
           6,
           6
          ],
          "sizemode": "area",
          "sizeref": 0.0096
         },
         "mode": "markers+text",
         "name": "",
         "showlegend": false,
         "subplot": "mapbox",
         "text": [
          "Mont Saint Michel",
          "St Malo",
          "Bayeux",
          "Le Havre",
          "Rouen",
          "Paris",
          "Amiens",
          "Lille",
          "Strasbourg",
          "Chateau du Haut Koenigsbourg",
          "Colmar",
          "Eguisheim",
          "Besancon",
          "Dijon",
          "Annecy",
          "Grenoble",
          "Lyon",
          "Gorges du Verdon",
          "Bormes les Mimosas",
          "Cassis",
          "Marseille",
          "Aix en Provence",
          "Avignon",
          "Uzes",
          "Nimes",
          "Aigues Mortes",
          "Saintes Maries de la mer",
          "Collioure",
          "Carcassonne",
          "Ariege",
          "Toulouse",
          "Montauban",
          "Biarritz",
          "Bayonne",
          "La Rochelle"
         ],
         "type": "scattermapbox"
        }
       ],
       "layout": {
        "coloraxis": {
         "colorbar": {
          "title": {
           "text": "max_temperature"
          }
         },
         "colorscale": [
          [
           0,
           "rgb(0,0,255)"
          ],
          [
           1,
           "rgb(255,0,0)"
          ]
         ]
        },
        "height": 800,
        "legend": {
         "itemsizing": "constant",
         "tracegroupgap": 0
        },
        "mapbox": {
         "center": {
          "lat": 46.603354,
          "lon": 1.888334
         },
         "domain": {
          "x": [
           0,
           1
          ],
          "y": [
           0,
           1
          ]
         },
         "style": "carto-positron",
         "zoom": 5
        },
        "template": {
         "data": {
          "bar": [
           {
            "error_x": {
             "color": "#2a3f5f"
            },
            "error_y": {
             "color": "#2a3f5f"
            },
            "marker": {
             "line": {
              "color": "#E5ECF6",
              "width": 0.5
             },
             "pattern": {
              "fillmode": "overlay",
              "size": 10,
              "solidity": 0.2
             }
            },
            "type": "bar"
           }
          ],
          "barpolar": [
           {
            "marker": {
             "line": {
              "color": "#E5ECF6",
              "width": 0.5
             },
             "pattern": {
              "fillmode": "overlay",
              "size": 10,
              "solidity": 0.2
             }
            },
            "type": "barpolar"
           }
          ],
          "carpet": [
           {
            "aaxis": {
             "endlinecolor": "#2a3f5f",
             "gridcolor": "white",
             "linecolor": "white",
             "minorgridcolor": "white",
             "startlinecolor": "#2a3f5f"
            },
            "baxis": {
             "endlinecolor": "#2a3f5f",
             "gridcolor": "white",
             "linecolor": "white",
             "minorgridcolor": "white",
             "startlinecolor": "#2a3f5f"
            },
            "type": "carpet"
           }
          ],
          "choropleth": [
           {
            "colorbar": {
             "outlinewidth": 0,
             "ticks": ""
            },
            "type": "choropleth"
           }
          ],
          "contour": [
           {
            "colorbar": {
             "outlinewidth": 0,
             "ticks": ""
            },
            "colorscale": [
             [
              0,
              "#0d0887"
             ],
             [
              0.1111111111111111,
              "#46039f"
             ],
             [
              0.2222222222222222,
              "#7201a8"
             ],
             [
              0.3333333333333333,
              "#9c179e"
             ],
             [
              0.4444444444444444,
              "#bd3786"
             ],
             [
              0.5555555555555556,
              "#d8576b"
             ],
             [
              0.6666666666666666,
              "#ed7953"
             ],
             [
              0.7777777777777778,
              "#fb9f3a"
             ],
             [
              0.8888888888888888,
              "#fdca26"
             ],
             [
              1,
              "#f0f921"
             ]
            ],
            "type": "contour"
           }
          ],
          "contourcarpet": [
           {
            "colorbar": {
             "outlinewidth": 0,
             "ticks": ""
            },
            "type": "contourcarpet"
           }
          ],
          "heatmap": [
           {
            "colorbar": {
             "outlinewidth": 0,
             "ticks": ""
            },
            "colorscale": [
             [
              0,
              "#0d0887"
             ],
             [
              0.1111111111111111,
              "#46039f"
             ],
             [
              0.2222222222222222,
              "#7201a8"
             ],
             [
              0.3333333333333333,
              "#9c179e"
             ],
             [
              0.4444444444444444,
              "#bd3786"
             ],
             [
              0.5555555555555556,
              "#d8576b"
             ],
             [
              0.6666666666666666,
              "#ed7953"
             ],
             [
              0.7777777777777778,
              "#fb9f3a"
             ],
             [
              0.8888888888888888,
              "#fdca26"
             ],
             [
              1,
              "#f0f921"
             ]
            ],
            "type": "heatmap"
           }
          ],
          "heatmapgl": [
           {
            "colorbar": {
             "outlinewidth": 0,
             "ticks": ""
            },
            "colorscale": [
             [
              0,
              "#0d0887"
             ],
             [
              0.1111111111111111,
              "#46039f"
             ],
             [
              0.2222222222222222,
              "#7201a8"
             ],
             [
              0.3333333333333333,
              "#9c179e"
             ],
             [
              0.4444444444444444,
              "#bd3786"
             ],
             [
              0.5555555555555556,
              "#d8576b"
             ],
             [
              0.6666666666666666,
              "#ed7953"
             ],
             [
              0.7777777777777778,
              "#fb9f3a"
             ],
             [
              0.8888888888888888,
              "#fdca26"
             ],
             [
              1,
              "#f0f921"
             ]
            ],
            "type": "heatmapgl"
           }
          ],
          "histogram": [
           {
            "marker": {
             "pattern": {
              "fillmode": "overlay",
              "size": 10,
              "solidity": 0.2
             }
            },
            "type": "histogram"
           }
          ],
          "histogram2d": [
           {
            "colorbar": {
             "outlinewidth": 0,
             "ticks": ""
            },
            "colorscale": [
             [
              0,
              "#0d0887"
             ],
             [
              0.1111111111111111,
              "#46039f"
             ],
             [
              0.2222222222222222,
              "#7201a8"
             ],
             [
              0.3333333333333333,
              "#9c179e"
             ],
             [
              0.4444444444444444,
              "#bd3786"
             ],
             [
              0.5555555555555556,
              "#d8576b"
             ],
             [
              0.6666666666666666,
              "#ed7953"
             ],
             [
              0.7777777777777778,
              "#fb9f3a"
             ],
             [
              0.8888888888888888,
              "#fdca26"
             ],
             [
              1,
              "#f0f921"
             ]
            ],
            "type": "histogram2d"
           }
          ],
          "histogram2dcontour": [
           {
            "colorbar": {
             "outlinewidth": 0,
             "ticks": ""
            },
            "colorscale": [
             [
              0,
              "#0d0887"
             ],
             [
              0.1111111111111111,
              "#46039f"
             ],
             [
              0.2222222222222222,
              "#7201a8"
             ],
             [
              0.3333333333333333,
              "#9c179e"
             ],
             [
              0.4444444444444444,
              "#bd3786"
             ],
             [
              0.5555555555555556,
              "#d8576b"
             ],
             [
              0.6666666666666666,
              "#ed7953"
             ],
             [
              0.7777777777777778,
              "#fb9f3a"
             ],
             [
              0.8888888888888888,
              "#fdca26"
             ],
             [
              1,
              "#f0f921"
             ]
            ],
            "type": "histogram2dcontour"
           }
          ],
          "mesh3d": [
           {
            "colorbar": {
             "outlinewidth": 0,
             "ticks": ""
            },
            "type": "mesh3d"
           }
          ],
          "parcoords": [
           {
            "line": {
             "colorbar": {
              "outlinewidth": 0,
              "ticks": ""
             }
            },
            "type": "parcoords"
           }
          ],
          "pie": [
           {
            "automargin": true,
            "type": "pie"
           }
          ],
          "scatter": [
           {
            "fillpattern": {
             "fillmode": "overlay",
             "size": 10,
             "solidity": 0.2
            },
            "type": "scatter"
           }
          ],
          "scatter3d": [
           {
            "line": {
             "colorbar": {
              "outlinewidth": 0,
              "ticks": ""
             }
            },
            "marker": {
             "colorbar": {
              "outlinewidth": 0,
              "ticks": ""
             }
            },
            "type": "scatter3d"
           }
          ],
          "scattercarpet": [
           {
            "marker": {
             "colorbar": {
              "outlinewidth": 0,
              "ticks": ""
             }
            },
            "type": "scattercarpet"
           }
          ],
          "scattergeo": [
           {
            "marker": {
             "colorbar": {
              "outlinewidth": 0,
              "ticks": ""
             }
            },
            "type": "scattergeo"
           }
          ],
          "scattergl": [
           {
            "marker": {
             "colorbar": {
              "outlinewidth": 0,
              "ticks": ""
             }
            },
            "type": "scattergl"
           }
          ],
          "scattermapbox": [
           {
            "marker": {
             "colorbar": {
              "outlinewidth": 0,
              "ticks": ""
             }
            },
            "type": "scattermapbox"
           }
          ],
          "scatterpolar": [
           {
            "marker": {
             "colorbar": {
              "outlinewidth": 0,
              "ticks": ""
             }
            },
            "type": "scatterpolar"
           }
          ],
          "scatterpolargl": [
           {
            "marker": {
             "colorbar": {
              "outlinewidth": 0,
              "ticks": ""
             }
            },
            "type": "scatterpolargl"
           }
          ],
          "scatterternary": [
           {
            "marker": {
             "colorbar": {
              "outlinewidth": 0,
              "ticks": ""
             }
            },
            "type": "scatterternary"
           }
          ],
          "surface": [
           {
            "colorbar": {
             "outlinewidth": 0,
             "ticks": ""
            },
            "colorscale": [
             [
              0,
              "#0d0887"
             ],
             [
              0.1111111111111111,
              "#46039f"
             ],
             [
              0.2222222222222222,
              "#7201a8"
             ],
             [
              0.3333333333333333,
              "#9c179e"
             ],
             [
              0.4444444444444444,
              "#bd3786"
             ],
             [
              0.5555555555555556,
              "#d8576b"
             ],
             [
              0.6666666666666666,
              "#ed7953"
             ],
             [
              0.7777777777777778,
              "#fb9f3a"
             ],
             [
              0.8888888888888888,
              "#fdca26"
             ],
             [
              1,
              "#f0f921"
             ]
            ],
            "type": "surface"
           }
          ],
          "table": [
           {
            "cells": {
             "fill": {
              "color": "#EBF0F8"
             },
             "line": {
              "color": "white"
             }
            },
            "header": {
             "fill": {
              "color": "#C8D4E3"
             },
             "line": {
              "color": "white"
             }
            },
            "type": "table"
           }
          ]
         },
         "layout": {
          "annotationdefaults": {
           "arrowcolor": "#2a3f5f",
           "arrowhead": 0,
           "arrowwidth": 1
          },
          "autotypenumbers": "strict",
          "coloraxis": {
           "colorbar": {
            "outlinewidth": 0,
            "ticks": ""
           }
          },
          "colorscale": {
           "diverging": [
            [
             0,
             "#8e0152"
            ],
            [
             0.1,
             "#c51b7d"
            ],
            [
             0.2,
             "#de77ae"
            ],
            [
             0.3,
             "#f1b6da"
            ],
            [
             0.4,
             "#fde0ef"
            ],
            [
             0.5,
             "#f7f7f7"
            ],
            [
             0.6,
             "#e6f5d0"
            ],
            [
             0.7,
             "#b8e186"
            ],
            [
             0.8,
             "#7fbc41"
            ],
            [
             0.9,
             "#4d9221"
            ],
            [
             1,
             "#276419"
            ]
           ],
           "sequential": [
            [
             0,
             "#0d0887"
            ],
            [
             0.1111111111111111,
             "#46039f"
            ],
            [
             0.2222222222222222,
             "#7201a8"
            ],
            [
             0.3333333333333333,
             "#9c179e"
            ],
            [
             0.4444444444444444,
             "#bd3786"
            ],
            [
             0.5555555555555556,
             "#d8576b"
            ],
            [
             0.6666666666666666,
             "#ed7953"
            ],
            [
             0.7777777777777778,
             "#fb9f3a"
            ],
            [
             0.8888888888888888,
             "#fdca26"
            ],
            [
             1,
             "#f0f921"
            ]
           ],
           "sequentialminus": [
            [
             0,
             "#0d0887"
            ],
            [
             0.1111111111111111,
             "#46039f"
            ],
            [
             0.2222222222222222,
             "#7201a8"
            ],
            [
             0.3333333333333333,
             "#9c179e"
            ],
            [
             0.4444444444444444,
             "#bd3786"
            ],
            [
             0.5555555555555556,
             "#d8576b"
            ],
            [
             0.6666666666666666,
             "#ed7953"
            ],
            [
             0.7777777777777778,
             "#fb9f3a"
            ],
            [
             0.8888888888888888,
             "#fdca26"
            ],
            [
             1,
             "#f0f921"
            ]
           ]
          },
          "colorway": [
           "#636efa",
           "#EF553B",
           "#00cc96",
           "#ab63fa",
           "#FFA15A",
           "#19d3f3",
           "#FF6692",
           "#B6E880",
           "#FF97FF",
           "#FECB52"
          ],
          "font": {
           "color": "#2a3f5f"
          },
          "geo": {
           "bgcolor": "white",
           "lakecolor": "white",
           "landcolor": "#E5ECF6",
           "showlakes": true,
           "showland": true,
           "subunitcolor": "white"
          },
          "hoverlabel": {
           "align": "left"
          },
          "hovermode": "closest",
          "mapbox": {
           "style": "light"
          },
          "paper_bgcolor": "white",
          "plot_bgcolor": "#E5ECF6",
          "polar": {
           "angularaxis": {
            "gridcolor": "white",
            "linecolor": "white",
            "ticks": ""
           },
           "bgcolor": "#E5ECF6",
           "radialaxis": {
            "gridcolor": "white",
            "linecolor": "white",
            "ticks": ""
           }
          },
          "scene": {
           "xaxis": {
            "backgroundcolor": "#E5ECF6",
            "gridcolor": "white",
            "gridwidth": 2,
            "linecolor": "white",
            "showbackground": true,
            "ticks": "",
            "zerolinecolor": "white"
           },
           "yaxis": {
            "backgroundcolor": "#E5ECF6",
            "gridcolor": "white",
            "gridwidth": 2,
            "linecolor": "white",
            "showbackground": true,
            "ticks": "",
            "zerolinecolor": "white"
           },
           "zaxis": {
            "backgroundcolor": "#E5ECF6",
            "gridcolor": "white",
            "gridwidth": 2,
            "linecolor": "white",
            "showbackground": true,
            "ticks": "",
            "zerolinecolor": "white"
           }
          },
          "shapedefaults": {
           "line": {
            "color": "#2a3f5f"
           }
          },
          "ternary": {
           "aaxis": {
            "gridcolor": "white",
            "linecolor": "white",
            "ticks": ""
           },
           "baxis": {
            "gridcolor": "white",
            "linecolor": "white",
            "ticks": ""
           },
           "bgcolor": "#E5ECF6",
           "caxis": {
            "gridcolor": "white",
            "linecolor": "white",
            "ticks": ""
           }
          },
          "title": {
           "x": 0.05
          },
          "xaxis": {
           "automargin": true,
           "gridcolor": "white",
           "linecolor": "white",
           "ticks": "",
           "title": {
            "standoff": 15
           },
           "zerolinecolor": "white",
           "zerolinewidth": 2
          },
          "yaxis": {
           "automargin": true,
           "gridcolor": "white",
           "linecolor": "white",
           "ticks": "",
           "title": {
            "standoff": 15
           },
           "zerolinecolor": "white",
           "zerolinewidth": 2
          }
         }
        },
        "title": {
         "text": "Mapbox de la température maximale"
        },
        "width": 1000
       }
      }
     },
     "metadata": {},
     "output_type": "display_data"
    }
   ],
   "source": [
    "# Création de la mapbox avec la température maximale par ville\n",
    "\n",
    "df_unique['inverse_pop_rain'] = df_unique['pop_rain'].max() - df_unique['pop_rain'] + 1\n",
    "\n",
    "fig = px.scatter_mapbox(\n",
    "    df_unique, \n",
    "    lat=\"latitude\", \n",
    "    lon=\"longitude\", \n",
    "    color=\"max_temperature\",\n",
    "    text=\"city\",\n",
    "    title=\"Mapbox de la température maximale\",\n",
    "    size=\"inverse_pop_rain\",\n",
    "    size_max = 25,\n",
    "    color_continuous_scale='Bluered',\n",
    ")\n",
    "\n",
    "fig.update_layout(\n",
    "    mapbox_style=\"carto-positron\", \n",
    "    mapbox_zoom=5, \n",
    "    mapbox_center={\"lat\": 46.603354, \"lon\": 1.888334},\n",
    "    width=1000,\n",
    "    height=800,\n",
    ")\n",
    "\n",
    "fig.show()"
   ]
  },
  {
   "cell_type": "markdown",
   "metadata": {},
   "source": [
    "> Critères des top 5 destinations : \n",
    "\n",
    "1) Peu de pluies (moins de 10mm de précipitations)\n",
    "\n",
    "2) Température max la plus élevée"
   ]
  },
  {
   "cell_type": "code",
   "execution_count": 16,
   "metadata": {},
   "outputs": [
    {
     "data": {
      "text/html": [
       "<div>\n",
       "<style scoped>\n",
       "    .dataframe tbody tr th:only-of-type {\n",
       "        vertical-align: middle;\n",
       "    }\n",
       "\n",
       "    .dataframe tbody tr th {\n",
       "        vertical-align: top;\n",
       "    }\n",
       "\n",
       "    .dataframe thead th {\n",
       "        text-align: right;\n",
       "    }\n",
       "</style>\n",
       "<table border=\"1\" class=\"dataframe\">\n",
       "  <thead>\n",
       "    <tr style=\"text-align: right;\">\n",
       "      <th></th>\n",
       "      <th>id</th>\n",
       "      <th>city</th>\n",
       "      <th>max_temperature</th>\n",
       "      <th>most_frequent_weather</th>\n",
       "      <th>pop_rain</th>\n",
       "    </tr>\n",
       "  </thead>\n",
       "  <tbody>\n",
       "    <tr>\n",
       "      <th>27</th>\n",
       "      <td>28</td>\n",
       "      <td>Collioure</td>\n",
       "      <td>19.85</td>\n",
       "      <td>Clouds</td>\n",
       "      <td>0.0</td>\n",
       "    </tr>\n",
       "    <tr>\n",
       "      <th>29</th>\n",
       "      <td>30</td>\n",
       "      <td>Ariege</td>\n",
       "      <td>19.12</td>\n",
       "      <td>Clouds</td>\n",
       "      <td>0.0</td>\n",
       "    </tr>\n",
       "    <tr>\n",
       "      <th>28</th>\n",
       "      <td>29</td>\n",
       "      <td>Carcassonne</td>\n",
       "      <td>18.51</td>\n",
       "      <td>Clouds</td>\n",
       "      <td>0.0</td>\n",
       "    </tr>\n",
       "    <tr>\n",
       "      <th>24</th>\n",
       "      <td>25</td>\n",
       "      <td>Nimes</td>\n",
       "      <td>18.06</td>\n",
       "      <td>Clouds</td>\n",
       "      <td>0.0</td>\n",
       "    </tr>\n",
       "    <tr>\n",
       "      <th>33</th>\n",
       "      <td>34</td>\n",
       "      <td>Bayonne</td>\n",
       "      <td>17.99</td>\n",
       "      <td>Clouds</td>\n",
       "      <td>0.0</td>\n",
       "    </tr>\n",
       "  </tbody>\n",
       "</table>\n",
       "</div>"
      ],
      "text/plain": [
       "    id         city  max_temperature most_frequent_weather  pop_rain\n",
       "27  28    Collioure            19.85                Clouds       0.0\n",
       "29  30       Ariege            19.12                Clouds       0.0\n",
       "28  29  Carcassonne            18.51                Clouds       0.0\n",
       "24  25        Nimes            18.06                Clouds       0.0\n",
       "33  34      Bayonne            17.99                Clouds       0.0"
      ]
     },
     "execution_count": 16,
     "metadata": {},
     "output_type": "execute_result"
    }
   ],
   "source": [
    "# TOP 5 destinations\n",
    "\n",
    "df_best_cities = df_unique[df_unique['pop_rain'] < 10].sort_values('max_temperature', ascending=False).iloc[0:5,:-3]\n",
    "\n",
    "# Création d'une variable avec les 5 villes :\n",
    "best_cities_list = df_best_cities['city'].tolist()\n",
    "\n",
    "df_best_cities"
   ]
  },
  {
   "cell_type": "markdown",
   "metadata": {},
   "source": [
    "## Hotels (scraping booking.com)"
   ]
  },
  {
   "cell_type": "markdown",
   "metadata": {},
   "source": [
    "/!\\ La partie scraping peut ne pas être fonctionnelle au moment où vous testez. La raison étant les changements fréquents qu'il peut y avoir sur le site **booking.com** et qui ne sont pas pris en compte dans mon script.\n",
    "\n",
    "N'hésitez pas à utiliser vos connaissances pour modifier les scripts."
   ]
  },
  {
   "cell_type": "markdown",
   "metadata": {},
   "source": [
    "### Scraping de la liste des hôtels par ville"
   ]
  },
  {
   "cell_type": "code",
   "execution_count": 17,
   "metadata": {},
   "outputs": [],
   "source": [
    "# Liste des URL booking\n",
    "\n",
    "start_url = 'https://www.booking.com/searchresults.fr.html?ss='\n",
    "\n",
    "end_url = '&lang=fr&sb=1&src_elem=sb&src=searchresults&checkin=2023-11-01&checkout=2023-11-02&group_adults=2&no_rooms=1&group_children=0'\n",
    "\n",
    "booking_url = [f'{start_url}{city.replace(\" \", \"+\")}{end_url}' for city in list_cities]\n",
    " \n",
    "# Création du fichier txt avec les URL\n",
    "   \n",
    "with open('src/url_cities_booking.txt', \"w\") as file:\n",
    "    for item in booking_url:\n",
    "        file.write(str(item) + \"\\n\")"
   ]
  },
  {
   "cell_type": "markdown",
   "metadata": {},
   "source": [
    "Après avoir créé les URL, il faut effectuer le premier scraping, en lançant le fichier ```scrapy_booking_cities.py```"
   ]
  },
  {
   "cell_type": "code",
   "execution_count": 18,
   "metadata": {},
   "outputs": [],
   "source": [
    "# !python scrapy_booking_cities.py"
   ]
  },
  {
   "cell_type": "code",
   "execution_count": 19,
   "metadata": {},
   "outputs": [],
   "source": [
    "# Charger le fichier JSON booking_cities_scraping\n",
    "\n",
    "with open('src/booking_cities_scraping.json', 'r') as fichier_json:\n",
    "    booking_cities = json.load(fichier_json)"
   ]
  },
  {
   "cell_type": "code",
   "execution_count": 20,
   "metadata": {},
   "outputs": [],
   "source": [
    "# Creation de la liste en supprimant les vides, récupérer l'URL et correction des caractères de City\n",
    "\n",
    "booking_cities_updated = []\n",
    "\n",
    "for list in booking_cities:\n",
    "    if list['hotel_name'] is not None and list['score_given'] is not None:\n",
    "        list['url_hotel'] = list['url_hotel'].split('=')[1].split('\"')[1]\n",
    "        list['city'] = list['city'].split(\":\")[0].strip()\n",
    "        booking_cities_updated.append(list)"
   ]
  },
  {
   "cell_type": "code",
   "execution_count": 21,
   "metadata": {},
   "outputs": [
    {
     "data": {
      "text/html": [
       "<div>\n",
       "<style scoped>\n",
       "    .dataframe tbody tr th:only-of-type {\n",
       "        vertical-align: middle;\n",
       "    }\n",
       "\n",
       "    .dataframe tbody tr th {\n",
       "        vertical-align: top;\n",
       "    }\n",
       "\n",
       "    .dataframe thead th {\n",
       "        text-align: right;\n",
       "    }\n",
       "</style>\n",
       "<table border=\"1\" class=\"dataframe\">\n",
       "  <thead>\n",
       "    <tr style=\"text-align: right;\">\n",
       "      <th></th>\n",
       "      <th>city</th>\n",
       "      <th>hotel_name</th>\n",
       "      <th>url_hotel</th>\n",
       "      <th>score_given</th>\n",
       "    </tr>\n",
       "  </thead>\n",
       "  <tbody>\n",
       "    <tr>\n",
       "      <th>0</th>\n",
       "      <td>Mont Saint Michel</td>\n",
       "      <td>Hôtel Vert</td>\n",
       "      <td>https://www.booking.com/hotel/fr/vert.fr.html?aid</td>\n",
       "      <td>8.0</td>\n",
       "    </tr>\n",
       "    <tr>\n",
       "      <th>1</th>\n",
       "      <td>Mont Saint Michel</td>\n",
       "      <td>Les Terrasses Poulard</td>\n",
       "      <td>https://www.booking.com/hotel/fr/les-terrasses...</td>\n",
       "      <td>7.4</td>\n",
       "    </tr>\n",
       "    <tr>\n",
       "      <th>2</th>\n",
       "      <td>Mont Saint Michel</td>\n",
       "      <td>Mercure Mont Saint Michel</td>\n",
       "      <td>https://www.booking.com/hotel/fr/mont-saint-mi...</td>\n",
       "      <td>8.2</td>\n",
       "    </tr>\n",
       "    <tr>\n",
       "      <th>3</th>\n",
       "      <td>Mont Saint Michel</td>\n",
       "      <td>La Vieille Auberge</td>\n",
       "      <td>https://www.booking.com/hotel/fr/la-vieille-au...</td>\n",
       "      <td>7.3</td>\n",
       "    </tr>\n",
       "    <tr>\n",
       "      <th>4</th>\n",
       "      <td>Mont Saint Michel</td>\n",
       "      <td>Le Relais Du Roy</td>\n",
       "      <td>https://www.booking.com/hotel/fr/le-relais-du-...</td>\n",
       "      <td>8.0</td>\n",
       "    </tr>\n",
       "    <tr>\n",
       "      <th>...</th>\n",
       "      <td>...</td>\n",
       "      <td>...</td>\n",
       "      <td>...</td>\n",
       "      <td>...</td>\n",
       "    </tr>\n",
       "    <tr>\n",
       "      <th>976</th>\n",
       "      <td>Biarritz</td>\n",
       "      <td>Sofitel Biarritz Le Miramar Thalassa</td>\n",
       "      <td>https://www.booking.com/hotel/fr/thalassa-mira...</td>\n",
       "      <td>7.8</td>\n",
       "    </tr>\n",
       "    <tr>\n",
       "      <th>977</th>\n",
       "      <td>Biarritz</td>\n",
       "      <td>Hôtel Mirano</td>\n",
       "      <td>https://www.booking.com/hotel/fr/mirano.fr.htm...</td>\n",
       "      <td>8.7</td>\n",
       "    </tr>\n",
       "    <tr>\n",
       "      <th>978</th>\n",
       "      <td>La Rochelle</td>\n",
       "      <td>Résidence New Rochelle</td>\n",
       "      <td>https://www.booking.com/hotel/fr/residence-du-...</td>\n",
       "      <td>7.6</td>\n",
       "    </tr>\n",
       "    <tr>\n",
       "      <th>979</th>\n",
       "      <td>La Rochelle</td>\n",
       "      <td>Maison des Ambassadeurs</td>\n",
       "      <td>https://www.booking.com/hotel/fr/la-residence-...</td>\n",
       "      <td>8.7</td>\n",
       "    </tr>\n",
       "    <tr>\n",
       "      <th>980</th>\n",
       "      <td>La Rochelle</td>\n",
       "      <td>Appartement Saint Claude - Centre Port</td>\n",
       "      <td>https://www.booking.com/hotel/fr/retour-de-pla...</td>\n",
       "      <td>8.9</td>\n",
       "    </tr>\n",
       "  </tbody>\n",
       "</table>\n",
       "<p>981 rows × 4 columns</p>\n",
       "</div>"
      ],
      "text/plain": [
       "                  city                              hotel_name  \\\n",
       "0    Mont Saint Michel                              Hôtel Vert   \n",
       "1    Mont Saint Michel                   Les Terrasses Poulard   \n",
       "2    Mont Saint Michel               Mercure Mont Saint Michel   \n",
       "3    Mont Saint Michel                      La Vieille Auberge   \n",
       "4    Mont Saint Michel                        Le Relais Du Roy   \n",
       "..                 ...                                     ...   \n",
       "976           Biarritz    Sofitel Biarritz Le Miramar Thalassa   \n",
       "977           Biarritz                            Hôtel Mirano   \n",
       "978        La Rochelle                  Résidence New Rochelle   \n",
       "979        La Rochelle                 Maison des Ambassadeurs   \n",
       "980        La Rochelle  Appartement Saint Claude - Centre Port   \n",
       "\n",
       "                                             url_hotel  score_given  \n",
       "0    https://www.booking.com/hotel/fr/vert.fr.html?aid          8.0  \n",
       "1    https://www.booking.com/hotel/fr/les-terrasses...          7.4  \n",
       "2    https://www.booking.com/hotel/fr/mont-saint-mi...          8.2  \n",
       "3    https://www.booking.com/hotel/fr/la-vieille-au...          7.3  \n",
       "4    https://www.booking.com/hotel/fr/le-relais-du-...          8.0  \n",
       "..                                                 ...          ...  \n",
       "976  https://www.booking.com/hotel/fr/thalassa-mira...          7.8  \n",
       "977  https://www.booking.com/hotel/fr/mirano.fr.htm...          8.7  \n",
       "978  https://www.booking.com/hotel/fr/residence-du-...          7.6  \n",
       "979  https://www.booking.com/hotel/fr/la-residence-...          8.7  \n",
       "980  https://www.booking.com/hotel/fr/retour-de-pla...          8.9  \n",
       "\n",
       "[981 rows x 4 columns]"
      ]
     },
     "execution_count": 21,
     "metadata": {},
     "output_type": "execute_result"
    }
   ],
   "source": [
    "# Création du dataframe df_booking \n",
    "\n",
    "df_booking = pd.DataFrame(booking_cities_updated)\n",
    "\n",
    "df_booking = df_booking.drop_duplicates('hotel_name')\n",
    "\n",
    "df_booking['score_given'] = df_booking['score_given'].str.replace(',', '.').astype(float)\n",
    "\n",
    "# Fonction qui recherche la meilleure correspondance du nom de la ville par rapport à la liste des villes initiale\n",
    "def get_best_match(city_name):\n",
    "    # Exception pour St Malo (qui est en échec)\n",
    "    if city_name == \"Saint-Malo\":\n",
    "        return \"St Malo\"\n",
    "    best_match, score = process.extractOne(city_name, list_cities)\n",
    "    return best_match\n",
    "\n",
    "# Application de la fonction au dataframe\n",
    "df_booking['city'] = df_booking['city'].apply(get_best_match)\n",
    "\n",
    "df_booking = df_booking.reset_index(drop=True)\n",
    "\n",
    "df_booking"
   ]
  },
  {
   "cell_type": "code",
   "execution_count": 22,
   "metadata": {},
   "outputs": [],
   "source": [
    "# Création du fichier txt avec les URL des Hotels\n",
    "   \n",
    "with open('src/url_hotels_booking.txt', \"w\") as file:\n",
    "    for item in df_booking['url_hotel']:\n",
    "        file.write(str(item) + \"\\n\")"
   ]
  },
  {
   "cell_type": "markdown",
   "metadata": {},
   "source": [
    "Après avoir créé les URL des hôtels, il faut effectuer le second scraping, en lançant le fichier ```scrapy_booking_hotels.py```"
   ]
  },
  {
   "cell_type": "code",
   "execution_count": 23,
   "metadata": {},
   "outputs": [],
   "source": [
    "# !python scrapy_booking_hotels.py"
   ]
  },
  {
   "cell_type": "code",
   "execution_count": 24,
   "metadata": {},
   "outputs": [],
   "source": [
    "# Charger le fichier JSON booking_hotels_scraping\n",
    "\n",
    "with open('src/booking_hotels_scraping.json', 'r') as fichier_json:\n",
    "    booking_hotels = json.load(fichier_json)"
   ]
  },
  {
   "cell_type": "code",
   "execution_count": 25,
   "metadata": {},
   "outputs": [],
   "source": [
    "# Traitement des données du fichier JSON\n",
    "\n",
    "booking_hotels_updated = []\n",
    "\n",
    "for list in booking_hotels:\n",
    "    # Récupération du nom de l'hotel si dans une autre colonne\n",
    "    if list['hotel_name'] is None and list['hotel_name_2'] is None:\n",
    "        list['hotel_name'] = list['hotel_name_3']\n",
    "    elif list['hotel_name'] is None:\n",
    "        list['hotel_name'] = list['hotel_name_2']\n",
    "    \n",
    "    # Récupération de lat_lon si dans une autre colonne   \n",
    "    if list['lat_lon'] is None and list['lat_lon_2'] is None:\n",
    "        list['lat_lon'] = list['lat_lon_3']\n",
    "    elif list['lat_lon'] is None:\n",
    "        list['lat_lon'] = list['lat_lon_2']\n",
    "    \n",
    "    # Récupération de la description de l'hotel si dans une autre colonne\n",
    "    if list['hotel_description'] is None and list['hotel_description_2'] is None:\n",
    "        list['hotel_description'] = list['hotel_description_3']\n",
    "    elif list['hotel_description'] is None:\n",
    "        list['hotel_description'] = list['hotel_description_2']\n",
    "        \n",
    "    if list['hotel_name'] is not None:\n",
    "        # Récupération latitude et longitude\n",
    "        start_index = list['lat_lon'].find('data-atlas-latlng=\"')\n",
    "        substring = list['lat_lon'][start_index:]\n",
    "        end_index = substring.find('\"', len('data-atlas-latlng=\"'))\n",
    "        list['lat_lon'] = substring[len('data-atlas-latlng=\"'):end_index]\n",
    "        \n",
    "        # Split de la colonne en lat et lon\n",
    "        list['lat'] = list['lat_lon'].split(',')[0]\n",
    "        list['lon'] = list['lat_lon'].split(',')[1]\n",
    "        \n",
    "        # Mise à jour du dictionnaire des hotels\n",
    "        booking_hotels_updated.append({\n",
    "        'hotel_name': list['hotel_name'],\n",
    "        'lat': list['lat'],\n",
    "        'lon': list['lon'],        \n",
    "        'hotel_description': list['hotel_description']\n",
    "        })"
   ]
  },
  {
   "cell_type": "code",
   "execution_count": 26,
   "metadata": {},
   "outputs": [
    {
     "data": {
      "text/html": [
       "<div>\n",
       "<style scoped>\n",
       "    .dataframe tbody tr th:only-of-type {\n",
       "        vertical-align: middle;\n",
       "    }\n",
       "\n",
       "    .dataframe tbody tr th {\n",
       "        vertical-align: top;\n",
       "    }\n",
       "\n",
       "    .dataframe thead th {\n",
       "        text-align: right;\n",
       "    }\n",
       "</style>\n",
       "<table border=\"1\" class=\"dataframe\">\n",
       "  <thead>\n",
       "    <tr style=\"text-align: right;\">\n",
       "      <th></th>\n",
       "      <th>hotel_name</th>\n",
       "      <th>lat</th>\n",
       "      <th>lon</th>\n",
       "      <th>hotel_description</th>\n",
       "    </tr>\n",
       "  </thead>\n",
       "  <tbody>\n",
       "    <tr>\n",
       "      <th>0</th>\n",
       "      <td>Mercure Mont Saint Michel</td>\n",
       "      <td>48.614247</td>\n",
       "      <td>-1.510545</td>\n",
       "      <td>Installé dans des espaces verts à seulement 2 ...</td>\n",
       "    </tr>\n",
       "    <tr>\n",
       "      <th>1</th>\n",
       "      <td>Les Terrasses Poulard</td>\n",
       "      <td>48.635349</td>\n",
       "      <td>-1.510379</td>\n",
       "      <td>Occupant 2 bâtiments différents au cœur du Mon...</td>\n",
       "    </tr>\n",
       "    <tr>\n",
       "      <th>2</th>\n",
       "      <td>Hôtel Vert</td>\n",
       "      <td>48.614700</td>\n",
       "      <td>-1.509617</td>\n",
       "      <td>L’Hotel Vert vous propose des chambres décorée...</td>\n",
       "    </tr>\n",
       "    <tr>\n",
       "      <th>3</th>\n",
       "      <td>Le Relais Saint Michel</td>\n",
       "      <td>48.617587</td>\n",
       "      <td>-1.510396</td>\n",
       "      <td>Le Relais Saint Michel vous accueille face à l...</td>\n",
       "    </tr>\n",
       "    <tr>\n",
       "      <th>4</th>\n",
       "      <td>Le Relais Du Roy</td>\n",
       "      <td>48.616263</td>\n",
       "      <td>-1.510906</td>\n",
       "      <td>Le Relais Du Roy est un hôtel 3 étoiles situé ...</td>\n",
       "    </tr>\n",
       "    <tr>\n",
       "      <th>...</th>\n",
       "      <td>...</td>\n",
       "      <td>...</td>\n",
       "      <td>...</td>\n",
       "      <td>...</td>\n",
       "    </tr>\n",
       "    <tr>\n",
       "      <th>954</th>\n",
       "      <td>Résidence Biarritz Ocean</td>\n",
       "      <td>43.480406</td>\n",
       "      <td>-1.557961</td>\n",
       "      <td>Résidence Biarritz Ocean is located in the hea...</td>\n",
       "    </tr>\n",
       "    <tr>\n",
       "      <th>955</th>\n",
       "      <td>Résidence New Rochelle</td>\n",
       "      <td>46.140690</td>\n",
       "      <td>-1.166160</td>\n",
       "      <td>La Résidence New Rochelle est située près du p...</td>\n",
       "    </tr>\n",
       "    <tr>\n",
       "      <th>956</th>\n",
       "      <td>Sofitel Biarritz Le Miramar Thalassa</td>\n",
       "      <td>43.487848</td>\n",
       "      <td>-1.554445</td>\n",
       "      <td>Situé à quelques pas du centre-ville de Biarri...</td>\n",
       "    </tr>\n",
       "    <tr>\n",
       "      <th>957</th>\n",
       "      <td>Maison des Ambassadeurs</td>\n",
       "      <td>46.162826</td>\n",
       "      <td>-1.151102</td>\n",
       "      <td>Situé au cœur de La Rochelle, dans un bâtiment...</td>\n",
       "    </tr>\n",
       "    <tr>\n",
       "      <th>958</th>\n",
       "      <td>Appartement Saint Claude - Centre Port</td>\n",
       "      <td>46.157411</td>\n",
       "      <td>-1.146080</td>\n",
       "      <td>Situé à La Rochelle, à seulement 1,5 km de la ...</td>\n",
       "    </tr>\n",
       "  </tbody>\n",
       "</table>\n",
       "<p>959 rows × 4 columns</p>\n",
       "</div>"
      ],
      "text/plain": [
       "                                 hotel_name        lat       lon  \\\n",
       "0                 Mercure Mont Saint Michel  48.614247 -1.510545   \n",
       "1                     Les Terrasses Poulard  48.635349 -1.510379   \n",
       "2                                Hôtel Vert  48.614700 -1.509617   \n",
       "3                    Le Relais Saint Michel  48.617587 -1.510396   \n",
       "4                          Le Relais Du Roy  48.616263 -1.510906   \n",
       "..                                      ...        ...       ...   \n",
       "954                Résidence Biarritz Ocean  43.480406 -1.557961   \n",
       "955                  Résidence New Rochelle  46.140690 -1.166160   \n",
       "956    Sofitel Biarritz Le Miramar Thalassa  43.487848 -1.554445   \n",
       "957                 Maison des Ambassadeurs  46.162826 -1.151102   \n",
       "958  Appartement Saint Claude - Centre Port  46.157411 -1.146080   \n",
       "\n",
       "                                     hotel_description  \n",
       "0    Installé dans des espaces verts à seulement 2 ...  \n",
       "1    Occupant 2 bâtiments différents au cœur du Mon...  \n",
       "2    L’Hotel Vert vous propose des chambres décorée...  \n",
       "3    Le Relais Saint Michel vous accueille face à l...  \n",
       "4    Le Relais Du Roy est un hôtel 3 étoiles situé ...  \n",
       "..                                                 ...  \n",
       "954  Résidence Biarritz Ocean is located in the hea...  \n",
       "955  La Résidence New Rochelle est située près du p...  \n",
       "956  Situé à quelques pas du centre-ville de Biarri...  \n",
       "957  Situé au cœur de La Rochelle, dans un bâtiment...  \n",
       "958  Situé à La Rochelle, à seulement 1,5 km de la ...  \n",
       "\n",
       "[959 rows x 4 columns]"
      ]
     },
     "execution_count": 26,
     "metadata": {},
     "output_type": "execute_result"
    }
   ],
   "source": [
    "# Création du dataframe booking hotels\n",
    "\n",
    "df_booking_hotels = pd.DataFrame(booking_hotels_updated)\n",
    "\n",
    "df_booking_hotels['lat'] = df_booking_hotels['lat'].astype(float)\n",
    "df_booking_hotels['lon'] = df_booking_hotels['lon'].astype(float)\n",
    "\n",
    "df_booking_hotels"
   ]
  },
  {
   "cell_type": "code",
   "execution_count": 27,
   "metadata": {},
   "outputs": [
    {
     "data": {
      "text/html": [
       "<div>\n",
       "<style scoped>\n",
       "    .dataframe tbody tr th:only-of-type {\n",
       "        vertical-align: middle;\n",
       "    }\n",
       "\n",
       "    .dataframe tbody tr th {\n",
       "        vertical-align: top;\n",
       "    }\n",
       "\n",
       "    .dataframe thead th {\n",
       "        text-align: right;\n",
       "    }\n",
       "</style>\n",
       "<table border=\"1\" class=\"dataframe\">\n",
       "  <thead>\n",
       "    <tr style=\"text-align: right;\">\n",
       "      <th></th>\n",
       "      <th>city</th>\n",
       "      <th>hotel_name</th>\n",
       "      <th>url_hotel</th>\n",
       "      <th>score_given</th>\n",
       "      <th>lat</th>\n",
       "      <th>lon</th>\n",
       "      <th>hotel_description</th>\n",
       "      <th>id</th>\n",
       "    </tr>\n",
       "  </thead>\n",
       "  <tbody>\n",
       "    <tr>\n",
       "      <th>0</th>\n",
       "      <td>Mont Saint Michel</td>\n",
       "      <td>Hôtel Vert</td>\n",
       "      <td>https://www.booking.com/hotel/fr/vert.fr.html?aid</td>\n",
       "      <td>8.0</td>\n",
       "      <td>48.614700</td>\n",
       "      <td>-1.509617</td>\n",
       "      <td>L’Hotel Vert vous propose des chambres décorée...</td>\n",
       "      <td>1</td>\n",
       "    </tr>\n",
       "    <tr>\n",
       "      <th>1</th>\n",
       "      <td>Mont Saint Michel</td>\n",
       "      <td>Les Terrasses Poulard</td>\n",
       "      <td>https://www.booking.com/hotel/fr/les-terrasses...</td>\n",
       "      <td>7.4</td>\n",
       "      <td>48.635349</td>\n",
       "      <td>-1.510379</td>\n",
       "      <td>Occupant 2 bâtiments différents au cœur du Mon...</td>\n",
       "      <td>1</td>\n",
       "    </tr>\n",
       "    <tr>\n",
       "      <th>2</th>\n",
       "      <td>Mont Saint Michel</td>\n",
       "      <td>Mercure Mont Saint Michel</td>\n",
       "      <td>https://www.booking.com/hotel/fr/mont-saint-mi...</td>\n",
       "      <td>8.2</td>\n",
       "      <td>48.614247</td>\n",
       "      <td>-1.510545</td>\n",
       "      <td>Installé dans des espaces verts à seulement 2 ...</td>\n",
       "      <td>1</td>\n",
       "    </tr>\n",
       "    <tr>\n",
       "      <th>3</th>\n",
       "      <td>Mont Saint Michel</td>\n",
       "      <td>La Vieille Auberge</td>\n",
       "      <td>https://www.booking.com/hotel/fr/la-vieille-au...</td>\n",
       "      <td>7.3</td>\n",
       "      <td>48.636063</td>\n",
       "      <td>-1.511457</td>\n",
       "      <td>La Vieille Auberge vous accueille dans le vill...</td>\n",
       "      <td>1</td>\n",
       "    </tr>\n",
       "    <tr>\n",
       "      <th>4</th>\n",
       "      <td>Mont Saint Michel</td>\n",
       "      <td>Le Relais Du Roy</td>\n",
       "      <td>https://www.booking.com/hotel/fr/le-relais-du-...</td>\n",
       "      <td>8.0</td>\n",
       "      <td>48.616263</td>\n",
       "      <td>-1.510906</td>\n",
       "      <td>Le Relais Du Roy est un hôtel 3 étoiles situé ...</td>\n",
       "      <td>1</td>\n",
       "    </tr>\n",
       "    <tr>\n",
       "      <th>...</th>\n",
       "      <td>...</td>\n",
       "      <td>...</td>\n",
       "      <td>...</td>\n",
       "      <td>...</td>\n",
       "      <td>...</td>\n",
       "      <td>...</td>\n",
       "      <td>...</td>\n",
       "      <td>...</td>\n",
       "    </tr>\n",
       "    <tr>\n",
       "      <th>954</th>\n",
       "      <td>Avignon</td>\n",
       "      <td>The Originals Boutique, Hôtel Danieli, Avignon</td>\n",
       "      <td>https://www.booking.com/hotel/fr/hoteldanieli....</td>\n",
       "      <td>7.3</td>\n",
       "      <td>43.947566</td>\n",
       "      <td>4.806030</td>\n",
       "      <td>L'The Originals Boutique, Hôtel Danieli, Avign...</td>\n",
       "      <td>23</td>\n",
       "    </tr>\n",
       "    <tr>\n",
       "      <th>955</th>\n",
       "      <td>Avignon</td>\n",
       "      <td>Au cœur des Papes, dans bâtisse de charme stud...</td>\n",
       "      <td>https://www.booking.com/hotel/fr/au-coeur-des-...</td>\n",
       "      <td>8.7</td>\n",
       "      <td>43.946171</td>\n",
       "      <td>4.810189</td>\n",
       "      <td>Situé à moins de 200 mètres du centre d'Avigno...</td>\n",
       "      <td>23</td>\n",
       "    </tr>\n",
       "    <tr>\n",
       "      <th>956</th>\n",
       "      <td>Avignon</td>\n",
       "      <td>L'Observance Bed &amp; Breakfast</td>\n",
       "      <td>https://www.booking.com/hotel/fr/l-39-observan...</td>\n",
       "      <td>8.9</td>\n",
       "      <td>43.944075</td>\n",
       "      <td>4.800156</td>\n",
       "      <td>Situé à Avignon, l'Observance Bed &amp; Breakfast ...</td>\n",
       "      <td>23</td>\n",
       "    </tr>\n",
       "    <tr>\n",
       "      <th>957</th>\n",
       "      <td>Avignon</td>\n",
       "      <td>City Résidence Avignon (5 Epi)</td>\n",
       "      <td>https://www.booking.com/hotel/fr/residence-5-e...</td>\n",
       "      <td>7.3</td>\n",
       "      <td>43.943507</td>\n",
       "      <td>4.822365</td>\n",
       "      <td>Située à 10 minutes à pied des remparts et à 2...</td>\n",
       "      <td>23</td>\n",
       "    </tr>\n",
       "    <tr>\n",
       "      <th>958</th>\n",
       "      <td>Avignon</td>\n",
       "      <td>Hôtel Le Médiéval Palais des Papes</td>\n",
       "      <td>https://www.booking.com/hotel/fr/le-medieval-a...</td>\n",
       "      <td>8.0</td>\n",
       "      <td>43.949306</td>\n",
       "      <td>4.809346</td>\n",
       "      <td>L'Hôtel Le Médiéval Palais des Papes occupe l'...</td>\n",
       "      <td>23</td>\n",
       "    </tr>\n",
       "  </tbody>\n",
       "</table>\n",
       "<p>959 rows × 8 columns</p>\n",
       "</div>"
      ],
      "text/plain": [
       "                  city                                         hotel_name  \\\n",
       "0    Mont Saint Michel                                         Hôtel Vert   \n",
       "1    Mont Saint Michel                              Les Terrasses Poulard   \n",
       "2    Mont Saint Michel                          Mercure Mont Saint Michel   \n",
       "3    Mont Saint Michel                                 La Vieille Auberge   \n",
       "4    Mont Saint Michel                                   Le Relais Du Roy   \n",
       "..                 ...                                                ...   \n",
       "954            Avignon     The Originals Boutique, Hôtel Danieli, Avignon   \n",
       "955            Avignon  Au cœur des Papes, dans bâtisse de charme stud...   \n",
       "956            Avignon                       L'Observance Bed & Breakfast   \n",
       "957            Avignon                     City Résidence Avignon (5 Epi)   \n",
       "958            Avignon                 Hôtel Le Médiéval Palais des Papes   \n",
       "\n",
       "                                             url_hotel  score_given  \\\n",
       "0    https://www.booking.com/hotel/fr/vert.fr.html?aid          8.0   \n",
       "1    https://www.booking.com/hotel/fr/les-terrasses...          7.4   \n",
       "2    https://www.booking.com/hotel/fr/mont-saint-mi...          8.2   \n",
       "3    https://www.booking.com/hotel/fr/la-vieille-au...          7.3   \n",
       "4    https://www.booking.com/hotel/fr/le-relais-du-...          8.0   \n",
       "..                                                 ...          ...   \n",
       "954  https://www.booking.com/hotel/fr/hoteldanieli....          7.3   \n",
       "955  https://www.booking.com/hotel/fr/au-coeur-des-...          8.7   \n",
       "956  https://www.booking.com/hotel/fr/l-39-observan...          8.9   \n",
       "957  https://www.booking.com/hotel/fr/residence-5-e...          7.3   \n",
       "958  https://www.booking.com/hotel/fr/le-medieval-a...          8.0   \n",
       "\n",
       "           lat       lon                                  hotel_description  \\\n",
       "0    48.614700 -1.509617  L’Hotel Vert vous propose des chambres décorée...   \n",
       "1    48.635349 -1.510379  Occupant 2 bâtiments différents au cœur du Mon...   \n",
       "2    48.614247 -1.510545  Installé dans des espaces verts à seulement 2 ...   \n",
       "3    48.636063 -1.511457  La Vieille Auberge vous accueille dans le vill...   \n",
       "4    48.616263 -1.510906  Le Relais Du Roy est un hôtel 3 étoiles situé ...   \n",
       "..         ...       ...                                                ...   \n",
       "954  43.947566  4.806030  L'The Originals Boutique, Hôtel Danieli, Avign...   \n",
       "955  43.946171  4.810189  Situé à moins de 200 mètres du centre d'Avigno...   \n",
       "956  43.944075  4.800156  Situé à Avignon, l'Observance Bed & Breakfast ...   \n",
       "957  43.943507  4.822365  Située à 10 minutes à pied des remparts et à 2...   \n",
       "958  43.949306  4.809346  L'Hôtel Le Médiéval Palais des Papes occupe l'...   \n",
       "\n",
       "     id  \n",
       "0     1  \n",
       "1     1  \n",
       "2     1  \n",
       "3     1  \n",
       "4     1  \n",
       "..   ..  \n",
       "954  23  \n",
       "955  23  \n",
       "956  23  \n",
       "957  23  \n",
       "958  23  \n",
       "\n",
       "[959 rows x 8 columns]"
      ]
     },
     "execution_count": 27,
     "metadata": {},
     "output_type": "execute_result"
    }
   ],
   "source": [
    "# Fusion des 2 dataframes de Booking :\n",
    "\n",
    "df_booking_merged = pd.merge(df_booking, df_booking_hotels, on='hotel_name')\n",
    "\n",
    "# Fusion avec df_unique pour récupérer l'id de la ville\n",
    "\n",
    "df_booking_merged = pd.merge(df_booking_merged, df_unique, on='city').iloc[:,:-6]\n",
    "\n",
    "df_booking_merged"
   ]
  },
  {
   "cell_type": "code",
   "execution_count": 28,
   "metadata": {},
   "outputs": [
    {
     "data": {
      "text/html": [
       "<div>\n",
       "<style scoped>\n",
       "    .dataframe tbody tr th:only-of-type {\n",
       "        vertical-align: middle;\n",
       "    }\n",
       "\n",
       "    .dataframe tbody tr th {\n",
       "        vertical-align: top;\n",
       "    }\n",
       "\n",
       "    .dataframe thead th {\n",
       "        text-align: right;\n",
       "    }\n",
       "</style>\n",
       "<table border=\"1\" class=\"dataframe\">\n",
       "  <thead>\n",
       "    <tr style=\"text-align: right;\">\n",
       "      <th></th>\n",
       "      <th>hotel_name</th>\n",
       "      <th>score_given</th>\n",
       "      <th>lat</th>\n",
       "      <th>lon</th>\n",
       "    </tr>\n",
       "  </thead>\n",
       "  <tbody>\n",
       "    <tr>\n",
       "      <th>479</th>\n",
       "      <td>Domaine de la JASSO, au pied de la Cité Médiévale</td>\n",
       "      <td>10.0</td>\n",
       "      <td>43.203730</td>\n",
       "      <td>2.346508</td>\n",
       "    </tr>\n",
       "    <tr>\n",
       "      <th>360</th>\n",
       "      <td>Nimes: Appartement l'Auguste Centre-Ville.</td>\n",
       "      <td>10.0</td>\n",
       "      <td>43.837654</td>\n",
       "      <td>4.364321</td>\n",
       "    </tr>\n",
       "    <tr>\n",
       "      <th>665</th>\n",
       "      <td>L'Escale de Collioure - Climatisé, parking pri...</td>\n",
       "      <td>10.0</td>\n",
       "      <td>42.521823</td>\n",
       "      <td>3.093709</td>\n",
       "    </tr>\n",
       "    <tr>\n",
       "      <th>478</th>\n",
       "      <td>L'écrin de la Cité, Coeur de Vignes</td>\n",
       "      <td>10.0</td>\n",
       "      <td>43.202128</td>\n",
       "      <td>2.361453</td>\n",
       "    </tr>\n",
       "    <tr>\n",
       "      <th>477</th>\n",
       "      <td>Villa Le jardin de la cité</td>\n",
       "      <td>10.0</td>\n",
       "      <td>43.206161</td>\n",
       "      <td>2.370974</td>\n",
       "    </tr>\n",
       "    <tr>\n",
       "      <th>473</th>\n",
       "      <td>Maison Thérèse by Panorama Locations - SPA pri...</td>\n",
       "      <td>9.7</td>\n",
       "      <td>43.205619</td>\n",
       "      <td>2.361485</td>\n",
       "    </tr>\n",
       "    <tr>\n",
       "      <th>458</th>\n",
       "      <td>Carcassonne Bed and Breakfast du Palais</td>\n",
       "      <td>9.7</td>\n",
       "      <td>43.213599</td>\n",
       "      <td>2.357081</td>\n",
       "    </tr>\n",
       "    <tr>\n",
       "      <th>451</th>\n",
       "      <td>Au point du jour - Gîtes Carcassonne, Lac de l...</td>\n",
       "      <td>9.7</td>\n",
       "      <td>43.178580</td>\n",
       "      <td>2.414622</td>\n",
       "    </tr>\n",
       "    <tr>\n",
       "      <th>347</th>\n",
       "      <td>Mazet Pierre de Vers - Le Mas des Olivers Nîmes</td>\n",
       "      <td>9.7</td>\n",
       "      <td>43.858731</td>\n",
       "      <td>4.392550</td>\n",
       "    </tr>\n",
       "    <tr>\n",
       "      <th>502</th>\n",
       "      <td>Le Gîte des Trois Seigneurs</td>\n",
       "      <td>9.6</td>\n",
       "      <td>42.857052</td>\n",
       "      <td>1.558233</td>\n",
       "    </tr>\n",
       "    <tr>\n",
       "      <th>448</th>\n",
       "      <td>SalutBB Chambre d'hote</td>\n",
       "      <td>9.6</td>\n",
       "      <td>43.211449</td>\n",
       "      <td>2.346299</td>\n",
       "    </tr>\n",
       "    <tr>\n",
       "      <th>492</th>\n",
       "      <td>Les appartements de Clélia</td>\n",
       "      <td>9.5</td>\n",
       "      <td>42.720854</td>\n",
       "      <td>1.833611</td>\n",
       "    </tr>\n",
       "    <tr>\n",
       "      <th>499</th>\n",
       "      <td>Cœur d'Ax Location</td>\n",
       "      <td>9.5</td>\n",
       "      <td>42.720610</td>\n",
       "      <td>1.838179</td>\n",
       "    </tr>\n",
       "    <tr>\n",
       "      <th>476</th>\n",
       "      <td>Oasis De La Cit, A Beautiful Property, Sleeps 8,</td>\n",
       "      <td>9.5</td>\n",
       "      <td>43.205999</td>\n",
       "      <td>2.361065</td>\n",
       "    </tr>\n",
       "    <tr>\n",
       "      <th>482</th>\n",
       "      <td>Demeure de la Carmine, sejour bien-etre d'exce...</td>\n",
       "      <td>9.5</td>\n",
       "      <td>43.087540</td>\n",
       "      <td>1.871355</td>\n",
       "    </tr>\n",
       "    <tr>\n",
       "      <th>484</th>\n",
       "      <td>Chalet Pyrénéen</td>\n",
       "      <td>9.5</td>\n",
       "      <td>43.221838</td>\n",
       "      <td>1.397696</td>\n",
       "    </tr>\n",
       "    <tr>\n",
       "      <th>496</th>\n",
       "      <td>Chalet en Castel</td>\n",
       "      <td>9.4</td>\n",
       "      <td>42.722505</td>\n",
       "      <td>1.833030</td>\n",
       "    </tr>\n",
       "    <tr>\n",
       "      <th>617</th>\n",
       "      <td>23 Avenue du 8 Mai 1945</td>\n",
       "      <td>9.4</td>\n",
       "      <td>43.472819</td>\n",
       "      <td>-1.485886</td>\n",
       "    </tr>\n",
       "    <tr>\n",
       "      <th>658</th>\n",
       "      <td>Les Suites de Collioure</td>\n",
       "      <td>9.3</td>\n",
       "      <td>42.524390</td>\n",
       "      <td>3.082726</td>\n",
       "    </tr>\n",
       "    <tr>\n",
       "      <th>364</th>\n",
       "      <td>Appartement avec terrasse panoramique au coeur...</td>\n",
       "      <td>9.3</td>\n",
       "      <td>43.836776</td>\n",
       "      <td>4.358018</td>\n",
       "    </tr>\n",
       "  </tbody>\n",
       "</table>\n",
       "</div>"
      ],
      "text/plain": [
       "                                            hotel_name  score_given  \\\n",
       "479  Domaine de la JASSO, au pied de la Cité Médiévale         10.0   \n",
       "360         Nimes: Appartement l'Auguste Centre-Ville.         10.0   \n",
       "665  L'Escale de Collioure - Climatisé, parking pri...         10.0   \n",
       "478                L'écrin de la Cité, Coeur de Vignes         10.0   \n",
       "477                         Villa Le jardin de la cité         10.0   \n",
       "473  Maison Thérèse by Panorama Locations - SPA pri...          9.7   \n",
       "458            Carcassonne Bed and Breakfast du Palais          9.7   \n",
       "451  Au point du jour - Gîtes Carcassonne, Lac de l...          9.7   \n",
       "347    Mazet Pierre de Vers - Le Mas des Olivers Nîmes          9.7   \n",
       "502                        Le Gîte des Trois Seigneurs          9.6   \n",
       "448                             SalutBB Chambre d'hote          9.6   \n",
       "492                         Les appartements de Clélia          9.5   \n",
       "499                                 Cœur d'Ax Location          9.5   \n",
       "476   Oasis De La Cit, A Beautiful Property, Sleeps 8,          9.5   \n",
       "482  Demeure de la Carmine, sejour bien-etre d'exce...          9.5   \n",
       "484                                    Chalet Pyrénéen          9.5   \n",
       "496                                   Chalet en Castel          9.4   \n",
       "617                            23 Avenue du 8 Mai 1945          9.4   \n",
       "658                            Les Suites de Collioure          9.3   \n",
       "364  Appartement avec terrasse panoramique au coeur...          9.3   \n",
       "\n",
       "           lat       lon  \n",
       "479  43.203730  2.346508  \n",
       "360  43.837654  4.364321  \n",
       "665  42.521823  3.093709  \n",
       "478  43.202128  2.361453  \n",
       "477  43.206161  2.370974  \n",
       "473  43.205619  2.361485  \n",
       "458  43.213599  2.357081  \n",
       "451  43.178580  2.414622  \n",
       "347  43.858731  4.392550  \n",
       "502  42.857052  1.558233  \n",
       "448  43.211449  2.346299  \n",
       "492  42.720854  1.833611  \n",
       "499  42.720610  1.838179  \n",
       "476  43.205999  2.361065  \n",
       "482  43.087540  1.871355  \n",
       "484  43.221838  1.397696  \n",
       "496  42.722505  1.833030  \n",
       "617  43.472819 -1.485886  \n",
       "658  42.524390  3.082726  \n",
       "364  43.836776  4.358018  "
      ]
     },
     "execution_count": 28,
     "metadata": {},
     "output_type": "execute_result"
    }
   ],
   "source": [
    "# Récupération des 20 meilleurs hotels dans la zone géographique des 5 meilleurs destinations\n",
    "\n",
    "df_best_hotels = df_booking_merged[df_booking_merged['city'].isin(best_cities_list)]\\\n",
    "    .sort_values(by = 'score_given', ascending=False)\\\n",
    "    .iloc[0:20,:]\\\n",
    "    .loc[:,['hotel_name', 'score_given', 'lat', 'lon']]\n",
    "    \n",
    "df_best_hotels"
   ]
  },
  {
   "cell_type": "markdown",
   "metadata": {},
   "source": [
    "## Mapbox des 20 meilleurs hôtels parmi les 5 meilleurs destinations"
   ]
  },
  {
   "cell_type": "code",
   "execution_count": 29,
   "metadata": {},
   "outputs": [
    {
     "data": {
      "application/vnd.plotly.v1+json": {
       "config": {
        "plotlyServerURL": "https://plot.ly"
       },
       "data": [
        {
         "hovertemplate": "score_given=%{marker.color}<br>hotel_name=%{text}<br>lat=%{lat}<br>lon=%{lon}<extra></extra>",
         "lat": [
          43.20372976,
          43.8376544,
          42.52182291,
          43.20212761,
          43.2061612,
          43.2056195,
          43.2135992,
          43.17858,
          43.8587306,
          42.85705211,
          43.2114488,
          42.72085404,
          42.72061024,
          43.2059994,
          43.08754039,
          43.221838,
          42.72250548,
          43.4728192,
          42.52439,
          43.836776
         ],
         "legendgroup": "",
         "lon": [
          2.34650752,
          4.3643214,
          3.09370921,
          2.36145271,
          2.370974,
          2.3614853,
          2.3570812,
          2.4146219,
          4.3925497,
          1.55823262,
          2.3462993,
          1.83361059,
          1.83817914,
          2.3610647,
          1.87135531,
          1.3976962,
          1.83303026,
          -1.4858856,
          3.082726,
          4.358018
         ],
         "marker": {
          "color": [
           10,
           10,
           10,
           10,
           10,
           9.7,
           9.7,
           9.7,
           9.7,
           9.6,
           9.6,
           9.5,
           9.5,
           9.5,
           9.5,
           9.5,
           9.4,
           9.4,
           9.3,
           9.3
          ],
          "coloraxis": "coloraxis",
          "size": [
           10,
           10,
           10,
           10,
           10,
           9.7,
           9.7,
           9.7,
           9.7,
           9.6,
           9.6,
           9.5,
           9.5,
           9.5,
           9.5,
           9.5,
           9.4,
           9.4,
           9.3,
           9.3
          ],
          "sizemode": "area",
          "sizeref": 0.025
         },
         "mode": "markers+text",
         "name": "",
         "showlegend": false,
         "subplot": "mapbox",
         "text": [
          "Domaine de la JASSO, au pied de la Cité Médiévale",
          "Nimes: Appartement l'Auguste Centre-Ville.",
          "L'Escale de Collioure - Climatisé, parking privé sécurisé, vue mer",
          "L'écrin de la Cité, Coeur de Vignes",
          "Villa Le jardin de la cité",
          "Maison Thérèse by Panorama Locations - SPA privatif",
          "Carcassonne Bed and Breakfast du Palais",
          "Au point du jour - Gîtes Carcassonne, Lac de la Cavayère",
          "Mazet Pierre de Vers - Le Mas des Olivers Nîmes",
          "Le Gîte des Trois Seigneurs",
          "SalutBB Chambre d'hote",
          "Les appartements de Clélia",
          "Cœur d'Ax Location",
          "Oasis De La Cit, A Beautiful Property, Sleeps 8,",
          "Demeure de la Carmine, sejour bien-etre d'exception, piscine, hammam, champagne",
          "Chalet Pyrénéen",
          "Chalet en Castel",
          "23 Avenue du 8 Mai 1945",
          "Les Suites de Collioure",
          "Appartement avec terrasse panoramique au coeur de Nîmes"
         ],
         "type": "scattermapbox"
        }
       ],
       "layout": {
        "coloraxis": {
         "colorbar": {
          "title": {
           "text": "score_given"
          }
         },
         "colorscale": [
          [
           0,
           "rgb(0,0,255)"
          ],
          [
           1,
           "rgb(255,0,0)"
          ]
         ]
        },
        "height": 700,
        "legend": {
         "itemsizing": "constant",
         "tracegroupgap": 0
        },
        "mapbox": {
         "center": {
          "lat": 43.150492942,
          "lon": 2.3528514730000003
         },
         "domain": {
          "x": [
           0,
           1
          ],
          "y": [
           0,
           1
          ]
         },
         "style": "carto-positron",
         "zoom": 8
        },
        "template": {
         "data": {
          "bar": [
           {
            "error_x": {
             "color": "#2a3f5f"
            },
            "error_y": {
             "color": "#2a3f5f"
            },
            "marker": {
             "line": {
              "color": "#E5ECF6",
              "width": 0.5
             },
             "pattern": {
              "fillmode": "overlay",
              "size": 10,
              "solidity": 0.2
             }
            },
            "type": "bar"
           }
          ],
          "barpolar": [
           {
            "marker": {
             "line": {
              "color": "#E5ECF6",
              "width": 0.5
             },
             "pattern": {
              "fillmode": "overlay",
              "size": 10,
              "solidity": 0.2
             }
            },
            "type": "barpolar"
           }
          ],
          "carpet": [
           {
            "aaxis": {
             "endlinecolor": "#2a3f5f",
             "gridcolor": "white",
             "linecolor": "white",
             "minorgridcolor": "white",
             "startlinecolor": "#2a3f5f"
            },
            "baxis": {
             "endlinecolor": "#2a3f5f",
             "gridcolor": "white",
             "linecolor": "white",
             "minorgridcolor": "white",
             "startlinecolor": "#2a3f5f"
            },
            "type": "carpet"
           }
          ],
          "choropleth": [
           {
            "colorbar": {
             "outlinewidth": 0,
             "ticks": ""
            },
            "type": "choropleth"
           }
          ],
          "contour": [
           {
            "colorbar": {
             "outlinewidth": 0,
             "ticks": ""
            },
            "colorscale": [
             [
              0,
              "#0d0887"
             ],
             [
              0.1111111111111111,
              "#46039f"
             ],
             [
              0.2222222222222222,
              "#7201a8"
             ],
             [
              0.3333333333333333,
              "#9c179e"
             ],
             [
              0.4444444444444444,
              "#bd3786"
             ],
             [
              0.5555555555555556,
              "#d8576b"
             ],
             [
              0.6666666666666666,
              "#ed7953"
             ],
             [
              0.7777777777777778,
              "#fb9f3a"
             ],
             [
              0.8888888888888888,
              "#fdca26"
             ],
             [
              1,
              "#f0f921"
             ]
            ],
            "type": "contour"
           }
          ],
          "contourcarpet": [
           {
            "colorbar": {
             "outlinewidth": 0,
             "ticks": ""
            },
            "type": "contourcarpet"
           }
          ],
          "heatmap": [
           {
            "colorbar": {
             "outlinewidth": 0,
             "ticks": ""
            },
            "colorscale": [
             [
              0,
              "#0d0887"
             ],
             [
              0.1111111111111111,
              "#46039f"
             ],
             [
              0.2222222222222222,
              "#7201a8"
             ],
             [
              0.3333333333333333,
              "#9c179e"
             ],
             [
              0.4444444444444444,
              "#bd3786"
             ],
             [
              0.5555555555555556,
              "#d8576b"
             ],
             [
              0.6666666666666666,
              "#ed7953"
             ],
             [
              0.7777777777777778,
              "#fb9f3a"
             ],
             [
              0.8888888888888888,
              "#fdca26"
             ],
             [
              1,
              "#f0f921"
             ]
            ],
            "type": "heatmap"
           }
          ],
          "heatmapgl": [
           {
            "colorbar": {
             "outlinewidth": 0,
             "ticks": ""
            },
            "colorscale": [
             [
              0,
              "#0d0887"
             ],
             [
              0.1111111111111111,
              "#46039f"
             ],
             [
              0.2222222222222222,
              "#7201a8"
             ],
             [
              0.3333333333333333,
              "#9c179e"
             ],
             [
              0.4444444444444444,
              "#bd3786"
             ],
             [
              0.5555555555555556,
              "#d8576b"
             ],
             [
              0.6666666666666666,
              "#ed7953"
             ],
             [
              0.7777777777777778,
              "#fb9f3a"
             ],
             [
              0.8888888888888888,
              "#fdca26"
             ],
             [
              1,
              "#f0f921"
             ]
            ],
            "type": "heatmapgl"
           }
          ],
          "histogram": [
           {
            "marker": {
             "pattern": {
              "fillmode": "overlay",
              "size": 10,
              "solidity": 0.2
             }
            },
            "type": "histogram"
           }
          ],
          "histogram2d": [
           {
            "colorbar": {
             "outlinewidth": 0,
             "ticks": ""
            },
            "colorscale": [
             [
              0,
              "#0d0887"
             ],
             [
              0.1111111111111111,
              "#46039f"
             ],
             [
              0.2222222222222222,
              "#7201a8"
             ],
             [
              0.3333333333333333,
              "#9c179e"
             ],
             [
              0.4444444444444444,
              "#bd3786"
             ],
             [
              0.5555555555555556,
              "#d8576b"
             ],
             [
              0.6666666666666666,
              "#ed7953"
             ],
             [
              0.7777777777777778,
              "#fb9f3a"
             ],
             [
              0.8888888888888888,
              "#fdca26"
             ],
             [
              1,
              "#f0f921"
             ]
            ],
            "type": "histogram2d"
           }
          ],
          "histogram2dcontour": [
           {
            "colorbar": {
             "outlinewidth": 0,
             "ticks": ""
            },
            "colorscale": [
             [
              0,
              "#0d0887"
             ],
             [
              0.1111111111111111,
              "#46039f"
             ],
             [
              0.2222222222222222,
              "#7201a8"
             ],
             [
              0.3333333333333333,
              "#9c179e"
             ],
             [
              0.4444444444444444,
              "#bd3786"
             ],
             [
              0.5555555555555556,
              "#d8576b"
             ],
             [
              0.6666666666666666,
              "#ed7953"
             ],
             [
              0.7777777777777778,
              "#fb9f3a"
             ],
             [
              0.8888888888888888,
              "#fdca26"
             ],
             [
              1,
              "#f0f921"
             ]
            ],
            "type": "histogram2dcontour"
           }
          ],
          "mesh3d": [
           {
            "colorbar": {
             "outlinewidth": 0,
             "ticks": ""
            },
            "type": "mesh3d"
           }
          ],
          "parcoords": [
           {
            "line": {
             "colorbar": {
              "outlinewidth": 0,
              "ticks": ""
             }
            },
            "type": "parcoords"
           }
          ],
          "pie": [
           {
            "automargin": true,
            "type": "pie"
           }
          ],
          "scatter": [
           {
            "fillpattern": {
             "fillmode": "overlay",
             "size": 10,
             "solidity": 0.2
            },
            "type": "scatter"
           }
          ],
          "scatter3d": [
           {
            "line": {
             "colorbar": {
              "outlinewidth": 0,
              "ticks": ""
             }
            },
            "marker": {
             "colorbar": {
              "outlinewidth": 0,
              "ticks": ""
             }
            },
            "type": "scatter3d"
           }
          ],
          "scattercarpet": [
           {
            "marker": {
             "colorbar": {
              "outlinewidth": 0,
              "ticks": ""
             }
            },
            "type": "scattercarpet"
           }
          ],
          "scattergeo": [
           {
            "marker": {
             "colorbar": {
              "outlinewidth": 0,
              "ticks": ""
             }
            },
            "type": "scattergeo"
           }
          ],
          "scattergl": [
           {
            "marker": {
             "colorbar": {
              "outlinewidth": 0,
              "ticks": ""
             }
            },
            "type": "scattergl"
           }
          ],
          "scattermapbox": [
           {
            "marker": {
             "colorbar": {
              "outlinewidth": 0,
              "ticks": ""
             }
            },
            "type": "scattermapbox"
           }
          ],
          "scatterpolar": [
           {
            "marker": {
             "colorbar": {
              "outlinewidth": 0,
              "ticks": ""
             }
            },
            "type": "scatterpolar"
           }
          ],
          "scatterpolargl": [
           {
            "marker": {
             "colorbar": {
              "outlinewidth": 0,
              "ticks": ""
             }
            },
            "type": "scatterpolargl"
           }
          ],
          "scatterternary": [
           {
            "marker": {
             "colorbar": {
              "outlinewidth": 0,
              "ticks": ""
             }
            },
            "type": "scatterternary"
           }
          ],
          "surface": [
           {
            "colorbar": {
             "outlinewidth": 0,
             "ticks": ""
            },
            "colorscale": [
             [
              0,
              "#0d0887"
             ],
             [
              0.1111111111111111,
              "#46039f"
             ],
             [
              0.2222222222222222,
              "#7201a8"
             ],
             [
              0.3333333333333333,
              "#9c179e"
             ],
             [
              0.4444444444444444,
              "#bd3786"
             ],
             [
              0.5555555555555556,
              "#d8576b"
             ],
             [
              0.6666666666666666,
              "#ed7953"
             ],
             [
              0.7777777777777778,
              "#fb9f3a"
             ],
             [
              0.8888888888888888,
              "#fdca26"
             ],
             [
              1,
              "#f0f921"
             ]
            ],
            "type": "surface"
           }
          ],
          "table": [
           {
            "cells": {
             "fill": {
              "color": "#EBF0F8"
             },
             "line": {
              "color": "white"
             }
            },
            "header": {
             "fill": {
              "color": "#C8D4E3"
             },
             "line": {
              "color": "white"
             }
            },
            "type": "table"
           }
          ]
         },
         "layout": {
          "annotationdefaults": {
           "arrowcolor": "#2a3f5f",
           "arrowhead": 0,
           "arrowwidth": 1
          },
          "autotypenumbers": "strict",
          "coloraxis": {
           "colorbar": {
            "outlinewidth": 0,
            "ticks": ""
           }
          },
          "colorscale": {
           "diverging": [
            [
             0,
             "#8e0152"
            ],
            [
             0.1,
             "#c51b7d"
            ],
            [
             0.2,
             "#de77ae"
            ],
            [
             0.3,
             "#f1b6da"
            ],
            [
             0.4,
             "#fde0ef"
            ],
            [
             0.5,
             "#f7f7f7"
            ],
            [
             0.6,
             "#e6f5d0"
            ],
            [
             0.7,
             "#b8e186"
            ],
            [
             0.8,
             "#7fbc41"
            ],
            [
             0.9,
             "#4d9221"
            ],
            [
             1,
             "#276419"
            ]
           ],
           "sequential": [
            [
             0,
             "#0d0887"
            ],
            [
             0.1111111111111111,
             "#46039f"
            ],
            [
             0.2222222222222222,
             "#7201a8"
            ],
            [
             0.3333333333333333,
             "#9c179e"
            ],
            [
             0.4444444444444444,
             "#bd3786"
            ],
            [
             0.5555555555555556,
             "#d8576b"
            ],
            [
             0.6666666666666666,
             "#ed7953"
            ],
            [
             0.7777777777777778,
             "#fb9f3a"
            ],
            [
             0.8888888888888888,
             "#fdca26"
            ],
            [
             1,
             "#f0f921"
            ]
           ],
           "sequentialminus": [
            [
             0,
             "#0d0887"
            ],
            [
             0.1111111111111111,
             "#46039f"
            ],
            [
             0.2222222222222222,
             "#7201a8"
            ],
            [
             0.3333333333333333,
             "#9c179e"
            ],
            [
             0.4444444444444444,
             "#bd3786"
            ],
            [
             0.5555555555555556,
             "#d8576b"
            ],
            [
             0.6666666666666666,
             "#ed7953"
            ],
            [
             0.7777777777777778,
             "#fb9f3a"
            ],
            [
             0.8888888888888888,
             "#fdca26"
            ],
            [
             1,
             "#f0f921"
            ]
           ]
          },
          "colorway": [
           "#636efa",
           "#EF553B",
           "#00cc96",
           "#ab63fa",
           "#FFA15A",
           "#19d3f3",
           "#FF6692",
           "#B6E880",
           "#FF97FF",
           "#FECB52"
          ],
          "font": {
           "color": "#2a3f5f"
          },
          "geo": {
           "bgcolor": "white",
           "lakecolor": "white",
           "landcolor": "#E5ECF6",
           "showlakes": true,
           "showland": true,
           "subunitcolor": "white"
          },
          "hoverlabel": {
           "align": "left"
          },
          "hovermode": "closest",
          "mapbox": {
           "style": "light"
          },
          "paper_bgcolor": "white",
          "plot_bgcolor": "#E5ECF6",
          "polar": {
           "angularaxis": {
            "gridcolor": "white",
            "linecolor": "white",
            "ticks": ""
           },
           "bgcolor": "#E5ECF6",
           "radialaxis": {
            "gridcolor": "white",
            "linecolor": "white",
            "ticks": ""
           }
          },
          "scene": {
           "xaxis": {
            "backgroundcolor": "#E5ECF6",
            "gridcolor": "white",
            "gridwidth": 2,
            "linecolor": "white",
            "showbackground": true,
            "ticks": "",
            "zerolinecolor": "white"
           },
           "yaxis": {
            "backgroundcolor": "#E5ECF6",
            "gridcolor": "white",
            "gridwidth": 2,
            "linecolor": "white",
            "showbackground": true,
            "ticks": "",
            "zerolinecolor": "white"
           },
           "zaxis": {
            "backgroundcolor": "#E5ECF6",
            "gridcolor": "white",
            "gridwidth": 2,
            "linecolor": "white",
            "showbackground": true,
            "ticks": "",
            "zerolinecolor": "white"
           }
          },
          "shapedefaults": {
           "line": {
            "color": "#2a3f5f"
           }
          },
          "ternary": {
           "aaxis": {
            "gridcolor": "white",
            "linecolor": "white",
            "ticks": ""
           },
           "baxis": {
            "gridcolor": "white",
            "linecolor": "white",
            "ticks": ""
           },
           "bgcolor": "#E5ECF6",
           "caxis": {
            "gridcolor": "white",
            "linecolor": "white",
            "ticks": ""
           }
          },
          "title": {
           "x": 0.05
          },
          "xaxis": {
           "automargin": true,
           "gridcolor": "white",
           "linecolor": "white",
           "ticks": "",
           "title": {
            "standoff": 15
           },
           "zerolinecolor": "white",
           "zerolinewidth": 2
          },
          "yaxis": {
           "automargin": true,
           "gridcolor": "white",
           "linecolor": "white",
           "ticks": "",
           "title": {
            "standoff": 15
           },
           "zerolinecolor": "white",
           "zerolinewidth": 2
          }
         }
        },
        "title": {
         "text": "Mapbox des 20 hotels les mieux notés"
        },
        "width": 1200
       }
      }
     },
     "metadata": {},
     "output_type": "display_data"
    }
   ],
   "source": [
    "# Création de la mapbox avec les 20 meilleurs hotels\n",
    "\n",
    "fig = px.scatter_mapbox(\n",
    "    df_best_hotels, \n",
    "    lat=\"lat\", \n",
    "    lon=\"lon\", \n",
    "    text='hotel_name',\n",
    "    color=\"score_given\",\n",
    "    title=\"Mapbox des 20 hotels les mieux notés\",\n",
    "    color_continuous_scale='Bluered',\n",
    "    size=\"score_given\",\n",
    ")\n",
    "\n",
    "fig.update_layout(\n",
    "    mapbox_style=\"carto-positron\", \n",
    "    width=1200,\n",
    "    height=700,\n",
    ")\n",
    "\n",
    "fig.show()"
   ]
  },
  {
   "cell_type": "markdown",
   "metadata": {},
   "source": [
    "Si vous souhaitez enregistrer le résultat du scraping pour chaque ville sur votre AWS S3, vous pouvez utiliser la commande suivante :"
   ]
  },
  {
   "cell_type": "code",
   "execution_count": 30,
   "metadata": {},
   "outputs": [],
   "source": [
    "# # Enregistrement des fichiers {cities}_booking au format CSV sur AWS S3\n",
    "\n",
    "# import boto3\n",
    "\n",
    "# # Connexion à la session S3\n",
    "\n",
    "# session = boto3.Session(profile_name='default')\n",
    "# s3 = session.resource(\"s3\")\n",
    "# print(s3)\n",
    "\n",
    "# bucket_name = YOUR_BUCKET_NAME\n",
    "# bucket = s3.Bucket(bucket_name)\n",
    "\n",
    "# # Boucle for pour la création des fichiers\n",
    "# for city in list_cities[0:2]:\n",
    "    \n",
    "#     # Filtre du dataframe par ville\n",
    "#     df_csv = df_booking_merged[df_booking_merged['city'] == city]\n",
    "    \n",
    "#     # Suppression des retours à la ligne\n",
    "#     df_csv = df_csv.copy()\n",
    "#     df_csv['hotel_description'] = df_csv['hotel_description'].str.replace('\\n', ' ')\n",
    "    \n",
    "#     # Créer des fichiers dans le bucket\n",
    "#     filepath = f\"YOUR_PATH/cities_booking/{city.replace(' ', '_')}.csv\"\n",
    "#     put_object = bucket.put_object(\n",
    "#         Key=filepath, \n",
    "#         Body=df_csv.to_csv(index=False))\n",
    "#     print(f'Le fichier a été créé dans le bucket au chemin : {filepath}')"
   ]
  },
  {
   "cell_type": "markdown",
   "metadata": {},
   "source": [
    "## Création de tables PostgreSQL"
   ]
  },
  {
   "cell_type": "code",
   "execution_count": 15,
   "metadata": {},
   "outputs": [
    {
     "name": "stdout",
     "output_type": "stream",
     "text": [
      "2024-01-24 11:17:25,345 INFO sqlalchemy.engine.Engine select pg_catalog.version()\n",
      "2024-01-24 11:17:25,345 INFO sqlalchemy.engine.Engine [raw sql] {}\n",
      "2024-01-24 11:17:25,521 INFO sqlalchemy.engine.Engine select current_schema()\n",
      "2024-01-24 11:17:25,522 INFO sqlalchemy.engine.Engine [raw sql] {}\n",
      "2024-01-24 11:17:25,697 INFO sqlalchemy.engine.Engine show standard_conforming_strings\n",
      "2024-01-24 11:17:25,698 INFO sqlalchemy.engine.Engine [raw sql] {}\n"
     ]
    }
   ],
   "source": [
    "# Import sqlalchemy\n",
    "from sqlalchemy import create_engine, text, MetaData, Table\n",
    "\n",
    "# Vos informations de connexion Postgres\n",
    "# DBHOST = os.environ.get(\"DBHOST\")\n",
    "# DBUSER = os.environ.get(\"DBUSER\")\n",
    "# DBPASS = os.environ.get(\"DBPASS\")\n",
    "# DBNAME = os.environ.get(\"DBNAME\")\n",
    "# PORT = \"5432\"\n",
    "\n",
    "# Mes infos Postgres\n",
    "DBHOST = \"database-1.cxvdy8gdvp12.us-east-1.rds.amazonaws.com\"\n",
    "DBUSER = \"postgres\"\n",
    "DBPASS = \"12345678\"\n",
    "DBNAME = \"postgres\"\n",
    "PORT = \"5432\"\n",
    "\n",
    "engine = create_engine(f\"postgresql+psycopg2://{DBUSER}:{DBPASS}@{DBHOST}/{DBNAME}\", echo=True)\n",
    "\n",
    "# Connect to the db\n",
    "conn = engine.connect()"
   ]
  },
  {
   "cell_type": "code",
   "execution_count": 32,
   "metadata": {},
   "outputs": [],
   "source": [
    "# # Création de la table Weather_daily sur le Postgres RDS\n",
    "\n",
    "# import boto3\n",
    "\n",
    "# # Connexion à la session S3\n",
    "# session = boto3.Session(profile_name='default')\n",
    "# s3 = session.resource(\"s3\")\n",
    "\n",
    "# bucket_name = 'jedha-bucket-clementb'\n",
    "# bucket = s3.Bucket(bucket_name)\n",
    "\n",
    "# s3_path = f's3://{bucket_name}/project_kayak/weather_daily.csv'\n",
    "\n",
    "# # Récupération du fichier depuis S3\n",
    "# df = pd.read_csv(s3_path)\n",
    "\n",
    "# # Création de la table SQL depuis le fichier CSV importé de S3\n",
    "# df.to_sql('weather_daily', engine, index=False)"
   ]
  },
  {
   "cell_type": "code",
   "execution_count": 12,
   "metadata": {},
   "outputs": [
    {
     "name": "stdout",
     "output_type": "stream",
     "text": [
      "2024-01-24 11:15:12,842 INFO sqlalchemy.engine.Engine BEGIN (implicit)\n",
      "2024-01-24 11:15:12,847 INFO sqlalchemy.engine.Engine SELECT pg_catalog.pg_class.relname \n",
      "FROM pg_catalog.pg_class JOIN pg_catalog.pg_namespace ON pg_catalog.pg_namespace.oid = pg_catalog.pg_class.relnamespace \n",
      "WHERE pg_catalog.pg_class.relname = %(table_name)s AND pg_catalog.pg_class.relkind = ANY (ARRAY[%(param_1)s, %(param_2)s, %(param_3)s, %(param_4)s, %(param_5)s]) AND pg_catalog.pg_table_is_visible(pg_catalog.pg_class.oid) AND pg_catalog.pg_namespace.nspname != %(nspname_1)s\n",
      "2024-01-24 11:15:12,848 INFO sqlalchemy.engine.Engine [generated in 0.00070s] {'table_name': 'cities_booking', 'param_1': 'r', 'param_2': 'p', 'param_3': 'f', 'param_4': 'v', 'param_5': 'm', 'nspname_1': 'pg_catalog'}\n",
      "2024-01-24 11:15:13,026 INFO sqlalchemy.engine.Engine \n",
      "CREATE TABLE cities_booking (\n",
      "\tcity TEXT, \n",
      "\thotel_name TEXT, \n",
      "\turl_hotel TEXT, \n",
      "\tscore_given FLOAT(53), \n",
      "\tlat FLOAT(53), \n",
      "\tlon FLOAT(53), \n",
      "\thotel_description TEXT, \n",
      "\tid BIGINT\n",
      ")\n",
      "\n",
      "\n",
      "2024-01-24 11:15:13,026 INFO sqlalchemy.engine.Engine [no key 0.00054s] {}\n",
      "2024-01-24 11:15:13,117 INFO sqlalchemy.engine.Engine COMMIT\n",
      "2024-01-24 11:15:13,260 INFO sqlalchemy.engine.Engine BEGIN (implicit)\n",
      "2024-01-24 11:15:13,262 INFO sqlalchemy.engine.Engine SELECT pg_catalog.pg_class.relname \n",
      "FROM pg_catalog.pg_class JOIN pg_catalog.pg_namespace ON pg_catalog.pg_namespace.oid = pg_catalog.pg_class.relnamespace \n",
      "WHERE pg_catalog.pg_class.relname = %(table_name)s AND pg_catalog.pg_class.relkind = ANY (ARRAY[%(param_1)s, %(param_2)s, %(param_3)s, %(param_4)s, %(param_5)s]) AND pg_catalog.pg_table_is_visible(pg_catalog.pg_class.oid) AND pg_catalog.pg_namespace.nspname != %(nspname_1)s\n",
      "2024-01-24 11:15:13,263 INFO sqlalchemy.engine.Engine [cached since 0.4156s ago] {'table_name': 'cities_booking', 'param_1': 'r', 'param_2': 'p', 'param_3': 'f', 'param_4': 'v', 'param_5': 'm', 'nspname_1': 'pg_catalog'}\n",
      "2024-01-24 11:15:13,441 INFO sqlalchemy.engine.Engine INSERT INTO cities_booking (city, hotel_name, url_hotel, score_given, lat, lon, hotel_description, id) VALUES (%(city__0)s, %(hotel_name__0)s, %(url_hotel__0)s, %(score_given__0)s, %(lat__0)s, %(lon__0)s, %(hotel_description__0)s, %(id__0)s), (%(city ... 3908 characters truncated ... l_hotel__29)s, %(score_given__29)s, %(lat__29)s, %(lon__29)s, %(hotel_description__29)s, %(id__29)s)\n",
      "2024-01-24 11:15:13,442 INFO sqlalchemy.engine.Engine [generated in 0.00016s (insertmanyvalues) 1/1 (unordered)] {'score_given__0': 8.6, 'url_hotel__0': 'https://www.booking.com/hotel/fr/le-dit-vin-secret.fr.html?aid', 'city__0': 'Aigues Mortes', 'hotel_name__0': 'le dit vin secret', 'lat__0': 43.566769, 'lon__0': 4.189113, 'hotel_description__0': \"L’établissement le dit vin secret se trouve à Aigues-Mortes, à respectivement 24 km et 24 km de ces lieux d’intérêt : Salle de concert Arena Montpell ... (394 characters truncated) ... d’intérêt : Zénith Sud Montpellier et Centre commercial régional Odysseum. L'aéroport le plus proche (Aéroport Montpellier Méditerranée) est à 29 km.\", 'id__0': 26, 'score_given__1': 8.1, 'url_hotel__1': 'https://www.booking.com/hotel/fr/residence-le-mas-des-flamants.fr.html?aid', 'city__1': 'Aigues Mortes', 'hotel_name__1': 'Résidence Odalys Le Mas des Flamants', 'lat__1': 43.57379435, 'lon__1': 4.18062186, 'hotel_description__1': \"Située à l'extérieur des fortifications d'Aigues-Mortes, sur les rives du Vidourle, la Résidence Odalys Le Mas des Flamants possède une piscine et de ... (684 characters truncated) ... nce Odalys Le Mas des Flamants est à 5 minutes de marche du centre-ville, et vous pourrez vous détendre sur la plage de Port-Camargue, située à 7 km.\", 'id__1': 26, 'score_given__2': 8.3, 'url_hotel__2': 'https://www.booking.com/hotel/fr/residence-odalys-fleur-de-sel.fr.html?aid', 'city__2': 'Aigues Mortes', 'hotel_name__2': 'Résidence Odalys Fleur de Sel', 'lat__2': 43.574094, 'lon__2': 4.179246, 'hotel_description__2': \"Situé à Aigues-Mortes, à 5 minutes à pied du centre-ville historique, l'établissement Résidence Odalys Fleur de Sel dispose d'une piscine extérieure  ... (370 characters truncated) ...  de Montpellier. L'aéroport de Montpellier - Méditerranée se trouve, quant à lui, à 18 km. Vous pourrez profiter gratuitement d'un parking extérieur.\", 'id__2': 26, 'score_given__3': 8.8, 'url_hotel__3': 'https://www.booking.com/hotel/fr/des-croisades.fr.html?aid', 'city__3': 'Aigues Mortes', 'hotel_name__3': 'Maison des Croisades', 'lat__3': 43.5689974, 'lon__3': 4.1882982, 'hotel_description__3': \"Située à Aigues-Mortes, la Maison des Croisades propose un service de location de vélos et un jardin. Il dispose d'une connexion Wi-Fi gratuite et d' ... (300 characters truncated) ... t-déjeuner buffet.  La Maison des Croisades se trouve à 33 km de Montpellier et à 44 km de Nîmes. L'aéroport de Montpellier-Méditerranée est à 24 km.\", 'id__3': 26, 'score_given__4': 9.1, 'url_hotel__4': 'https://www.booking.com/hotel/fr/la-maison-de-lyna.fr.html?aid', 'city__4': 'Aigues Mortes', 'hotel_name__4': 'La Maison de Lyna', 'lat__4': 43.5660175, 'lon__4': 4.1923532, 'hotel_description__4': \"La Maison de Lyna propose un hébergement climatisé à Aigues-Mortes, à 24 km de la salle omnisports Montpellier Arena, du parc des expositions de Mont ... (394 characters truncated) ... rez à 29 km du centre commercial Odysseum et de l'hôtel de ville de Montpellier. L'aéroport de Montpellier-Méditerranée, le plus proche, est à 29 km.\", 'id__4': 26, 'score_given__5': 8.4, 'url_hotel__5': 'https://www.booking.com/hotel/fr/saint-louis-aigues-mortes.fr.html?aid', 'city__5': 'Aigues Mortes', 'hotel_name__5': 'Hôtel Saint Louis', 'lat__5': 43.56721967, 'lon__5': 4.1893436, 'hotel_description__5': \"Situé dans le cœur historique d'Aigues-Mortes, à 200 mètres de la Tour de Constance, l'Hôtel Saint Louis est un hôtel climatisé doté d'un centre de b ... (670 characters truncated) ... rles. L'aéroport de Montpellier-Méditerranée est à 26 km.   Un centre de bien-être avec sauna et des massages sont également disponibles sur demande.\", 'id__5': 26, 'score_given__6': 8.5, 'url_hotel__6': 'https://www.booking.com/hotel/fr/canal-aigues-mortes.fr.html?aid' ... 140 parameters truncated ... 'hotel_description__23': \"Proposant une terrasse, l’hébergement Modern Villa near Sea in Aigues Mortes with Balcony Terrace se situe à Aigues-Mortes, à respectivement 24 km, 2 ... (597 characters truncated) ...  km et 32 km de ces lieux d’intérêt\\xa0: Le Corum et Musée Fabre. L'aéroport le plus proche (Aéroport Montpellier Méditerranée) est implanté à 29 km.\", 'id__23': 26, 'score_given__24': 8.7, 'url_hotel__24': 'https://www.booking.com/hotel/fr/stunning-home-in-aigues-mortes-with-wifi-and-2-bedrooms.fr.html?aid', 'city__24': 'Aigues Mortes', 'hotel_name__24': 'Awesome home in Aigues-Mortes with 2 Bedrooms and WiFi', 'lat__24': 43.5748, 'lon__24': 4.1908, 'hotel_description__24': \"L’hébergement Awesome home in Aigues-Mortes with 2 Bedrooms and WiFi se trouve à Aigues-Mortes, à seulement 24 km de ce lieu d’intérêt : Salle de con ... (483 characters truncated) ... êt : Centre commercial régional Odysseum et Hôtel de ville de Montpellier. L'aéroport le plus proche (Aéroport Montpellier Méditerranée) est à 29 km.\", 'id__24': 26, 'score_given__25': 8.4, 'url_hotel__25': 'https://www.booking.com/hotel/fr/des-4-vents.fr.html?aid', 'city__25': 'Aigues Mortes', 'hotel_name__25': 'Hotel Des 4 Vents', 'lat__25': 43.57702546, 'lon__25': 4.19753909, 'hotel_description__25': \"L'Hotel Des 4 vents est situé à Aigues-Mortes, sur la côte méditerranéenne, à 40 km de Nîmes et à 35 km de Montpellier. Il propose des hébergements c ... (390 characters truncated) ... rs et l'Hotel des 4 Vents possède une terrasse de jardin. Vous pourrez vous détendre au bar.  Un parking privé est disponible gratuitement sur place.\", 'id__25': 26, 'score_given__26': 9.0, 'url_hotel__26': 'https://www.booking.com/hotel/fr/la-saline-aigues-mortes.fr.html?aid', 'city__26': 'Aigues Mortes', 'hotel_name__26': 'La Saline', 'lat__26': 43.5658875, 'lon__26': 4.1942391, 'hotel_description__26': \"L'établissement La Saline est situé dans le quartier médiéval d'Aigues-Mortes, à 24 km du parc des expositions de Montpellier, à 28 km du Zénith Sud  ... (190 characters truncated) ... Vous séjournerez à 29 km de l'hôtel de ville de Montpellier et à 32 km du Corum. L'aéroport de Montpellier-Méditerranée, le plus proche, est à 30 km.\", 'id__26': 26, 'score_given__27': 8.4, 'url_hotel__27': 'https://www.booking.com/hotel/fr/studio-azure.fr.html?aid', 'city__27': 'Aigues Mortes', 'hotel_name__27': 'Studio azur', 'lat__27': 43.57253021, 'lon__27': 4.18776083, 'hotel_description__27': \"Situé à Aigues-Mortes, à 25 km de la salle omnisports Montpellier Arena et du parc des expositions de Montpellier, le Studio azur dispose de la clima ... (298 characters truncated) ...  à 29 km du Zénith Sud de Montpellier et du centre commercial Odysseum. L'aéroport de Montpellier-Méditerranée, le plus proche, est implanté à 30 km.\", 'id__27': 26, 'score_given__28': 9.6, 'url_hotel__28': 'https://www.booking.com/hotel/fr/marina-avec-appontement-aigues-mortes.fr.html?aid', 'city__28': 'Aigues Mortes', 'hotel_name__28': 'Belle marina avec ponton et piscine collective', 'lat__28': 43.5750022, 'lon__28': 4.1862674, 'hotel_description__28': \"Offrant une vue sur la rivière, le Belle marina avec ponton et piscine collective propose un hébergement avec un balcon et une machine à café, à envi ... (467 characters truncated) ... des expositions de Montpellier et à 28 km du Zénith Sud de Montpellier. L'aéroport de Montpellier-Méditerranée, le plus proche, est implanté à 29 km.\", 'id__28': 26, 'score_given__29': 8.6, 'url_hotel__29': 'https://www.booking.com/hotel/fr/restaurant-quot-chez-carriere-quot.fr.html?aid', 'city__29': 'Aigues Mortes', 'hotel_name__29': 'Hôtel-Restaurant \"Chez Carrière\"', 'lat__29': 43.56651351, 'lon__29': 4.19115815, 'hotel_description__29': 'L\\'Hôtel-Restaurant \"Chez Carrière\" est situé à Aigues-Mortes. Cet hôtel dispose d\\'une connexion Wi-Fi gratuite et d\\'une terrasse. Vous séjournerez ... (339 characters truncated) ... 26 km. L\\'aéroport de Montpellier-Méditerranée, le plus proche, est à 19 km. Une carte de stationnement public est fournie gratuitement à l\\'arrivée.', 'id__29': 26}\n",
      "2024-01-24 11:15:13,626 INFO sqlalchemy.engine.Engine COMMIT\n",
      "2024-01-24 11:15:13,780 INFO sqlalchemy.engine.Engine BEGIN (implicit)\n",
      "2024-01-24 11:15:13,782 INFO sqlalchemy.engine.Engine SELECT pg_catalog.pg_class.relname \n",
      "FROM pg_catalog.pg_class JOIN pg_catalog.pg_namespace ON pg_catalog.pg_namespace.oid = pg_catalog.pg_class.relnamespace \n",
      "WHERE pg_catalog.pg_class.relname = %(table_name)s AND pg_catalog.pg_class.relkind = ANY (ARRAY[%(param_1)s, %(param_2)s, %(param_3)s, %(param_4)s, %(param_5)s]) AND pg_catalog.pg_table_is_visible(pg_catalog.pg_class.oid) AND pg_catalog.pg_namespace.nspname != %(nspname_1)s\n",
      "2024-01-24 11:15:13,782 INFO sqlalchemy.engine.Engine [cached since 0.9356s ago] {'table_name': 'cities_booking', 'param_1': 'r', 'param_2': 'p', 'param_3': 'f', 'param_4': 'v', 'param_5': 'm', 'nspname_1': 'pg_catalog'}\n",
      "2024-01-24 11:15:13,960 INFO sqlalchemy.engine.Engine INSERT INTO cities_booking (city, hotel_name, url_hotel, score_given, lat, lon, hotel_description, id) VALUES (%(city__0)s, %(hotel_name__0)s, %(url_hotel__0)s, %(score_given__0)s, %(lat__0)s, %(lon__0)s, %(hotel_description__0)s, %(id__0)s), (%(city ... 2921 characters truncated ... l_hotel__22)s, %(score_given__22)s, %(lat__22)s, %(lon__22)s, %(hotel_description__22)s, %(id__22)s)\n",
      "2024-01-24 11:15:13,961 INFO sqlalchemy.engine.Engine [generated in 0.00013s (insertmanyvalues) 1/1 (unordered)] {'score_given__0': 7.9, 'url_hotel__0': 'https://www.booking.com/hotel/fr/residence-mirabeau.fr.html?aid', 'city__0': 'Aix en Provence', 'hotel_name__0': 'Séjours & Affaires Aix-en-Provence Mirabeau', 'lat__0': 43.52524078, 'lon__0': 5.441266, 'hotel_description__0': \"Cette résidence Séjours & Affaires est située à Aix-en-Provence, à proximité du cours Mirabeau. Elle propose des studios meublés et une connexion Wi- ... (241 characters truncated) ... sservis par un ascenseur.  Les studios comprennent un canapé-lit, et le ménage, qui inclut le changement du linge, est effectué une fois par semaine.\", 'id__0': 22, 'score_given__1': 7.3, 'url_hotel__1': 'https://www.booking.com/hotel/fr/campanile-aix-en-provence-sud.fr.html?aid', 'city__1': 'Aix en Provence', 'hotel_name__1': \"Campanile Aix-en-Provence Sud - Pont de l'Arc\", 'lat__1': 43.51191632, 'lon__1': 5.43665394, 'hotel_description__1': \"Located in Aix-en-Provence, 3 km from the historical centre and Cours Mirabeau, Campanile Aix-en-Provence Sud - Pont de l'Arc offers air-conditioned  ... (803 characters truncated) ... enaiment), L'Arena ( Concert and Entertenaiment), Grand Theatre de Provence, Private Hospital  Attractions : Pavillon Vendome, Provencal Market (3km)\", 'id__1': 22, 'score_given__2': 8.5, 'url_hotel__2': 'https://www.booking.com/hotel/fr/hotel-aquabella.fr.html?aid', 'city__2': 'Aix en Provence', 'hotel_name__2': 'Aquabella Hôtel & Spa', 'lat__2': 43.5312636, 'lon__2': 5.44507004, 'hotel_description__2': \"Entouré d'un magnifique jardin, l'Aquabella propose des chambres de style provençal ainsi qu'un accès gratuit au spa. Il est situé dans le centre d'A ... (607 characters truncated) ... ez également une douche Kneipp et une fontaine de glace.  Vous trouverez un parking public à seulement 50 mètres, accessible moyennant un supplément.\", 'id__2': 22, 'score_given__3': 7.1, 'url_hotel__3': 'https://www.booking.com/hotel/fr/residence-aixoise.fr.html?aid', 'city__3': 'Aix en Provence', 'hotel_name__3': 'Résidence Les Académies Aixoise', 'lat__3': 43.52724, 'lon__3': 5.404795, 'hotel_description__3': \"Située à Aix-en-Provence, en Provence-Alpes-Côte d'Azur, la Résidence Les Académies Aixoise propose des hébergements avec une connexion Wi-Fi et un p ... (516 characters truncated) ... te se trouvent à 32\\xa0km de la Résidence Les Académies Aixoise. L'aéroport de Marseille-Provence, le plus proche, est à 30\\xa0km de l’établissement.\", 'id__3': 22, 'score_given__4': 8.3, 'url_hotel__4': 'https://www.booking.com/hotel/fr/renaissance-aix-en-provence.fr.html?aid', 'city__4': 'Aix en Provence', 'hotel_name__4': 'Renaissance Aix-en-Provence Hotel', 'lat__4': 43.52624048, 'lon__4': 5.43820493, 'hotel_description__4': \"Situé à moins de 10 minutes à pied du centre d'Aix-en-Provence, le Renaissance Aix-en-Provence Hotel propose une réception ouverte 24h/24, des journa ... (607 characters truncated) ... de pratiquer l'équitation à 1,9 km. Enfin, l’aéroport Marseille-Provence est accessible à 25 minutes en voiture du Renaissance Aix-en-Provence Hotel.\", 'id__4': 22, 'score_given__5': 7.8, 'url_hotel__5': 'https://www.booking.com/hotel/fr/aix-precheurs.fr.html?aid', 'city__5': 'Aix en Provence', 'hotel_name__5': 'Prêcheurs Studios', 'lat__5': 43.53030053, 'lon__5': 5.45182586, 'hotel_description__5': \"Situés à 2 minutes à pied du cours Mirabeau, les studios indépendants du Prêcheurs occupent une maison provençale dotée d'un barbecue et d'un coin sa ... (488 characters truncated) ... -en-Provence. Une navette dessert régulièrement la gare d'Aix-en-Provence TGV, à 15 km de là, et l'aéroport de Marseille Provence se situe à 24,8 km.\", 'id__5': 22, 'score_given__6': 8.4, 'url_hotel__6': 'https://www.booking.com/hotel/fr/pierre-vacances-city-centre.fr.html?aid' ... 84 parameters truncated ... 'hotel_description__16': \"Doté d'une connexion Wi-Fi gratuite, le B&B Hotel Aix en Provence Le Tholonet est situé aux Artauds, à 25 km de Marseille. Un parking privé est dispo ... (197 characters truncated) ... d'Aix-en-Provence et à 33 km de Cassis. L’aéroport de Marseille Provence, le plus proche, se trouve à 23 km du B&B Hotel Aix en Provence Le Tholonet.\", 'id__16': 22, 'score_given__17': 8.3, 'url_hotel__17': 'https://www.booking.com/hotel/fr/royal-mirabeau.fr.html?aid', 'city__17': 'Aix en Provence', 'hotel_name__17': 'Hôtel Birdy by Happyculture', 'lat__17': 43.48142972, 'lon__17': 5.3656143, 'hotel_description__17': \"L’Hôtel Birdy by Happyculture se trouve à 10\\xa0minutes de route d’Aix-en-Provence, à proximité d’un parcours de golf de 18\\xa0trous. L’établissement ... (701 characters truncated) ... ôtel Birdy by Happyculture est à 6,7 km de la gare TGV de Marseille et à 17 km de l’aéroport de Marseille Provence. Le parking sur place est gratuit.\", 'id__17': 22, 'score_given__18': 9.1, 'url_hotel__18': 'https://www.booking.com/hotel/fr/b-amp-b-la-bastide-de-l-39-etoile.fr.html?aid', 'city__18': 'Aix en Provence', 'hotel_name__18': 'Hote-Aix-Centre-garage-piscine', 'lat__18': 43.51664446, 'lon__18': 5.44180333, 'hotel_description__18': \"L'Hote-Aix-Centre-garage-piscine est une chambre d'hôtes durable située à Aix-en-Provence, où vous pourrez profiter de son casino et de son jardin. V ... (685 characters truncated) ...  km de la gare de Marseille-Saint-Charles et de la station de métro Joliette. L'aéroport de Marseille-Provence, le plus proche, est implanté à 25 km.\", 'id__18': 22, 'score_given__19': 8.5, 'url_hotel__19': 'https://www.booking.com/hotel/fr/hotel-escaletto.fr.html?aid', 'city__19': 'Aix en Provence', 'hotel_name__19': 'Hôtel Escaletto', 'lat__19': 43.53004967, 'lon__19': 5.44414669, 'hotel_description__19': 'Établissement 3\\xa0étoiles, l’Hôtel Escaletto vous accueille dans le centre-ville d’Aix-en-Provence, à 1\\xa0minute à pied des Thermes Sextius et à 55 ... (363 characters truncated) ... l.  Doté d’une réception ouverte 24h/24, l’Hôtel Escaletto offre un accès facile à toutes les principales attractions touristiques d’Aix-en-Provence.', 'id__19': 22, 'score_given__20': 9.3, 'url_hotel__20': 'https://www.booking.com/hotel/fr/villa-roumanille.fr.html?aid', 'city__20': 'Aix en Provence', 'hotel_name__20': 'B&B Villa Roumanille', 'lat__20': 43.51783611, 'lon__20': 5.44283509, 'hotel_description__20': \"Située à seulement 1\\xa0km du centre d'Aix-en-Provence, le B&B Villa Roumanille est une maison typiquement provençale qui dispose d'un jardin et d'un ... (517 characters truncated) ... Saint-Victoire est à 30\\xa0minutes en voiture. Vous bénéficierez gratuitement d'un parking privé et d'une connexion Wi-Fi dans l'ensemble des locaux.\", 'id__20': 22, 'score_given__21': 7.5, 'url_hotel__21': 'https://www.booking.com/hotel/fr/la-caravelle-aix-en-provence.fr.html?aid', 'city__21': 'Aix en Provence', 'hotel_name__21': 'La Caravelle', 'lat__21': 43.52485921, 'lon__21': 5.45370072, 'hotel_description__21': \"Au cœur d'Aix-en-Provence, l'hôtel La Caravelle vous accueille à moins de 8 minutes à pied du cours Mirabeau, du musée Granet et du palais des congrè ... (508 characters truncated) ... e vidéo, l'hôtel La Caravelle propose l'accès gratuit aux ordinateurs dans les parties communes. Enfin, un parking public est accessible à proximité.\", 'id__21': 22, 'score_given__22': 8.2, 'url_hotel__22': 'https://www.booking.com/hotel/fr/cezanne-aix-en-provence.fr.html?aid', 'city__22': 'Aix en Provence', 'hotel_name__22': 'Hôtel Cézanne Boutique-Hôtel', 'lat__22': 43.52356201, 'lon__22': 5.44593707, 'hotel_description__22': \"L’Hôtel Cézanne Boutique-Hôtel, situé dans le centre d’Aix-en-Provence, propose 55\\xa0chambres. L’établissement possède également une terrasse et un  ... (1155 characters truncated) ... 0chaînes, tandis que certaines offrent une vue sur la ville.  Un parking privé sécurisé est disponible sur place moyennant des frais supplémentaires.\", 'id__22': 22}\n",
      "2024-01-24 11:15:14,059 INFO sqlalchemy.engine.Engine COMMIT\n",
      "2024-01-24 11:15:14,209 INFO sqlalchemy.engine.Engine BEGIN (implicit)\n",
      "2024-01-24 11:15:14,211 INFO sqlalchemy.engine.Engine SELECT pg_catalog.pg_class.relname \n",
      "FROM pg_catalog.pg_class JOIN pg_catalog.pg_namespace ON pg_catalog.pg_namespace.oid = pg_catalog.pg_class.relnamespace \n",
      "WHERE pg_catalog.pg_class.relname = %(table_name)s AND pg_catalog.pg_class.relkind = ANY (ARRAY[%(param_1)s, %(param_2)s, %(param_3)s, %(param_4)s, %(param_5)s]) AND pg_catalog.pg_table_is_visible(pg_catalog.pg_class.oid) AND pg_catalog.pg_namespace.nspname != %(nspname_1)s\n",
      "2024-01-24 11:15:14,211 INFO sqlalchemy.engine.Engine [cached since 1.365s ago] {'table_name': 'cities_booking', 'param_1': 'r', 'param_2': 'p', 'param_3': 'f', 'param_4': 'v', 'param_5': 'm', 'nspname_1': 'pg_catalog'}\n",
      "2024-01-24 11:15:14,390 INFO sqlalchemy.engine.Engine INSERT INTO cities_booking (city, hotel_name, url_hotel, score_given, lat, lon, hotel_description, id) VALUES (%(city__0)s, %(hotel_name__0)s, %(url_hotel__0)s, %(score_given__0)s, %(lat__0)s, %(lon__0)s, %(hotel_description__0)s, %(id__0)s), (%(city ... 3626 characters truncated ... l_hotel__27)s, %(score_given__27)s, %(lat__27)s, %(lon__27)s, %(hotel_description__27)s, %(id__27)s)\n",
      "2024-01-24 11:15:14,390 INFO sqlalchemy.engine.Engine [generated in 0.00027s (insertmanyvalues) 1/1 (unordered)] {'score_given__0': 7.4, 'url_hotel__0': 'https://www.booking.com/hotel/fr/central-anzac.fr.html?aid', 'city__0': 'Amiens', 'hotel_name__0': 'Hotel Central Anzac', 'lat__0': 49.89183258, 'lon__0': 2.30599433, 'hotel_description__0': \"Bénéficiant d'un emplacement central, l'Hotel Central Anzac propose un hébergement moderne et un petit-déjeuner continental, à 2 minutes à pied de la ... (492 characters truncated) ... utre, des journaux sont fournis à la réception.  Enfin, l'hôtel est à 10 minutes à pied du quartier de Saint Leu et à 15 minutes des célèbres canaux.\", 'id__0': 7, 'score_given__1': 8.6, 'url_hotel__1': 'https://www.booking.com/hotel/fr/white-house-dhavernas.fr.html?aid', 'city__1': 'Amiens', 'hotel_name__1': 'WHITE HOUSE DHAVERNAS - PROCHE CENTRE - PARKING - WIFi HD', 'lat__1': 49.8814696, 'lon__1': 2.2998714, 'hotel_description__1': \"L’établissement WHITE HOUSE DHAVERNAS - PROCHE CENTRE - PARKING - WIFi HD se trouve à Amiens (Picardie), à proximité de ces lieux d’intérêt : Gare d' ... (632 characters truncated) ...  et 2,2 km de ces lieux d’intérêt : Zénith d'Amiens et The Floating gardens Park. L'aéroport le plus proche (Aéroport de Paris-Beauvais) est à 64 km.\", 'id__1': 7, 'score_given__2': 7.9, 'url_hotel__2': 'https://www.booking.com/hotel/fr/express-by-holiday-inn.fr.html?aid', 'city__2': 'Amiens', 'hotel_name__2': 'Holiday Inn Express Amiens, an IHG Hotel', 'lat__2': 49.8916762, 'lon__2': 2.30775386, 'hotel_description__2': 'Holiday Inn Express offers comfortable guest rooms with free WiFi. It is located in the centre of Amiens just 50 metres from the Train Station and a  ... (349 characters truncated) ... tel also has a bar, a fitness room and laundry and ironing services. Underground, public parking is available nearby for cars up to 1.80 metres high.', 'id__2': 7, 'score_given__3': 8.4, 'url_hotel__3': 'https://www.booking.com/hotel/fr/le-prieure-amiens.fr.html?aid', 'city__3': 'Amiens', 'hotel_name__3': 'Hotel Le Prieuré et La Résidence', 'lat__3': 49.89444519, 'lon__3': 2.30094239, 'hotel_description__3': \"L'Hotel Le Prieuré et La Résidence est situé dans le centre-ville d'Amiens, au pied de la cathédrale. Il propose une connexion Wi-Fi gratuite et des  ... (448 characters truncated) ...  L'Hotel Le Prieuré et La Résidence se trouve à seulement 900 mètres de la gare SNCF d'Amiens. L'aéroport d'Amiens-Glisy est à 15 minutes en voiture.\", 'id__3': 7, 'score_given__4': 8.5, 'url_hotel__4': 'https://www.booking.com/hotel/fr/campanile-amiens-centre-gare.fr.html?aid', 'city__4': 'Amiens', 'hotel_name__4': 'Moxy Amiens', 'lat__4': 49.891249, 'lon__4': 2.30953, 'hotel_description__4': 'Situé au cœur de la ville et à deux pas de la gare, l’hôtel Moxy Amiens est un pied-à-terre idéal pour vos déplacements professionnels ou sportifs, p ... (617 characters truncated) ... e Jules Verne, les hortillonnages et la plus grande cathédrale gothique de France. Un parking public souterrain est disponible à proximité immédiate.', 'id__4': 7, 'score_given__5': 7.3, 'url_hotel__5': 'https://www.booking.com/hotel/fr/la-wishing-room.fr.html?aid', 'city__5': 'Amiens', 'hotel_name__5': 'La Nature Room - Douillet - Arrivée Autonome', 'lat__5': 49.8975354, 'lon__5': 2.3028737, 'hotel_description__5': \"Offrant une vue paisible sur la rue, l'établissement La Nature Room - Douillet - Arrivée Autonome est situé à Amiens, à 3,6 km du Zénith et à moins d ... (361 characters truncated) ... 00 mètres du musée Berny et à 700 mètres du tribunal de grande instance d'Amiens. L'aéroport de Beauvais-Tillé, le plus proche, est implanté à 66 km.\", 'id__5': 7, 'score_given__6': 9.3, 'url_hotel__6': 'https://www.booking.com/hotel/fr/emeraude-amiens.fr.html?aid' ... 124 parameters truncated ... 'hotel_description__21': \"Doté d’un sauna, l’hébergement Superbe appartement-Sauna-Cinéma-Parking-Gare se trouve à Amiens, à 3,5 km de ce lieu d’intérêt : Zénith d'Amiens. Cet ... (483 characters truncated) ... e Floating gardens Park, Musée de Berny et Tribunal de Grande Instance of Amiens. L'aéroport le plus proche (Aéroport de Paris-Beauvais) est à 65 km.\", 'id__21': 7, 'score_given__22': 10.0, 'url_hotel__22': 'https://www.booking.com/hotel/fr/studio-boheme-hypercentre.fr.html?aid', 'city__22': 'Amiens', 'hotel_name__22': 'Studio Bohème hypercentre', 'lat__22': 49.8927103, 'lon__22': 2.2973129, 'hotel_description__22': \"L’hébergement Studio Bohème hypercentre se trouve à Amiens, à respectivement 1 km, 2,7 km et 500 mètres de ces lieux d’intérêt : Gare d'Amiens, Zénit ... (347 characters truncated) ... e ces lieux d’intérêt : University of Picardie Jules Verne et Golf Club d'Amiens. L'aéroport le plus proche (Aéroport de Paris-Beauvais) est à 64 km.\", 'id__22': 7, 'score_given__23': 9.0, 'url_hotel__23': 'https://www.booking.com/hotel/fr/le-carre-noyon-gare-amiens1.fr.html?aid', 'city__23': 'Amiens', 'hotel_name__23': 'Le Fabulous Perret, Amiens Centre-ville', 'lat__23': 49.8909193, 'lon__23': 2.3054945, 'hotel_description__23': \"Offrant une vue sur la ville, l’hébergement Le Fabulous Perret, Amiens Centre-ville se trouve à Amiens, à respectivement 3,2 km et 900 mètres de ces  ... (639 characters truncated) ... de ces lieux d’intérêt : Musée de Berny et Tribunal de Grande Instance of Amiens. L'aéroport le plus proche (Aéroport de Paris-Beauvais) est à 64 km.\", 'id__23': 7, 'score_given__24': 8.2, 'url_hotel__24': 'https://www.booking.com/hotel/fr/cinema-t3-disney-balcon-hyper-centre.fr.html?aid', 'city__24': 'Amiens', 'hotel_name__24': 'Cinéma & Disney avec Balcon & Parking en Hyper Centre', 'lat__24': 49.8929989, 'lon__24': 2.2928398, 'hotel_description__24': \"Doté d'un balcon, le Cinéma & Disney avec Balcon & Parking en Hyper Centre est situé à Amiens, à seulement 1,4 km de la gare et à moins de 1 km du mu ... (331 characters truncated) ... éjournerez à 2,4 km du Zénith d'Amiens et à 1,9 km du parc des jardins flottants. L'aéroport de Beauvais-Tillé, le plus proche, est implanté à 64 km.\", 'id__24': 7, 'score_given__25': 9.0, 'url_hotel__25': 'https://www.booking.com/hotel/fr/spa-detente-cinema-parking-gare.fr.html?aid', 'city__25': 'Amiens', 'hotel_name__25': 'Spa & Détente - Cinéma - Parking - Gare', 'lat__25': 49.8889205, 'lon__25': 2.3066553, 'hotel_description__25': \"L’hébergement Spa & Détente - Cinéma - Parking - Gare vous accueille à Amiens et possède un bain à remous. Doté d’un parking privé gratuit, cet héber ... (414 characters truncated) ... e Floating gardens Park, Musée de Berny et Tribunal de Grande Instance of Amiens. L'aéroport le plus proche (Aéroport de Paris-Beauvais) est à 65 km.\", 'id__25': 7, 'score_given__26': 8.7, 'url_hotel__26': 'https://www.booking.com/hotel/fr/hortillonne.fr.html?aid', 'city__26': 'Amiens', 'hotel_name__26': 'Hortillonne', 'lat__26': 49.8919669, 'lon__26': 2.3127369, 'hotel_description__26': \"L’hébergement Hortillonne se situe à Amiens, à respectivement 600 mètres, 3,9 km et 800 mètres de ces lieux d’intérêt : Gare d'Amiens, Zénith d'Amien ... (498 characters truncated) ... eux d’intérêt : Musée de Berny et Tribunal de Grande Instance of Amiens. L'aéroport le plus proche (Aéroport de Paris-Beauvais) est implanté à 65 km.\", 'id__26': 7, 'score_given__27': 9.5, 'url_hotel__27': 'https://www.booking.com/hotel/fr/le-duplex-amiens-pleine-vue-cathedrale.fr.html?aid', 'city__27': 'Amiens', 'hotel_name__27': 'Le Majestic Cathedral, Amiens Hyper-centre', 'lat__27': 49.8953831, 'lon__27': 2.297772, 'hotel_description__27': \"Doté d'un salon commun et offrant une vue sur la ville, l'établissement Le Majestic Cathedral, Amiens Hyper-centre est situé à Amiens, à 1,2 km de la ... (604 characters truncated) ... des jardins flottants, le musée Berny et le tribunal de grande instance d'Amiens. L'aéroport de Beauvais-Tillé, le plus proche, est implanté à 64 km.\", 'id__27': 7}\n",
      "2024-01-24 11:15:14,483 INFO sqlalchemy.engine.Engine COMMIT\n",
      "2024-01-24 11:15:14,635 INFO sqlalchemy.engine.Engine BEGIN (implicit)\n",
      "2024-01-24 11:15:14,637 INFO sqlalchemy.engine.Engine SELECT pg_catalog.pg_class.relname \n",
      "FROM pg_catalog.pg_class JOIN pg_catalog.pg_namespace ON pg_catalog.pg_namespace.oid = pg_catalog.pg_class.relnamespace \n",
      "WHERE pg_catalog.pg_class.relname = %(table_name)s AND pg_catalog.pg_class.relkind = ANY (ARRAY[%(param_1)s, %(param_2)s, %(param_3)s, %(param_4)s, %(param_5)s]) AND pg_catalog.pg_table_is_visible(pg_catalog.pg_class.oid) AND pg_catalog.pg_namespace.nspname != %(nspname_1)s\n",
      "2024-01-24 11:15:14,637 INFO sqlalchemy.engine.Engine [cached since 1.79s ago] {'table_name': 'cities_booking', 'param_1': 'r', 'param_2': 'p', 'param_3': 'f', 'param_4': 'v', 'param_5': 'm', 'nspname_1': 'pg_catalog'}\n",
      "2024-01-24 11:15:14,816 INFO sqlalchemy.engine.Engine INSERT INTO cities_booking (city, hotel_name, url_hotel, score_given, lat, lon, hotel_description, id) VALUES (%(city__0)s, %(hotel_name__0)s, %(url_hotel__0)s, %(score_given__0)s, %(lat__0)s, %(lon__0)s, %(hotel_description__0)s, %(id__0)s), (%(city ... 3908 characters truncated ... l_hotel__29)s, %(score_given__29)s, %(lat__29)s, %(lon__29)s, %(hotel_description__29)s, %(id__29)s)\n",
      "2024-01-24 11:15:14,817 INFO sqlalchemy.engine.Engine [generated in 0.00015s (insertmanyvalues) 1/1 (unordered)] {'score_given__0': 8.0, 'url_hotel__0': 'https://www.booking.com/hotel/fr/neuf-terrasse-les-mouettes.fr.html?aid', 'city__0': 'Annecy', 'hotel_name__0': 'Angel Services - Les Mouettes', 'lat__0': 45.9105988, 'lon__0': 6.1510028, 'hotel_description__0': \"L'Angel Services - Les Mouettes est situé à Annecy, à 39 km du lac du Bourget, du stade de Genève et du jet d'eau. Vous séjournerez à 33 km de Rochex ... (277 characters truncated) ... éjournerez à 42 km de la gare de Cornavin et de la cathédrale Saint-Pierre. L'aéroport international de Genève, le plus proche, est implanté à 43 km.\", 'id__0': 15, 'score_given__1': 8.8, 'url_hotel__1': 'https://www.booking.com/hotel/fr/homey-boa-proche-centre-balcon-prive-wifi-gratuit.fr.html?aid', 'city__1': 'Annecy', 'hotel_name__1': 'HOMEY BOA -Proche Centre/Balcon Privé/Wifi Gratuit', 'lat__1': 45.9007522, 'lon__1': 6.1198669, 'hotel_description__1': \"L’hébergement HOMEY BOA -Proche Centre/Balcon Privé/Wifi Gratuit bénéficie d’un emplacement de choix dans le centre de Annecy. Il dispose d’un balcon ... (583 characters truncated) ... port le plus proche (Aéroport de Chambéry - Savoie) est implanté à 41 km. Un service de navette aéroport payant peut être assuré par l’établissement.\", 'id__1': 15, 'score_given__2': 7.7, 'url_hotel__2': 'https://www.booking.com/hotel/fr/best-ha-tel-annecy.fr.html?aid', 'city__2': 'Annecy', 'hotel_name__2': 'Sure Hotel by Best Western Annecy', 'lat__2': 45.90074937, 'lon__2': 6.10030085, 'hotel_description__2': \"Le Sure Hotel by Best Western Annecy est situé à seulement 3,5\\xa0km du lac d'Annecy et à 4\\xa0minutes en voiture du centre-ville d'Annecy. Des chamb ... (914 characters truncated) ... bilité de pratiquer de nombreuses activités dans la région, telles que le parapente et l'escalade. Un parking privé gratuit est disponible sur place.\", 'id__2': 15, 'score_given__3': 8.1, 'url_hotel__3': 'https://www.booking.com/hotel/fr/ace-annecy.fr.html?aid', 'city__3': 'Annecy', 'hotel_name__3': 'Ace Hotel Annecy', 'lat__3': 45.88008995, 'lon__3': 6.09713048, 'hotel_description__3': \"Doté d'une réception ouverte 24h/24, l'Ace Hotel Annecy est situé à Seynod, à moins de 5 km du lac d'Annecy et du centre-ville d'Annecy. L'établissem ... (868 characters truncated) ... lissement se trouve à 3,4 km de la gare d'Annecy et à 100 mètres du transport en commun qui vous amènera au centre-ville d'Annecy du lundi au samedi.\", 'id__3': 15, 'score_given__4': 8.8, 'url_hotel__4': 'https://www.booking.com/hotel/fr/tiallobroges.fr.html?aid', 'city__4': 'Annecy', 'hotel_name__4': 'Allobroges Park Hôtel', 'lat__4': 45.90218661, 'lon__4': 6.12380505, 'hotel_description__4': \"L'établissement 3 étoiles Allobroges Park Hôtel vous accueille dans le centre-ville d'Annecy, à 10 minutes à pied du château d'Annecy. Il dispose d'u ... (481 characters truncated) ... réalable, vous pourrez utiliser un parking privé (sous réserve de disponibilité). La gare d'Annecy se trouve à 260 mètres de l'Allobroges Park Hôtel.\", 'id__4': 15, 'score_given__5': 8.3, 'url_hotel__5': 'https://www.booking.com/hotel/fr/hotelalexandra.fr.html?aid', 'city__5': 'Annecy', 'hotel_name__5': 'Atipik Hôtel', 'lat__5': 45.90122721, 'lon__5': 6.12507373, 'hotel_description__5': 'Situated 200 metres from the shores of Lake Annecy, Atipik Hôtel is at the entrance of the medieval old town and pedestrian shopping streets. It offe ... (168 characters truncated) ... eakfast buffet as a way to start your day before heading out to visit the surrounding area.  Annecy TGV Train Station is 250 metres from Atipik Hôte.', 'id__5': 15, 'score_given__6': 7.4, 'url_hotel__6': 'https://www.booking.com/hotel/fr/appart-city-annecy-seynod.fr.html?aid' ... 140 parameters truncated ... 'hotel_description__23': \"Situé en plein cœur de Annecy, l’hébergement Majord'Home Spa 5* - La Source Cœur Vieille Ville possède un bain à remous. Cet appartement met à votre  ... (396 characters truncated) ... ectivement 37 km et 38 km de ces lieux d’intérêt : Rochexpo et Lac du Bourget. L'aéroport le plus proche (Aéroport de Chambéry - Savoie) est à 43 km.\", 'id__23': 15, 'score_given__24': 8.6, 'url_hotel__24': 'https://www.booking.com/hotel/fr/imperial-palace.fr.html?aid', 'city__24': 'Annecy', 'hotel_name__24': 'Impérial Palace', 'lat__24': 45.90374699, 'lon__24': 6.14469409, 'hotel_description__24': \"Situé au cœur des Alpes françaises, l'Impérial Palace est un hôtel 4 étoiles au bord du lac d'Annecy, à environ 1,5 km du centre d'Annecy. Il propose ... (1074 characters truncated) ... ues sont présentes. L'aéroport international de Genève est installé à 40 km et la gare ferroviaire d'Annecy à 1,5 km. Le château d'Annecy est à 2 km.\", 'id__24': 15, 'score_given__25': 7.3, 'url_hotel__25': 'https://www.booking.com/hotel/fr/hotel-balladins-annecy-superior.fr.html?aid', 'city__25': 'Annecy', 'hotel_name__25': 'Ibis Annecy - Cran-Gevrier', 'lat__25': 45.90760295, 'lon__25': 6.10762596, 'hotel_description__25': 'Installé à 5\\xa0minutes en voiture du centre-ville et du lac d’Annecy, l’ibis Annecy - Cran-Gevrier vous propose des hébergements confortables et abo ... (240 characters truncated) ... n-Gevrier est ouvert 24h/24. L’établissement est entièrement non-fumeurs, et un parking est disponible sur place moyennant des frais supplémentaires.', 'id__25': 15, 'score_given__26': 8.7, 'url_hotel__26': 'https://www.booking.com/hotel/fr/le-pelican-annecy1.fr.html?aid', 'city__26': 'Annecy', 'hotel_name__26': 'Le Pélican', 'lat__26': 45.897015, 'lon__26': 6.131543, 'hotel_description__26': \"L’établissement Le Pélican vous accueille à Annecy, à 37 km de ce lieu d’intérêt : Rochexpo. Il comprend une piscine extérieure ouverte en saison, un ... (535 characters truncated) ...  38 km et 43 km de ces lieux d’intérêt\\xa0: Lac du Bourget et Stade de Genève. L'aéroport le plus proche (Aéroport de Chambéry - Savoie) est à 43 km.\", 'id__26': 15, 'score_given__27': 7.8, 'url_hotel__27': 'https://www.booking.com/hotel/fr/centre-jean-xxiii.fr.html?aid', 'city__27': 'Annecy', 'hotel_name__27': 'Centre Jean XXIII', 'lat__27': 45.9183227, 'lon__27': 6.1525068, 'hotel_description__27': 'Doté d’une terrasse bien exposée, le Centre Jean XXIII\\xa0se trouve à Annecy, à 1,8\\xa0km du lac et à 3\\xa0km de la vieille ville. Vous bénéficierez  ... (457 characters truncated) ... ège d’Ubisoft et à 3,1\\xa0km du château d’Annecy. L’aéroport international de Genève, le plus proche, est accessible à 46\\xa0km du Centre Jean XXIII.', 'id__27': 15, 'score_given__28': 7.5, 'url_hotel__28': 'https://www.booking.com/hotel/fr/sejours-affaires-annecy-le-pont-neuf.fr.html?aid', 'city__28': 'Annecy', 'hotel_name__28': 'Séjours & Affaires Annecy Le Pont Neuf', 'lat__28': 45.89719347, 'lon__28': 6.11080974, 'hotel_description__28': \"L'établissement Séjours & Affaires Annecy Le Pont Neuf se situe à 3\\xa0km du lac d'Annecy et à 1\\xa0km du centre-ville historique. Il se trouve à 45\\ ... (475 characters truncated) ... ecy se trouve à 15\\xa0minutes à pied. Un parking est proposé moyennant un supplément. Le domaine skiable du Semnoz se situe à 30\\xa0minutes de route.\", 'id__28': 15, 'score_given__29': 8.2, 'url_hotel__29': 'https://www.booking.com/hotel/fr/le-royal.fr.html?aid', 'city__29': 'Annecy', 'hotel_name__29': 'Privilodges Le Royal - Apparthotel', 'lat__29': 45.90010167, 'lon__29': 6.12442464, 'hotel_description__29': \"Le Privilodges Le Royal\\xa0-\\xa0Apparthotel vous accueille à 200\\xa0mètres du lac d'Annecy et à 350\\xa0mètres de la prison du Palais de l'Isle, au cœ ... (956 characters truncated) ... places de parking privées est disponible moyennant des frais supplémentaires et sur réservation. Un parking public payant est disponible à proximité.\", 'id__29': 15}\n",
      "2024-01-24 11:15:14,914 INFO sqlalchemy.engine.Engine COMMIT\n",
      "2024-01-24 11:15:15,087 INFO sqlalchemy.engine.Engine BEGIN (implicit)\n",
      "2024-01-24 11:15:15,088 INFO sqlalchemy.engine.Engine SELECT pg_catalog.pg_class.relname \n",
      "FROM pg_catalog.pg_class JOIN pg_catalog.pg_namespace ON pg_catalog.pg_namespace.oid = pg_catalog.pg_class.relnamespace \n",
      "WHERE pg_catalog.pg_class.relname = %(table_name)s AND pg_catalog.pg_class.relkind = ANY (ARRAY[%(param_1)s, %(param_2)s, %(param_3)s, %(param_4)s, %(param_5)s]) AND pg_catalog.pg_table_is_visible(pg_catalog.pg_class.oid) AND pg_catalog.pg_namespace.nspname != %(nspname_1)s\n",
      "2024-01-24 11:15:15,089 INFO sqlalchemy.engine.Engine [cached since 2.243s ago] {'table_name': 'cities_booking', 'param_1': 'r', 'param_2': 'p', 'param_3': 'f', 'param_4': 'v', 'param_5': 'm', 'nspname_1': 'pg_catalog'}\n",
      "2024-01-24 11:15:15,266 INFO sqlalchemy.engine.Engine INSERT INTO cities_booking (city, hotel_name, url_hotel, score_given, lat, lon, hotel_description, id) VALUES (%(city__0)s, %(hotel_name__0)s, %(url_hotel__0)s, %(score_given__0)s, %(lat__0)s, %(lon__0)s, %(hotel_description__0)s, %(id__0)s), (%(city ... 3062 characters truncated ... l_hotel__23)s, %(score_given__23)s, %(lat__23)s, %(lon__23)s, %(hotel_description__23)s, %(id__23)s)\n",
      "2024-01-24 11:15:15,267 INFO sqlalchemy.engine.Engine [generated in 0.00015s (insertmanyvalues) 1/1 (unordered)] {'score_given__0': 9.5, 'url_hotel__0': 'https://www.booking.com/hotel/fr/demeure-de-la-carmine.fr.html?aid', 'city__0': 'Ariege', 'hotel_name__0': \"Demeure de la Carmine, sejour bien-etre d'exception, piscine, hammam, champagne\", 'lat__0': 43.08754039, 'lon__0': 1.87135531, 'hotel_description__0': \"Implantée à Mirepoix, en Midi-Pyrénées, la Demeure de la Carmine, sejour bien-etre d'exception, piscine, hammam, champagne se situe à 41 km de Carcas ... (655 characters truncated) ... e et de boutiques sur place.  Vous séjournerez à 26 km de Foix et à 41 km d'Ax-les-Thermes. L'aéroport de Blagnac, le plus proche, se trouve à 73 km.\", 'id__0': 30, 'score_given__1': 9.0, 'url_hotel__1': 'https://www.booking.com/hotel/fr/le-roof-studio-aux-4-logis-petit-dejeuner-inclus-1ere-nuit.fr.html?aid', 'city__1': 'Ariege', 'hotel_name__1': 'LE ROOF - Une vue splendide AUX 4 LOGIS - Petit déjeuner inclus 1ère nuit', 'lat__1': 42.9681599, 'lon__1': 1.6083351, 'hotel_description__1': \"L’établissement LE ROOF - Une vue splendide AUX 4 LOGIS - Petit déjeuner inclus 1ère nuit vous accueille à Foix, à respectivement 34 km et 600 mètres ... (746 characters truncated) ...  de ces lieux d’intérêt : Rivière souterraine de Labouiche et Club de Golf d'Ariège. L'aéroport le plus proche (Aéroport de Carcassonne) est à 75 km.\", 'id__1': 30, 'score_given__2': 9.5, 'url_hotel__2': 'https://www.booking.com/hotel/fr/chalet-pyreneen.fr.html?aid', 'city__2': 'Ariege', 'hotel_name__2': 'Chalet Pyrénéen', 'lat__2': 43.221838, 'lon__2': 1.3976962, 'hotel_description__2': \"Situé à Saint-Ybars, l’hébergement Chalet Pyrénéen propose un jardin, une terrasse et un restaurant. Ce chalet possède un parking privé gratuit et se ... (466 characters truncated) ... Chalet Pyrénéen possède une aire de jeux pour enfants et un barbecue.  L'aéroport le plus proche (Aéroport de Toulouse-Blagnac) est implanté à 59 km.\", 'id__2': 30, 'score_given__3': 8.0, 'url_hotel__3': 'https://www.booking.com/hotel/fr/campanilefoix.fr.html?aid', 'city__3': 'Ariege', 'hotel_name__3': \"The Originals Access, Hôtel Foix (P'tit Dej-Hotel)\", 'lat__3': 42.9921119, 'lon__3': 1.61583245, 'hotel_description__3': \"Situé au sein du parc naturel régional des Pyrénées ariégeoises, à 75\\xa0km de Toulouse, l’établissement The Originals Access, Hôtel Foix (P'tit Dej- ... (399 characters truncated) ... nals Access, Hôtel Foix, et un parking public gratuit se trouve à proximité. Ce logement se trouve à 80\\xa0km d’Andorre et de la frontière espagnole.\", 'id__3': 30, 'score_given__4': 9.0, 'url_hotel__4': 'https://www.booking.com/hotel/fr/chalet-bois-au-milieu-des-pyrenees.fr.html?aid', 'city__4': 'Ariege', 'hotel_name__4': 'Chalet bois au milieu des Pyrénées', 'lat__4': 42.58990385, 'lon__4': 1.79836833, 'hotel_description__4': \"Proposant une terrasse et une réception ouverte 24h/24, l’hébergement Chalet bois au milieu des Pyrénées est idéalement situé à LʼHospitalet-près-lʼA ... (592 characters truncated) ... de ces lieux d’intérêt : Musée municipal de Llivia et Golf de Font-Romeu. L'aéroport le plus proche (Aéroport d'Andorre-La Seu d'Urgell) est à 62 km.\", 'id__4': 30, 'score_given__5': 9.2, 'url_hotel__5': 'https://www.booking.com/hotel/fr/le-petit-nid-montgaillard.fr.html?aid', 'city__5': 'Ariege', 'hotel_name__5': 'Le petit nid', 'lat__5': 42.93227802, 'lon__5': 1.63516787, 'hotel_description__5': \"Offrant une vue sur le jardin, l’hébergement Le petit nid se situe à Montgaillard, à respectivement 38 km et 5 km de ces lieux d’intérêt : Col de la  ... (479 characters truncated) ...  km de ces lieux d’intérêt : Rivière souterraine de Labouiche et Bédeilhac. L'aéroport le plus proche (Aéroport de Carcassonne) est implanté à 79 km.\", 'id__5': 30, 'score_given__6': 7.1, 'url_hotel__6': 'https://www.booking.com/hotel/fr/ra-c-sidence-natura.fr.html?aid' ... 92 parameters truncated ... 'hotel_description__17': \"L’établissement Cœur d'Ax Location se situe à Ax-les-Thermes, à respectivement 48 km et 24 km de ces lieux d’intérêt : Meritxell sanctuary et Carrièr ... (658 characters truncated) ... êt : Grotte de Lombrives et Fontaine intermittente Fontestorbes. L'aéroport le plus proche (Aéroport d'Andorre-La Seu d'Urgell) est implanté à 80 km.\", 'id__17': 30, 'score_given__18': 7.0, 'url_hotel__18': 'https://www.booking.com/hotel/fr/hostellerie-de-la-poste-tarascon-sur-ariege.fr.html?aid', 'city__18': 'Ariege', 'hotel_name__18': 'Logis Hôtel Restaurant de la Poste', 'lat__18': 42.84806398, 'lon__18': 1.60542548, 'hotel_description__18': \"Cette ancienne auberge est située dans le centre du village de Tarascon-sur-Ariège, à seulement 11,1 km de la station de ski de fond de Beille. Elle  ... (712 characters truncated) ... ose d'un abri pour vélos tandis qu'un parking public se trouve juste en face de l'hôtel. Les sources thermales d'Ax-les-Thermes sont situées à 27 km.\", 'id__18': 30, 'score_given__19': 9.1, 'url_hotel__19': 'https://www.booking.com/hotel/fr/ancienne-grange-amenagee.fr.html?aid', 'city__19': 'Ariege', 'hotel_name__19': 'Grange ancienne aménagée', 'lat__19': 42.85134405, 'lon__19': 1.52816445, 'hotel_description__19': \"L’hébergement Grange ancienne aménagée se trouve à Rabat-les-Trois-Seigneurs, à respectivement 36 km, 6,9 km et 11 km de ces lieux d’intérêt : Col de ... (589 characters truncated) ...  de ces lieux d’intérêt : Rivière souterraine de Labouiche et Club de Golf d'Ariège. L'aéroport le plus proche (Aéroport de Carcassonne) est à 95 km.\", 'id__19': 30, 'score_given__20': 9.6, 'url_hotel__20': 'https://www.booking.com/hotel/fr/le-gite-des-trois-seigneurs.fr.html?aid', 'city__20': 'Ariege', 'hotel_name__20': 'Le Gîte des Trois Seigneurs', 'lat__20': 42.85705211, 'lon__20': 1.55823262, 'hotel_description__20': \"Offrant une vue sur la montagne, Le Gîte des Trois Seigneurs propose un hébergement avec un balcon et une machine à café, à environ 33 km du col de l ... (497 characters truncated) ...  séjournerez à 4 km de la grotte de Bedeilhac et à 8,3 km de la grotte de Lombrives. L'aéroport de Carcassonne, le plus proche, est implanté à 93 km.\", 'id__20': 30, 'score_given__21': 8.4, 'url_hotel__21': 'https://www.booking.com/hotel/fr/le-pijoulet.fr.html?aid', 'city__21': 'Ariege', 'hotel_name__21': 'Le Pijoulet', 'lat__21': 42.74612275, 'lon__21': 1.79472047, 'hotel_description__21': \"Situé à Tignac, l’hébergement Le Pijoulet met à votre disposition une connexion Wi-Fi gratuite et offre une vue sur le jardin. Cette maison de vacanc ... (527 characters truncated) ... et 32 km de ces lieux d’intérêt : Grotte de Lombrives et Grotte de Niaux. L'aéroport le plus proche (Aéroport d'Andorre-La Seu d'Urgell) est à 85 km.\", 'id__21': 30, 'score_given__22': 7.3, 'url_hotel__22': 'https://www.booking.com/hotel/fr/studios-magui.fr.html?aid', 'city__22': 'Ariege', 'hotel_name__22': 'STUDIOS MAGUI', 'lat__22': 42.71940787, 'lon__22': 1.83907012, 'hotel_description__22': \"Situé à Ax-les-Thermes, à 48 km du sanctuaire de Meritxell et à 24 km de Talc Career of Trimouns, le STUDIOS MAGUI offre une vue sur la montagne et d ... (526 characters truncated) ... nerez à 25 km de la grotte de Lombrives et à 45 km de la fontaine de Fontestorbes. L'aéroport d'Andorre-La Seu d'Urgell, le plus proche, est à 80 km.\", 'id__22': 30, 'score_given__23': 9.2, 'url_hotel__23': 'https://www.booking.com/hotel/fr/belle-occitane.fr.html?aid', 'city__23': 'Ariege', 'hotel_name__23': \"Chambres d'hôtes Belle Occitane\", 'lat__23': 42.8471852, 'lon__23': 1.60675853, 'hotel_description__23': \"L'établissement Chambres d'hôtes Belle Occitane est une demeure de caractère du XVIIIe siècle située dans la ville médiévale de Tarascon-sur-Ariège.  ... (183 characters truncated) ... s l'ensemble des locaux.  Ax-les-Thermes est à 24 km et Pas de la Casa à 35 km. L'aéroport de Toulouse-Blagnac, le plus proche, est distant de 89 km.\", 'id__23': 30}\n",
      "2024-01-24 11:15:15,363 INFO sqlalchemy.engine.Engine COMMIT\n",
      "2024-01-24 11:15:15,517 INFO sqlalchemy.engine.Engine BEGIN (implicit)\n",
      "2024-01-24 11:15:15,518 INFO sqlalchemy.engine.Engine SELECT pg_catalog.pg_class.relname \n",
      "FROM pg_catalog.pg_class JOIN pg_catalog.pg_namespace ON pg_catalog.pg_namespace.oid = pg_catalog.pg_class.relnamespace \n",
      "WHERE pg_catalog.pg_class.relname = %(table_name)s AND pg_catalog.pg_class.relkind = ANY (ARRAY[%(param_1)s, %(param_2)s, %(param_3)s, %(param_4)s, %(param_5)s]) AND pg_catalog.pg_table_is_visible(pg_catalog.pg_class.oid) AND pg_catalog.pg_namespace.nspname != %(nspname_1)s\n",
      "2024-01-24 11:15:15,519 INFO sqlalchemy.engine.Engine [cached since 2.672s ago] {'table_name': 'cities_booking', 'param_1': 'r', 'param_2': 'p', 'param_3': 'f', 'param_4': 'v', 'param_5': 'm', 'nspname_1': 'pg_catalog'}\n",
      "2024-01-24 11:15:15,699 INFO sqlalchemy.engine.Engine INSERT INTO cities_booking (city, hotel_name, url_hotel, score_given, lat, lon, hotel_description, id) VALUES (%(city__0)s, %(hotel_name__0)s, %(url_hotel__0)s, %(score_given__0)s, %(lat__0)s, %(lon__0)s, %(hotel_description__0)s, %(id__0)s), (%(city ... 2921 characters truncated ... l_hotel__22)s, %(score_given__22)s, %(lat__22)s, %(lon__22)s, %(hotel_description__22)s, %(id__22)s)\n",
      "2024-01-24 11:15:15,699 INFO sqlalchemy.engine.Engine [generated in 0.00013s (insertmanyvalues) 1/1 (unordered)] {'score_given__0': 8.3, 'url_hotel__0': 'https://www.booking.com/hotel/fr/appartements-et-chambre-entre-le-pont-d-avignon-et-le-palais-des-papes.fr.html?aid', 'city__0': 'Avignon', 'hotel_name__0': 'Chambre et appartements entre le Pont d Avignon et le Palais des Papes', 'lat__0': 43.9507095, 'lon__0': 4.8033843, 'hotel_description__0': \"Situé à Avignon, à 500 mètres du centre et du palais des papes, l'établissement Chambre et appartements entre le Pont d'Avignon et le Palais des Pape ... (221 characters truncated) ...  séjournerez à 1,1 km de la gare centrale d'Avignon et à 4,4 km de la gare TGV d'Avignon. L'aéroport d'Avignon-Provence, le plus proche, est à 11 km.\", 'id__0': 23, 'score_given__1': 7.5, 'url_hotel__1': 'https://www.booking.com/hotel/fr/appart-avignon-gare-tgv-kaelis-202.fr.html?aid', 'city__1': 'Avignon', 'hotel_name__1': \"Appart'Hotel Avignon Gare TGV - Kaelis 202\", 'lat__1': 43.92643478, 'lon__1': 4.7857151, 'hotel_description__1': \"L'Appart'Hotel Avignon Gare TGV - Kaelis 202 est situé à Avignon, à 400 mètres de la gare TGV, à 4,3 km de la gare centrale et à 5,8 km du palais des ... (415 characters truncated) ... .  Vous séjournerez à 5 km du pont d'Avignon et à 21 km de la grotte de Thouzon. L'aéroport d'Avignon-Provence, le plus proche, est implanté à 12 km.\", 'id__1': 23, 'score_given__2': 9.2, 'url_hotel__2': 'https://www.booking.com/hotel/fr/les-petits-poissons.fr.html?aid', 'city__2': 'Avignon', 'hotel_name__2': 'Les petits poissons', 'lat__2': 43.9361955, 'lon__2': 4.82600075, 'hotel_description__2': \"Situé à Avignon, l’établissement Les petits poissons comprend une connexion Wi-Fi gratuite, un jardin, un salon commun et une terrasse.  L’établissem ... (327 characters truncated) ...  km de ces lieux d’intérêt : Gare d'Avignon-Centre et Palais des Papes d'Avignon. L'aéroport le plus proche (Aéroport Avignon - Provence) est à 7 km.\", 'id__2': 23, 'score_given__3': 7.8, 'url_hotel__3': 'https://www.booking.com/hotel/fr/ra-c-sidence-sainte-marthe.fr.html?aid', 'city__3': 'Avignon', 'hotel_name__3': 'ApartHotel Sainte-Marthe', 'lat__3': 43.94989514, 'lon__3': 4.81986389, 'hotel_description__3': \"Situé en face de l'université Sainte Marthe, à seulement 15\\xa0minutes à pied du Palais des Papes et du centre historique d'Avignon, l'Apart'Hotel Sa ... (812 characters truncated) ... .  L’appart’hôtel est accessible à pied par le boulevard Limbert. Vous pourrez par ailleurs le rejoindre en voiture, en empruntant la rue du Théâtre.\", 'id__3': 23, 'score_given__4': 7.5, 'url_hotel__4': 'https://www.booking.com/hotel/fr/citea-avignon.fr.html?aid', 'city__4': 'Avignon', 'hotel_name__4': 'Aparthotel Adagio Access Avignon', 'lat__4': 43.92623117, 'lon__4': 4.78592724, 'hotel_description__4': 'L’Aparthotel Adagio Access Avignon se situe près de la gare TGV d’Avignon, à seulement 10\\xa0minutes en voiture du centre-ville. Cette résidence prop ... (495 characters truncated) ... lais des Papes et du pont d’Avignon. Moyennant des frais supplémentaires, vous bénéficierez d’un parking sur place (sans possibilité de réservation).', 'id__4': 23, 'score_given__5': 7.9, 'url_hotel__5': 'https://www.booking.com/hotel/fr/hotel-bristol-avignon.fr.html?aid', 'city__5': 'Avignon', 'hotel_name__5': 'Hôtel Le Bristol', 'lat__5': 43.94403213, 'lon__5': 4.80533168, 'hotel_description__5': \"Idéalement situé à l’intérieur des remparts du centre d’Avignon, l’Hôtel Le Bristol vous propose des chambres climatisées, un bar, une connexion Wi-F ... (245 characters truncated) ... e.  Vous pourrez savourer un petit-déjeuner buffet sur place.  L’aéroport d'Avignon-Provence, le plus proche de l’Hôtel Le Bristol, se trouve à 9 km.\", 'id__5': 23, 'score_given__6': 8.3, 'url_hotel__6': 'https://www.booking.com/hotel/fr/hotellemagnan.fr.html?aid' ... 84 parameters truncated ... 'hotel_description__16': \"Situé dans le centre d'Avignon, à moins de 1 km de la gare centrale et à 12 minutes à pied du palais des Papes, L'Olivier - 2 terrasses - Clim AC - W ... (460 characters truncated) ... journerez à 5,3 km de la gare TGV d'Avignon et à 9,2 km du parc des expositions d'Avignon. L'aéroport d'Avignon-Provence, le plus proche, est à 9 km.\", 'id__16': 23, 'score_given__17': 8.5, 'url_hotel__17': 'https://www.booking.com/hotel/fr/be-loft.fr.html?aid', 'city__17': 'Avignon', 'hotel_name__17': 'Be Loft B&B Pool & Spa', 'lat__17': 43.94037206, 'lon__17': 4.81173582, 'hotel_description__17': None, 'id__17': 23, 'score_given__18': 7.3, 'url_hotel__18': 'https://www.booking.com/hotel/fr/hoteldanieli.fr.html?aid', 'city__18': 'Avignon', 'hotel_name__18': 'The Originals Boutique, Hôtel Danieli, Avignon', 'lat__18': 43.94756619, 'lon__18': 4.80603039, 'hotel_description__18': \"L'The Originals Boutique, Hôtel Danieli, Avignon est situé au cœur de la vieille ville d'Avignon, à 400\\xa0mètres du Palais des Papes et à 10\\xa0minu ... (661 characters truncated) ... is des Papes, à 5\\xa0minutes à pied de l'hôtel, au tarif de 17\\xa0EUR pour 24\\xa0heures. L'entrée est située à l'extérieur, à côté du pont d'Avignon.\", 'id__18': 23, 'score_given__19': 8.7, 'url_hotel__19': 'https://www.booking.com/hotel/fr/au-coeur-des-papes.fr.html?aid', 'city__19': 'Avignon', 'hotel_name__19': 'Au cœur des Papes, dans bâtisse de charme studios & appartements en cœur de ville', 'lat__19': 43.9461706, 'lon__19': 4.8101887, 'hotel_description__19': \"Situé à moins de 200 mètres du centre d'Avignon, l'établissement Au cœur des Papes, dans bâtisse de charme studios & appartements en cœur de ville di ... (444 characters truncated) ... nerez à proximité de la gare centrale d'Avignon, du palais des papes et du pont d'Avignon. L'aéroport d'Avignon-Provence, le plus proche, est à 9 km.\", 'id__19': 23, 'score_given__20': 8.9, 'url_hotel__20': 'https://www.booking.com/hotel/fr/l-39-observance.fr.html?aid', 'city__20': 'Avignon', 'hotel_name__20': \"L'Observance Bed & Breakfast\", 'lat__20': 43.94407462, 'lon__20': 4.80015635, 'hotel_description__20': \"Situé à Avignon, l'Observance Bed & Breakfast dispose d'une piscine extérieure et d'une connexion Wi-Fi gratuite.  Les chambres et l'appartement comp ... (500 characters truncated) ...  la gare centrale d'Avignon, à 1 km du Palais des Papes et à 5 km de la gare TGV d'Avignon. Enfin, l'aéroport d'Avignon-Caumont est implanté à 10 km.\", 'id__20': 23, 'score_given__21': 7.3, 'url_hotel__21': 'https://www.booking.com/hotel/fr/residence-5-epi.fr.html?aid', 'city__21': 'Avignon', 'hotel_name__21': 'City Résidence Avignon (5 Epi)', 'lat__21': 43.94350683, 'lon__21': 4.82236505, 'hotel_description__21': \"Située à 10\\xa0minutes à pied des remparts et à 20\\xa0minutes à pied du centre historique d'Avignon, le City Résidence Avignon\\xa0(5\\xa0Epi)\\xa0propo ... (524 characters truncated) ... a Résidence 5\\xa0Epi se trouve à 9\\xa0km de l'aéroport d'Avignon-Provence. Un parking privé et sécurisé est disponible gratuitement sur place 24h/24.\", 'id__21': 23, 'score_given__22': 8.0, 'url_hotel__22': 'https://www.booking.com/hotel/fr/le-medieval-avignon.fr.html?aid', 'city__22': 'Avignon', 'hotel_name__22': 'Hôtel Le Médiéval Palais des Papes', 'lat__22': 43.94930611, 'lon__22': 4.8093456, 'hotel_description__22': \"L'Hôtel Le Médiéval Palais des Papes occupe l'ancien palais d'un cardinal dans le centre historique d'Avignon. Ce bâtiment du XVIIe siècle se trouve  ... (576 characters truncated) ... ournerez à 5\\xa0km de la gare TGV d'Avignon et à 10\\xa0km de l'aéroport d'Avignon. Un parking public est disponible à proximité et à un tarif réduit.\", 'id__22': 23}\n",
      "2024-01-24 11:15:15,799 INFO sqlalchemy.engine.Engine COMMIT\n",
      "2024-01-24 11:15:15,954 INFO sqlalchemy.engine.Engine BEGIN (implicit)\n",
      "2024-01-24 11:15:15,955 INFO sqlalchemy.engine.Engine SELECT pg_catalog.pg_class.relname \n",
      "FROM pg_catalog.pg_class JOIN pg_catalog.pg_namespace ON pg_catalog.pg_namespace.oid = pg_catalog.pg_class.relnamespace \n",
      "WHERE pg_catalog.pg_class.relname = %(table_name)s AND pg_catalog.pg_class.relkind = ANY (ARRAY[%(param_1)s, %(param_2)s, %(param_3)s, %(param_4)s, %(param_5)s]) AND pg_catalog.pg_table_is_visible(pg_catalog.pg_class.oid) AND pg_catalog.pg_namespace.nspname != %(nspname_1)s\n",
      "2024-01-24 11:15:15,956 INFO sqlalchemy.engine.Engine [cached since 3.11s ago] {'table_name': 'cities_booking', 'param_1': 'r', 'param_2': 'p', 'param_3': 'f', 'param_4': 'v', 'param_5': 'm', 'nspname_1': 'pg_catalog'}\n",
      "2024-01-24 11:15:16,134 INFO sqlalchemy.engine.Engine INSERT INTO cities_booking (city, hotel_name, url_hotel, score_given, lat, lon, hotel_description, id) VALUES (%(city__0)s, %(hotel_name__0)s, %(url_hotel__0)s, %(score_given__0)s, %(lat__0)s, %(lon__0)s, %(hotel_description__0)s, %(id__0)s), (%(city ... 3062 characters truncated ... l_hotel__23)s, %(score_given__23)s, %(lat__23)s, %(lon__23)s, %(hotel_description__23)s, %(id__23)s)\n",
      "2024-01-24 11:15:16,135 INFO sqlalchemy.engine.Engine [generated in 0.00014s (insertmanyvalues) 1/1 (unordered)] {'score_given__0': 8.1, 'url_hotel__0': 'https://www.booking.com/hotel/fr/etap-bayeux.fr.html?aid', 'city__0': 'Bayeux', 'hotel_name__0': 'ibis budget Bayeux', 'lat__0': 49.25424209, 'lon__0': -0.64648747, 'hotel_description__0': 'L’ibis budget Bayeux vous accueille entre Caen et Cherbourg, à proximité de la sortie\\xa036 de la route N13\\xa0et à seulement 13\\xa0km des plages du  ... (677 characters truncated) ... uverte de la Normandie en voiture. Vous séjournerez à 30\\xa0km du cimetière américain et à 8\\xa0minutes de route du musée de la Tapisserie de Bayeux.', 'id__0': 3, 'score_given__1': 8.3, 'url_hotel__1': 'https://www.booking.com/hotel/fr/au-loup-historic-apartments-bayeux.fr.html?aid', 'city__1': 'Bayeux', 'hotel_name__1': 'Au Loup Historic Apartments', 'lat__1': 49.272798, 'lon__1': -0.707556, 'hotel_description__1': \"Installé à Bayeux, à 550 mètres de la cathédrale Notre-Dame et à 10 minutes à pied du musée de la Tapisserie de Bayeux, l'établissement Au Loup Histo ... (367 characters truncated) ... et d'histoire Baron Gérard se trouve à 500 mètres de l'appart'hôtel Au Loup Historic Apartments. L'aéroport de Deauville-Normandie est situé à 88 km.\", 'id__1': 3, 'score_given__2': 8.0, 'url_hotel__2': 'https://www.booking.com/hotel/fr/hoteldebrunville.fr.html?aid', 'city__2': 'Bayeux', 'hotel_name__2': 'Hôtel De Brunville & Spa', 'lat__2': 49.27815769, 'lon__2': -0.70351392, 'hotel_description__2': \"Situé à seulement 400\\xa0mètres de la cathédrale de Bayeux, l’Hôtel De Brunville\\xa0&\\xa0Spa propose une piscine extérieure chauffée, un jacuzzi et u ... (1063 characters truncated) ... nt Hôtel De Brunville\\xa0&\\xa0Spa se trouve à 650\\xa0mètres du musée de la Tapisserie de Bayeux. La gare ferroviaire de Bayeux est située à1,3\\xa0km.\", 'id__2': 3, 'score_given__3': 8.5, 'url_hotel__3': 'https://www.booking.com/hotel/fr/reine-mathilde-bayeux.fr.html?aid', 'city__3': 'Bayeux', 'hotel_name__3': 'Hotel Reine Mathilde', 'lat__3': 49.27603159, 'lon__3': -0.70172489, 'hotel_description__3': \"L'hôtel Reine Mathilde se situe dans le quartier médiéval de Bayeux, à seulement 300 mètres du musée de la Tapisserie. Il propose une connexion Wi-Fi ... (449 characters truncated) ... sur la terrasse exposée au sud.  L'hôtel Reine Mathilde se trouve à respectivement 19 et 24 km du Musée américain et du Musée mémorial d'Omaha Beach.\", 'id__3': 3, 'score_given__4': 7.6, 'url_hotel__4': 'https://www.booking.com/hotel/fr/premiere-classe-bayeux.fr.html?aid', 'city__4': 'Bayeux', 'hotel_name__4': 'Premiere Classe Bayeux', 'lat__4': 49.26942872, 'lon__4': -0.70668697, 'hotel_description__4': \"Cet hôtel Première Classe se trouve à seulement 5 minutes en voiture de l'autoroute N13, à la périphérie de Bayeux. Il met gratuitement à votre dispo ... (541 characters truncated) ...  mètres du musée de la Tapisserie de Bayeux et à 23 km d'Omaha Beach, la plage où les forces alliées débarquèrent lors de la Seconde Guerre mondiale.\", 'id__4': 3, 'score_given__5': 8.3, 'url_hotel__5': 'https://www.booking.com/hotel/fr/appartement-des-ursulines.fr.html?aid', 'city__5': 'Bayeux', 'hotel_name__5': 'Villa Des Ursulines', 'lat__5': 49.27646775, 'lon__5': -0.70556582, 'hotel_description__5': \"Le Villa Des Ursulines est situé à Bayeux, à 100 mètres du musée d'art et d'histoire Baron-Gérard ainsi qu'à 200 mètres de la cathédrale Notre-Dame d ... (898 characters truncated) ... mètres de celui de la Bataille de Normandie. Enfin, l'aéroport le plus proche, celui de Deauville-Normandie, se tient à 59 km du Villa Des Ursulines.\", 'id__5': 3, 'score_given__6': 9.2, 'url_hotel__6': 'https://www.booking.com/hotel/fr/gites-les-pourquoi-pas-residence-de-tourisme-dsv-bayeux.fr.html?aid' ... 92 parameters truncated ... 'hotel_description__17': \"L'établissement Le Mogador est situé à Bayeux, à 100 mètres de la cathédrale Notre-Dame de Bayeux et à 15 km de la plage d'Omaha.  Les chambres sont  ... (254 characters truncated) ... e Baron-Gérard (MAHB) se trouve à 400 mètres de l'établissement Le Mogador, tandis que le centre Guillaume-le-Conquérant est accessible à 700 mètres.\", 'id__17': 3, 'score_given__18': 9.3, 'url_hotel__18': 'https://www.booking.com/hotel/fr/le-petit-matin.fr.html?aid', 'city__18': 'Bayeux', 'hotel_name__18': 'Le Petit Matin', 'lat__18': 49.27606133, 'lon__18': -0.70905536, 'hotel_description__18': \"Cette maison d'hôtes occupe un bâtiment du XVIIIème siècle dans le quartier historique de Bayeux. Le Petit Matin met à votre disposition un jardin ai ... (631 characters truncated) ... s. Le Petit Matin constitue également un pied-à-terre idéal pour visiter les plages du débarquement situées à 9 km ou la plage d'Omaha Beach à 10 km.\", 'id__18': 3, 'score_given__19': 9.7, 'url_hotel__19': 'https://www.booking.com/hotel/fr/chambres-d-ha-tes-clos-de-bellefontaine-bayeux.fr.html?aid', 'city__19': 'Bayeux', 'hotel_name__19': 'Clos de Bellefontaine B&B', 'lat__19': 49.27267164, 'lon__19': -0.69486111, 'hotel_description__19': \"Le Clos de Bellefontaine occupe une maison du XIXe siècle dans un parc de 2 000 m², située à seulement 200 mètres du musée de la Tapisserie de Bayeux ... (605 characters truncated) ... verez un service de location de vélos à proximité. Enfin, vous rejoindrez le centre de Bayeux et la gare à 5 minutes à pied du Clos de Bellefontaine.\", 'id__19': 3, 'score_given__20': 9.3, 'url_hotel__20': 'https://www.booking.com/hotel/fr/le-p-tit-croissant.fr.html?aid', 'city__20': 'Bayeux', 'hotel_name__20': \"Le P'tit Croissant\", 'lat__20': 49.2763099, 'lon__20': -0.6992513, 'hotel_description__20': \"L’hébergement Le P'tit Croissant se situe à Bayeux, à respectivement 300 mètres et 400 mètres de ces lieux d’intérêt : Musée de la Tapisserie de Baye ... (613 characters truncated) ... e ces lieux d’intérêt : Musée du Débarquement et Cinéma Arromanches 360. L'aéroport le plus proche (Aéroport de Caen-Carpiquet) est implanté à 27 km.\", 'id__20': 3, 'score_given__21': 9.8, 'url_hotel__21': 'https://www.booking.com/hotel/fr/tiny-house-au-coeur-de-bayeux.fr.html?aid', 'city__21': 'Bayeux', 'hotel_name__21': 'Tiny house au cœur de Bayeux', 'lat__21': 49.2755584, 'lon__21': -0.6992038, 'hotel_description__21': \"L’hébergement Tiny house au cœur de Bayeux offre une vue sur le jardin, à environ 400 mètres de ce lieu d’intérêt : Musée d'art et d'histoire Baron G ... (584 characters truncated) ... athédrale Notre-Dame de Bayeux et Batterie allemande de Longues-sur-Mer. L'aéroport le plus proche (Aéroport de Caen-Carpiquet) est implanté à 27 km.\", 'id__21': 3, 'score_given__22': 7.6, 'url_hotel__22': 'https://www.booking.com/hotel/fr/campanile-bayeux.fr.html?aid', 'city__22': 'Bayeux', 'hotel_name__22': 'Campanile Bayeux', 'lat__22': 49.26999926, 'lon__22': -0.70694983, 'hotel_description__22': \"Situé dans un quartier paisible à l'extérieur du centre de Bayeux, le charmant Campanile Bayeux propose des chambres avec salle de bains privative et ... (144 characters truncated) ... re de Bayeux et visiter les célèbres plages du Débarquement.  Le personnel du Campanile Bayeux s'attache à rendre votre séjour agréable et mémorable.\", 'id__22': 3, 'score_given__23': 9.0, 'url_hotel__23': 'https://www.booking.com/hotel/fr/la-maison-de-mathilde.fr.html?aid', 'city__23': 'Bayeux', 'hotel_name__23': 'La Maison de Mathilde', 'lat__23': 49.27647468, 'lon__23': -0.70247008, 'hotel_description__23': \"La Maison de Mathilde vous accueille à Bayeux, à 100 mètres du musée Baron Gérard et à 200 mètres du musée de la Tapisserie de Bayeux. Cette maison d ... (537 characters truncated) ... en-Bessin. La cathédrale de Bayeux se trouve à 300 mètres de La Maison de Mathilde, tandis que le musée de la Bataille de Normandie est à 800 mètres.\", 'id__23': 3}\n",
      "2024-01-24 11:15:16,231 INFO sqlalchemy.engine.Engine COMMIT\n",
      "2024-01-24 11:15:16,384 INFO sqlalchemy.engine.Engine BEGIN (implicit)\n",
      "2024-01-24 11:15:16,385 INFO sqlalchemy.engine.Engine SELECT pg_catalog.pg_class.relname \n",
      "FROM pg_catalog.pg_class JOIN pg_catalog.pg_namespace ON pg_catalog.pg_namespace.oid = pg_catalog.pg_class.relnamespace \n",
      "WHERE pg_catalog.pg_class.relname = %(table_name)s AND pg_catalog.pg_class.relkind = ANY (ARRAY[%(param_1)s, %(param_2)s, %(param_3)s, %(param_4)s, %(param_5)s]) AND pg_catalog.pg_table_is_visible(pg_catalog.pg_class.oid) AND pg_catalog.pg_namespace.nspname != %(nspname_1)s\n",
      "2024-01-24 11:15:16,386 INFO sqlalchemy.engine.Engine [cached since 3.539s ago] {'table_name': 'cities_booking', 'param_1': 'r', 'param_2': 'p', 'param_3': 'f', 'param_4': 'v', 'param_5': 'm', 'nspname_1': 'pg_catalog'}\n",
      "2024-01-24 11:15:16,564 INFO sqlalchemy.engine.Engine INSERT INTO cities_booking (city, hotel_name, url_hotel, score_given, lat, lon, hotel_description, id) VALUES (%(city__0)s, %(hotel_name__0)s, %(url_hotel__0)s, %(score_given__0)s, %(lat__0)s, %(lon__0)s, %(hotel_description__0)s, %(id__0)s), (%(city ... 3062 characters truncated ... l_hotel__23)s, %(score_given__23)s, %(lat__23)s, %(lon__23)s, %(hotel_description__23)s, %(id__23)s)\n",
      "2024-01-24 11:15:16,565 INFO sqlalchemy.engine.Engine [generated in 0.00014s (insertmanyvalues) 1/1 (unordered)] {'score_given__0': 7.8, 'url_hotel__0': 'https://www.booking.com/hotel/fr/cote-basque.fr.html?aid', 'city__0': 'Bayonne', 'hotel_name__0': 'Hotel Cote Basque', 'lat__0': 43.49618306, 'lon__0': -1.46960109, 'hotel_description__0': \"L'Hotel Cote Basque est situé au cœur de la ville historique de Bayonne, en face du pont Saint-Esprit. Il propose une connexion Wi-Fi gratuite et des ... (341 characters truncated) ...  gare de Bayonne, à 5 km de Biarritz et à 30 km de Saint-Sébastien. Un parking public est disponible à proximité moyennant des frais supplémentaires.\", 'id__0': 34, 'score_given__1': 7.8, 'url_hotel__1': 'https://www.booking.com/hotel/fr/hostel-20-bayonne.fr.html?aid', 'city__1': 'Bayonne', 'hotel_name__1': 'Hostel 20 Bayonne', 'lat__1': 43.49535, 'lon__1': -1.468753, 'hotel_description__1': \"Situé à Bayonne, l'Hostel 20 Bayonne propose un salon commun, une terrasse, un bar et une connexion Wi-Fi gratuite dans l'ensemble de ses locaux. Vou ... (442 characters truncated) ...  L'Hostel 20 Bayonne se trouve à 39 km de la gare d'Hendaye et de la FICOBA. L'aéroport de Biarritz-Pays basque, le plus proche, est implanté à 5 km.\", 'id__1': 34, 'score_given__2': 7.7, 'url_hotel__2': 'https://www.booking.com/hotel/fr/ibis-budget-bayonne.fr.html?aid', 'city__2': 'Bayonne', 'hotel_name__2': 'ibis budget Bayonne', 'lat__2': 43.48908262, 'lon__2': -1.45717809, 'hotel_description__2': \"Situé à 2\\xa0km du centre historique et de la gare de Bayonne, ainsi qu'à 8\\xa0km des plages, l'ibis budget Bayonne dispose d'une réception ouverte 2 ... (599 characters truncated) ... Bayonne se trouve à 500\\xa0mètres de l'autoroute A63 et à 7\\xa0km de l'aéroport de Biarritz-Anglet-Bayonne. Le musée basque est accessible à 2\\xa0km.\", 'id__2': 34, 'score_given__3': 8.1, 'url_hotel__3': 'https://www.booking.com/hotel/fr/okko-hotels-bayonne-centre.fr.html?aid', 'city__3': 'Bayonne', 'hotel_name__3': 'Okko Hotels Bayonne Centre', 'lat__3': 43.4953443, 'lon__3': -1.4825118, 'hotel_description__3': 'Installé à Bayonne, à seulement 700\\xa0mètres du centre-ville et de la cathédrale Sainte-Marie, l’Okko Hotels Bayonne Centre vous propose des chambre ... (843 characters truncated) ... a0km du parc Ansot et à 5\\xa0km des plages de l’océan. L’aéroport de Biarritz-Pays basque, le plus proche, est implanté à 4\\xa0km de l’établissement.', 'id__3': 34, 'score_given__4': 8.5, 'url_hotel__4': 'https://www.booking.com/hotel/fr/appart-39-bellevue.fr.html?aid', 'city__4': 'Bayonne', 'hotel_name__4': \"Appart'Hôtel Bellevue\", 'lat__4': 43.50579423, 'lon__4': -1.45608832, 'hotel_description__4': \"Situé dans un jardin, L'Appart'Hôtel Bellevue est situé à Bayonne, à seulement 2,4 km de la cathédrale Sainte-Marie. Un parking privé et une connexio ... (764 characters truncated) ... ropres, accueillants et tenus en laisse dans le parc. Il est important de le signaler au moment de la réservation et un supplément vous sera demandé.\", 'id__4': 34, 'score_given__5': 9.0, 'url_hotel__5': 'https://www.booking.com/hotel/fr/appartement-t2-parking-privatif-centre-ville.fr.html?aid', 'city__5': 'Bayonne', 'hotel_name__5': 'Appartement T2 + parking privatif - Centre ville', 'lat__5': 43.4963129, 'lon__5': -1.4845876, 'hotel_description__5': \"Situé à Bayonne, en Aquitaine, l'Appartement T2 + parking privatif - Centre ville dispose d'un balcon. Vous pourrez profiter d'une terrasse et d'un p ... (289 characters truncated) ... rez à 13 km de la gare de Biarritz-La Négresse et à 23 km de celle de Saint-Jean-de-Luz. L'aéroport de Biarritz, le plus proche, est implanté à 6 km.\", 'id__5': 34, 'score_given__6': 7.9, 'url_hotel__6': 'https://www.booking.com/hotel/fr/comfort-bayonne-biarritz.fr.html?aid' ... 92 parameters truncated ... 'hotel_description__17': \"La Maison d'hôtes City Break MIRADOUR est située à Bayonne, à 12 km de la gare de Biarritz-La Négresse et à 22 km de la gare de Saint-Jean-de-Luz. Un ... (649 characters truncated) ... ous séjournerez à 23 km de l'église Saint-Jean-Baptiste et à 36 km de la gare d'Hendaye. L'aéroport de Biarritz, le plus proche, est implanté à 5 km.\", 'id__17': 34, 'score_given__18': 9.4, 'url_hotel__18': 'https://www.booking.com/hotel/fr/23-avenue-du-8-mai-1945.fr.html?aid', 'city__18': 'Bayonne', 'hotel_name__18': '23 Avenue du 8 Mai 1945', 'lat__18': 43.4728192, 'lon__18': -1.4858856, 'hotel_description__18': \"Situé à Bayonne, à seulement 8,7 km de la gare de Biarritz-La Négresse, le 23 Avenue du 8 Mai 1945 propose un hébergement avec vue sur la rivière, co ... (594 characters truncated) ... er la randonnée.  Vous séjournerez à 32 km de la gare d'Hendaye et à 33 km de la FICOBA. L'aéroport de Biarritz, le plus proche, est implanté à 3 km.\", 'id__18': 34, 'score_given__19': 5.4, 'url_hotel__19': 'https://www.booking.com/hotel/fr/hotelf1-bayonne.fr.html?aid', 'city__19': 'Bayonne', 'hotel_name__19': 'hotelF1 Bayonne', 'lat__19': 43.48962331, 'lon__19': -1.45107529, 'hotel_description__19': \"L'hotelF1 Bayonne propose des hébergements à 7 minutes en voiture du centre-ville de Bayonne et à 10 km de la plage.  Toutes les chambres de cet hôte ... (223 characters truncated) ... ement, tandis que Biarritz est à 11 km. La frontière espagnole est à 35 km. Un parking privé gratuit sous vidéosurveillance est accessible sur place.\", 'id__19': 34, 'score_given__20': 8.7, 'url_hotel__20': 'https://www.booking.com/hotel/fr/bayonne-appartement-63m3-avec-terrase-parking-wifi.fr.html?aid', 'city__20': 'Bayonne', 'hotel_name__20': 'Bayonne appartement 63m2 avec terrase parking wifi', 'lat__20': 43.4962246, 'lon__20': -1.460971, 'hotel_description__20': \"Appartement Bayonne de 63 m2 avec Le terrase parking wifi est situé à Bayonne, à 15 km de la gare de Biarritz-La Négresse et à 25 km de la gare Saint ... (464 characters truncated) ... us séjournerez à 25 km de l'église Saint-Jean-Baptiste et à 38 km de la gare d'Hendaye. L'aéroport de Biarritz, le plus proche, est implanté à 10 km.\", 'id__20': 34, 'score_given__21': 8.9, 'url_hotel__21': 'https://www.booking.com/hotel/fr/un-appart-en-ville-bayonne1.fr.html?aid', 'city__21': 'Bayonne', 'hotel_name__21': 'Boutique Hôtel Un Appart en Ville', 'lat__21': 43.4909225, 'lon__21': -1.4774412, 'hotel_description__21': \"Situé à Bayonne, à 12 km de la gare de Biarritz-La Négresse et à 22 km de la gare de Saint-Jean-de-Luz, le Boutique Hôtel Un Appart en Ville propose  ... (580 characters truncated) ... ous séjournerez à 22 km de l'église Saint-Jean-Baptiste et à 36 km de la gare d'Hendaye. L'aéroport de Biarritz, le plus proche, est implanté à 5 km.\", 'id__21': 34, 'score_given__22': 7.2, 'url_hotel__22': 'https://www.booking.com/hotel/fr/b-amp-b-bayonne.fr.html?aid', 'city__22': 'Bayonne', 'hotel_name__22': 'B&B HOTEL Bayonne', 'lat__22': 43.4645147, 'lon__22': -1.4959653, 'hotel_description__22': \"Situé à Bayonne, à seulement 3 km de l'aéroport de Biarritz, le B&B HOTEL Bayonne propose des hébergements insonorisés, une connexion Wi-Fi gratuite  ... (307 characters truncated) ... fs, de bacon et de boissons chaudes.  La cathédrale Sainte Marie vous attend 3,5 km, tandis que le centre hospitalier de la Côte Basque est à 2,5 km.\", 'id__22': 34, 'score_given__23': 9.0, 'url_hotel__23': 'https://www.booking.com/hotel/fr/villa-koegui-bayonne.fr.html?aid', 'city__23': 'Bayonne', 'hotel_name__23': 'Hôtel Villa KOEGUI Bayonne', 'lat__23': 43.492371, 'lon__23': -1.472588, 'hotel_description__23': \"Doté d’un bar, d’un restaurant, d’une terrasse, d’un salon commun et d’une salle de sport, l’Hôtel Villa KOEGUI Bayonne propose des hébergements à Ba ... (700 characters truncated) ... ale Sainte-Marie, le parc Ansot et le musée des beaux-arts Bonnat-Helleu. L'aéroport le plus proche, celui de Biarritz-Pays basque, est situé à 7 km.\", 'id__23': 34}\n",
      "2024-01-24 11:15:16,661 INFO sqlalchemy.engine.Engine COMMIT\n",
      "2024-01-24 11:15:16,812 INFO sqlalchemy.engine.Engine BEGIN (implicit)\n",
      "2024-01-24 11:15:16,814 INFO sqlalchemy.engine.Engine SELECT pg_catalog.pg_class.relname \n",
      "FROM pg_catalog.pg_class JOIN pg_catalog.pg_namespace ON pg_catalog.pg_namespace.oid = pg_catalog.pg_class.relnamespace \n",
      "WHERE pg_catalog.pg_class.relname = %(table_name)s AND pg_catalog.pg_class.relkind = ANY (ARRAY[%(param_1)s, %(param_2)s, %(param_3)s, %(param_4)s, %(param_5)s]) AND pg_catalog.pg_table_is_visible(pg_catalog.pg_class.oid) AND pg_catalog.pg_namespace.nspname != %(nspname_1)s\n",
      "2024-01-24 11:15:16,814 INFO sqlalchemy.engine.Engine [cached since 3.969s ago] {'table_name': 'cities_booking', 'param_1': 'r', 'param_2': 'p', 'param_3': 'f', 'param_4': 'v', 'param_5': 'm', 'nspname_1': 'pg_catalog'}\n",
      "2024-01-24 11:15:16,992 INFO sqlalchemy.engine.Engine INSERT INTO cities_booking (city, hotel_name, url_hotel, score_given, lat, lon, hotel_description, id) VALUES (%(city__0)s, %(hotel_name__0)s, %(url_hotel__0)s, %(score_given__0)s, %(lat__0)s, %(lon__0)s, %(hotel_description__0)s, %(id__0)s), (%(city ... 4754 characters truncated ... l_hotel__35)s, %(score_given__35)s, %(lat__35)s, %(lon__35)s, %(hotel_description__35)s, %(id__35)s)\n",
      "2024-01-24 11:15:16,993 INFO sqlalchemy.engine.Engine [generated in 0.00028s (insertmanyvalues) 1/1 (unordered)] {'score_given__0': 7.6, 'url_hotel__0': 'https://www.booking.com/hotel/fr/ibis-budget-besanasson-centre-gare.fr.html?aid', 'city__0': 'Besancon', 'hotel_name__0': 'ibis budget Besançon Centre Gare', 'lat__0': 47.24684641, 'lon__0': 6.02312028, 'hotel_description__0': \"Situé à Besançon, à seulement 100\\xa0mètres de la gare de la Viotte, l'ibis budget Besançon Centre Gare propose des chambres simples dotées d'une con ... (291 characters truncated) ... la citadelle Vaubon, un site classé au patrimoine mondial de l'UNESCO, est à 2,5\\xa0km. Le centre-ville de Besançon est situé à 15\\xa0minutes à pied.\", 'id__0': 13, 'score_given__1': 6.6, 'url_hotel__1': 'https://www.booking.com/hotel/fr/premiere-classe-besancon-ecole-valentin.fr.html?aid', 'city__1': 'Besancon', 'hotel_name__1': 'Premiere Classe Besancon Ecole Valentin', 'lat__1': 47.27044104, 'lon__1': 5.9982723, 'hotel_description__1': \"Situé à proximité de l'Alsace et du Jura, cet hôtel est facilement accessible depuis l'autoroute A36. Il est situé dans le village d'Ecole-Valentin,  ... (484 characters truncated) ... est disponible sur place.  Le Première Classe Besançon est situé en Franche-Comté. Dans les environs, vous pourrez visiter la technopole de Besançon.\", 'id__1': 13, 'score_given__2': 8.2, 'url_hotel__2': 'https://www.booking.com/hotel/fr/de-paris-besanasson.fr.html?aid', 'city__2': 'Besancon', 'hotel_name__2': 'Hôtel de Paris', 'lat__2': 47.23856537, 'lon__2': 6.02532506, 'hotel_description__2': \"Situé dans le centre de Besançon, l'Hôtel de Paris est agrémenté d'un intérieur contemporain. Il propose une réception ouverte 24h/24 et une terrasse ... (603 characters truncated) ... mté est accessible à 12 km. L'établissement dispose également d'une bagagerie, de journaux quotidiens et d'une connexion Internet par câble gratuite.\", 'id__2': 13, 'score_given__3': 8.4, 'url_hotel__3': 'https://www.booking.com/hotel/fr/le-coquet-chez-maguy.fr.html?aid', 'city__3': 'Besancon', 'hotel_name__3': 'Le coquet chez Maguy Maison de ville avec jardin', 'lat__3': 47.2413863, 'lon__3': 6.0074701, 'hotel_description__3': \"Situé à Besançon, l’hébergement Le coquet chez Maguy Maison de ville avec jardin offre une vue sur le jardin. Il propose un jardin, un salon commun,  ... (607 characters truncated) ... otte, Musée du Temps de Besançon et Musée des beaux-arts et d'archéologie de Besançon. L'aéroport le plus proche (Aéroport de Dole-Jura) est à 62 km.\", 'id__3': 13, 'score_given__4': 7.8, 'url_hotel__4': 'https://www.booking.com/hotel/fr/all-suites-besancon.fr.html?aid', 'city__4': 'Besancon', 'hotel_name__4': 'All Suites Besançon', 'lat__4': 47.25435723, 'lon__4': 5.99548012, 'hotel_description__4': \"L’établissement All Suites Besançon vous accueille à Besançon, à 3,3 km de ce lieu d’intérêt : Gare de Besançon-Viotte. Il comprend un jardin, une te ... (443 characters truncated) ... km et 10 km de ces lieux d’intérêt : Micropolis et Gare de Besançon Franche-Comté TGV. L'aéroport le plus proche (Aéroport de Dole-Jura) est à 61 km.\", 'id__4': 13, 'score_given__5': 9.2, 'url_hotel__5': 'https://www.booking.com/hotel/fr/le-viotte.fr.html?aid', 'city__5': 'Besancon', 'hotel_name__5': 'Le Viotte - Unique ! 3 logements disponibles', 'lat__5': 47.2478045, 'lon__5': 6.0254021, 'hotel_description__5': \"Situé à Besançon, Le Viotte propose un hébergement à 5,4 km de Micropolis et à 11 km de la gare TGV de Besançon Franche-Comté. Une connexion Wi-Fi es ... (409 characters truncated) ... n-Viotte, de la gare de Besançon-Mouillère et de la cathédrale Saint-Jean de Besançon. L'aéroport de Dole-Jura, le plus proche, est implanté à 62 km.\", 'id__5': 13, 'score_given__6': 4.1, 'url_hotel__6': 'https://www.booking.com/hotel/fr/hotelf1-besancon-ouest-micropolis.fr.html?aid' ... 188 parameters truncated ... 'hotel_description__29': \"Le Doubs Hotel - Besançon Ecole Valentin est un hôtel 3 étoiles avec terrasse situé à Besançon. Il bénéficie d'un salon commun et d'une connexion Wi- ... (449 characters truncated) ... -Comté TGV. Le Doubs Hotel - Besançon Ecole Valentin se trouve à 8 km de Micropolis. L’aéroport de Dole-Jura, le plus proche, est à 61 km de l’hôtel.\", 'id__29': 13, 'score_given__30': 8.1, 'url_hotel__30': 'https://www.booking.com/hotel/fr/appartement-de-charme-avec-parking-et-terrasse.fr.html?aid', 'city__30': 'Besancon', 'hotel_name__30': 'Appartement de charme avec parking et terrasse', 'lat__30': 47.2454143, 'lon__30': 6.024986, 'hotel_description__30': \"Situé à Besançon, l’hébergement Appartement de charme avec parking et terrasse offre une vue sur la ville. Il propose une terrasse et une connexion W ... (472 characters truncated) ... n-Mouillère, Cathédrale Saint-Jean de Besançon et Musée du Temps de Besançon. L'aéroport le plus proche (Aéroport de Dole-Jura) est implanté à 62 km.\", 'id__30': 13, 'score_given__31': 8.7, 'url_hotel__31': 'https://www.booking.com/hotel/fr/ra-c-sidence-charles-quint.fr.html?aid', 'city__31': 'Besancon', 'hotel_name__31': 'Résidence Charles Quint', 'lat__31': 47.23347773, 'lon__31': 6.03081581, 'hotel_description__31': \"La Résidence Charles Quint occupe un bâtiment du XVIIIe siècle dans le centre historique de Besançon. Elle propose des chambres doubles et des appart ... (419 characters truncated) ... itement dans tout l'établissement. Moyennant des frais supplémentaires, vous pourrez déguster un petit-déjeuner buffet servi à l'hôtel, à 200 mètres.\", 'id__31': 13, 'score_given__32': 7.6, 'url_hotel__32': 'https://www.booking.com/hotel/fr/kyriad-besancon-palente.fr.html?aid', 'city__32': 'Besancon', 'hotel_name__32': \"Brit Hotel Besancon l'Horloge\", 'lat__32': 47.26358654, 'lon__32': 6.05153292, 'hotel_description__32': \"Situé à Besançon, à 3,2 km de la gare de Besançon-Viotte, le Brit Hotel Besancon l'Horloge propose un salon commun, un parking privé gratuit, une ter ... (604 characters truncated) ...  se trouve à 7,9 km de Micropolis et à 13 km de la gare TGV de Besançon Franche-Comté. L'aéroport de Dole-Jura, le plus proche, est implanté à 64 km.\", 'id__32': 13, 'score_given__33': 7.2, 'url_hotel__33': 'https://www.booking.com/hotel/fr/foch-besancon.fr.html?aid', 'city__33': 'Besancon', 'hotel_name__33': 'Contact Hôtel Foch', 'lat__33': 47.24619696, 'lon__33': 6.02335095, 'hotel_description__33': \"Situé à quelques pas de la gare de Besançon et à seulement cinq minutes du centre-ville, l'hôtel Foch propose qualité et confort à un prix abordable. ... (386 characters truncated) ... \\r \\r La ville de Besançon se trouve à proximité de la frontière suisse. C'est le chef-lieu du département du Doubs, dans la région de Franche-Comté.\", 'id__33': 13, 'score_given__34': 7.8, 'url_hotel__34': 'https://www.booking.com/hotel/fr/siatel-chateaufarine.fr.html?aid', 'city__34': 'Besancon', 'hotel_name__34': 'Hôtel Siatel Besançon Chateaufarine', 'lat__34': 47.21613222, 'lon__34': 5.94183326, 'hotel_description__34': \"Cet hôtel est situé à 7,5 km du centre de Besançon en Franche-Comté et propose une connexion Wi-Fi gratuite. Vous pourrez vous détendre sur la terras ... (445 characters truncated) ... et la gare de Besançon-Viotte se trouve à 7,7 km. L'hôtel se trouve à 8,2 km du musée des beaux-arts et d'archéologie et à 6,5 km de l'autoroute A36.\", 'id__34': 13, 'score_given__35': 8.4, 'url_hotel__35': 'https://www.booking.com/hotel/fr/vauban-besancon.fr.html?aid', 'city__35': 'Besancon', 'hotel_name__35': 'Hotel Vauban', 'lat__35': 47.23986296, 'lon__35': 6.02139884, 'hotel_description__35': \"L'Hotel Vauban vous accueille\\xa0à Besançon, à 2 minutes à pied du musée des beaux-arts et d'archéologie, et à 18 minutes de marche de la Citadelle.  ... (600 characters truncated) ... t également proposées. Enfin, l'hôtel se trouve à 5 minutes en voiture de la gare de Besançon et à 15 minutes de marche de l'église Sainte-Madeleine.\", 'id__35': 13}\n",
      "2024-01-24 11:15:17,088 INFO sqlalchemy.engine.Engine COMMIT\n",
      "2024-01-24 11:15:17,293 INFO sqlalchemy.engine.Engine BEGIN (implicit)\n",
      "2024-01-24 11:15:17,294 INFO sqlalchemy.engine.Engine SELECT pg_catalog.pg_class.relname \n",
      "FROM pg_catalog.pg_class JOIN pg_catalog.pg_namespace ON pg_catalog.pg_namespace.oid = pg_catalog.pg_class.relnamespace \n",
      "WHERE pg_catalog.pg_class.relname = %(table_name)s AND pg_catalog.pg_class.relkind = ANY (ARRAY[%(param_1)s, %(param_2)s, %(param_3)s, %(param_4)s, %(param_5)s]) AND pg_catalog.pg_table_is_visible(pg_catalog.pg_class.oid) AND pg_catalog.pg_namespace.nspname != %(nspname_1)s\n",
      "2024-01-24 11:15:17,295 INFO sqlalchemy.engine.Engine [cached since 4.449s ago] {'table_name': 'cities_booking', 'param_1': 'r', 'param_2': 'p', 'param_3': 'f', 'param_4': 'v', 'param_5': 'm', 'nspname_1': 'pg_catalog'}\n",
      "2024-01-24 11:15:17,474 INFO sqlalchemy.engine.Engine INSERT INTO cities_booking (city, hotel_name, url_hotel, score_given, lat, lon, hotel_description, id) VALUES (%(city__0)s, %(hotel_name__0)s, %(url_hotel__0)s, %(score_given__0)s, %(lat__0)s, %(lon__0)s, %(hotel_description__0)s, %(id__0)s), (%(city ... 3767 characters truncated ... l_hotel__28)s, %(score_given__28)s, %(lat__28)s, %(lon__28)s, %(hotel_description__28)s, %(id__28)s)\n",
      "2024-01-24 11:15:17,475 INFO sqlalchemy.engine.Engine [generated in 0.00015s (insertmanyvalues) 1/1 (unordered)] {'score_given__0': 10.0, 'url_hotel__0': 'https://www.booking.com/hotel/fr/apartment-les-jardins-victoria-2-by-interhome.fr.html?aid', 'city__0': 'Biarritz', 'hotel_name__0': 'Apartment Les Jardins Victoria-2 by Interhome', 'lat__0': 43.4711, 'lon__0': -1.566101, 'hotel_description__0': \"L’hébergement Apartment Les Jardins Victoria-2 by Interhome se situe à Biarritz, à respectivement 400 mètres, 800 mètres et 1 km de ces lieux d’intér ... (428 characters truncated) ... ntérêt : Gare de Biarritz La Négresse et Gare de Saint-Jean-de-Luz. L'aéroport le plus proche (Aéroport de Biarritz-Pays basque) est implanté à 4 km.\", 'id__0': 33, 'score_given__1': 7.0, 'url_hotel__1': 'https://www.booking.com/hotel/fr/holiday-home-milady.fr.html?aid', 'city__1': 'Biarritz', 'hotel_name__1': 'Holiday Home Milady by Interhome', 'lat__1': 43.46414, 'lon__1': -1.569967, 'hotel_description__1': \"Proposant un jardin, l’hébergement Holiday Home Milady by Interhome vous accueille à Biarritz, à respectivement 400 mètres, 600 mètres et 600 mètres  ... (503 characters truncated) ... lieux d’intérêt : Gare de Biarritz La Négresse et Gare de Saint-Jean-de-Luz. L'aéroport le plus proche (Aéroport de Biarritz-Pays basque) est à 3 km.\", 'id__1': 33, 'score_given__2': 9.0, 'url_hotel__2': 'https://www.booking.com/hotel/fr/bright-duplex-apartment-with-terrace-and-parking-in-biarritz-center.fr.html?aid', 'city__2': 'Biarritz', 'hotel_name__2': 'GAMBETTA KEYWEEK Duplex with Terrace and Parking in Biarritz Center', 'lat__2': 43.480827, 'lon__2': -1.563275, 'hotel_description__2': \"Possédant une terrasse, l’hébergement GAMBETTA KEYWEEK Duplex with Terrace and Parking in Biarritz Center bénéficie d’une situation géographique idéa ... (487 characters truncated) ... de ces lieux d’intérêt : Plage de la Côte des Basques et Plage des Pêcheurs. L'aéroport le plus proche (Aéroport de Biarritz-Pays basque) est à 3 km.\", 'id__2': 33, 'score_given__3': 8.5, 'url_hotel__3': 'https://www.booking.com/hotel/fr/superb-apartment-with-seaview-and-terrace-biarritz-welkeys.fr.html?aid', 'city__3': 'Biarritz', 'hotel_name__3': 'Nice 4 stars apartment with seaview - Biarritz - Welkeys', 'lat__3': 43.475371, 'lon__3': -1.5602681, 'hotel_description__3': \"Situé à Biarritz, à moins de 1 km de la plage de la Côte des Basques et à 12 minutes à pied de la Grande Plage, le Nice 4 stars apartment with seavie ... (405 characters truncated) ...  km de la plage des Pêcheurs et à 3,2 km de la gare de Biarritz-La Négresse. L'aéroport de Biarritz-Pays basque, le plus proche, est implanté à 3 km.\", 'id__3': 33, 'score_given__4': 7.0, 'url_hotel__4': 'https://www.booking.com/hotel/fr/apartment-andre-lamande.fr.html?aid', 'city__4': 'Biarritz', 'hotel_name__4': 'Apartment André Lamandé by Interhome', 'lat__4': 43.482734, 'lon__4': -1.554327, 'hotel_description__4': \"Situé dans le centre de Biarritz, à 700 mètres de la Grande Plage et à 800 mètres de la plage Miramar, l'Apartment André Lamandé by Interhome propose ... (255 characters truncated) ... ez à 800 mètres de la plage des Pêcheurs et à 3,6 km de la gare de Biarritz-La Négresse. L'aéroport de Biarritz, le plus proche, est implanté à 3 km.\", 'id__4': 33, 'score_given__5': 8.7, 'url_hotel__5': 'https://www.booking.com/hotel/fr/palym-biarritz.fr.html?aid', 'city__5': 'Biarritz', 'hotel_name__5': 'Hôtel PALMITO', 'lat__5': 43.48205056, 'lon__5': -1.56574488, 'hotel_description__5': \"Situé dans la vieille ville de Biarritz, l’établissement non-fumeurs Hôtel PALMITO se trouve à seulement 100\\xa0mètres de la plage. Une connexion Wi- ... (417 characters truncated) ... Biarritz se trouve à seulement 700\\xa0mètres, et la gare de Biarritz est à 4\\xa0km. Des restaurants, bars et discothèques se trouvent à 50\\xa0mètres.\", 'id__5': 33, 'score_given__6': 8.1, 'url_hotel__6': 'https://www.booking.com/hotel/fr/tonic-hotel-biarritz.fr.html?aid' ... 132 parameters truncated ... 'hotel_description__22': \"Situé à Biarritz, le Brit Hôtel Marbella vous accueille dans le quartier du Port Vieux, à seulement 5 minutes à pied de trois plages. Une connexion W ... (538 characters truncated) ... ses activités sportives et culturelles. La gare de Biarritz est à 4 km du Brit Hôtel Marbella, tandis que l'aéroport de Biarritz est implanté à 5 km.\", 'id__22': 33, 'score_given__23': 7.5, 'url_hotel__23': 'https://www.booking.com/hotel/fr/radisson-blu-hotel-biarritz.fr.html?aid', 'city__23': 'Biarritz', 'hotel_name__23': 'Radisson Blu Hotel Biarritz', 'lat__23': 43.47827192, 'lon__23': -1.56469077, 'hotel_description__23': \"Situé dans le centre de Biarritz, le Radisson Blu Hotel Biarritz surplombe la plage de surf Côte des Basques. Dans les environs, vous trouverez des l ... (995 characters truncated) ... tz se trouve à 15 minutes de route de l'aéroport de Biarritz. Des bornes de recharge pour voitures électriques sont par ailleurs présentes sur place.\", 'id__23': 33, 'score_given__24': 8.7, 'url_hotel__24': 'https://www.booking.com/hotel/fr/biarritz-atlantique.fr.html?aid', 'city__24': 'Biarritz', 'hotel_name__24': 'Hotel Biarritz Atlantique - Lycée Hotelier - Management School', 'lat__24': 43.46235809, 'lon__24': -1.55227717, 'hotel_description__24': \"Situé à Biarritz, à 2,9 km du rocher de la Vierge et à 2 km de la plage de Milady, l'Hotel Biarritz Atlantique occupe une école de gestion hôtelière  ... (512 characters truncated) ... z à 4 km. L'aéroport de Biarritz Pays Basque, le plus proche, est implanté à 2 km. L'autoroute A63 se trouve à 2,5 km de l'Hotel Biarritz Atlantique.\", 'id__24': 33, 'score_given__25': 8.6, 'url_hotel__25': 'https://www.booking.com/hotel/fr/carlina-lodge-biarritz.fr.html?aid', 'city__25': 'Biarritz', 'hotel_name__25': 'Carlina Lodge', 'lat__25': 43.47747717, 'lon__25': -1.56685475, 'hotel_description__25': \"Le Carlina Lodge est une résidence hôtelière située sur le front de mer de Biarritz. Il propose des chambres avec terrasse et vue sur la mer, ainsi q ... (457 characters truncated) ... activités sur place ou dans les environs, notamment le golf. La gare de Biarritz est à 4 km. Un parking public est disponible gratuitement sur place.\", 'id__25': 33, 'score_given__26': 9.0, 'url_hotel__26': 'https://www.booking.com/hotel/fr/le-cafe-de-paris-4.fr.html?aid', 'city__26': 'Biarritz', 'hotel_name__26': 'Hôtel Le Café de Paris', 'lat__26': 43.48271809, 'lon__26': -1.56134069, 'hotel_description__26': \"L'Hôtel Le Café de Paris est situé dans le centre de Biarritz, sur la place piétonne Bellevue et à 5\\xa0minutes à pied des Halles. Toutes les chambre ... (318 characters truncated) ... qui propose un menu élaboré par le chef étoilé Cédric Béchade. Le restaurant propose une terrasse extérieure donnant sur la place Bellevue et la mer.\", 'id__26': 33, 'score_given__27': 8.0, 'url_hotel__27': 'https://www.booking.com/hotel/fr/biarritz-ocean.fr.html?aid', 'city__27': 'Biarritz', 'hotel_name__27': 'Résidence Biarritz Ocean', 'lat__27': 43.48040601, 'lon__27': -1.55796111, 'hotel_description__27': 'Résidence Biarritz Ocean is located in the heart of Biarritz, just 400 metres from the famous beach, la Grande Plage and 240 metres from Biarritz’s c ... (464 characters truncated) ... he residence. Guests at Résidence Biarritz Ocean benefit from discounts on green fees at 7 golf courses in the region. Biarritz Airport is 4 km away.', 'id__27': 33, 'score_given__28': 7.8, 'url_hotel__28': 'https://www.booking.com/hotel/fr/thalassa-miramar-biarritz.fr.html?aid', 'city__28': 'Biarritz', 'hotel_name__28': 'Sofitel Biarritz Le Miramar Thalassa', 'lat__28': 43.48784796, 'lon__28': -1.55444473, 'hotel_description__28': \"Situé à quelques pas du centre-ville de Biarritz, le Sofitel Biarritz Le Miramar Thalassa surplombe l'une des plus belles plages de la côte basque. C ... (1124 characters truncated) ...  de sport ultramoderne donnant sur l'océan où vous pourrez suivre les conseils d’un entraîneur privé ou participer aux cours d’aquagym et de Pilates.\", 'id__28': 33}\n",
      "2024-01-24 11:15:17,570 INFO sqlalchemy.engine.Engine COMMIT\n",
      "2024-01-24 11:15:17,772 INFO sqlalchemy.engine.Engine BEGIN (implicit)\n",
      "2024-01-24 11:15:17,773 INFO sqlalchemy.engine.Engine SELECT pg_catalog.pg_class.relname \n",
      "FROM pg_catalog.pg_class JOIN pg_catalog.pg_namespace ON pg_catalog.pg_namespace.oid = pg_catalog.pg_class.relnamespace \n",
      "WHERE pg_catalog.pg_class.relname = %(table_name)s AND pg_catalog.pg_class.relkind = ANY (ARRAY[%(param_1)s, %(param_2)s, %(param_3)s, %(param_4)s, %(param_5)s]) AND pg_catalog.pg_table_is_visible(pg_catalog.pg_class.oid) AND pg_catalog.pg_namespace.nspname != %(nspname_1)s\n",
      "2024-01-24 11:15:17,774 INFO sqlalchemy.engine.Engine [cached since 4.928s ago] {'table_name': 'cities_booking', 'param_1': 'r', 'param_2': 'p', 'param_3': 'f', 'param_4': 'v', 'param_5': 'm', 'nspname_1': 'pg_catalog'}\n",
      "2024-01-24 11:15:17,951 INFO sqlalchemy.engine.Engine INSERT INTO cities_booking (city, hotel_name, url_hotel, score_given, lat, lon, hotel_description, id) VALUES (%(city__0)s, %(hotel_name__0)s, %(url_hotel__0)s, %(score_given__0)s, %(lat__0)s, %(lon__0)s, %(hotel_description__0)s, %(id__0)s), (%(city ... 2075 characters truncated ... l_hotel__16)s, %(score_given__16)s, %(lat__16)s, %(lon__16)s, %(hotel_description__16)s, %(id__16)s)\n",
      "2024-01-24 11:15:17,951 INFO sqlalchemy.engine.Engine [generated in 0.00011s (insertmanyvalues) 1/1 (unordered)] {'score_given__0': 8.5, 'url_hotel__0': 'https://www.booking.com/hotel/fr/coeur-de-village-bormes-les-mimosas.fr.html?aid', 'city__0': 'Bormes les Mimosas', 'hotel_name__0': 'Coeur de village', 'lat__0': 43.150077, 'lon__0': 6.342641, 'hotel_description__0': \"Offrant une vue sur la ville, l’hébergement Coeur de village se situe à Bormes-les-Mimosas, à respectivement 29 km et 29 km de ces lieux d’intérêt :  ... (470 characters truncated) ... 21 km de ces lieux d’intérêt : La Favière et Villa Noailles Art Centre. L'aéroport le plus proche (Aéroport de Toulon - Hyères) est implanté à 21 km.\", 'id__0': 19, 'score_given__1': 7.7, 'url_hotel__1': 'https://www.booking.com/hotel/fr/hotel-la-voile-fr.fr.html?aid', 'city__1': 'Bormes les Mimosas', 'hotel_name__1': 'Hotel La Voile', 'lat__1': 43.12549, 'lon__1': 6.3573, 'hotel_description__1': \"L'Hotel La Voile est idéalement situé à seulement 400\\xa0mètres des plages et du port de Bormes, dans un environnement calme et paisible à proximité  ... (621 characters truncated) ... occasion de pratiquer de nombreux sports nautiques et activités de plein air. Un parking privé est disponible sur demande et moyennant un supplément.\", 'id__1': 19, 'score_given__2': 8.5, 'url_hotel__2': 'https://www.booking.com/hotel/fr/petit-coin-de-bonheur-piscine.fr.html?aid', 'city__2': 'Bormes les Mimosas', 'hotel_name__2': 'Petit coin de bonheur- piscine', 'lat__2': 43.1438549, 'lon__2': 6.3518156, 'hotel_description__2': \"Situé à Bormes-les-Mimosas, l’hébergement Petit coin de bonheur- piscine offre une vue sur le jardin et comprend une piscine privée. Cet hébergement  ... (424 characters truncated) ... 2,9 km de ces lieux d’intérêt\\xa0: Plage de la Pointe de Gouron et Grande Plage. L'aéroport le plus proche (Aéroport de Toulon - Hyères) est à 21 km.\", 'id__2': 19, 'score_given__3': 9.0, 'url_hotel__3': 'https://www.booking.com/hotel/fr/le-petit-atelier-bormes-les-mimosas1234567891011121314151617.fr.html?aid', 'city__3': 'Bormes les Mimosas', 'hotel_name__3': 'Le petit atelier', 'lat__3': 43.142501, 'lon__3': 6.3491788, 'hotel_description__3': \"Situé à Bormes-les-Mimosas, en Provence-Alpes-Côte d'Azur, l'établissement Le petit atelier propose des hébergements avec une connexion Wi-Fi et un p ... (562 characters truncated) ... ue.  Vous séjournerez à 2,8 km de la plage de l'Anglade et de celle de la Pointe de Gouron. L'aéroport de Toulon-Hyères, le plus proche, est à 20 km.\", 'id__3': 19, 'score_given__4': 8.3, 'url_hotel__4': 'https://www.booking.com/hotel/fr/paradis.fr.html?aid', 'city__4': 'Bormes les Mimosas', 'hotel_name__4': 'Hôtel Paradis', 'lat__4': 43.144686, 'lon__4': 6.335125, 'hotel_description__4': \"L'hôtel Paradis\\xa0occupe un bâtiment datant\\xa0de 1920 et bénéficie d'un jardin luxuriant. Il offre une vue panoramique sur la mer et le vieux villa ... (389 characters truncated) ...  motos et les voitures.  Bormes les Mimosas est situé entre Saint Tropez et Hyères et offre des vues superbes sur l'île de Port Cros et Porquerolles.\", 'id__4': 19, 'score_given__5': 9.8, 'url_hotel__5': 'https://www.booking.com/hotel/fr/la-recampado-bormes-les-mimosas.fr.html?aid', 'city__5': 'Bormes les Mimosas', 'hotel_name__5': 'La Recampado', 'lat__5': 43.150971, 'lon__5': 6.342117, 'hotel_description__5': \"L’hébergement La Recampado se trouve à Bormes-les-Mimosas, à respectivement 29 km et 29 km de ces lieux d’intérêt : Chateau de Grimaud et Le Pont des ... (616 characters truncated) ... ,8 km et 21 km de ces lieux d’intérêt : La Favière et Villa Noailles Art Centre. L'aéroport le plus proche (Aéroport de Toulon - Hyères) est à 21 km.\", 'id__5': 19, 'score_given__6': 8.6, 'url_hotel__6': 'https://www.booking.com/hotel/fr/auberge-du-dom.fr.html?aid' ... 36 parameters truncated ... 'hotel_description__10': \"Offrant une vue sur la ville, le Bel appartement classé 3 étoiles est situé à Bormes-les-Mimosas, à 31 km du Pont des Fées et à 37 km de la gare de T ... (397 characters truncated) ... ne.  Vous séjournerez à 38 km du Zénith Oméga de Toulon et à 4,1 km de La Favière. L'aéroport de Toulon-Hyères, le plus proche, est implanté à 19 km.\", 'id__10': 19, 'score_given__11': 8.8, 'url_hotel__11': 'https://www.booking.com/hotel/fr/eden-rose-grand-bw-premier-collection.fr.html?aid', 'city__11': 'Bormes les Mimosas', 'hotel_name__11': 'Eden Rose Grand Hotel BW Premier Collection', 'lat__11': 43.152872, 'lon__11': 6.342654, 'hotel_description__11': \"L’établissement Eden Rose Grand Hotel BW Premier Collection se situe à Bormes-les-Mimosas, à 29 km de ce lieu d’intérêt : Chateau de Grimaud. Il poss ... (573 characters truncated) ... m et 40 km de ces lieux d’intérêt : Le Pont des Fées et Gare de Toulon. L'aéroport le plus proche (Aéroport de Toulon - Hyères) est implanté à 22 km.\", 'id__11': 19, 'score_given__12': 9.2, 'url_hotel__12': 'https://www.booking.com/hotel/fr/appartement-unique-dans-un-domaine-viticole.fr.html?aid', 'city__12': 'Bormes les Mimosas', 'hotel_name__12': 'Appartement unique dans le domaine de la sangliere', 'lat__12': 43.1279047, 'lon__12': 6.2772223, 'hotel_description__12': \"Situé à Bormes-les-Mimosas, à 1,1 km de la plage du Pellegrin et à 1,8 km de la plage de la Chapelle Saint-Georges, l'Appartement unique dans le doma ... (341 characters truncated) ... tière et à 33 km de la gare de Toulon. L'aéroport de Toulon-Hyères est le plus proche, 15 km de l'Appartement unique dans le domaine de la sanglière.\", 'id__12': 19, 'score_given__13': 8.4, 'url_hotel__13': 'https://www.booking.com/hotel/fr/voir-les-photos-presentationemplacementcommentairesl-39-hote-2-pieces-35m2-borme.fr.html?aid', 'city__13': 'Bormes les Mimosas', 'hotel_name__13': 'Superbe Duplex 35m2 vue mer avec piscine', 'lat__13': 43.1431217, 'lon__13': 6.3521398, 'hotel_description__13': \"Proposant une piscine, un jardin, une terrasse et connexion Wi-Fi gratuite, l’établissement Superbe Duplex 35m2 vue mer avec piscine se trouve à Borm ... (423 characters truncated) ...  km de ces lieux d’intérêt : Plage de l'Anglade et Plage de la Pointe de Gouron. L'aéroport le plus proche (Aéroport de Toulon - Hyères) est à 21 km.\", 'id__13': 19, 'score_given__14': 9.2, 'url_hotel__14': 'https://www.booking.com/hotel/fr/villa-nais.fr.html?aid', 'city__14': 'Bormes les Mimosas', 'hotel_name__14': 'Villa Nais B&B', 'lat__14': 43.15915543, 'lon__14': 6.32169306, 'hotel_description__14': \"L'établissement La Villa Nais est situé dans le sud de la France, à seulement 6 km des plages et du centre ville de Bormes-les-Mimosas. Il propose un ... (556 characters truncated) ... illa Nais est à 20 minutes de route d'Hyères et à 45 minutes de Saint-Tropez. Le village historique de Bormes-les-Mimosas se trouve à seulement 6 km.\", 'id__14': 19, 'score_given__15': 9.7, 'url_hotel__15': 'https://www.booking.com/hotel/fr/eole-villa-d-architecte-a-la-vue-surprenante.fr.html?aid', 'city__15': 'Bormes les Mimosas', 'hotel_name__15': \"Eole, villa d'architecte à la vue surprenante\", 'lat__15': 43.1494841, 'lon__15': 6.3308947, 'hotel_description__15': \"Situé à Bormes-les-Mimosas, l’hébergement Eole, villa d'architecte à la vue surprenante offre une vue sur le jardin. Il possède une piscine extérieur ... (738 characters truncated) ... nt des Fées. L’établissement est à 21 km de l’aéroport le plus proche (Aéroport de Toulon - Hyères) et propose un service de navette aéroport payant.\", 'id__15': 19, 'score_given__16': 9.1, 'url_hotel__16': 'https://www.booking.com/hotel/fr/studio-bormes-in-blue-a-la-faviere-classe-3-etoiles.fr.html?aid', 'city__16': 'Bormes les Mimosas', 'hotel_name__16': 'Studio Bormes in Blue à La Favière - Classé 3 étoiles', 'lat__16': 43.12257018, 'lon__16': 6.35774943, 'hotel_description__16': \"Offrant une vue sur le jardin, l’hébergement Studio Bormes in Blue à La Favière - Classé 3 étoiles se situe à Bormes-les-Mimosas, à respectivement 30 ... (482 characters truncated) ... s lieux d’intérêt : Plage de la Pointe de Gouron et Chateau de Grimaud. L'aéroport le plus proche (Aéroport de Toulon - Hyères) est implanté à 23 km.\", 'id__16': 19}\n",
      "2024-01-24 11:15:18,051 INFO sqlalchemy.engine.Engine COMMIT\n",
      "2024-01-24 11:15:18,202 INFO sqlalchemy.engine.Engine BEGIN (implicit)\n",
      "2024-01-24 11:15:18,204 INFO sqlalchemy.engine.Engine SELECT pg_catalog.pg_class.relname \n",
      "FROM pg_catalog.pg_class JOIN pg_catalog.pg_namespace ON pg_catalog.pg_namespace.oid = pg_catalog.pg_class.relnamespace \n",
      "WHERE pg_catalog.pg_class.relname = %(table_name)s AND pg_catalog.pg_class.relkind = ANY (ARRAY[%(param_1)s, %(param_2)s, %(param_3)s, %(param_4)s, %(param_5)s]) AND pg_catalog.pg_table_is_visible(pg_catalog.pg_class.oid) AND pg_catalog.pg_namespace.nspname != %(nspname_1)s\n",
      "2024-01-24 11:15:18,204 INFO sqlalchemy.engine.Engine [cached since 5.358s ago] {'table_name': 'cities_booking', 'param_1': 'r', 'param_2': 'p', 'param_3': 'f', 'param_4': 'v', 'param_5': 'm', 'nspname_1': 'pg_catalog'}\n",
      "2024-01-24 11:15:18,386 INFO sqlalchemy.engine.Engine INSERT INTO cities_booking (city, hotel_name, url_hotel, score_given, lat, lon, hotel_description, id) VALUES (%(city__0)s, %(hotel_name__0)s, %(url_hotel__0)s, %(score_given__0)s, %(lat__0)s, %(lon__0)s, %(hotel_description__0)s, %(id__0)s), (%(city ... 5600 characters truncated ... l_hotel__41)s, %(score_given__41)s, %(lat__41)s, %(lon__41)s, %(hotel_description__41)s, %(id__41)s)\n",
      "2024-01-24 11:15:18,387 INFO sqlalchemy.engine.Engine [generated in 0.00020s (insertmanyvalues) 1/1 (unordered)] {'score_given__0': 7.0, 'url_hotel__0': 'https://www.booking.com/hotel/fr/premiere-classe-carcassonne.fr.html?aid', 'city__0': 'Carcassonne', 'hotel_name__0': 'Premiere Classe Carcassonne', 'lat__0': 43.20661669, 'lon__0': 2.31279239, 'hotel_description__0': \"Le Premiere Classe Carcassonne se situe à La Bouriette, à proximité de l'autoroute A61 des Deux Mers et à 3 minutes de l'aéroport. Une connexion Wi-F ... (201 characters truncated) ... Le Premiere Classe Carcassonne propose également un parking privé gratuit, l'enregistrement et le départ 24h/24 ainsi qu'un petit-déjeuner quotidien.\", 'id__0': 29, 'score_given__1': 8.4, 'url_hotel__1': 'https://www.booking.com/hotel/fr/inter-espace-cite.fr.html?aid', 'city__1': 'Carcassonne', 'hotel_name__1': 'Hotel Espace Cite', 'lat__1': 43.2083547, 'lon__1': 2.36776024, 'hotel_description__1': \"L'Hotel Espace Cite est situé à seulement 200\\xa0mètres du centre-ville médiéval de Carcassone et à 500\\xa0mètres du canal du Midi, deux sites classé ... (486 characters truncated) ... ilité, l'hôtel propose un parking privé dans un garage souterrain moyennant des frais supplémentaires.  La gare de Carcassonne se trouve à 2,5\\xa0km.\", 'id__1': 29, 'score_given__2': 8.0, 'url_hotel__2': 'https://www.booking.com/hotel/fr/des-trois-couronnes.fr.html?aid', 'city__2': 'Carcassonne', 'hotel_name__2': 'Tribe Carcassonne', 'lat__2': 43.21030573, 'lon__2': 2.3577556, 'hotel_description__2': 'Bénéficiant d’un emplacement privilégié dans la ville basse de Carcassonne, où vous pourrez découvrir tous les secrets de la cité médiévale dans un c ... (448 characters truncated) ... es chambres avec balcon offrent une vue magnifique sur la cité médiévale, et vous pourrez vous détendre dans la piscine intérieure chauffée avec vue.', 'id__2': 29, 'score_given__3': 7.5, 'url_hotel__3': 'https://www.booking.com/hotel/fr/adonis-la-barbacane.fr.html?aid', 'city__3': 'Carcassonne', 'hotel_name__3': 'Adonis Carcassonne', 'lat__3': 43.20478378, 'lon__3': 2.36022029, 'hotel_description__3': \"L'Adonis Carcassonne vous accueille au pied du centre historique de Carcassonne, à seulement 350 mètres de la ville médiévale. Vous bénéficierez d'un ... (466 characters truncated) ... ce de location de vélos pour visiter les châteaux cathares. Enfin, la basilique Saint-Nazaire se trouve à 5 minutes de route de l'Adonis Carcassonne.\", 'id__3': 29, 'score_given__4': 8.7, 'url_hotel__4': 'https://www.booking.com/hotel/fr/ombrelle.fr.html?aid', 'city__4': 'Carcassonne', 'hotel_name__4': \"L'ombrelle\", 'lat__4': 43.2139848, 'lon__4': 2.3502591, 'hotel_description__4': \"Situé à Carcassonne, en Occitanie, l'établissement L'ombrelle dispose d'une terrasse. Vous aurez accès à un balcon.  Cette chambre d'hôtes comprend une télévision à écran plat. Les serviettes et le linge de lit sont fournis.  Ce Bed & Breakfast sert un petit-déjeuner à la carte.\", 'id__4': 29, 'score_given__5': 7.8, 'url_hotel__5': 'https://www.booking.com/hotel/fr/ibis-budget-carcassonne-la-cite.fr.html?aid', 'city__5': 'Carcassonne', 'hotel_name__5': 'ibis budget Carcassonne La Cité', 'lat__5': 43.20765481, 'lon__5': 2.37880826, 'hotel_description__5': \"L'ibis budget Carcassonne La Cité est situé à Carcassonne, à 15 minutes à pied de la cité médiévale et à 2 km du centre-ville.  Présentant un décor m ... (302 characters truncated) ... ne se trouve à seulement 15 minutes de route de l'hôtel et la gare est à 10 minutes. Vous pourrez profiter gratuitement d'un parking privé sur place.\", 'id__5': 29, 'score_given__6': 8.5, 'url_hotel__6': 'https://www.booking.com/hotel/fr/la-rapia-re.fr.html?aid' ... 236 parameters truncated ... 'hotel_description__35': 'Situé à 500\\xa0mètres de la cité médiévale de Carcassonne, l’établissement Cerise Carcassonne Sud possède une piscine intérieure, un hammam et une co ... (1295 characters truncated) ... he du château de Carcassonne et à 2\\xa0km de la gare de la ville.  Une préautorisation vous sera demandée à votre arrivée pour garantir votre séjour.', 'id__35': 29, 'score_given__36': 9.5, 'url_hotel__36': 'https://www.booking.com/hotel/fr/occ11-carcassonne-oasis-de-la-cite.fr.html?aid', 'city__36': 'Carcassonne', 'hotel_name__36': 'Oasis De La Cit, A Beautiful Property, Sleeps 8,', 'lat__36': 43.2059994, 'lon__36': 2.3610647, 'hotel_description__36': \"Situé à Carcassonne, l'OCC11 - Carcassonne - Oasis de la Cite propose des hébergements avec une piscine privée et une connexion Wi-Fi gratuite. Situé ... (301 characters truncated) ... é de la Maison des Mémoires, du château de Comtal et de la cathédrale de Carcassonne. L'aéroport de Carcassonne, le plus proche, est implanté à 5 km.\", 'id__36': 29, 'score_given__37': 10.0, 'url_hotel__37': 'https://www.booking.com/hotel/fr/villa-le-jardin-de-la-cite-carcassonne.fr.html?aid', 'city__37': 'Carcassonne', 'hotel_name__37': 'Villa Le jardin de la cité', 'lat__37': 43.2061612, 'lon__37': 2.370974, 'hotel_description__37': \"L’hébergement Villa Le jardin de la cité se trouve à Carcassonne, à respectivement 800 mètres et 3 km de ces lieux d’intérêt : Comtal Castle et Cathé ... (327 characters truncated) ... plat, une cuisine entièrement équipée et une terrasse offrant une vue sur le jardin.  L'aéroport le plus proche (Aéroport de Carcassonne) est à 6 km.\", 'id__37': 29, 'score_given__38': 10.0, 'url_hotel__38': 'https://www.booking.com/hotel/fr/l-39-ecrin-de-la-cite.fr.html?aid', 'city__38': 'Carcassonne', 'hotel_name__38': \"L'écrin de la Cité, Coeur de Vignes\", 'lat__38': 43.20212761, 'lon__38': 2.36145271, 'hotel_description__38': \"Situé à Carcassonne, l’hébergement L'écrin de la Cité, Coeur de Vignes offre une vue sur la ville. Il comprend une piscine extérieure ouverte en sais ... (796 characters truncated) ... ivement 49 km et 900 mètres de ces lieux d’intérêt : Termes Chateau et Comtal Castle. L'aéroport le plus proche (Aéroport de Carcassonne) est à 5 km.\", 'id__38': 29, 'score_given__39': 10.0, 'url_hotel__39': 'https://www.booking.com/hotel/fr/domaine-de-la-jasso-au-pied-de-la-cite-medievale.fr.html?aid', 'city__39': 'Carcassonne', 'hotel_name__39': 'Domaine de la JASSO, au pied de la Cité Médiévale', 'lat__39': 43.20372976, 'lon__39': 2.34650752, 'hotel_description__39': \"Situé à Carcassonne, l’hébergement Domaine de la JASSO, au pied de la Cité Médiévale offre une vue sur la montagne. Il possède une piscine extérieure ... (641 characters truncated) ... nt 48 km et 2,9 km de ces lieux d’intérêt : Termes Chateau et Comtal Castle. L'aéroport le plus proche (Aéroport de Carcassonne) est implanté à 4 km.\", 'id__39': 29, 'score_given__40': 7.9, 'url_hotel__40': 'https://www.booking.com/hotel/fr/balladins-carcassonne.fr.html?aid', 'city__40': 'Carcassonne', 'hotel_name__40': 'The Originals City, Hôtel Pont Rouge (ex inter-hôtel), Carcassonne', 'lat__40': 43.23383056, 'lon__40': 2.36871243, 'hotel_description__40': \"Doté d'une réception ouverte 24h/24, The Originals City, Hôtel Pont Rouge (ex inter-hôtel), Carcassonne est situé à 10\\xa0minutes en voiture de l'aér ... (410 characters truncated) ... ert un petit-déjeuner buffet chaque matin.  L'hôtel se trouve à 60\\xa0km de Narbonne. Vous pourrez profiter d’un parking surveillé gratuit sur place.\", 'id__40': 29, 'score_given__41': 9.1, 'url_hotel__41': 'https://www.booking.com/hotel/fr/appartement-l-39-olivier-carcassonne.fr.html?aid', 'city__41': 'Carcassonne', 'hotel_name__41': \"Appartement L' Olivier\", 'lat__41': 43.2180126, 'lon__41': 2.3735471, 'hotel_description__41': \"L’hébergement Appartement L' Olivier se situe à Carcassonne, à respectivement 1,8 km et 4 km de ces lieux d’intérêt : Comtal Castle et Cathédrale Sai ... (474 characters truncated) ... fiter d’une terrasse sur place et pratiquer la randonnée dans les environs.  L'aéroport le plus proche (Aéroport de Carcassonne) est implanté à 5 km.\", 'id__41': 29}\n",
      "2024-01-24 11:15:18,483 INFO sqlalchemy.engine.Engine COMMIT\n",
      "2024-01-24 11:15:18,634 INFO sqlalchemy.engine.Engine BEGIN (implicit)\n",
      "2024-01-24 11:15:18,636 INFO sqlalchemy.engine.Engine SELECT pg_catalog.pg_class.relname \n",
      "FROM pg_catalog.pg_class JOIN pg_catalog.pg_namespace ON pg_catalog.pg_namespace.oid = pg_catalog.pg_class.relnamespace \n",
      "WHERE pg_catalog.pg_class.relname = %(table_name)s AND pg_catalog.pg_class.relkind = ANY (ARRAY[%(param_1)s, %(param_2)s, %(param_3)s, %(param_4)s, %(param_5)s]) AND pg_catalog.pg_table_is_visible(pg_catalog.pg_class.oid) AND pg_catalog.pg_namespace.nspname != %(nspname_1)s\n",
      "2024-01-24 11:15:18,636 INFO sqlalchemy.engine.Engine [cached since 5.79s ago] {'table_name': 'cities_booking', 'param_1': 'r', 'param_2': 'p', 'param_3': 'f', 'param_4': 'v', 'param_5': 'm', 'nspname_1': 'pg_catalog'}\n",
      "2024-01-24 11:15:18,814 INFO sqlalchemy.engine.Engine INSERT INTO cities_booking (city, hotel_name, url_hotel, score_given, lat, lon, hotel_description, id) VALUES (%(city__0)s, %(hotel_name__0)s, %(url_hotel__0)s, %(score_given__0)s, %(lat__0)s, %(lon__0)s, %(hotel_description__0)s, %(id__0)s), (%(city ... 2780 characters truncated ... l_hotel__21)s, %(score_given__21)s, %(lat__21)s, %(lon__21)s, %(hotel_description__21)s, %(id__21)s)\n",
      "2024-01-24 11:15:18,815 INFO sqlalchemy.engine.Engine [generated in 0.00025s (insertmanyvalues) 1/1 (unordered)] {'score_given__0': 8.2, 'url_hotel__0': 'https://www.booking.com/hotel/fr/home-cassis-maison-mediterrannee.fr.html?aid', 'city__0': 'Cassis', 'hotel_name__0': 'Home Cassis - Maison Mediterranée - Piscine chauffée', 'lat__0': 43.21977635, 'lon__0': 5.53745873, 'hotel_description__0': \"Proposant une piscine, un jardin, une terrasse et connexion Wi-Fi gratuite, l’établissement Home Cassis - Maison Mediterranée - Piscine chauffée se t ... (567 characters truncated) ...  d’intérêt\\xa0: Plage de la Grande Mer, Plage du Bestouan et Plage du Corton. L'aéroport le plus proche (Aéroport de Marseille Provence) est à 45 km.\", 'id__0': 20, 'score_given__1': 7.6, 'url_hotel__1': 'https://www.booking.com/hotel/fr/home-cassis.fr.html?aid', 'city__1': 'Cassis', 'hotel_name__1': 'Home Cassis - Maison Les Calanques - Piscine chauffée', 'lat__1': 43.21183243, 'lon__1': 5.52470152, 'hotel_description__1': \"Situé à 1 km du port de Cassis, l'établissement Home Cassis est une résidence de 4 appartements, abritant une piscine commune. Il se trouve à 5 minut ... (705 characters truncated) ... km et Toulon est à 45 km. La gare de Cassis est à 5 km de l'établissement, tandis que l'arrêt de bus le plus proche est situé à seulement 100 mètres.\", 'id__1': 20, 'score_given__2': 9.2, 'url_hotel__2': 'https://www.booking.com/hotel/fr/hpc-suites.fr.html?aid', 'city__2': 'Cassis', 'hotel_name__2': 'HPC Suites', 'lat__2': 43.21644024, 'lon__2': 5.54174572, 'hotel_description__2': \"Doté d'une piscine extérieure commune avec terrasse et vue sur la mer, le HPC Suites est situé dans un parc de 4 000 m2 dans le centre de Cassis. Mar ... (877 characters truncated) ... ngée sous-marine et de vélo. Aix-en-Provence se trouve à 35 km du HPC Suites. L'aéroport de Marseille-Provence, le plus proche, est implanté à 36 km.\", 'id__2': 20, 'score_given__3': 8.2, 'url_hotel__3': 'https://www.booking.com/hotel/fr/une-terrasse-sur-la-mer-cassis.fr.html?aid', 'city__3': 'Cassis', 'hotel_name__3': 'UNE TERRASSE SUR LA MER 3 pers 2 chambres VUE MER', 'lat__3': 43.21407197, 'lon__3': 5.53062182, 'hotel_description__3': \"L'établissement UNE TERRASSE SUR LA MER 3 pers 2 chambres VUE MER est situé à Cassis, à 400 mètres de Bestouan et à 1,1 km de la Grande Mer, dans une ... (698 characters truncated) ...  le plus proche, celui de Marseille-Provence, est situé à 46 km. Un service de navette aéroport peut être assuré moyennant des frais supplémentaires.\", 'id__3': 20, 'score_given__4': 9.3, 'url_hotel__4': 'https://www.booking.com/hotel/fr/la-douceur-de-cassis.fr.html?aid', 'city__4': 'Cassis', 'hotel_name__4': 'La douceur de Cassis', 'lat__4': 43.215009, 'lon__4': 5.530956, 'hotel_description__4': \"Situé à Cassis, à 500 mètres de Bestouan et à 1,2 km de la Grande Mer, l'établissement La douceur de Cassis propose un hébergement climatisé avec un  ... (442 characters truncated) ... 0 km du stade Orange Vélodrome et de la station de métro Rond-Point du Prado. L'aéroport de Marseille-Provence, le plus proche, est implanté à 46 km.\", 'id__4': 20, 'score_given__5': 8.4, 'url_hotel__5': 'https://www.booking.com/hotel/fr/du-grand-jardin.fr.html?aid', 'city__5': 'Cassis', 'hotel_name__5': 'Best Western Hotel & SPA Coeur De Cassis', 'lat__5': 43.21457326, 'lon__5': 5.54014698, 'hotel_description__5': \"Le Best Western Hotel & SPA Coeur De Cassis vous accueille dans le centre-ville de Cassis, à 200\\xa0mètres du port et 300\\xa0mètres de la plage. Cet  ... (974 characters truncated) ...  personnel de la réception se fera un plaisir de vous donner des conseils pratiques pendant votre séjour, pour le rendre aussi agréable que possible.\", 'id__5': 20, 'score_given__6': 8.2, 'url_hotel__6': 'https://www.booking.com/hotel/fr/mistral-cassis.fr.html?aid' ... 76 parameters truncated ... 'hotel_description__15': \"Offrant une vue sur la mer, l’hébergement Cassis Ma Vie Là se trouve à Cassis, à respectivement 700 mètres et 1 km de ces lieux d’intérêt : Plage de  ... (626 characters truncated) ... 2 km et 19 km de ces lieux d’intérêt : Plage du Bestouan et Orange Vélodrome. L'aéroport le plus proche (Aéroport de Marseille Provence) est à 45 km.\", 'id__15': 20, 'score_given__16': 9.3, 'url_hotel__16': 'https://www.booking.com/hotel/fr/lou-parpaiou-by-k6conciergerie.fr.html?aid', 'city__16': 'Cassis', 'hotel_name__16': 'Lou Parpaiou by K6Conciergerie', 'lat__16': 43.2150024, 'lon__16': 5.5388642, 'hotel_description__16': \"Offrant une vue sur la ville, le Lou Parpaiou by K6Conciergerie est un hébergement situé à Cassis, à 300 mètres de la Grande Mer et à 800 mètres de l ... (403 characters truncated) ... séjournerez à moins de 1 km de Bestouan et à 19 km du stade Orange Vélodrome. L'aéroport de Marseille-Provence, le plus proche, est implanté à 45 km.\", 'id__16': 20, 'score_given__17': 9.7, 'url_hotel__17': 'https://www.booking.com/hotel/fr/face-a-la-mer-cassis.fr.html?aid', 'city__17': 'Cassis', 'hotel_name__17': 'FACE A LA MER', 'lat__17': 43.21426126, 'lon__17': 5.53067295, 'hotel_description__17': \"Situé à Cassis, à 500 mètres de Bestouan et à 1,2 km de la Grande Mer, le FACE A LA MER propose une baignoire en plein air et la climatisation. Vous  ... (712 characters truncated) ...  1,6 km de la plage de l'Anse de Corton et à 20 km du stade Orange Vélodrome. L'aéroport de Marseille-Provence, le plus proche, est implanté à 46 km.\", 'id__17': 20, 'score_given__18': 8.5, 'url_hotel__18': 'https://www.booking.com/hotel/fr/le-panoramic-2-par-dodo-a-cassis.fr.html?aid', 'city__18': 'Cassis', 'hotel_name__18': 'Le Panoramic 2 par Dodo-a-Cassis', 'lat__18': 43.21637717, 'lon__18': 5.54464412, 'hotel_description__18': \"Situé à Cassis, l’hébergement Le Panoramic 2 par Dodo-a-Cassis offre une vue sur la mer. Il comprend une terrasse et une connexion Wi-Fi gratuite. Ce ... (461 characters truncated) ... x d’intérêt\\xa0: Plage de la Grande Mer, Plage du Corton et Plage de l’Arène. L'aéroport le plus proche (Aéroport de Marseille Provence) est à 45 km.\", 'id__18': 20, 'score_given__19': 9.4, 'url_hotel__19': 'https://www.booking.com/hotel/fr/aquarius-in-cassis-chambres-d-hotes.fr.html?aid', 'city__19': 'Cassis', 'hotel_name__19': \"AQUARIUS IN CASSIS, Chambres d'Hôtes\", 'lat__19': 43.2223547, 'lon__19': 5.5345386, 'hotel_description__19': \"Situé à Cassis, à moins de 1,2 km de Bestouan et à 1,5 km de la Grande Mer, l'AQUARIUS IN CASSIS, Chambres d'Hôtes propose un hébergement avec une pi ... (580 characters truncated) ...  1,8 km de la plage de l'Anse de Corton et à 19 km du stade Orange Vélodrome. L'aéroport de Marseille-Provence, le plus proche, est implanté à 45 km.\", 'id__19': 20, 'score_given__20': 8.5, 'url_hotel__20': 'https://www.booking.com/hotel/fr/horizon-bleu-vue-mer.fr.html?aid', 'city__20': 'Cassis', 'hotel_name__20': 'HORIZON BLEU Vue Mer', 'lat__20': 43.21499337, 'lon__20': 5.53584943, 'hotel_description__20': \"Situé à Cassis, l’hébergement HORIZON BLEU Vue Mer offre une vue sur la mer. Il comprend une terrasse et une connexion Wi-Fi gratuite. Cet appartemen ... (695 characters truncated) ...  d’intérêt\\xa0: Plage du Bestouan, Plage de la Grande Mer et Plage du Corton. L'aéroport le plus proche (Aéroport de Marseille Provence) est à 45 km.\", 'id__20': 20, 'score_given__21': 8.5, 'url_hotel__21': 'https://www.booking.com/hotel/fr/appartement-du-pecheur-a-cassis-a-10-metres-du-port.fr.html?aid', 'city__21': 'Cassis', 'hotel_name__21': 'appartement du pêcheur à Cassis à 10 mètres du port', 'lat__21': 43.21534046, 'lon__21': 5.5368582, 'hotel_description__21': \"Offrant une vue sur la ville, l’hébergement appartement du pêcheur à Cassis à 10 mètres du port propose une terrasse et un balcon, à environ 400 mètr ... (597 characters truncated) ... 20 km de ces lieux d’intérêt : Orange Vélodrome et Métro Rond-point du Prado. L'aéroport le plus proche (Aéroport de Marseille Provence) est à 45 km.\", 'id__21': 20}\n",
      "2024-01-24 11:15:18,914 INFO sqlalchemy.engine.Engine COMMIT\n",
      "2024-01-24 11:15:19,070 INFO sqlalchemy.engine.Engine BEGIN (implicit)\n",
      "2024-01-24 11:15:19,071 INFO sqlalchemy.engine.Engine SELECT pg_catalog.pg_class.relname \n",
      "FROM pg_catalog.pg_class JOIN pg_catalog.pg_namespace ON pg_catalog.pg_namespace.oid = pg_catalog.pg_class.relnamespace \n",
      "WHERE pg_catalog.pg_class.relname = %(table_name)s AND pg_catalog.pg_class.relkind = ANY (ARRAY[%(param_1)s, %(param_2)s, %(param_3)s, %(param_4)s, %(param_5)s]) AND pg_catalog.pg_table_is_visible(pg_catalog.pg_class.oid) AND pg_catalog.pg_namespace.nspname != %(nspname_1)s\n",
      "2024-01-24 11:15:19,072 INFO sqlalchemy.engine.Engine [cached since 6.226s ago] {'table_name': 'cities_booking', 'param_1': 'r', 'param_2': 'p', 'param_3': 'f', 'param_4': 'v', 'param_5': 'm', 'nspname_1': 'pg_catalog'}\n",
      "2024-01-24 11:15:19,250 INFO sqlalchemy.engine.Engine INSERT INTO cities_booking (city, hotel_name, url_hotel, score_given, lat, lon, hotel_description, id) VALUES (%(city__0)s, %(hotel_name__0)s, %(url_hotel__0)s, %(score_given__0)s, %(lat__0)s, %(lon__0)s, %(hotel_description__0)s, %(id__0)s), (%(city ... 2921 characters truncated ... l_hotel__22)s, %(score_given__22)s, %(lat__22)s, %(lon__22)s, %(hotel_description__22)s, %(id__22)s)\n",
      "2024-01-24 11:15:19,251 INFO sqlalchemy.engine.Engine [generated in 0.00013s (insertmanyvalues) 1/1 (unordered)] {'score_given__0': 8.7, 'url_hotel__0': 'https://www.booking.com/hotel/fr/les-chambres-du-haut-koenigsbourg.fr.html?aid', 'city__0': 'Chateau du Haut Koenigsbourg', 'hotel_name__0': 'Les Chambres du Haut-Koenigsbourg', 'lat__0': 48.2470228, 'lon__0': 7.34632093, 'hotel_description__0': \"Situé à Orschwiller, en Alsace, à proximité du château du Haut Koenigsbourg, l'établissement Les Chambres du Haut-Koenigsbourg propose des hébergemen ... (521 characters truncated) ... z à 23 km du parc des expositions Colmar Expo et à 26 km de la Maison des Têtes. L'aéroport international de Strasbourg, le plus proche, est à 48 km.\", 'id__0': 10, 'score_given__1': 9.0, 'url_hotel__1': 'https://www.booking.com/hotel/fr/la-foret-enchantee-cozy-immo.fr.html?aid', 'city__1': 'Chateau du Haut Koenigsbourg', 'hotel_name__1': 'La forêt Enchantée - Cozy Immo', 'lat__1': 48.2484025, 'lon__1': 7.3548257, 'hotel_description__1': \"La forêt Enchantée - Cozy Immo est située à Orschwiller, à 24 km de Colmar Expo, à 26 km de la Maison des Têtes et à 27 km de la collégiale Saint-Mar ... (362 characters truncated) ... urnis.  Vous séjournerez à 28 km de la gare de Colmar et à 35 km du musée Würth. L'aéroport international de Strasbourg, le plus proche, est à 47 km.\", 'id__1': 10, 'score_given__2': 9.0, 'url_hotel__2': 'https://www.booking.com/hotel/fr/gite-l-39-oree-du-chateau.fr.html?aid', 'city__2': 'Chateau du Haut Koenigsbourg', 'hotel_name__2': \"Gîte L'Orée du Château - Appartement Potiron\", 'lat__2': 48.24834892, 'lon__2': 7.35484448, 'hotel_description__2': \"Doté d'un jardin et offrant une vue sur la montagne, le Gîte L'Orée du Château - Appartement Potiron est situé à Orschwiller, à 3,2 km du château du  ... (553 characters truncated) ... urnerez à 26 km de la Maison des Têtes et à 27 km de la collégiale Saint-Martin. L'aéroport international de Strasbourg, le plus proche, est à 47 km.\", 'id__2': 10, 'score_given__3': 8.8, 'url_hotel__3': 'https://www.booking.com/hotel/fr/le-mittelwihr.fr.html?aid', 'city__3': 'Chateau du Haut Koenigsbourg', 'hotel_name__3': 'Hôtel Le Mittelwihr', 'lat__3': 48.15064882, 'lon__3': 7.32050344, 'hotel_description__3': \"Bénéficiant d'un emplacement idéal sur la route des vins, l'Hôtel Le Mittelwihr vous réserve un accueil chaleureux et convivial dans un bâtiment au d ... (390 characters truncated) ...  la terrasse.  Détendez-vous dans le sauna, le solarium et profitez de massages au Mandelberg Hotel, à 200 mètres seulement de l'Hôtel Le Mittelwihr.\", 'id__3': 10, 'score_given__4': 9.3, 'url_hotel__4': 'https://www.booking.com/hotel/fr/chalet-les-pres.fr.html?aid', 'city__4': 'Chateau du Haut Koenigsbourg', 'hotel_name__4': 'Chalet Les Prés', 'lat__4': 48.30668606, 'lon__4': 7.34107822, 'hotel_description__4': \"L’hébergement Chalet Les Prés se situe à Neubois, à respectivement 17 km, 28 km et 31 km de ces lieux d’intérêt : Château du Haut-Kœnigsbourg, Parc d ... (616 characters truncated) ... de ces lieux d’intérêt : Collégiale Saint-Martin et Gare de Colmar. L'aéroport le plus proche (Aéroport de Strasbourg Entzheim) est implanté à 38 km.\", 'id__4': 10, 'score_given__5': 8.9, 'url_hotel__5': 'https://www.booking.com/hotel/fr/le-domaine-des-remparts.fr.html?aid', 'city__5': 'Chateau du Haut Koenigsbourg', 'hotel_name__5': \"Chambres d'Hôtes Le Domaine des Remparts\", 'lat__5': 48.25543163, 'lon__5': 7.45202824, 'hotel_description__5': \"Situées à Sélestat, dans une maison à colombages, les Chambres d'Hôtes Le Domaine des Remparts sont à 10 minutes en voiture de la Route des Vins d'Al ... (549 characters truncated) ... trasbourg se trouve à 30 minutes de route. Dans les environs, vous pourrez visiter le château du Haut-Koenisgbourg, situé à 15 km de l’établissement.\", 'id__5': 10, 'score_given__6': 9.1, 'url_hotel__6': 'https://www.booking.com/hotel/fr/gite-au-cadran-solaire.fr.html?aid' ... 84 parameters truncated ... 'hotel_description__16': \"Situé sur la route des vins d'Alsace, l'Hotel Kieffer propose des chambres avec connexion Wi-Fi gratuite. Une connexion Wi-Fi et une télévision à écr ... (343 characters truncated) ... personne.  Un parking privé est disponible gratuitement sur place. Vous séjournerez à 35 km de Strasbourg et à 20 km du château du Haut Koenigsbourg.\", 'id__16': 10, 'score_given__17': 8.4, 'url_hotel__17': 'https://www.booking.com/hotel/fr/au-lion-ribeauville.fr.html?aid', 'city__17': 'Chateau du Haut Koenigsbourg', 'hotel_name__17': 'Hôtel Au Lion', 'lat__17': 48.19593809, 'lon__17': 7.31681406, 'hotel_description__17': \"Doté d'un bar, l'Hôtel-Restaurant Au Lion est situé dans le centre de Ribeauvillé, à 100 mètres de la forêt de la ville. Il propose des chambres non- ... (498 characters truncated) ... ce de navette depuis/vers certaines gares et aéroports. Enfin, vous disposerez d'un parking privé pour les motos moyennant des frais supplémentaires.\", 'id__17': 10, 'score_given__18': 8.4, 'url_hotel__18': 'https://www.booking.com/hotel/fr/aux-deux-cigognes-ammerschwihr.fr.html?aid', 'city__18': 'Chateau du Haut Koenigsbourg', 'hotel_name__18': 'AUX DEUX CIGOGNES AMMERSCHWIHR', 'lat__18': 48.1255604, 'lon__18': 7.279462, 'hotel_description__18': \"Situé à Ammerschwihr, à 8,5 km de la Maison des Têtes et à 9 km du parc des expositions Colmar Expo, l'établissement AUX DEUX CIGOGNES AMMERSCHWIHR o ... (409 characters truncated) ...   Vous séjournerez à 9 km de la collégiale Saint-Martin et de la gare de Colmar. L'aéroport international de Strasbourg, le plus proche, est à 65 km.\", 'id__18': 10, 'score_given__19': 9.1, 'url_hotel__19': 'https://www.booking.com/hotel/fr/le-haut-koenigsbourg.fr.html?aid', 'city__19': 'Chateau du Haut Koenigsbourg', 'hotel_name__19': 'Hôtel du Haut Koenigsbourg- entre vignes et château', 'lat__19': 48.23164092, 'lon__19': 7.30222034, 'hotel_description__19': 'L’Hôtel du Haut Koenigsbourg- entre vignes et château propose des hébergements avec salle de bains privative dans le parc régional des Ballons des Vo ... (674 characters truncated) ... t-Kœnigsbourg se trouve à 7,1\\xa0km de l’hôtel. La gare de Ribeauvillé est située à 10\\xa0km. Un parking privé est disponible gratuitement sur place.', 'id__19': 10, 'score_given__20': 8.9, 'url_hotel__20': 'https://www.booking.com/hotel/fr/auberge-le-meisenberg.fr.html?aid', 'city__20': 'Chateau du Haut Koenigsbourg', 'hotel_name__20': 'Auberge Le Meisenberg', 'lat__20': 48.27175703, 'lon__20': 7.39950542, 'hotel_description__20': \"Doté d'une connexion Wi-Fi gratuite et d'un restaurant, le Châtenois se trouve à 2,2 km de la montagne des singes et à 3 km du parc d'attractions Cig ... (191 characters truncated) ... atiquer diverses activités dans les environs, telles que l'équitation et le vélo. Enfin, l'aéroport international de Strasbourg est implanté à 35 km.\", 'id__20': 10, 'score_given__21': 7.5, 'url_hotel__21': 'https://www.booking.com/hotel/fr/le-pied-a-terre-selestadien.fr.html?aid', 'city__21': 'Chateau du Haut Koenigsbourg', 'hotel_name__21': 'LE PIED A TERRE SELESTADIEN', 'lat__21': 48.2588035, 'lon__21': 7.4600396, 'hotel_description__21': \"Situé à Sélestat, l’hébergement LE PIED A TERRE SELESTADIEN offre une vue sur le jardin. Il comprend un service de prêt de vélos, une piscine extérie ... (719 characters truncated) ...  L'aéroport le plus proche (Aéroport de Strasbourg Entzheim) est à 38 km. Un service de navette aéroport payant peut être assuré par l’établissement.\", 'id__21': 10, 'score_given__22': 9.2, 'url_hotel__22': 'https://www.booking.com/hotel/fr/gite-les-cerisiers-triembach-au-val.fr.html?aid', 'city__22': 'Chateau du Haut Koenigsbourg', 'hotel_name__22': 'Gîte Les Cerisiers', 'lat__22': 48.33922632, 'lon__22': 7.32549987, 'hotel_description__22': \"Doté d'un barbecue et offrant une vue sur le jardin, le Gîte Les Cerisiers est situé à Triembach-au-Val, à 20 km du château du Haut Koenigsbourg et à ... (547 characters truncated) ... ons.  Vous séjournerez à 33 km du musée Würth et à 34 km de la Maison des Têtes. L'aéroport international de Strasbourg, le plus proche, est à 37 km.\", 'id__22': 10}\n",
      "2024-01-24 11:15:19,346 INFO sqlalchemy.engine.Engine COMMIT\n",
      "2024-01-24 11:15:19,511 INFO sqlalchemy.engine.Engine BEGIN (implicit)\n",
      "2024-01-24 11:15:19,513 INFO sqlalchemy.engine.Engine SELECT pg_catalog.pg_class.relname \n",
      "FROM pg_catalog.pg_class JOIN pg_catalog.pg_namespace ON pg_catalog.pg_namespace.oid = pg_catalog.pg_class.relnamespace \n",
      "WHERE pg_catalog.pg_class.relname = %(table_name)s AND pg_catalog.pg_class.relkind = ANY (ARRAY[%(param_1)s, %(param_2)s, %(param_3)s, %(param_4)s, %(param_5)s]) AND pg_catalog.pg_table_is_visible(pg_catalog.pg_class.oid) AND pg_catalog.pg_namespace.nspname != %(nspname_1)s\n",
      "2024-01-24 11:15:19,513 INFO sqlalchemy.engine.Engine [cached since 6.667s ago] {'table_name': 'cities_booking', 'param_1': 'r', 'param_2': 'p', 'param_3': 'f', 'param_4': 'v', 'param_5': 'm', 'nspname_1': 'pg_catalog'}\n",
      "2024-01-24 11:15:19,692 INFO sqlalchemy.engine.Engine INSERT INTO cities_booking (city, hotel_name, url_hotel, score_given, lat, lon, hotel_description, id) VALUES (%(city__0)s, %(hotel_name__0)s, %(url_hotel__0)s, %(score_given__0)s, %(lat__0)s, %(lon__0)s, %(hotel_description__0)s, %(id__0)s), (%(city ... 3203 characters truncated ... l_hotel__24)s, %(score_given__24)s, %(lat__24)s, %(lon__24)s, %(hotel_description__24)s, %(id__24)s)\n",
      "2024-01-24 11:15:19,693 INFO sqlalchemy.engine.Engine [generated in 0.00015s (insertmanyvalues) 1/1 (unordered)] {'score_given__0': 8.3, 'url_hotel__0': 'https://www.booking.com/hotel/fr/la-fra-c-gate-collioure.fr.html?aid', 'city__0': 'Collioure', 'hotel_name__0': 'La Frégate', 'lat__0': 42.52638625, 'lon__0': 3.08325659, 'hotel_description__0': \"Situé à Collioure, l'établissement La Frégate possède un bar, un restaurant, une terrasse et un salon commun. L'établissement se trouve à 3,2\\xa0km d ... (461 characters truncated) ... Avall et le château royal de Collioure. L’aéroport le plus proche, celui de Perpignan-Rivesaltes, est situé à 42\\xa0km de l’établissement La Frégate.\", 'id__0': 28, 'score_given__1': 7.9, 'url_hotel__1': 'https://www.booking.com/hotel/fr/residence-du-soleil-collioure.fr.html?aid', 'city__1': 'Collioure', 'hotel_name__1': 'Résidence du Soleil', 'lat__1': 42.52311754, 'lon__1': 3.0854253, 'hotel_description__1': \"Situé dans le centre-ville de Collioure, à 400 mètres du château royal et à 100 mètres de la plage, cet appartement dispose d'une terrasse et d'un ja ... (345 characters truncated) ... bilité de pratiquer différentes activités dans les environs, telles que le vélo et la pêche. L'aéroport de Perpignan-Rivesaltes est implanté à 30 km.\", 'id__1': 28, 'score_given__2': 7.2, 'url_hotel__2': 'https://www.booking.com/hotel/fr/triton.fr.html?aid', 'city__2': 'Collioure', 'hotel_name__2': 'Hôtel Triton', 'lat__2': 42.52371617, 'lon__2': 3.08713473, 'hotel_description__2': 'Situé sur la plage du Boutiquet, l’Hôtel Triton propose des chambres climatisées donnant sur la baie de Collioure ou sur les Pyrénées. Une connexion  ... (693 characters truncated) ... ière espagnole et à 30\\xa0km de Perpignan. Un parking public est à votre disposition en face de l’établissement, moyennant des frais supplémentaires.', 'id__2': 28, 'score_given__3': 8.0, 'url_hotel__3': 'https://www.booking.com/hotel/fr/princes-de-catalogne.fr.html?aid', 'city__3': 'Collioure', 'hotel_name__3': 'Hôtel Princes de Catalogne', 'lat__3': 42.52591431, 'lon__3': 3.0826816, 'hotel_description__3': \"Installé dans la ville pittoresque de Collioure, l’Hôtel Princes de Catalogne vous accueille sur une place tranquille, à 400\\xa0mètres de la plage. L ... (322 characters truncated) ...  se fera un plaisir de vous aider à organiser des excursions, des visites guidées ou d’autres activités telles que la thalassothérapie et l’escalade.\", 'id__3': 28, 'score_given__4': 9.1, 'url_hotel__4': 'https://www.booking.com/hotel/fr/les-roches-brunes-collioure.fr.html?aid', 'city__4': 'Collioure', 'hotel_name__4': 'Les Roches Brunes', 'lat__4': 42.52534777, 'lon__4': 3.09032446, 'hotel_description__4': \"L’établissement Les Roches Brunes se trouve à Collioure, à quelques pas de ce lieu d’intérêt : Plage La Balette. Il propose un jardin, une terrasse,  ... (464 characters truncated) ... t\\xa0: Plage Boutigue, Plage Saint-Vincent et Château Royal de Collioure. L'aéroport le plus proche (Aéroport de Perpignan - Rivesaltes) est à 42 km.\", 'id__4': 28, 'score_given__5': 8.4, 'url_hotel__5': 'https://www.booking.com/hotel/fr/ibanova.fr.html?aid', 'city__5': 'Collioure', 'hotel_name__5': 'Ibanova Appartements', 'lat__5': 42.5231333, 'lon__5': 3.0855761, 'hotel_description__5': \"Situé à Collioure, en Occitanie, avec les plages de Boutigue et de Port Avall Situé à proximité, l'Ibanova Appartements propose des hébergements avec ... (537 characters truncated) ... z à 400 mètres de la plage de Balette et à 500 mètres du château royal de Collioure. L'aéroport de Perpignan-Rivesaltes, le plus proche, est à 42 km.\", 'id__5': 28, 'score_given__6': 8.6, 'url_hotel__6': 'https://www.booking.com/hotel/fr/la-bona-casa.fr.html?aid' ... 100 parameters truncated ... 'hotel_description__18': \"L’hébergement Amazing Apartment In Collioure With 2 Bedrooms And Internet se trouve à Collioure, à respectivement 1,2 km, 1,4 km et 1,1 km de ces lie ... (434 characters truncated) ...  de ces lieux d’intérêt\\xa0: Stade Gilbert-Brutus et Casino de Collioure. L'aéroport le plus proche (Aéroport de Perpignan - Rivesaltes) est à 33 km.\", 'id__18': 28, 'score_given__19': 8.0, 'url_hotel__19': 'https://www.booking.com/hotel/fr/4aig101-confortable-t2-avec-terrasse-sur-les-hauteurs-de-collioure.fr.html?aid', 'city__19': 'Collioure', 'hotel_name__19': '4AIG101 confortable T2 avec terrasse sur les hauteurs de Collioure', 'lat__19': 42.526852, 'lon__19': 3.076323, 'hotel_description__19': \"L’hébergement 4AIG101 confortable T2 avec terrasse sur les hauteurs de Collioure se situe à Collioure, à respectivement 1,5 km, 1,8 km et 1,5 km de c ... (567 characters truncated) ... s lieux d’intérêt : Stade Gilbert-Brutus et Casino de Collioure. L'aéroport le plus proche (Aéroport de Perpignan - Rivesaltes) est implanté à 33 km.\", 'id__19': 28, 'score_given__20': 6.0, 'url_hotel__20': 'https://www.booking.com/hotel/fr/le-grenache-collioure.fr.html?aid', 'city__20': 'Collioure', 'hotel_name__20': 'Le Grenache', 'lat__20': 42.5273872, 'lon__20': 3.0823386, 'hotel_description__20': \"L’hébergement Le Grenache se trouve à Collioure, à seulement 300 mètres de ce lieu d’intérêt : Plage Boramar. Il propose un jardin, une terrasse, un  ... (389 characters truncated) ... térêt\\xa0: Plage Nord, Plage Saint-Vincent et Château Royal de Collioure. L'aéroport le plus proche (Aéroport de Perpignan - Rivesaltes) est à 41 km.\", 'id__20': 28, 'score_given__21': 9.0, 'url_hotel__21': 'https://www.booking.com/hotel/fr/chambre-privee-collioure-centre.fr.html?aid', 'city__21': 'Collioure', 'hotel_name__21': 'Chambre_privée_Collioure_centre', 'lat__21': 42.526851, 'lon__21': 3.083962, 'hotel_description__21': \"L’hébergement Chambre_privée_Collioure_centre se trouve à Collioure, à respectivement quelques pas et 300 mètres de ces lieux d’intérêt : Plage Boram ... (291 characters truncated) ...  km de ces lieux d’intérêt : Stade Gilbert-Brutus et Casino de Collioure. L'aéroport le plus proche (Aéroport de Perpignan - Rivesaltes) est à 42 km.\", 'id__21': 28, 'score_given__22': 9.0, 'url_hotel__22': 'https://www.booking.com/hotel/fr/andre-derain.fr.html?aid', 'city__22': 'Collioure', 'hotel_name__22': 'André DERAIN', 'lat__22': 42.5209193, 'lon__22': 3.0886571, 'hotel_description__22': \"L’hébergement André DERAIN se situe à Collioure, à respectivement 500 mètres et 700 mètres de ces lieux d’intérêt : Plage Boutigue et Plage La Balett ... (432 characters truncated) ... ieux d’intérêt : Plage de Reguers et Château Royal de Collioure. L'aéroport le plus proche (Aéroport de Perpignan - Rivesaltes) est implanté à 42 km.\", 'id__22': 28, 'score_given__23': 8.2, 'url_hotel__23': 'https://www.booking.com/hotel/fr/appartement-pla-de-las-fourques.fr.html?aid', 'city__23': 'Collioure', 'hotel_name__23': 'Appartement Pla de las Fourques - 3CPF29', 'lat__23': 42.528688, 'lon__23': 3.079694, 'hotel_description__23': \"Proposant une terrasse, l’hébergement Appartement Pla de las Fourques - 3CPF29 se trouve à Collioure, à respectivement 600 mètres, 700 mètres et 600  ... (458 characters truncated) ...  km de ces lieux d’intérêt : Stade Gilbert-Brutus et Casino de Collioure. L'aéroport le plus proche (Aéroport de Perpignan - Rivesaltes) est à 41 km.\", 'id__23': 28, 'score_given__24': 8.1, 'url_hotel__24': 'https://www.booking.com/hotel/fr/residence-saint-vincent.fr.html?aid', 'city__24': 'Collioure', 'hotel_name__24': 'Résidence Saint Vincent', 'lat__24': 42.52730095, 'lon__24': 3.08423268, 'hotel_description__24': \"Située à 80 mètres de la plage de Boramar à Collioure, la Résidence Saint Vincent propose des hébergements climatisés avec connexion Wi-Fi gratuite.  ... (387 characters truncated) ... mité des plages du Nord, de Saint-Vincent et du château royal de Collioure. L'aéroport de Perpignan-Rivesaltes, le plus proche, est implanté à 41 km.\", 'id__24': 28}\n",
      "2024-01-24 11:15:19,789 INFO sqlalchemy.engine.Engine COMMIT\n",
      "2024-01-24 11:15:19,944 INFO sqlalchemy.engine.Engine BEGIN (implicit)\n",
      "2024-01-24 11:15:19,946 INFO sqlalchemy.engine.Engine SELECT pg_catalog.pg_class.relname \n",
      "FROM pg_catalog.pg_class JOIN pg_catalog.pg_namespace ON pg_catalog.pg_namespace.oid = pg_catalog.pg_class.relnamespace \n",
      "WHERE pg_catalog.pg_class.relname = %(table_name)s AND pg_catalog.pg_class.relkind = ANY (ARRAY[%(param_1)s, %(param_2)s, %(param_3)s, %(param_4)s, %(param_5)s]) AND pg_catalog.pg_table_is_visible(pg_catalog.pg_class.oid) AND pg_catalog.pg_namespace.nspname != %(nspname_1)s\n",
      "2024-01-24 11:15:19,946 INFO sqlalchemy.engine.Engine [cached since 7.101s ago] {'table_name': 'cities_booking', 'param_1': 'r', 'param_2': 'p', 'param_3': 'f', 'param_4': 'v', 'param_5': 'm', 'nspname_1': 'pg_catalog'}\n",
      "2024-01-24 11:15:20,127 INFO sqlalchemy.engine.Engine INSERT INTO cities_booking (city, hotel_name, url_hotel, score_given, lat, lon, hotel_description, id) VALUES (%(city__0)s, %(hotel_name__0)s, %(url_hotel__0)s, %(score_given__0)s, %(lat__0)s, %(lon__0)s, %(hotel_description__0)s, %(id__0)s), (%(city ... 5177 characters truncated ... l_hotel__38)s, %(score_given__38)s, %(lat__38)s, %(lon__38)s, %(hotel_description__38)s, %(id__38)s)\n",
      "2024-01-24 11:15:20,128 INFO sqlalchemy.engine.Engine [generated in 0.00019s (insertmanyvalues) 1/1 (unordered)] {'score_given__0': 8.0, 'url_hotel__0': 'https://www.booking.com/hotel/fr/arc-en-ciel-hexagone.fr.html?aid', 'city__0': 'Colmar', 'hotel_name__0': 'Hotel Arc-En-Ciel Colmar Contact Hotel', 'lat__0': 48.08745399, 'lon__0': 7.36068696, 'hotel_description__0': \"L'Hotel Arc-En-Ciel Colmar Contact Hotel vous accueille dans un cadre verdoyant, à seulement 1 km du centre-ville de Colmar, de ses sites historiques ... (498 characters truncated) ... ivé gratuit, un hangar à vélos, une terrasse extérieure et une véranda où vous pourrez prendre votre petit-déjeuner ou profiter d'un moment de calme.\", 'id__0': 11, 'score_given__1': 8.3, 'url_hotel__1': 'https://www.booking.com/hotel/fr/suites-residences-spa.fr.html?aid', 'city__1': 'Colmar', 'hotel_name__1': 'Suites Residences Spa', 'lat__1': 48.07900192, 'lon__1': 7.35450824, 'hotel_description__1': \"Le Suites Residences Spa propose des hébergements avec une connexion Wi-Fi gratuite dans le centre de Colmar, à 200\\xa0mètres de la Maison des Têtes. ... (814 characters truncated) ... ibourg, le plus proche du Suites Residences Spa, est situé à 55\\xa0km. Un service de navette aéroport est assuré moyennant des frais supplémentaires.\", 'id__1': 11, 'score_given__2': 7.8, 'url_hotel__2': 'https://www.booking.com/hotel/fr/appart-39-odalys-la-rose-d-39-argent.fr.html?aid', 'city__2': 'Colmar', 'hotel_name__2': \"Odalys City Colmar La Rose d'Argent\", 'lat__2': 48.07891558, 'lon__2': 7.36514839, 'hotel_description__2': \"Situé à Colmar, à seulement 1,6 km de la gare, l'Odalys City Colmar La Rose d'Argent propose une salle de sport et une piscine à contre-courant avec  ... (718 characters truncated) ... servation préalable. Le parc des expositions de Colmar se trouve à 3,3 km. L'aéroport international de Bâle-Mulhouse-Fribourg est accessible à 54 km.\", 'id__2': 11, 'score_given__3': 7.2, 'url_hotel__3': 'https://www.booking.com/hotel/fr/le-colbert.fr.html?aid', 'city__3': 'Colmar', 'hotel_name__3': \"The Originals Access, Hôtel Colmar Gare (P'tit Dej-Hotel)\", 'lat__3': 48.07705927, 'lon__3': 7.34933853, 'hotel_description__3': \"L'établissement The Originals Access, Hôtel Colmar Gare (P'tit Dej-Hotel) est installé entre le centre-ville de Colmar et la gare, dans la belle régi ... (416 characters truncated) ... allemand.  Vous trouverez de nombreuses pistes de ski alpin dans les environs et rejoindrez le magnifique département des Vosges en moins de 1 heure.\", 'id__3': 11, 'score_given__4': 8.6, 'url_hotel__4': 'https://www.booking.com/hotel/fr/comfort-expo-colmar.fr.html?aid', 'city__4': 'Colmar', 'hotel_name__4': 'Comfort Hotel Expo Colmar', 'lat__4': 48.09965719, 'lon__4': 7.3624015, 'hotel_description__4': \"Le Comfort Hotel Expo Colmar est installé à 4\\xa0km du centre-ville de Colmar et à 2\\xa0km de l’autoroute A35. Cet hôtel propose une réception ouvert ... (490 characters truncated) ... ne collation.  L’établissement se trouve à 10\\xa0minutes de route de la route des vins d'Alsace et juste en face du parc des expositions Colmar Expo.\", 'id__4': 11, 'score_given__5': 8.2, 'url_hotel__5': 'https://www.booking.com/hotel/fr/kyriad-colmar-cita-c-administrative.fr.html?aid', 'city__5': 'Colmar', 'hotel_name__5': 'Kyriad Colmar Centre Unterlinden', 'lat__5': 48.08601523, 'lon__5': 7.35729933, 'hotel_description__5': \"Situé à 650 mètres du centre-ville de Colmar, au cœur de l'Alsace, le Kyriad Colmar Centre Unterlinden propose une connexion Wi-Fi gratuite et un coi ... (399 characters truncated) ... us réserve de disponibilité. La gare de Colmar se trouve à 2 km. Vous séjournerez à 1 heure de route de Strasbourg et à 3 km de l'aéroport de Colmar.\", 'id__5': 11, 'score_given__6': 7.4, 'url_hotel__6': 'https://www.booking.com/hotel/fr/campanile-colmar-aeroport.fr.html?aid' ... 212 parameters truncated ... 'hotel_description__32': \"Le ColmarAppart Vauban vous accueille à Colmar, à 300 mètres de la collégiale Saint-Martin et à 500\\xa0mètres de la Maison des Têtes. Une connexion W ... (388 characters truncated) ... rouve à 150\\xa0mètres. Le parc des expositions Colmar Expo est à 2,5 km du ColmarAppart Vauban. L'aéroport de Bâle, le plus proche, se situe à 55 km.\", 'id__32': 11, 'score_given__33': 9.0, 'url_hotel__33': 'https://www.booking.com/hotel/fr/chambre-cosy-proche-centre-ville-et-gare.fr.html?aid', 'city__33': 'Colmar', 'hotel_name__33': 'Chambre cosy, proche centre-ville et gare', 'lat__33': 48.07980487, 'lon__33': 7.34471986, 'hotel_description__33': \"L’hébergement Chambre cosy, proche centre-ville et gare se trouve à Colmar, à seulement 1 km de ce lieu d’intérêt : Maison des Têtes. Il propose un s ... (651 characters truncated) ... ns et des congrès de Colmar et Château du Haut-Kœnigsbourg. L'aéroport le plus proche (Aéroport international de Bâle-Mulhouse-Fribourg) est à 56 km.\", 'id__33': 11, 'score_given__34': 9.1, 'url_hotel__34': 'https://www.booking.com/hotel/fr/colmar-champ-de-mars.fr.html?aid', 'city__34': 'Colmar', 'hotel_name__34': \"L'Esquisse Hotel & Spa Colmar - Mgallery\", 'lat__34': 48.07545714, 'lon__34': 7.35353217, 'hotel_description__34': \"Vous avez trouvé votre station balnéaire à Colmar\\xa0: L'Esquisse Hotel & Spa Colmar - Mgallery est un hôtel 5\\xa0étoiles situé au cœur du centre his ... (286 characters truncated) ... stronomique au restaurant JY.  Cet hôtel urbain contemporain à l'élégance authentique est une véritable célébration de l'art de vivre à la française.\", 'id__34': 11, 'score_given__35': 8.7, 'url_hotel__35': 'https://www.booking.com/hotel/fr/appartement-avec-jardin-a-colmar.fr.html?aid', 'city__35': 'Colmar', 'hotel_name__35': 'Appartement avec jardin à Colmar', 'lat__35': 48.08500327, 'lon__35': 7.33946003, 'hotel_description__35': None, 'id__35': 11, 'score_given__36': 9.1, 'url_hotel__36': 'https://www.booking.com/hotel/fr/gite-quot-muscat-quot.fr.html?aid', 'city__36': 'Colmar', 'hotel_name__36': 'Gite \"Karcher\"', 'lat__36': 48.078509, 'lon__36': 7.362297, 'hotel_description__36': 'L’établissement Gite \"Karcher\" se situe dans le centre de Colmar, à respectivement 500 mètres et 700 mètres de ces lieux d’intérêt : Collégiale Saint ... (664 characters truncated) ... et Parc des expositions et des congrès de Colmar. L\\'aéroport le plus proche (Aéroport international de Bâle-Mulhouse-Fribourg) est implanté à 55 km.', 'id__36': 11, 'score_given__37': 9.0, 'url_hotel__37': 'https://www.booking.com/hotel/fr/dependance-de-charme-colmar.fr.html?aid', 'city__37': 'Colmar', 'hotel_name__37': 'Dépendance de charme - Tiny house', 'lat__37': 48.0796438, 'lon__37': 7.3419715, 'hotel_description__37': \"Situé à Colmar, l’hébergement Dépendance de charme - Tiny house offre une vue sur le jardin. Il propose une piscine extérieure ouverte en saison, une ... (478 characters truncated) ... aison des Têtes, Gare de Colmar et Collégiale Saint-Martin. L'aéroport le plus proche (Aéroport international de Bâle-Mulhouse-Fribourg) est à 57 km.\", 'id__37': 11, 'score_given__38': 8.3, 'url_hotel__38': 'https://www.booking.com/hotel/fr/le-clos-bartholdi.fr.html?aid', 'city__38': 'Colmar', 'hotel_name__38': 'Le Clos bartholdi', 'lat__38': 48.073668, 'lon__38': 7.355898, 'hotel_description__38': \"Situé à 400 mètres du centre de Colmar, l’établissement Le Clos bartholdi possède des hébergements avec une connexion Wi-Fi gratuite ainsi qu'une cui ... (456 characters truncated) ...  Têtes, Gare de Colmar et Collégiale Saint-Martin. L'aéroport le plus proche (Aéroport international de Bâle-Mulhouse-Fribourg) est implanté à 55 km.\", 'id__38': 11}\n",
      "2024-01-24 11:15:20,231 INFO sqlalchemy.engine.Engine COMMIT\n",
      "2024-01-24 11:15:20,414 INFO sqlalchemy.engine.Engine BEGIN (implicit)\n",
      "2024-01-24 11:15:20,416 INFO sqlalchemy.engine.Engine SELECT pg_catalog.pg_class.relname \n",
      "FROM pg_catalog.pg_class JOIN pg_catalog.pg_namespace ON pg_catalog.pg_namespace.oid = pg_catalog.pg_class.relnamespace \n",
      "WHERE pg_catalog.pg_class.relname = %(table_name)s AND pg_catalog.pg_class.relkind = ANY (ARRAY[%(param_1)s, %(param_2)s, %(param_3)s, %(param_4)s, %(param_5)s]) AND pg_catalog.pg_table_is_visible(pg_catalog.pg_class.oid) AND pg_catalog.pg_namespace.nspname != %(nspname_1)s\n",
      "2024-01-24 11:15:20,416 INFO sqlalchemy.engine.Engine [cached since 7.57s ago] {'table_name': 'cities_booking', 'param_1': 'r', 'param_2': 'p', 'param_3': 'f', 'param_4': 'v', 'param_5': 'm', 'nspname_1': 'pg_catalog'}\n",
      "2024-01-24 11:15:20,593 INFO sqlalchemy.engine.Engine INSERT INTO cities_booking (city, hotel_name, url_hotel, score_given, lat, lon, hotel_description, id) VALUES (%(city__0)s, %(hotel_name__0)s, %(url_hotel__0)s, %(score_given__0)s, %(lat__0)s, %(lon__0)s, %(hotel_description__0)s, %(id__0)s), (%(city ... 2498 characters truncated ... l_hotel__19)s, %(score_given__19)s, %(lat__19)s, %(lon__19)s, %(hotel_description__19)s, %(id__19)s)\n",
      "2024-01-24 11:15:20,593 INFO sqlalchemy.engine.Engine [generated in 0.00012s (insertmanyvalues) 1/1 (unordered)] {'score_given__0': 7.1, 'url_hotel__0': 'https://www.booking.com/hotel/fr/kyriad-gare.fr.html?aid', 'city__0': 'Dijon', 'hotel_name__0': 'Kyriad Hotel Dijon Gare', 'lat__0': 47.32279604, 'lon__0': 5.02989829, 'hotel_description__0': \"Le Kyriad Hotel Dijon Gare vous accueille à 120 mètres de la gare de Dijon. Il dispose d'une piscine intérieure et de chambres insonorisées avec une  ... (703 characters truncated) ...  le Palais des Congrès en 7 minutes de tramway, tandis que le campus universitaire et le centre commercial la Toison d'Or sont à moins de 20 minutes.\", 'id__0': 14, 'score_given__1': 8.1, 'url_hotel__1': 'https://www.booking.com/hotel/fr/republique-dijon.fr.html?aid', 'city__1': 'Dijon', 'hotel_name__1': 'Hôtel République', 'lat__1': 47.32570141, 'lon__1': 5.04478052, 'hotel_description__1': \"Cette auberge du XVIIIe siècle est située dans une rue calme du centre historique de Dijon. Elle vous accueille dans un cadre moderne et élégant avec ... (425 characters truncated) ... de tramway depuis l'arrêt République. L'établissement est situé à 900 mètres du musée des beaux-arts de Dijon et à 8 minutes à pied de la cathédrale.\", 'id__1': 14, 'score_given__2': 7.8, 'url_hotel__2': 'https://www.booking.com/hotel/fr/montchapet.fr.html?aid', 'city__2': 'Dijon', 'hotel_name__2': 'Hôtel Montchapet Dijon Centre', 'lat__2': 47.32742402, 'lon__2': 5.03345892, 'hotel_description__2': \"L'Hotel Montchapet est situé au cœur de Dijon, à seulement 10 minutes à pied de la gare de Dijon-Ville. Il propose des chambres insonorisées et une c ... (160 characters truncated) ... détendre en buvant un verre au bar de l'hôtel après une journée de visites. L'hôtel se trouve à moins de 10 minutes à pied de la cathédrale de Dijon.\", 'id__2': 14, 'score_given__3': 8.6, 'url_hotel__3': 'https://www.booking.com/hotel/fr/hotel-des-halles-dijon.fr.html?aid', 'city__3': 'Dijon', 'hotel_name__3': 'Hôtel des Halles', 'lat__3': 47.32558142, 'lon__3': 5.0369183, 'hotel_description__3': \"L'Hôtel des Halles vous accueille dans le centre-ville historique de Dijon, à 50 mètres de la zone piétonne et à 300 mètres du marché couvert des hal ... (421 characters truncated) ... ètres de l'arrêt de tramway Godrans qui permet un accès direct au Zénith et à l'université de Dijon. Un parking public payant est situé à 250 mètres.\", 'id__3': 14, 'score_given__4': 6.5, 'url_hotel__4': 'https://www.booking.com/hotel/fr/le-cocon-hyper-centre-i-moderne-amp-confortable.fr.html?aid', 'city__4': 'Dijon', 'hotel_name__4': 'LE COCON - Hyper Centre I Moderne & Confortable', 'lat__4': 47.3274982, 'lon__4': 5.0385395, 'hotel_description__4': \"L’hébergement LE COCON - Hyper Centre I Moderne & Confortable se situe à Dijon, à respectivement 1,2 km et 1,1 km de ces lieux d’intérêt : Gare de Di ... (521 characters truncated) ... x d’intérêt : Arrêt de tramway CHU - Hopitaux et Arrêt de tramway Université. L'aéroport le plus proche (Aéroport de Dole-Jura) est implanté à 51 km.\", 'id__4': 14, 'score_given__5': 8.3, 'url_hotel__5': 'https://www.booking.com/hotel/fr/aparthotel-adagio-access-dijon-republique.fr.html?aid', 'city__5': 'Dijon', 'hotel_name__5': 'Aparthotel Adagio Access Dijon République', 'lat__5': 47.325526, 'lon__5': 5.0494804, 'hotel_description__5': \"Situé dans le centre-ville de Dijon, à seulement 3 minutes à pied de la place de la République, l'Aparthotel Adagio Access Dijon République propose u ... (936 characters truncated) ... i est à 500 mètres du parc des expositions de Dijon Congrexpo. Vous pourrez utiliser le parking privé sur place, moyennant des frais supplémentaires.\", 'id__5': 14, 'score_given__6': 8.0, 'url_hotel__6': 'https://www.booking.com/hotel/fr/city-loft.fr.html?aid' ... 60 parameters truncated ... 'hotel_description__13': \"Situé au cœur de Dijon, capitale de la Bourgogne, près du Palais des Ducs de Bourgogne, l'hôtel Le Jacquemart bénéficie d’une situation privilégiée d ... (281 characters truncated) ... er les rues piétonnes et découvrir les lieux célèbres de la ville tels que le musée des Beaux-Arts et la célèbre « Chouette » de l’église Notre-Dame.\", 'id__13': 14, 'score_given__14': 8.1, 'url_hotel__14': 'https://www.booking.com/hotel/fr/holiday-inn-express-dijon.fr.html?aid', 'city__14': 'Dijon', 'hotel_name__14': 'Holiday Inn Express Dijon, an IHG Hotel', 'lat__14': 47.3269991, 'lon__14': 5.07608727, 'hotel_description__14': \"Situé à Saint-Apollinaire, l'Holiday Inn Express Dijon possède une piscine extérieure. Cet établissement climatisé propose une réception ouverte 24h/ ... (514 characters truncated) ... place.  L'hôtel se trouve à 3 km du centre de Dijon et à 4,6 km de la gare. L'établissement met un parking sécurisé à votre disposition gratuitement.\", 'id__14': 14, 'score_given__15': 8.0, 'url_hotel__15': 'https://www.booking.com/hotel/fr/holiday-inn-dijon.fr.html?aid', 'city__15': 'Dijon', 'hotel_name__15': \"Holiday Inn Dijon Toison D'or, an IHG Hotel\", 'lat__15': 47.3557, 'lon__15': 5.052, 'hotel_description__15': \"Doté d'un spa avec un sauna, un hammam et une salle de sport, le Holiday Inn Dijon Toison D'or vous accueille en périphérie du centre-ville historiqu ... (782 characters truncated) ... utoroute est accessible en 2 minutes en voiture. Le centre commercial de la Toison d'Or, regroupant 180 magasins, est à seulement 1 minute de marche.\", 'id__15': 14, 'score_given__16': 8.3, 'url_hotel__16': 'https://www.booking.com/hotel/fr/le-lemon-au-coeur-du-centre-historique.fr.html?aid', 'city__16': 'Dijon', 'hotel_name__16': 'Le Lemon : au coeur du centre historique', 'lat__16': 47.3176275, 'lon__16': 5.0400209, 'hotel_description__16': \"Doté d'une terrasse, l'établissement Le Lemon: au coeur du centre historique est situé à Dijon. Il se trouve à 700 mètres de l'église Saint-Philibert ... (357 characters truncated) ... sitions Dijon Congrexpo, de la gare de Dijon et de la station de tramway Foch-Gare. L'aéroport le plus proche, celui de Dole-Jura, est situé à 50 km.\", 'id__16': 14, 'score_given__17': 7.9, 'url_hotel__17': 'https://www.booking.com/hotel/fr/appart-39-odalys-les-cordeliers.fr.html?aid', 'city__17': 'Dijon', 'hotel_name__17': 'Odalys City Dijon Les Cordeliers', 'lat__17': 47.31827001, 'lon__17': 5.04011462, 'hotel_description__17': \"L’Odalys City Dijon Les Cordeliers vous accueille dans le centre historique de Dijon. Cet appart'hôtel propose des chambres avec salle de bains priva ... (566 characters truncated) ... lais des Ducs et du musée des Beaux-Arts, et à 1,5\\xa0km de la gare de Dijon-Ville. Le parc des expositions Congrexpo de Dijon se trouve à 1,5\\xa0km.\", 'id__17': 14, 'score_given__18': 7.2, 'url_hotel__18': 'https://www.booking.com/hotel/fr/kyriad-dijon-est-mirande.fr.html?aid', 'city__18': 'Dijon', 'hotel_name__18': 'Kyriad Dijon Est Mirande', 'lat__18': 47.31154757, 'lon__18': 5.08031309, 'hotel_description__18': \"Cet hôtel-restaurant est un établissement fonctionnel situé à l'est de Dijon, à 15 minutes de route de la gare, du parc des expositions et du centre- ... (669 characters truncated) ... voiture.  Disponible 24h/24, le personnel amical et attentionné du Kyriad Dijon Est Mirande sera ravi de vous aider à organiser votre séjour à Dijon.\", 'id__18': 14, 'score_given__19': 8.5, 'url_hotel__19': 'https://www.booking.com/hotel/fr/dijon-la-belle-adresse.fr.html?aid', 'city__19': 'Dijon', 'hotel_name__19': 'Dijon La Belle Adresse', 'lat__19': 47.31931085, 'lon__19': 5.03520961, 'hotel_description__19': \"Situé au cœur de Dijon, à moins de 3 minutes à pied de l'église Saint-Philibert, le Dijon La Belle Adresse propose des hébergements dotés d'une conne ... (420 characters truncated) ... journerez à 1,7 km du parc des expositions Dijon Congrexpo et à 5 km du Zénith de la ville. L'aéroport de Dole-Jura est quant à lui installé à 43 km.\", 'id__19': 14}\n",
      "2024-01-24 11:15:20,687 INFO sqlalchemy.engine.Engine COMMIT\n",
      "2024-01-24 11:15:20,844 INFO sqlalchemy.engine.Engine BEGIN (implicit)\n",
      "2024-01-24 11:15:20,845 INFO sqlalchemy.engine.Engine SELECT pg_catalog.pg_class.relname \n",
      "FROM pg_catalog.pg_class JOIN pg_catalog.pg_namespace ON pg_catalog.pg_namespace.oid = pg_catalog.pg_class.relnamespace \n",
      "WHERE pg_catalog.pg_class.relname = %(table_name)s AND pg_catalog.pg_class.relkind = ANY (ARRAY[%(param_1)s, %(param_2)s, %(param_3)s, %(param_4)s, %(param_5)s]) AND pg_catalog.pg_table_is_visible(pg_catalog.pg_class.oid) AND pg_catalog.pg_namespace.nspname != %(nspname_1)s\n",
      "2024-01-24 11:15:20,846 INFO sqlalchemy.engine.Engine [cached since 8s ago] {'table_name': 'cities_booking', 'param_1': 'r', 'param_2': 'p', 'param_3': 'f', 'param_4': 'v', 'param_5': 'm', 'nspname_1': 'pg_catalog'}\n",
      "2024-01-24 11:15:21,023 INFO sqlalchemy.engine.Engine INSERT INTO cities_booking (city, hotel_name, url_hotel, score_given, lat, lon, hotel_description, id) VALUES (%(city__0)s, %(hotel_name__0)s, %(url_hotel__0)s, %(score_given__0)s, %(lat__0)s, %(lon__0)s, %(hotel_description__0)s, %(id__0)s), (%(city ... 2780 characters truncated ... l_hotel__21)s, %(score_given__21)s, %(lat__21)s, %(lon__21)s, %(hotel_description__21)s, %(id__21)s)\n",
      "2024-01-24 11:15:21,023 INFO sqlalchemy.engine.Engine [generated in 0.00015s (insertmanyvalues) 1/1 (unordered)] {'score_given__0': 8.8, 'url_hotel__0': 'https://www.booking.com/hotel/fr/husseren-les-chateaux.fr.html?aid', 'city__0': 'Eguisheim', 'hotel_name__0': 'Hotel SPA Husseren Collections - Proche Colmar - Eguisheim', 'lat__0': 48.03498767, 'lon__0': 7.27613837, 'hotel_description__0': \"L'hôtel, avec terrasses orientées au sud, est situé entre vignes et forêt, au pied des ruines des trois châteaux au cœur de l'Alsace, sur la route de ... (420 characters truncated) ... et italien. Neuf bornes de recharge (dont 3 tesla) pour les voitures électriques sont disponibles sur place.  Un parking est disponible gratuitement.\", 'id__0': 12, 'score_given__1': 9.2, 'url_hotel__1': 'https://www.booking.com/hotel/fr/appartement-edelweiss-eguisheim.fr.html?aid', 'city__1': 'Eguisheim', 'hotel_name__1': 'Gite Edelweiss à Eguisheim', 'lat__1': 48.04323544, 'lon__1': 7.30522192, 'hotel_description__1': \"Offrant une vue sur la ville, le Gite Edelweiss à Eguisheim est un hébergement situé à Eguisheim, à 5,8 km de la gare de Colmar et à 6,6 km de la Mai ... (636 characters truncated) ... ollégiale Saint-Martin et à 10 km du parc des expositions Colmar Expo. L'aéroport le plus proche, celui de Bâle-Mulhouse-Fribourg, est situé à 54 km.\", 'id__1': 12, 'score_given__2': 10.0, 'url_hotel__2': 'https://www.booking.com/hotel/fr/gite-bredala-situ-dans-les-remparts-eguisheim.fr.html?aid', 'city__2': 'Eguisheim', 'hotel_name__2': 'Gite Bredala situé dans les Remparts Eguisheim', 'lat__2': 48.0418496, 'lon__2': 7.3048618, 'hotel_description__2': \"Situé à Eguisheim, l’hébergement Gite Bredala situé dans les Remparts Eguisheim offre une vue sur le jardin. Il comprend un jardin, un salon commun,  ... (390 characters truncated) ... nt-Martin et Parc des expositions et des congrès de Colmar. L'aéroport le plus proche (Aéroport international de Bâle-Mulhouse-Fribourg) est à 54 km.\", 'id__2': 12, 'score_given__3': 7.8, 'url_hotel__3': 'https://www.booking.com/hotel/fr/hostellerie-du-pape.fr.html?aid', 'city__3': 'Eguisheim', 'hotel_name__3': 'The Originals Boutique, Hôtel La Ferme du Pape, Eguisheim', 'lat__3': 48.04228862, 'lon__3': 7.3094514, 'hotel_description__3': \"Le The Originals Boutique, Hôtel La Ferme du Pape, Eguisheim vous accueille à l'entrée d'un charmant village au cœur des vignobles, dans une région g ... (480 characters truncated) ... pour les personnes à mobilité réduite. Le parcours de golf et les courts de tennis se trouvent à 5 km. Vous rejoindrez la piscine de la ville à 6 km.\", 'id__3': 12, 'score_given__4': 8.1, 'url_hotel__4': 'https://www.booking.com/hotel/fr/ha-tel-restaurant-a-la-ville-de-nancy.fr.html?aid', 'city__4': 'Eguisheim', 'hotel_name__4': 'Hôtel Restaurant À la ville de Nancy', 'lat__4': 48.04349458, 'lon__4': 7.30439007, 'hotel_description__4': \"Situé dans le village alsacien typique d'Eguisheim, cet hôtel occupe un bâtiment à colombages et dispose d'un restaurant servant une cuisine régional ... (570 characters truncated) ... olmar et à 5 minutes en voiture de l'abbaye de Marbach datant du IVe siècle. La frontière allemande est accessible en 40 minutes de route de l'hôtel.\", 'id__4': 12, 'score_given__5': 8.5, 'url_hotel__5': 'https://www.booking.com/hotel/fr/saint-hubert-eguisheim.fr.html?aid', 'city__5': 'Eguisheim', 'hotel_name__5': 'James Vignoble Hôtel, Eguisheim', 'lat__5': 48.04496277, 'lon__5': 7.30157845, 'hotel_description__5': 'James Vignoble Hôtel Eguisheim is located among the vineyards of Eguisheim. It offers a spectacular view of the Black Forest.  The establishment is e ... (954 characters truncated) ... itional cost of €11 for ages 13 and over and €4 for ages 7 to 12. To make this moment relaxing, we provide you with bathrobes, towels and flip-flops.', 'id__5': 12, 'score_given__6': 8.8, 'url_hotel__6': 'https://www.booking.com/hotel/fr/auberge-des-comtes.fr.html?aid' ... 76 parameters truncated ... 'hotel_description__15': \"L’hébergement Gîte le Petit Muscat à Eguisheim se trouve à Eguisheim, à 6 km de ce lieu d’intérêt : Gare de Colmar. Il propose un jardin, une connexi ... (649 characters truncated) ... nt-Martin et Parc des expositions et des congrès de Colmar. L'aéroport le plus proche (Aéroport international de Bâle-Mulhouse-Fribourg) est à 54 km.\", 'id__15': 12, 'score_given__16': 8.9, 'url_hotel__16': 'https://www.booking.com/hotel/fr/le-hameau-d-eguisheim.fr.html?aid', 'city__16': 'Eguisheim', 'hotel_name__16': \"Le Hameau d'Eguisheim - Chambres d'hôtes & Gîtes\", 'lat__16': 48.04252897, 'lon__16': 7.30712727, 'hotel_description__16': \"Occupant une maison à colombages typiquement alsacienne, Le Hameau d'Eguisheim propose des chambres d'hôtes et des hébergements indépendants sur un d ... (601 characters truncated) ... on, vous pourrez pratiquer des activités telles que la randonnée, le VTT et les marchés de Noël. Le marché de Noël d'Eguisheim se trouve à 57 mètres.\", 'id__16': 12, 'score_given__17': 9.7, 'url_hotel__17': 'https://www.booking.com/hotel/fr/le-cosy-eguisheim.fr.html?aid', 'city__17': 'Eguisheim', 'hotel_name__17': 'Le Cosy au cœur du vignoble, Eguisheim', 'lat__17': 48.04377999, 'lon__17': 7.30233763, 'hotel_description__17': \"Doté d'un barbecue, l'établissement Le Cosy au cœur du vignoble, Eguisheim est situé à Eguisheim, à 5,8 km de la gare de Colmar, à 6,7 km de la Maiso ... (452 characters truncated) ... es expositions Colmar Expo et à 35 km du château du Haut Koenigsbourg. L'aéroport le plus proche, celui de Bâle-Mulhouse-Fribourg, est situé à 54 km.\", 'id__17': 12, 'score_given__18': 9.3, 'url_hotel__18': 'https://www.booking.com/hotel/fr/le-petit-nid-eguisheim.fr.html?aid', 'city__18': 'Eguisheim', 'hotel_name__18': 'Le Petit Nid', 'lat__18': 48.04338036, 'lon__18': 7.30217079, 'hotel_description__18': \"L’hébergement Le Petit Nid offre une vue sur la ville, à environ 6,7 km de ce lieu d’intérêt : Maison des Têtes. Il comprend un balcon et une bouillo ... (554 characters truncated) ... nt-Martin et Parc des expositions et des congrès de Colmar. L'aéroport le plus proche (Aéroport international de Bâle-Mulhouse-Fribourg) est à 54 km.\", 'id__18': 12, 'score_given__19': 8.6, 'url_hotel__19': 'https://www.booking.com/hotel/fr/les-tuileries-eguisheim.fr.html?aid', 'city__19': 'Eguisheim', 'hotel_name__19': 'Les Tuileries Eguisheim', 'lat__19': 48.04557225, 'lon__19': 7.31132003, 'hotel_description__19': \"Situé à 5,4 km de la gare de Colmar, à 6,1 km de la Maison des Têtes et à 6,6 km de la collégiale Saint-Martin, l'établissement Les Tuileries Eguishe ... (358 characters truncated) ... c des expositions Colmar Expo et à 34 km du château du Haut Koenigsbourg. L'aéroport de Bâle-Mulhouse-Fribourg, le plus proche, est implanté à 54 km.\", 'id__19': 12, 'score_given__20': 9.4, 'url_hotel__20': 'https://www.booking.com/hotel/fr/studio-eguisheim.fr.html?aid', 'city__20': 'Eguisheim', 'hotel_name__20': 'Eguisheim village préféré des français grand studio', 'lat__20': 48.0476831, 'lon__20': 7.3132915, 'hotel_description__20': \"Situé à Eguisheim, à 5,3 km de la gare de Colmar et à 6 km de la Maison des Têtes, l'Eguisheim village préféré des français grand studio dispose d'un ... (420 characters truncated) ... llégiale Saint-Martin et à 9,3 km du parc des expositions Colmar Expo. L'aéroport le plus proche, celui de Bâle-Mulhouse-Fribourg, est situé à 54 km.\", 'id__20': 12, 'score_given__21': 8.6, 'url_hotel__21': 'https://www.booking.com/hotel/fr/ga-r-te-le-hissala.fr.html?aid', 'city__21': 'Eguisheim', 'hotel_name__21': 'Gîte Le Hissala', 'lat__21': 48.04340695, 'lon__21': 7.30760872, 'hotel_description__21': \"Le Gîte Le Hissala se trouve à Eguisheim, à 5\\xa0minutes de marche du centre-ville. Cette maison de vacances de style traditionnel dispose de poutres ... (520 characters truncated) ... us séjournerez à 13\\xa0minutes de route du centre-ville de Colmar et à 40\\xa0km de Mulhouse. Un parking public est accessible en 7\\xa0minutes à pied.\", 'id__21': 12}\n",
      "2024-01-24 11:15:21,117 INFO sqlalchemy.engine.Engine COMMIT\n",
      "2024-01-24 11:15:21,273 INFO sqlalchemy.engine.Engine BEGIN (implicit)\n",
      "2024-01-24 11:15:21,274 INFO sqlalchemy.engine.Engine SELECT pg_catalog.pg_class.relname \n",
      "FROM pg_catalog.pg_class JOIN pg_catalog.pg_namespace ON pg_catalog.pg_namespace.oid = pg_catalog.pg_class.relnamespace \n",
      "WHERE pg_catalog.pg_class.relname = %(table_name)s AND pg_catalog.pg_class.relkind = ANY (ARRAY[%(param_1)s, %(param_2)s, %(param_3)s, %(param_4)s, %(param_5)s]) AND pg_catalog.pg_table_is_visible(pg_catalog.pg_class.oid) AND pg_catalog.pg_namespace.nspname != %(nspname_1)s\n",
      "2024-01-24 11:15:21,275 INFO sqlalchemy.engine.Engine [cached since 8.429s ago] {'table_name': 'cities_booking', 'param_1': 'r', 'param_2': 'p', 'param_3': 'f', 'param_4': 'v', 'param_5': 'm', 'nspname_1': 'pg_catalog'}\n",
      "2024-01-24 11:15:21,451 INFO sqlalchemy.engine.Engine INSERT INTO cities_booking (city, hotel_name, url_hotel, score_given, lat, lon, hotel_description, id) VALUES (%(city__0)s, %(hotel_name__0)s, %(url_hotel__0)s, %(score_given__0)s, %(lat__0)s, %(lon__0)s, %(hotel_description__0)s, %(id__0)s), (%(city ... 3344 characters truncated ... l_hotel__25)s, %(score_given__25)s, %(lat__25)s, %(lon__25)s, %(hotel_description__25)s, %(id__25)s)\n",
      "2024-01-24 11:15:21,451 INFO sqlalchemy.engine.Engine [generated in 0.00026s (insertmanyvalues) 1/1 (unordered)] {'score_given__0': 7.4, 'url_hotel__0': 'https://www.booking.com/hotel/fr/residence-cote-provence.fr.html?aid', 'city__0': 'Gorges du Verdon', 'hotel_name__0': 'Terres de France - Résidence Côté Provence', 'lat__0': 43.757202, 'lon__0': 5.89661, 'hotel_description__0': \"Situé à Gréoux-les-Bains, l’établissement Terres de France - Résidence Côté Provence propose une piscine extérieure ouverte en saison et un jardin, a ... (474 characters truncated) ... e ces lieux d’intérêt : Agence ITER de Cadarache et Golf du Luberon. L'aéroport le plus proche (Aéroport de Marseille Provence) est implanté à 90 km.\", 'id__0': 18, 'score_given__1': 8.6, 'url_hotel__1': 'https://www.booking.com/hotel/fr/bastide-du-calalou.fr.html?aid', 'city__1': 'Gorges du Verdon', 'hotel_name__1': 'La Bastide du Calalou; BW Signature Collection', 'lat__1': 43.65436638, 'lon__1': 6.16950452, 'hotel_description__1': \"La Bastide Du Calalou est située à 30 minutes de route des Gorges du Verdon et à 20 minutes en voiture du lac de Sainte-Croix. Elle dispose d'une pis ... (544 characters truncated) ... e trouve à proximité du village de Tourtour et du marché de la truffe noire, le troisième plus important de France, qui se tient de décembre à avril.\", 'id__1': 18, 'score_given__2': 8.7, 'url_hotel__2': 'https://www.booking.com/hotel/fr/hotellouparadou.fr.html?aid', 'city__2': 'Gorges du Verdon', 'hotel_name__2': 'Lou Paradou', 'lat__2': 43.760622, 'lon__2': 5.888974, 'hotel_description__2': \"L'hôtel Lou Paradou vous accueille à Gréoux-les-Bains, au bord du Verdon, au milieu des champs de lavande du cœur de la Provence. Situé dans un grand ... (842 characters truncated) ... eaux vives, le parapente et l'escalade.  L'aéroport Marseille-Provence se trouve à 80\\xa0km, tandis que la gare TGV d'Aix-en-Provence est à 70\\xa0km.\", 'id__2': 18, 'score_given__3': 9.1, 'url_hotel__3': 'https://www.booking.com/hotel/fr/holiday-home-la-clorinde.fr.html?aid', 'city__3': 'Gorges du Verdon', 'hotel_name__3': 'La Clorinde', 'lat__3': 43.83828039, 'lon__3': 6.22067034, 'hotel_description__3': \"Située au cœur d'une oliveraie, à 800 mètres du village de Moustiers, La Clorinde est idéalement située pour découvrir les Gorges du Verdon (1.5Km) e ... (538 characters truncated) ... s demandes sont les bienvenues. La Clorinde, havre de paix, fera tout son possible pour que votre séjour en Provence soit une expérience inoubliable.\", 'id__3': 18, 'score_given__4': 9.2, 'url_hotel__4': 'https://www.booking.com/hotel/fr/le-gite-du-grand-cedre.fr.html?aid', 'city__4': 'Gorges du Verdon', 'hotel_name__4': 'Le gite du grand cèdre - proche des gorges du Verdon', 'lat__4': 43.77929309, 'lon__4': 6.00733668, 'hotel_description__4': \"L’hébergement Le gite du grand cèdre - proche des gorges du Verdon vous accueille à Allemagne-en-Provence, à respectivement 29 km et 34 km de ces lie ... (481 characters truncated) ... e.  Vous séjournerez à 44 km de ce lieu d’intérêt : Golf de Digne-les-Bains. L'aéroport le plus proche (Aéroport de Marseille Provence) est à 101 km.\", 'id__4': 18, 'score_given__5': 8.9, 'url_hotel__5': 'https://www.booking.com/hotel/fr/residence-les-ecureuils-greoux-les-bains.fr.html?aid', 'city__5': 'Gorges du Verdon', 'hotel_name__5': 'Résidence Les Écureuils', 'lat__5': 43.75309523, 'lon__5': 5.88853615, 'hotel_description__5': \"Offrant une vue sur le jardin, la Résidence Les Écureuils est située à Gréoux-les-Bains, à 19 km de l'ITER / Cadarache. Vous bénéficierez gratuitemen ... (321 characters truncated) ... iquer le vélo et la pêche à proximité.  Le golf du Luberon se trouve à 23 km. L'aéroport de Marseille-Provence, le plus proche, est implanté à 81 km.\", 'id__5': 18, 'score_given__6': 8.0, 'url_hotel__6': 'https://www.booking.com/hotel/fr/ha-tel-l-ermitage.fr.html?aid' ... 108 parameters truncated ... 'hotel_description__19': \"Le Bienvenue chez nous est situé à Saint-Martin-de-Brômes, à 26 km d'ITER/Cadarache, à 30 km du golf du Luberon et à 47 km du parcours de golf de Dig ... (307 characters truncated) ... le-pain et un réfrigérateur. Les serviettes et le linge de lit sont fournis.  L'aéroport de Marseille-Provence, le plus proche, est implanté à 98 km.\", 'id__19': 18, 'score_given__20': 9.1, 'url_hotel__20': 'https://www.booking.com/hotel/fr/chambre-d-39-hotes-les-lauriers-moustiers-sainte-marie1.fr.html?aid', 'city__20': 'Gorges du Verdon', 'hotel_name__20': '\"Les Lauriers\" chambre d\\'hôtes indépendante avec terrasse', 'lat__20': 43.84195521, 'lon__20': 6.2182847, 'hotel_description__20': 'La Chambre D\\'Hôtes \"Les Lauriers\" chambre d\\'hôtes indépendante avec terrasse propose un hébergement à Moustiers-Sainte-Marie.  Toutes les chambres  ... (129 characters truncated) ... vative.  Vous séjournerez à 28 km de Gréoux-les-Bains et à 35 km de Manosque. L\\'aéroport de Nice-Côte d\\'Azur, le plus proche, est implanté à 82 km.', 'id__20': 18, 'score_given__21': 9.5, 'url_hotel__21': 'https://www.booking.com/hotel/fr/le-courtil-duplex-amande-olive.fr.html?aid', 'city__21': 'Gorges du Verdon', 'hotel_name__21': 'La Maison du Courtil, Amande-Olive', 'lat__21': 43.84747245, 'lon__21': 6.22128561, 'hotel_description__21': \"L’hébergement La Maison du Courtil, Amande-Olive offre une vue sur la montagne, à environ 41 km de ce lieu d’intérêt : Golf de Digne-les-Bains. Il po ... (458 characters truncated) ... sur place et pratiquer la randonnée et la pêche dans les environs.  L'aéroport le plus proche (Aéroport de Marseille Provence) est implanté à 123 km.\", 'id__21': 18, 'score_given__22': 7.9, 'url_hotel__22': 'https://www.booking.com/hotel/fr/du-levant-castellane.fr.html?aid', 'city__22': 'Gorges du Verdon', 'hotel_name__22': 'Hotel du Levant', 'lat__22': 43.84662575, 'lon__22': 6.51355416, 'hotel_description__22': \"Situé à Castellane, dans le parc naturel régional du Verdon, l'Hotel du Levant dispose d'un restaurant, d'une terrasse et d'une connexion Wi-Fi gratu ... (481 characters truncated) ...  restaurant de l'hôtel sert une cuisine française.  L'Hotel du Levant se trouve à 6,2 km du lac de Castillon, à 65 km de Grasse et à 82 km de Cannes.\", 'id__22': 18, 'score_given__23': 9.1, 'url_hotel__23': 'https://www.booking.com/hotel/fr/residence-lou-cigaloun-greoux-les-bains.fr.html?aid', 'city__23': 'Gorges du Verdon', 'hotel_name__23': 'Résidence Lou Cigaloun - ANA LOCATION', 'lat__23': 43.7562956, 'lon__23': 5.8805006, 'hotel_description__23': \"Offrant une vue sur le jardin, la Résidence Lou Cigaloun - ANA LOCATION est située à Gréoux-les-Bains, à 18 km d'ITER / Cadarache. Vous bénéficierez  ... (445 characters truncated) ... uer le vélo, la pêche et la randonnée.  Le golf du Luberon se trouve à 23 km. L'aéroport de Marseille-Provence, le plus proche, est implanté à 80 km.\", 'id__23': 18, 'score_given__24': 7.8, 'url_hotel__24': 'https://www.booking.com/hotel/fr/villa-borghese.fr.html?aid', 'city__24': 'Gorges du Verdon', 'hotel_name__24': 'Villa Borghese, The Originals Relais', 'lat__24': 43.75813877, 'lon__24': 5.89472026, 'hotel_description__24': \"Situé à Gréoux-les-Bains, entre les gorges du Verdon et le Lubéron, l'établissement Villa Borghese vous accueille dans un parc entouré de chênes cent ... (731 characters truncated) ... km de l'autoroute A51 et à 16 km de Manosque. La gare TGV d'Aix-en-Provence se situe à 70 km. Un parking privé est disponible gratuitement sur place.\", 'id__24': 18, 'score_given__25': 7.1, 'url_hotel__25': 'https://www.booking.com/hotel/fr/du-vieux-chateau.fr.html?aid', 'city__25': 'Gorges du Verdon', 'hotel_name__25': 'Le Vieux Château', 'lat__25': 43.77559101, 'lon__25': 6.24333876, 'hotel_description__25': \"Situé dans le centre d'Aiguines, l'Hôtel du Vieux Château est installé dans un bâtiment datant du XVIIIe siècle lequel s'ouvre sur une place de style ... (660 characters truncated) ...  de Préhistoire des gorges du Verdon implanté à Quinson se trouve à 40 minutes de route. L'Hôtel du Vieux Château est accessible par l'autoroute A51.\", 'id__25': 18}\n",
      "2024-01-24 11:15:21,547 INFO sqlalchemy.engine.Engine COMMIT\n",
      "2024-01-24 11:15:21,726 INFO sqlalchemy.engine.Engine BEGIN (implicit)\n",
      "2024-01-24 11:15:21,728 INFO sqlalchemy.engine.Engine SELECT pg_catalog.pg_class.relname \n",
      "FROM pg_catalog.pg_class JOIN pg_catalog.pg_namespace ON pg_catalog.pg_namespace.oid = pg_catalog.pg_class.relnamespace \n",
      "WHERE pg_catalog.pg_class.relname = %(table_name)s AND pg_catalog.pg_class.relkind = ANY (ARRAY[%(param_1)s, %(param_2)s, %(param_3)s, %(param_4)s, %(param_5)s]) AND pg_catalog.pg_table_is_visible(pg_catalog.pg_class.oid) AND pg_catalog.pg_namespace.nspname != %(nspname_1)s\n",
      "2024-01-24 11:15:21,728 INFO sqlalchemy.engine.Engine [cached since 8.883s ago] {'table_name': 'cities_booking', 'param_1': 'r', 'param_2': 'p', 'param_3': 'f', 'param_4': 'v', 'param_5': 'm', 'nspname_1': 'pg_catalog'}\n",
      "2024-01-24 11:15:21,905 INFO sqlalchemy.engine.Engine INSERT INTO cities_booking (city, hotel_name, url_hotel, score_given, lat, lon, hotel_description, id) VALUES (%(city__0)s, %(hotel_name__0)s, %(url_hotel__0)s, %(score_given__0)s, %(lat__0)s, %(lon__0)s, %(hotel_description__0)s, %(id__0)s), (%(city ... 4331 characters truncated ... l_hotel__32)s, %(score_given__32)s, %(lat__32)s, %(lon__32)s, %(hotel_description__32)s, %(id__32)s)\n",
      "2024-01-24 11:15:21,905 INFO sqlalchemy.engine.Engine [generated in 0.00016s (insertmanyvalues) 1/1 (unordered)] {'score_given__0': 7.5, 'url_hotel__0': 'https://www.booking.com/hotel/fr/le-royal-grenoble.fr.html?aid', 'city__0': 'Grenoble', 'hotel_name__0': 'Residhotel Grenette', 'lat__0': 45.19056363, 'lon__0': 5.72448447, 'hotel_description__0': \"Le Residhotel Grenette est situé dans le centre de Grenoble, à 3 minutes à pied de la place Victor Hugo. Il propose un hébergement indépendant avec u ... (445 characters truncated) ... ing privé comporte un nombre limité de places de stationnement, attribuées moyennant un supplément, sous réserve de disponibilité et sur réservation.\", 'id__0': 16, 'score_given__1': 7.6, 'url_hotel__1': 'https://www.booking.com/hotel/fr/qualityhotelgrenoble.fr.html?aid', 'city__1': 'Grenoble', 'hotel_name__1': 'Kyriad Grenoble Centre', 'lat__1': 45.16819994, 'lon__1': 5.71199477, 'hotel_description__1': \"Situé à Grenoble, à 200 mètres du stade Lesdiguières, le Kyriad Grenoble Centre vous accueille dans un hôtel 3 étoiles doté d'une réception ouverte 2 ... (582 characters truncated) ... km, tandis que la gare de Grenoble, placée à 3 km, est accessible en 10 minutes en tramway. Enfin, l'aéroport de Grenoble-Isère est implanté à 46 km.\", 'id__1': 16, 'score_given__2': 8.2, 'url_hotel__2': 'https://www.booking.com/hotel/fr/residhotel-le-central-gare.fr.html?aid', 'city__2': 'Grenoble', 'hotel_name__2': \"Residhotel Le Central'Gare\", 'lat__2': 45.19085898, 'lon__2': 5.71572438, 'hotel_description__2': \"Le Residhotel Le Central'Gare propose des hébergements indépendants avec une connexion Wi-Fi gratuite. Situé en face de la gare de Grenoble ainsi qu' ... (816 characters truncated) ... aéroport de Grenoble Isère, est à 35 km. Un nombre limité de places de parking est disponible sur réservation et moyennant des frais supplémentaires.\", 'id__2': 16, 'score_given__3': 8.4, 'url_hotel__3': 'https://www.booking.com/hotel/fr/rockypop-grenoble.fr.html?aid', 'city__3': 'Grenoble', 'hotel_name__3': 'RockyPop Grenoble Hotel', 'lat__3': 45.186911, 'lon__3': 5.731293, 'hotel_description__3': \"L’établissement RockyPop Grenoble Hotel vous accueille à Grenoble, à 1,6 km de ce lieu d’intérêt : Gare de Grenoble. Il comprend une salle de sport,  ... (828 characters truncated) ... ,8 km et 900 mètres de ces lieux d’intérêt\\xa0: Alpexpo et Stade des ALpes. L'aéroport le plus proche (Aéroport de Grenoble-Alpes-Isère) est à 48 km.\", 'id__3': 16, 'score_given__4': 7.2, 'url_hotel__4': 'https://www.booking.com/hotel/fr/adagio-access-grenoble.fr.html?aid', 'city__4': 'Grenoble', 'hotel_name__4': 'Appartéa Grenoble Alpexpo', 'lat__4': 45.15999038, 'lon__4': 5.73111087, 'hotel_description__4': \"L'Appartéa Grenoble Alpexpo est situé à 400 mètres du parc des expositions SAEM Alpexpo, en face de l'arrêt de tramway Grand'Place. Il propose des st ... (406 characters truncated) ... n, facilement accessible depuis les autoroutes A480 et A41, l'Appartéa Grenoble Alpexpo se trouve à 1 heure en voiture de nombreuses stations de ski.\", 'id__4': 16, 'score_given__5': 8.5, 'url_hotel__5': 'https://www.booking.com/hotel/fr/victoria-grenoble.fr.html?aid', 'city__5': 'Grenoble', 'hotel_name__5': 'Hôtel Victoria', 'lat__5': 45.187494, 'lon__5': 5.721472, 'hotel_description__5': \"L’établissement Hôtel Victoria bénéficie d’un emplacement attractif dans le centre de Grenoble. Il possède un parking privé gratuit et une connexion  ... (587 characters truncated) ...  km de ces lieux d’intérêt\\xa0: La Bastille de Grenoble et Summum. L'aéroport le plus proche (Aéroport de Grenoble-Alpes-Isère) est implanté à 46 km.\", 'id__5': 16, 'score_given__6': 7.6, 'url_hotel__6': 'https://www.booking.com/hotel/fr/grenoble-marie-curie.fr.html?aid' ... 164 parameters truncated ... 'hotel_description__26': \"L’hébergement Le Cocon, Studio à 5 min de la gare de Grenoble se trouve à Grenoble, à respectivement 600 mètres, 800 mètres et 5 km de ces lieux d’in ... (372 characters truncated) ... ivement 5,2 km et 33 km de ces lieux d’intérêt : Summum et Col de Parménie. L'aéroport le plus proche (Aéroport de Grenoble-Alpes-Isère) est à 46 km.\", 'id__26': 16, 'score_given__27': 7.0, 'url_hotel__27': 'https://www.booking.com/hotel/fr/studio-confortable-equipe-2min-caserne-de-bonne.fr.html?aid', 'city__27': 'Grenoble', 'hotel_name__27': 'Studio confortable, équipé - 2min Caserne de Bonne', 'lat__27': 45.1812063, 'lon__27': 5.7203076, 'hotel_description__27': \"L’hébergement Studio confortable, équipé - 2min Caserne de Bonne se trouve dans le centre de Grenoble, à respectivement 1,4 km et 1,6 km de ces lieux ... (492 characters truncated) ... ,3 km et 5,9 km de ces lieux d’intérêt : Summum et La Bastille de Grenoble. L'aéroport le plus proche (Aéroport de Grenoble-Alpes-Isère) est à 47 km.\", 'id__27': 16, 'score_given__28': 9.5, 'url_hotel__28': 'https://www.booking.com/hotel/fr/2-pieces-tout-confort-deco-moderne-wifi-fibre.fr.html?aid', 'city__28': 'Grenoble', 'hotel_name__28': '2 pièces tout confort, déco moderne, wifi fibre', 'lat__28': 45.1754809, 'lon__28': 5.71613, 'hotel_description__28': \"L’hébergement 2 pièces tout confort, déco moderne, wifi fibre se situe à Grenoble, à respectivement 2 km et 2,5 km de ces lieux d’intérêt : Gare de G ... (491 characters truncated) ... 6,5 km de ces lieux d’intérêt : Summum et La Bastille de Grenoble. L'aéroport le plus proche (Aéroport de Grenoble-Alpes-Isère) est implanté à 47 km.\", 'id__28': 16, 'score_given__29': 9.5, 'url_hotel__29': 'https://www.booking.com/hotel/fr/10min-gare-grenoble-vrai-lit-double-calme.fr.html?aid', 'city__29': 'Grenoble', 'hotel_name__29': '10min Gare Grenoble, vrai lit double, calme', 'lat__29': 45.1798108, 'lon__29': 5.7060371, 'hotel_description__29': \"L’hébergement 10min Gare Grenoble, vrai lit double, calme se trouve à Grenoble, à respectivement 1,8 km et 1,9 km de ces lieux d’intérêt : Gare de Gr ... (478 characters truncated) ... ,2 km et 6,7 km de ces lieux d’intérêt : Summum et La Bastille de Grenoble. L'aéroport le plus proche (Aéroport de Grenoble-Alpes-Isère) est à 46 km.\", 'id__29': 16, 'score_given__30': 8.5, 'url_hotel__30': 'https://www.booking.com/hotel/fr/proche-parc-paul-mistral-2-chambres-wifi-balcon.fr.html?aid', 'city__30': 'Grenoble', 'hotel_name__30': 'Proche Parc Paul Mistral, 2 chambres, wifi, balcon', 'lat__30': 45.18211, 'lon__30': 5.7304557, 'hotel_description__30': \"L’hébergement Proche Parc Paul Mistral, 2 chambres, wifi, balcon offre une vue sur la montagne, à environ 1,9 km de ce lieu d’intérêt : Gare de Greno ... (488 characters truncated) ... m de ces lieux d’intérêt : World Trade Center Grenoble et Alpexpo. L'aéroport le plus proche (Aéroport de Grenoble-Alpes-Isère) est implanté à 48 km.\", 'id__30': 16, 'score_given__31': 8.3, 'url_hotel__31': 'https://www.booking.com/hotel/fr/le-grand-grenoble-centre.fr.html?aid', 'city__31': 'Grenoble', 'hotel_name__31': 'Le Grand Hôtel Grenoble, BW Premier Collection by Best Western', 'lat__31': 45.19081504, 'lon__31': 5.72854802, 'hotel_description__31': 'Le Grand Hôtel Grenoble est un établissement 4 étoiles situé dans le centre-ville de Grenoble, à 10 mètres de la place Grenette. Les chambres sont in ... (526 characters truncated) ... .  La réception du Grand Hôtel Grenoble est ouverte 24h/24. La gare TGV de Grenoble se trouve à 1,5 km. Un parking public est disponible à proximité.', 'id__31': 16, 'score_given__32': 8.3, 'url_hotel__32': 'https://www.booking.com/hotel/fr/atypique-hypercentre-place-aux-herbes.fr.html?aid', 'city__32': 'Grenoble', 'hotel_name__32': 'Atypique - Hypercentre / Place aux Herbes', 'lat__32': 45.1932263, 'lon__32': 5.7297482, 'hotel_description__32': \"L’hébergement Atypique - Hypercentre / Place aux Herbes se situe dans le centre de Grenoble, à respectivement 1,3 km et 1,6 km de ces lieux d’intérêt ... (538 characters truncated) ...  ces lieux d’intérêt : Stade des ALpes et La Bastille de Grenoble. L'aéroport le plus proche (Aéroport de Grenoble-Alpes-Isère) est implanté à 46 km.\", 'id__32': 16}\n",
      "2024-01-24 11:15:22,003 INFO sqlalchemy.engine.Engine COMMIT\n",
      "2024-01-24 11:15:22,156 INFO sqlalchemy.engine.Engine BEGIN (implicit)\n",
      "2024-01-24 11:15:22,158 INFO sqlalchemy.engine.Engine SELECT pg_catalog.pg_class.relname \n",
      "FROM pg_catalog.pg_class JOIN pg_catalog.pg_namespace ON pg_catalog.pg_namespace.oid = pg_catalog.pg_class.relnamespace \n",
      "WHERE pg_catalog.pg_class.relname = %(table_name)s AND pg_catalog.pg_class.relkind = ANY (ARRAY[%(param_1)s, %(param_2)s, %(param_3)s, %(param_4)s, %(param_5)s]) AND pg_catalog.pg_table_is_visible(pg_catalog.pg_class.oid) AND pg_catalog.pg_namespace.nspname != %(nspname_1)s\n",
      "2024-01-24 11:15:22,159 INFO sqlalchemy.engine.Engine [cached since 9.313s ago] {'table_name': 'cities_booking', 'param_1': 'r', 'param_2': 'p', 'param_3': 'f', 'param_4': 'v', 'param_5': 'm', 'nspname_1': 'pg_catalog'}\n",
      "2024-01-24 11:15:22,337 INFO sqlalchemy.engine.Engine INSERT INTO cities_booking (city, hotel_name, url_hotel, score_given, lat, lon, hotel_description, id) VALUES (%(city__0)s, %(hotel_name__0)s, %(url_hotel__0)s, %(score_given__0)s, %(lat__0)s, %(lon__0)s, %(hotel_description__0)s, %(id__0)s), (%(city ... 3344 characters truncated ... l_hotel__25)s, %(score_given__25)s, %(lat__25)s, %(lon__25)s, %(hotel_description__25)s, %(id__25)s)\n",
      "2024-01-24 11:15:22,338 INFO sqlalchemy.engine.Engine [generated in 0.00016s (insertmanyvalues) 1/1 (unordered)] {'score_given__0': 7.3, 'url_hotel__0': 'https://www.booking.com/hotel/fr/appart-city-cap-affaires-la-rochelle.fr.html?aid', 'city__0': 'La Rochelle', 'hotel_name__0': \"Appart'City Classic La Rochelle Centre\", 'lat__0': 46.15844669, 'lon__0': -1.14101171, 'hotel_description__0': \"L’Appart'City Classic La Rochelle Centre se situe à 10\\xa0minutes à pied de la gare ferroviaire de La Rochelle ainsi qu'à 15\\xa0minutes du Vieux-Port ... (692 characters truncated) ... on. Vous séjournerez à 15\\xa0minutes en voiture de l’aéroport de La Rochelle-Île de Ré. Vous pourrez visiter l’île de Ré située à seulement 15\\xa0km.\", 'id__0': 35, 'score_given__1': 7.4, 'url_hotel__1': 'https://www.booking.com/hotel/fr/l-escale-marine.fr.html?aid', 'city__1': 'La Rochelle', 'hotel_name__1': \"Lagrange Apart'Hotel l’Escale Marine\", 'lat__1': 46.15107012, 'lon__1': -1.15486329, 'hotel_description__1': \"Le Lagrange Apart'Hotel l’Escale Marine vous accueille à La Rochelle, à côté du port des Minimes. Cette résidence possède une piscine couverte chauff ... (390 characters truncated) ... demande et moyennant des frais supplémentaires. Il se trouve à 1 km de la gare de La Rochelle Ville et à 8 km de l'aéroport de La Rochelle-île de Ré.\", 'id__1': 35, 'score_given__2': 8.8, 'url_hotel__2': 'https://www.booking.com/hotel/fr/lycee-hotelier-la-rochelle.fr.html?aid', 'city__2': 'La Rochelle', 'hotel_name__2': 'Hôtel Le Transatlantique - Lycée Hôtelier La Rochelle', 'lat__2': 46.143734, 'lon__2': -1.160263, 'hotel_description__2': \"Situé à La Rochelle, à 2,5 km du parc des expositions de la ville, l'établissement La Rochelle propose une connexion Wi-Fi gratuite.  Vous séjournere ... (603 characters truncated) ... rt de plaisance des Minimes, du musée d'Automata et de l'université de La Rochelle. L'aéroport de La Rochelle-Île de Ré, le plus proche, est à 11 km.\", 'id__2': 35, 'score_given__3': 7.5, 'url_hotel__3': 'https://www.booking.com/hotel/fr/residence-les-minimes.fr.html?aid', 'city__3': 'La Rochelle', 'hotel_name__3': 'Séjours & Affaires La Rochelle Les Minimes', 'lat__3': 46.14584493, 'lon__3': -1.15611792, 'hotel_description__3': \"Le Séjours & Affaires La Rochelle Les Minimes est situé à La Rochelle, à seulement quelques pas du port et à 15 minutes à pied de la gare et du port  ... (442 characters truncated) ... ous bénéficierez d'un parking privé sur place.  La gare SNCF de La Rochelle et Les Minimes se trouvent à seulement 15 minutes à pied de la résidence.\", 'id__3': 35, 'score_given__4': 8.3, 'url_hotel__4': 'https://www.booking.com/hotel/fr/inter-saint-jean-d-acre.fr.html?aid', 'city__4': 'La Rochelle', 'hotel_name__4': 'Maisons du Monde Hôtel & Suites - La Rochelle Vieux Port', 'lat__4': 46.15619304, 'lon__4': -1.15443483, 'hotel_description__4': \"Maisons du Monde Hôtel\\xa0&\\xa0Suites\\xa0-\\xa0La Rochelle Vieux Port est situé au niveau du port de La Rochelle. Vous bénéficierez gratuitement d'une ... (578 characters truncated) ...  à 10h30 du lundi au vendredi.  Des conditions différentes et des suppléments peuvent s’appliquer en cas de réservation de plus de 5\\xa0hébergements.\", 'id__4': 35, 'score_given__5': 8.6, 'url_hotel__5': 'https://www.booking.com/hotel/fr/comforthotelsaintnicolas.fr.html?aid', 'city__5': 'La Rochelle', 'hotel_name__5': 'Hôtel Saint Nicolas', 'lat__5': 46.15813457, 'lon__5': -1.14891277, 'hotel_description__5': \"L’Hôtel Saint Nicolas vous accueille dans le quartier animé de Saint-Nicolas, à La Rochelle, à proximité de boutiques d’antiquités, de bars et de caf ... (927 characters truncated) ... ètres.  Vous séjournerez à 550\\xa0mètres de la tour Saint-Nicolas qui garde l’entrée du Vieux-Port. La gare de La Rochelle se trouve à 700\\xa0mètres.\", 'id__5': 35, 'score_given__6': 7.6, 'url_hotel__6': 'https://www.booking.com/hotel/fr/les-gens-de-mer-la-rochelle.fr.html?aid' ... 108 parameters truncated ... 'hotel_description__19': \"L'Hôtel La Fabrique vous accueille à La Rochelle et vous propose un bar sur place.  Les chambres disposent d'une télévision à écran plat. L'Hôtel La  ... (232 characters truncated) ... et le parc des expositions de La Rochelle vous attend à 700\\xa0mètres. L'aéroport le plus proche est celui de La Rochelle-Île de Ré, distant de 4 km.\", 'id__19': 35, 'score_given__20': 9.1, 'url_hotel__20': 'https://www.booking.com/hotel/fr/couette-et-cafe.fr.html?aid', 'city__20': 'La Rochelle', 'hotel_name__20': \"L'Escale Marine - Couette et Café\", 'lat__20': 46.16969684, 'lon__20': -1.16188467, 'hotel_description__20': \"Situé à La Rochelle, L'Escale Marine - Couette et Café propose un jardin, une terrasse et une connexion Wi-Fi gratuite. Le centre-ville de La Rochell ... (536 characters truncated) ...  pied.  La gare de La Rochelle est à 4 km. L'aéroport de La Rochelle est à 6 km. Un service de navette depuis la gare peut être organisé sur demande.\", 'id__20': 35, 'score_given__21': 8.7, 'url_hotel__21': 'https://www.booking.com/hotel/fr/masqhotel.fr.html?aid', 'city__21': 'La Rochelle', 'hotel_name__21': 'Best Western Premier Masqhotel', 'lat__21': 46.15483672, 'lon__21': -1.14505649, 'hotel_description__21': \"Le Best Western Masqhotel est un hôtel design situé à 5 minutes de marche du vieux port de La Rochelle. Il possède des chambres contemporaines, un ba ... (581 characters truncated) ... ennant des frais supplémentaires.  Cet hôtel certifié Eco-label se trouve à 150 mètres de la gare de La Rochelle et à 6 km de l'aéroport de la ville.\", 'id__21': 35, 'score_given__22': 8.3, 'url_hotel__22': 'https://www.booking.com/hotel/fr/de-l-ocean-la-rochelle.fr.html?aid', 'city__22': 'La Rochelle', 'hotel_name__22': \"Hôtel de l'Océan\", 'lat__22': 46.15701983, 'lon__22': -1.15412772, 'hotel_description__22': \"Construit en 1646, l'Hôtel de l'Océan se trouve dans le quartier du Vieux Port, au cœur de La Rochelle. Il propose des chambres insonorisées avec cli ... (377 characters truncated) ... he. Vous pourrez rejoindre l'île d'Aix, Fort Boyard ainsi que les îles de Ré et d'Oléron grâce aux navettes en bateau disponibles en face de l'hôtel.\", 'id__22': 35, 'score_given__23': 7.6, 'url_hotel__23': 'https://www.booking.com/hotel/fr/residence-du-port.fr.html?aid', 'city__23': 'La Rochelle', 'hotel_name__23': 'Résidence New Rochelle', 'lat__23': 46.14068996, 'lon__23': -1.16616011, 'hotel_description__23': \"La Résidence New Rochelle est située près du port de plaisance de La Rochelle. Elle propose une piscine extérieure et un jardin. La plage se trouve à ... (548 characters truncated) ... ssible en 10 minutes en bus. Enfin, vous pourrez profiter d'un parking privé à proximité et vous rejoindrez l'autoroute N11 en 10 minutes de voiture.\", 'id__23': 35, 'score_given__24': 8.7, 'url_hotel__24': 'https://www.booking.com/hotel/fr/la-residence-de-france-residence-hoteliere.fr.html?aid', 'city__24': 'La Rochelle', 'hotel_name__24': 'Maison des Ambassadeurs', 'lat__24': 46.16282553, 'lon__24': -1.15110219, 'hotel_description__24': \"Situé au cœur de La Rochelle, dans un bâtiment datant du XVIIIe siècle, à seulement 5\\xa0minutes à pied du Vieux-Port, la Maison des Ambassadeurs pro ... (495 characters truncated) ... helle et de la plage, et à 15\\xa0minutes de route du pont de l'île de Ré. Des bornes de recharge pour les voitures électriques se trouvent sur place.\", 'id__24': 35, 'score_given__25': 8.9, 'url_hotel__25': 'https://www.booking.com/hotel/fr/retour-de-plage-la-rochelle.fr.html?aid', 'city__25': 'La Rochelle', 'hotel_name__25': 'Appartement Saint Claude - Centre Port', 'lat__25': 46.1574106, 'lon__25': -1.1460796, 'hotel_description__25': \"Situé à La Rochelle, à seulement 1,5 km de la Concurrence, l'Appartement Saint Claude - Centre Port propose un hébergement avec vue sur la ville, con ... (432 characters truncated) ... la gare de La Rochelle, de l'Espace Encan et du parc des expositions de La Rochelle. L'aéroport de La Rochelle-Île de Ré, le plus proche, est à 7 km.\", 'id__25': 35}\n",
      "2024-01-24 11:15:22,433 INFO sqlalchemy.engine.Engine COMMIT\n",
      "2024-01-24 11:15:22,603 INFO sqlalchemy.engine.Engine BEGIN (implicit)\n",
      "2024-01-24 11:15:22,605 INFO sqlalchemy.engine.Engine SELECT pg_catalog.pg_class.relname \n",
      "FROM pg_catalog.pg_class JOIN pg_catalog.pg_namespace ON pg_catalog.pg_namespace.oid = pg_catalog.pg_class.relnamespace \n",
      "WHERE pg_catalog.pg_class.relname = %(table_name)s AND pg_catalog.pg_class.relkind = ANY (ARRAY[%(param_1)s, %(param_2)s, %(param_3)s, %(param_4)s, %(param_5)s]) AND pg_catalog.pg_table_is_visible(pg_catalog.pg_class.oid) AND pg_catalog.pg_namespace.nspname != %(nspname_1)s\n",
      "2024-01-24 11:15:22,605 INFO sqlalchemy.engine.Engine [cached since 9.76s ago] {'table_name': 'cities_booking', 'param_1': 'r', 'param_2': 'p', 'param_3': 'f', 'param_4': 'v', 'param_5': 'm', 'nspname_1': 'pg_catalog'}\n",
      "2024-01-24 11:15:22,785 INFO sqlalchemy.engine.Engine INSERT INTO cities_booking (city, hotel_name, url_hotel, score_given, lat, lon, hotel_description, id) VALUES (%(city__0)s, %(hotel_name__0)s, %(url_hotel__0)s, %(score_given__0)s, %(lat__0)s, %(lon__0)s, %(hotel_description__0)s, %(id__0)s), (%(city ... 3485 characters truncated ... l_hotel__26)s, %(score_given__26)s, %(lat__26)s, %(lon__26)s, %(hotel_description__26)s, %(id__26)s)\n",
      "2024-01-24 11:15:22,786 INFO sqlalchemy.engine.Engine [generated in 0.00016s (insertmanyvalues) 1/1 (unordered)] {'score_given__0': 8.7, 'url_hotel__0': 'https://www.booking.com/hotel/fr/hilton-garden-inn-le-havre-centre.fr.html?aid', 'city__0': 'Le Havre', 'hotel_name__0': 'Hilton Garden Inn Le Havre Centre', 'lat__0': 49.49008699, 'lon__0': 0.09774696, 'hotel_description__0': \"Le Hilton Garden Inn Le Havre Centre est situé sur le front de mer du Havre, à 350 mètres de la plage et à 300 mètres de l'église Saint-Joseph. Vous  ... (380 characters truncated) ... avre Centre incluent le Volcan, l'appartement témoin Perret et l'église Saint-Joseph. L'aéroport de Deauville-Normandie, le plus proche, est à 15 km.\", 'id__0': 4, 'score_given__1': 7.8, 'url_hotel__1': 'https://www.booking.com/hotel/fr/premiere-classe-le-havre-centre.fr.html?aid', 'city__1': 'Le Havre', 'hotel_name__1': 'Premiere Classe Le Havre Centre-LES DOCKS', 'lat__1': 49.49641693, 'lon__1': 0.15151234, 'hotel_description__1': \"L’hôtel Premiere Classe Le Havre Centre-LES DOCKS bénéficie d’un emplacement idéal à proximité du stade Océane et des quais.  L'établissement dispose ... (640 characters truncated) ... r découvrir la Normandie\\xa0: Étretat, Honfleur, Deauville.  Vous pourrez vous détendre sur la plage de l’établissement durant votre séjour au Havre.\", 'id__1': 4, 'score_given__2': 8.4, 'url_hotel__2': 'https://www.booking.com/hotel/fr/odalys-city-le-havre-centre-les-docks.fr.html?aid', 'city__2': 'Le Havre', 'hotel_name__2': 'Odalys City Le Havre Centre Les Docks', 'lat__2': 49.4925039, 'lon__2': 0.129779, 'hotel_description__2': \"Situé au Havre, en Haute-Normandie, à proximité de l'appartement témoin Le Volcan et Perret, l'Odalys City Le Havre Centre Les Docks propose un héber ... (587 characters truncated) ... éjournerez à 2,9 km de la plage du Havre et à 1,9 km de l'église Saint-Michel. L'aéroport le plus proche, celui du Havre-Octeville, est situé à 7 km.\", 'id__2': 4, 'score_given__3': 9.0, 'url_hotel__3': 'https://www.booking.com/hotel/fr/residence-gabrielle-le-havre.fr.html?aid', 'city__3': 'Le Havre', 'hotel_name__3': 'Résidence GABRIELLE', 'lat__3': 49.486017, 'lon__3': 0.1084245, 'hotel_description__3': \"Située au Havre, la Résidence GABRIELLE propose un hébergement à moins de 1 km de l'église Saint-Joseph et à 17 minutes à pied de l'église Saint-Mich ... (350 characters truncated) ... à proximité de la plage du Havre, du Volcan et de l'appartement témoin Perret. L'aéroport le plus proche, celui du Havre-Octeville, est situé à 6 km.\", 'id__3': 4, 'score_given__4': 8.3, 'url_hotel__4': 'https://www.booking.com/hotel/fr/campanile-le-havre-centre.fr.html?aid', 'city__4': 'Le Havre', 'hotel_name__4': 'Holiday Inn Express - Le Havre Centre', 'lat__4': 49.498238, 'lon__4': 0.128837, 'hotel_description__4': \"L’Holiday Inn Express - Le Havre Centre, situé dans le centre-ville du Havre et à 600\\xa0mètres de la gare SNCF, vous accueille pour un séjour profes ... (316 characters truncated) ... us pourrez profiter du parking privé de l’établissement. . Réservez l’une des grandes chambres confortables de l’hôtel pour profiter de votre séjour.\", 'id__4': 4, 'score_given__5': 7.9, 'url_hotel__5': 'https://www.booking.com/hotel/fr/la-baraka.fr.html?aid', 'city__5': 'Le Havre', 'hotel_name__5': 'The Originals Boutique, Hôtel Le Marignan,Le Havre Centre Gare', 'lat__5': 49.49227908, 'lon__5': 0.12310803, 'hotel_description__5': \"Situé au Havre, à moins de 2,3 km de la plage, L'établissement The Originals Boutique, Hôtel Le Marignan, Le Havre Centre Gare propose des services d ... (845 characters truncated) ... imité du Volcan, de l'église Saint-Michel et de l'appartement témoin Perret. L'aéroport de Deauville-Normandie, le plus proche, est implanté à 37 km.\", 'id__5': 4, 'score_given__6': 9.1, 'url_hotel__6': 'https://www.booking.com/hotel/fr/jost-le-havre.fr.html?aid' ... 116 parameters truncated ... 'hotel_description__20': 'L’Eklo Hotels Le Havre est un établissement de style moderne situé au Havre. Il possède une réception ouverte 24h/24, une cuisine commune et une sall ... (727 characters truncated) ... à 28 km. L’arrêt de tramway et station de métro situé devant l’établissement vous permettra de rejoindre directement la gare ferroviaire ou la plage.', 'id__20': 4, 'score_given__21': 8.0, 'url_hotel__21': 'https://www.booking.com/hotel/fr/hotelibislehavre.fr.html?aid', 'city__21': 'Le Havre', 'hotel_name__21': 'ibis Le Havre Centre', 'lat__21': 49.49164142, 'lon__21': 0.11876017, 'hotel_description__21': \"L'ibis Le Havre Centre est situé dans le centre-ville du Havre, à proximité de la gare SNCF, du port ferry et du centre du commerce international. Un ... (624 characters truncated) ... uve à 23 km, tandis que Deauville vous attend à 40 km. Enfin, vous pourrez profiter d'un espace de stationnement et d'une salle de réunion sur place.\", 'id__21': 4, 'score_given__22': 8.4, 'url_hotel__22': 'https://www.booking.com/hotel/fr/pasino.fr.html?aid', 'city__22': 'Le Havre', 'hotel_name__22': 'Hotel Spa Le Pasino', 'lat__22': 49.49117449, 'lon__22': 0.11193663, 'hotel_description__22': \"Situé au cœur du Havre, l'Hotel Spa le Pasino dispose d'une piscine intérieure, d'un spa avec un sauna et d'un casino sur place.  Les chambres climat ... (509 characters truncated) ... pa.  Un parking privé est disponible gratuitement sur place. La gare du Havre se trouve à 6 minutes de route. Le musée Malraux est accessible à 1 km.\", 'id__22': 4, 'score_given__23': 8.3, 'url_hotel__23': 'https://www.booking.com/hotel/fr/les-voiles-sur-le-front-de-mer.fr.html?aid', 'city__23': 'Le Havre', 'hotel_name__23': 'La Petite Rade Hôtel', 'lat__23': 49.50238471, 'lon__23': 0.08598089, 'hotel_description__23': \"Installé au Havre, à quelques pas de la côte, l'établissement La Petite Rade Hôtel offre une vue panoramique sur la mer et dispose d'un accès direct  ... (537 characters truncated) ... e l'établissement.  En voiture, Le Front de Mer est à 20 minutes de Honfleur et d'Étretat ainsi qu'à 40 minutes de Trouville-sur-Mer et de Deauville.\", 'id__23': 4, 'score_given__24': 5.0, 'url_hotel__24': 'https://www.booking.com/hotel/fr/les-falaises-t2-lumineux-au-coeur-du-havre.fr.html?aid', 'city__24': 'Le Havre', 'hotel_name__24': 'Les Falaises, T2 lumineux au cœur du Havre', 'lat__24': 49.4955956, 'lon__24': 0.1171264, 'hotel_description__24': None, 'id__24': 4, 'score_given__25': 8.0, 'url_hotel__25': 'https://www.booking.com/hotel/fr/appartement-amenage-et-equipe-secteur-universite-avec-terrasse.fr.html?aid', 'city__25': 'Le Havre', 'hotel_name__25': 'Appartement aménagé et équipé secteur Université, avec terrasse', 'lat__25': 49.4995463, 'lon__25': 0.1378242, 'hotel_description__25': \"L’hébergement Appartement aménagé et équipé secteur Université, avec terrasse vous accueille au Havre, à respectivement 3,1 km, 3,1 km et 3,2 km de c ... (419 characters truncated) ... km et 22 km de ces lieux d’intérêt : Vieux port de Honfleur et Musée de la Forge. L'aéroport le plus proche (Aéroport du Havre-Octeville) est à 7 km.\", 'id__25': 4, 'score_given__26': 9.3, 'url_hotel__26': 'https://www.booking.com/hotel/fr/le-havre-joli-cocon-a-danton.fr.html?aid', 'city__26': 'Le Havre', 'hotel_name__26': 'Le Havre: Joli Cocon à Danton', 'lat__26': 49.4968263, 'lon__26': 0.125912, 'hotel_description__26': \"L’hébergement Le Havre: Joli Cocon à Danton vous accueille au Havre, à respectivement 2,6 km et 1,4 km de ces lieux d’intérêt : Plage du Havre et Égl ... (573 characters truncated) ... rêt\\xa0: Église Saint-Joseph du Havre et Musée d'ethnographie et d'art populaire. L'aéroport le plus proche (Aéroport du Havre-Octeville) est à 7 km.\", 'id__26': 4}\n",
      "2024-01-24 11:15:22,882 INFO sqlalchemy.engine.Engine COMMIT\n",
      "2024-01-24 11:15:23,043 INFO sqlalchemy.engine.Engine BEGIN (implicit)\n",
      "2024-01-24 11:15:23,045 INFO sqlalchemy.engine.Engine SELECT pg_catalog.pg_class.relname \n",
      "FROM pg_catalog.pg_class JOIN pg_catalog.pg_namespace ON pg_catalog.pg_namespace.oid = pg_catalog.pg_class.relnamespace \n",
      "WHERE pg_catalog.pg_class.relname = %(table_name)s AND pg_catalog.pg_class.relkind = ANY (ARRAY[%(param_1)s, %(param_2)s, %(param_3)s, %(param_4)s, %(param_5)s]) AND pg_catalog.pg_table_is_visible(pg_catalog.pg_class.oid) AND pg_catalog.pg_namespace.nspname != %(nspname_1)s\n",
      "2024-01-24 11:15:23,045 INFO sqlalchemy.engine.Engine [cached since 10.2s ago] {'table_name': 'cities_booking', 'param_1': 'r', 'param_2': 'p', 'param_3': 'f', 'param_4': 'v', 'param_5': 'm', 'nspname_1': 'pg_catalog'}\n",
      "2024-01-24 11:15:23,220 INFO sqlalchemy.engine.Engine INSERT INTO cities_booking (city, hotel_name, url_hotel, score_given, lat, lon, hotel_description, id) VALUES (%(city__0)s, %(hotel_name__0)s, %(url_hotel__0)s, %(score_given__0)s, %(lat__0)s, %(lon__0)s, %(hotel_description__0)s, %(id__0)s), (%(city ... 5177 characters truncated ... l_hotel__38)s, %(score_given__38)s, %(lat__38)s, %(lon__38)s, %(hotel_description__38)s, %(id__38)s)\n",
      "2024-01-24 11:15:23,220 INFO sqlalchemy.engine.Engine [generated in 0.00031s (insertmanyvalues) 1/1 (unordered)] {'score_given__0': 10.0, 'url_hotel__0': 'https://www.booking.com/hotel/fr/appartement-spacieux-lille-15.fr.html?aid', 'city__0': 'Lille', 'hotel_name__0': 'Appartement spacieux Lille 15', 'lat__0': 50.6177625, 'lon__0': 3.0290887, 'hotel_description__0': \"L’établissement Appartement spacieux Lille 15 se trouve à Lille, à respectivement 3,2 km et 3,2 km de ces lieux d’intérêt : Zoo de Lille et Maison Co ... (477 characters truncated) ... 6,1 km et 6,2 km de ces lieux d’intérêt : Lille Grand Palais et Zénith de Lille. L'aéroport le plus proche (Aéroport de Lille - Lesquin) est à 12 km.\", 'id__0': 8, 'score_given__1': 7.4, 'url_hotel__1': 'https://www.booking.com/hotel/fr/eklo-hotels-lille.fr.html?aid', 'city__1': 'Lille', 'hotel_name__1': 'Eklo Hotels Lille', 'lat__1': 50.62003296, 'lon__1': 3.08456697, 'hotel_description__1': \"Doté d'une terrasse, l'Eklo Hotels Lille est situé à Lille dans le Nord-Pas-de-Calais, à 2 km du Zénith. Vous séjournerez à 2,6 km de Lille Flandres  ... (608 characters truncated) ... s moyennant des frais supplémentaires. L'aéroport de Lille-Lesquin, le plus proche, se trouve à 7 km. Un parking privé gratuit est aménagé sur place.\", 'id__1': 8, 'score_given__2': 9.1, 'url_hotel__2': 'https://www.booking.com/hotel/fr/au-moulin-d-39-or.fr.html?aid', 'city__2': 'Lille', 'hotel_name__2': \"Au Moulin d'Or\", 'lat__2': 50.63527, 'lon__2': 3.069822, 'hotel_description__2': \"Situé dans le centre de Lille, à moins de 600 mètres de l'Hospice Gantois et de la Grand-Place, l'établissement Au Moulin d'Or propose des hébergemen ... (320 characters truncated) ... ous séjournerez à proximité de la gare de Lille-Flandres, de l'opéra et du Zénith de Lille. L'aéroport de Lille, le plus proche, est implanté à 9 km.\", 'id__2': 8, 'score_given__3': 9.4, 'url_hotel__3': 'https://www.booking.com/hotel/fr/galerie-jacqueline-storme.fr.html?aid', 'city__3': 'Lille', 'hotel_name__3': 'galerie jacqueline storme', 'lat__3': 50.6453748, 'lon__3': 3.0612643, 'hotel_description__3': \"La galerie jacqueline storme bénéficie d'un emplacement idéal dans le quartier du Vieux-Lille, à 1,7 km de la gare de Lille-Europe, à 2 km de la Tour ... (569 characters truncated) ... nerez à proximité du grand magasin Printemps, de la gare de Lille-Flandres et de l'Hospice Gantois. L'aéroport de Lille, le plus proche, est à 11 km.\", 'id__3': 8, 'score_given__4': 8.0, 'url_hotel__4': 'https://www.booking.com/hotel/fr/residence-intergenerationnelle-de-lille.fr.html?aid', 'city__4': 'Lille', 'hotel_name__4': 'Twenty Business Flats Lille - Bayard', 'lat__4': 50.6183812, 'lon__4': 3.0539968, 'hotel_description__4': \"Doté d'un salon commun et offrant une vue sur la ville, le Twenty Business Flats Lille - Bayard est situé dans le quartier Moulins de Lille, à 1,4\\xa ... (582 characters truncated) ... \\xa0km du Lille Grand Palais et à 3\\xa0km de la gare de Lille-Flandres. Enfin, l’aéroport de Lille-Lesquin, le plus proche, est accessible à 8\\xa0km.\", 'id__4': 8, 'score_given__5': 8.4, 'url_hotel__5': 'https://www.booking.com/hotel/fr/b-amp-b-lille-lillenium-eurasante-lille.fr.html?aid', 'city__5': 'Lille', 'hotel_name__5': 'B&B HOTEL Lille Lillenium Eurasanté', 'lat__5': 50.615354, 'lon__5': 3.043125, 'hotel_description__5': \"Proposant un bar, l’établissement B&B HOTEL Lille Lillenium Eurasanté se situe à Lille dans la région Nord, à respectivement 2,3 km et 3,4 km de ces  ... (669 characters truncated) ... m de ces lieux d’intérêt : Lille Grand Palais et Gare de Lille-Flandres. L'aéroport le plus proche (Aéroport de Lille - Lesquin) est implanté à 9 km.\", 'id__5': 8, 'score_given__6': 9.0, 'url_hotel__6': 'https://www.booking.com/hotel/fr/chez-jerome-lille.fr.html?aid' ... 212 parameters truncated ... 'hotel_description__32': \"Situé à moins de 700 mètres du centre de Lille, l'Aparthotel Adagio Lille Centre Grand Place dispose d'une connexion Wi-Fi gratuite ainsi que d'une c ... (564 characters truncated) ... erez à proximité du grand magasin Printemps, de l'Hospice Gantois et de la maison Coilliot. L'aéroport de Lille, le plus proche, est implanté à 9 km.\", 'id__32': 8, 'score_given__33': 6.9, 'url_hotel__33': 'https://www.booking.com/hotel/fr/misterbeddelille.fr.html?aid', 'city__33': 'Lille', 'hotel_name__33': 'Lille City Hotel', 'lat__33': 50.63359887, 'lon__33': 3.06328118, 'hotel_description__33': \"Le Lille City Hotel est un établissement abordable situé dans le centre-ville de Lille, dans une rue piétonne et commerçante, à 260 mètres du Palais  ... (558 characters truncated) ... Lille City Hotel. Enfin, l’opéra et le centre de conventions Le Nouveau Siècle sont à 600 mètres, tandis que le centre historique vous attend à 1 km.\", 'id__33': 8, 'score_given__34': 7.5, 'url_hotel__34': 'https://www.booking.com/hotel/fr/residhotel-lille-vauban.fr.html?aid', 'city__34': 'Lille', 'hotel_name__34': 'Residhotel Lille Vauban', 'lat__34': 50.63220722, 'lon__34': 3.04668635, 'hotel_description__34': \"Le Residhotel Lille Vauban est idéalement installé dans le quartier résidentiel de Vauban, à seulement 20 minutes de marche de la vieille ville de Li ... (525 characters truncated) ... oulogne en seulement 10 minutes à pied, tandis que la Grand'Place et le centre de conventions Nouveau Siècle sont accessibles à 20 minutes de marche.\", 'id__34': 8, 'score_given__35': 7.9, 'url_hotel__35': 'https://www.booking.com/hotel/fr/brueghel.fr.html?aid', 'city__35': 'Lille', 'hotel_name__35': 'Brueghel', 'lat__35': 50.63603842, 'lon__35': 3.06693703, 'hotel_description__35': \"Le Brueghel vous accueille en plein cœur de Lille, à 300 mètres de la gare Lille Flandres, à 750 mètres de la gare Lille Europe et à 10 minutes à pie ... (540 characters truncated) ... inental et dispose d'une réception ouverte 24h/24.  Les centres commerciaux Euralille et Les Tanneurs se trouvent à respectivement 120 et 450 mètres.\", 'id__35': 8, 'score_given__36': 8.1, 'url_hotel__36': 'https://www.booking.com/hotel/fr/campanile-lille-euralille-xml.fr.html?aid', 'city__36': 'Lille', 'hotel_name__36': 'Campanile Lille Euralille', 'lat__36': 50.6456983, 'lon__36': 3.07210967, 'hotel_description__36': \"Le Campanile Lille Euralille vous accueille à 1 km de la gare de Lille-Europe, à 2 km de la Grand-Place et à moins de 300 mètres de l'arrêt de tramwa ... (622 characters truncated) ... eaux-arts et de la citadelle de Lille, à 2 km du centre de conventions Nouveau Siècle, ainsi qu'à 10 km des aéroports de Roubaix et de Lille-Lesquin.\", 'id__36': 8, 'score_given__37': 7.9, 'url_hotel__37': 'https://www.booking.com/hotel/fr/lille-grand-place-cozy-and-equipped-studio.fr.html?aid', 'city__37': 'Lille', 'hotel_name__37': 'Lille Grand Place - Nice and equipped studio!', 'lat__37': 50.6349198, 'lon__37': 3.0671957, 'hotel_description__37': \"Situé à 300 mètres du centre de Lille, l’établissement Lille Grand Place - Nice and equipped studio! comprend des hébergements avec une connexion Wi- ... (503 characters truncated) ... ux d’intérêt\\xa0: Grand’Place de Lille, Opéra de Lille et Gare de Lille-Flandres. L'aéroport le plus proche (Aéroport de Lille - Lesquin) est à 9 km.\", 'id__37': 8, 'score_given__38': 7.5, 'url_hotel__38': 'https://www.booking.com/hotel/fr/kyriad-lille-gare-grand-palais.fr.html?aid', 'city__38': 'Lille', 'hotel_name__38': 'Kyriad Lille Gare - Grand Palais', 'lat__38': 50.63637015, 'lon__38': 3.0831188, 'hotel_description__38': \"Situé à 1\\xa0km du Grand Palais de Lille et du quartier des affaires d’Euralille, le Kyriad Lille Gare\\xa0-\\xa0Grand Palais propose des chambres inso ... (1170 characters truncated) ... 0\\xa0minutes de marche.  Le stade Pierre Mauroy se situe à 10\\xa0km. La route nationale N356\\xa0est facilement accessible en 3\\xa0minutes en voiture.\", 'id__38': 8}\n",
      "2024-01-24 11:15:23,315 INFO sqlalchemy.engine.Engine COMMIT\n",
      "2024-01-24 11:15:23,497 INFO sqlalchemy.engine.Engine BEGIN (implicit)\n",
      "2024-01-24 11:15:23,498 INFO sqlalchemy.engine.Engine SELECT pg_catalog.pg_class.relname \n",
      "FROM pg_catalog.pg_class JOIN pg_catalog.pg_namespace ON pg_catalog.pg_namespace.oid = pg_catalog.pg_class.relnamespace \n",
      "WHERE pg_catalog.pg_class.relname = %(table_name)s AND pg_catalog.pg_class.relkind = ANY (ARRAY[%(param_1)s, %(param_2)s, %(param_3)s, %(param_4)s, %(param_5)s]) AND pg_catalog.pg_table_is_visible(pg_catalog.pg_class.oid) AND pg_catalog.pg_namespace.nspname != %(nspname_1)s\n",
      "2024-01-24 11:15:23,498 INFO sqlalchemy.engine.Engine [cached since 10.65s ago] {'table_name': 'cities_booking', 'param_1': 'r', 'param_2': 'p', 'param_3': 'f', 'param_4': 'v', 'param_5': 'm', 'nspname_1': 'pg_catalog'}\n",
      "2024-01-24 11:15:23,675 INFO sqlalchemy.engine.Engine INSERT INTO cities_booking (city, hotel_name, url_hotel, score_given, lat, lon, hotel_description, id) VALUES (%(city__0)s, %(hotel_name__0)s, %(url_hotel__0)s, %(score_given__0)s, %(lat__0)s, %(lon__0)s, %(hotel_description__0)s, %(id__0)s), (%(city ... 3767 characters truncated ... l_hotel__28)s, %(score_given__28)s, %(lat__28)s, %(lon__28)s, %(hotel_description__28)s, %(id__28)s)\n",
      "2024-01-24 11:15:23,676 INFO sqlalchemy.engine.Engine [generated in 0.00015s (insertmanyvalues) 1/1 (unordered)] {'score_given__0': 7.7, 'url_hotel__0': 'https://www.booking.com/hotel/fr/les-studios-de-la-place.fr.html?aid', 'city__0': 'Lyon', 'hotel_name__0': 'Les Studios De La Place (Part-Dieu)', 'lat__0': 45.75509044, 'lon__0': 4.85775813, 'hotel_description__0': \"Situé dans le centre de Lyon, à 2,5 km de la vieille ville et à 750 mètres de la gare ferroviaire de Lyon, l'établissement Les Studios De La Place (P ... (750 characters truncated) ... local tenu quotidiennement, ainsi qu'à 3 km du musée d'Art. Enfin, le musée Gadagne et le Petit Musée Fantastique de Guignol sont à installés 2,5 km.\", 'id__0': 17, 'score_given__1': 7.7, 'url_hotel__1': 'https://www.booking.com/hotel/fr/appart-39-charmettes.fr.html?aid', 'city__1': 'Lyon', 'hotel_name__1': \"Appart' Charmettes\", 'lat__1': 45.76602711, 'lon__1': 4.86708287, 'hotel_description__1': \"Situé à Lyon, à 1,3 km de la gare de la Part-Dieu, à 3,8 km du musée des beaux-arts et à 4,3 km du musée Miniature et Cinéma, l'Appart' Charmettes pr ... (432 characters truncated) ... ,4 km de la gare de Lyon-Perrache et à 5,6 km de la basilique Notre-Dame de Fourvière. L'aéroport de Lyon-Saint-Exupéry, le plus proche, est à 31 km.\", 'id__1': 17, 'score_given__2': 6.8, 'url_hotel__2': 'https://www.booking.com/hotel/fr/le-cocon-du-gourguillon-vieux-lyon.fr.html?aid', 'city__2': 'Lyon', 'hotel_name__2': 'Le Cocon du Gourguillon - Vieux Lyon', 'lat__2': 45.75799, 'lon__2': 4.823625, 'hotel_description__2': \"Doté d'un jacuzzi, l'établissement Le Cocon du Gourguillon - Vieux Lyon est situé dans un quartier central de Lyon. Vous séjournerez à 600 mètres du  ... (455 characters truncated) ... -Perrache, du musée des beaux-arts de Lyon et du théâtre romain de Fourvière. L'aéroport de Lyon-Saint-Exupéry, le plus proche, est implanté à 28 km.\", 'id__2': 17, 'score_given__3': 8.6, 'url_hotel__3': 'https://www.booking.com/hotel/fr/les-bulles-de-mona-proximite-gare-de-lyon.fr.html?aid', 'city__3': 'Lyon', 'hotel_name__3': 'Les Bulles de Mona \"Le 149\" -PROXIMITE GARE DE LYON-', 'lat__3': 45.7553621, 'lon__3': 4.8671715, 'hotel_description__3': 'Les Bulles de Mona \"LE 149\" -PROXIMITE La GARE DE LYON- est située dans le 3ème arr. Quartier de Lyon, à 1,4 km de la gare Part-Dieu et à 4 km du mus ... (647 characters truncated) ... e Lyon-Saint-Exupéry, le plus proche, est à 23 km. \"Le 149\" -PROXIMITE Un service de navette aéroport est assuré moyennant des frais supplémentaires.', 'id__3': 17, 'score_given__4': 8.7, 'url_hotel__4': 'https://www.booking.com/hotel/fr/vaubecour.fr.html?aid', 'city__4': 'Lyon', 'hotel_name__4': 'Hôtel Vaubecour', 'lat__4': 45.7536869, 'lon__4': 4.8258452, 'hotel_description__4': \"L'Hôtel Vaubecour se trouve à Lyon, au 2e\\xa0étage d'un immeuble. L’hôtel est situé à 500\\xa0mètres de la gare de Lyon-Perrache et à 1,6\\xa0km du mus ... (591 characters truncated) ... 4 km L’aéroport de Lyon-Saint-Exupéry est installé à 20\\xa0km.  Veuillez noter que l'ascenseur n'est pas accessible aux personnes à mobilité réduite.\", 'id__4': 17, 'score_given__5': 7.6, 'url_hotel__5': 'https://www.booking.com/hotel/fr/residence-villemanzy.fr.html?aid', 'city__5': 'Lyon', 'hotel_name__5': 'Résidence Villemanzy', 'lat__5': 45.77193515, 'lon__5': 4.83545758, 'hotel_description__5': 'Offrant une vue sur les Alpes et le Rhône, la Résidence Villemanzy occupe un ancien couvent à Lyon, à moins de 650 mètres de la place des Terreaux, d ... (595 characters truncated) ... 0 mètres, tandis que le parc de la Tête d’Or est accessible en 20 minutes de marche. Vous rejoindrez la gare de Lyon-Perrache en 20 minutes de route.', 'id__5': 17, 'score_given__6': 8.0, 'url_hotel__6': 'https://www.booking.com/hotel/fr/residence-hoteliere-temporim-cite-internationale.fr.html?aid' ... 132 parameters truncated ... 'hotel_description__22': 'Les Bulles de Mona \"Le 93\" -PROXIMITE Situé à Lyon, à 1,2 km de la gare de Lyon Part-Dieu, le GARE DE LYON- propose un jacuzzi, un spa et des héberge ... (589 characters truncated) ... de Lyon-Saint-Exupéry, le plus proche, est à 23 km. \"Le 93\" -PROXIMITE Un service de navette aéroport est assuré moyennant des frais supplémentaires.', 'id__22': 17, 'score_given__23': 7.1, 'url_hotel__23': 'https://www.booking.com/hotel/fr/bleumarinelyoncentre.fr.html?aid', 'city__23': 'Lyon', 'hotel_name__23': 'Campanile Lyon Centre - Berges du Rhône', 'lat__23': 45.75669986, 'lon__23': 4.84195322, 'hotel_description__23': \"Le Campanile Lyon Centre\\xa0-\\xa0Berges du Rhône propose une connexion Wi-Fi gratuite. Il se situe à seulement 2\\xa0minutes à pied de la station de m ... (742 characters truncated) ... lecour et de la rue de la République, la rue commerçante principale de Lyon. Vous pourrez rejoindre les autoroutes A6 et A7 en 5\\xa0minutes de route.\", 'id__23': 17, 'score_given__24': 6.2, 'url_hotel__24': 'https://www.booking.com/hotel/fr/sejours-affaires-lyon-saxe-gambetta.fr.html?aid', 'city__24': 'Lyon', 'hotel_name__24': 'Séjours & Affaires Lyon Saxe-Gambetta', 'lat__24': 45.75306643, 'lon__24': 4.84486341, 'hotel_description__24': 'La résidence Séjours & Affaires Lyon Saxe-Gambetta est à 150 mètres de la station de métro Saxe-Gambetta de Lyon. Elle comporte des studios avec une  ... (298 characters truncated) ... a résidence est à 400 mètres de la station de tramway Guillotière et à 15 minutes à pied de la place Bellecour. Le quartier du Vieux Lyon est à 2 km.', 'id__24': 17, 'score_given__25': 7.3, 'url_hotel__25': 'https://www.booking.com/hotel/fr/residence-park-lane.fr.html?aid', 'city__25': 'Lyon', 'hotel_name__25': 'Séjours & Affaires Lyon Park Lane', 'lat__25': 45.76914699, 'lon__25': 4.80622888, 'hotel_description__25': \"Le Séjours & Affaires Lyon Park Lane propose un hébergement à Lyon, à 5 minutes à pied de la station de métro Gorge de Loup. Vous bénéficierez gratui ... (694 characters truncated) ... ne D du métro depuis la station Gorge de Loup. Vous séjournerez à 4 km de la Place Bellecour et à 13 minutes en voitures de la gare de Lyon-Perrache.\", 'id__25': 17, 'score_given__26': 8.1, 'url_hotel__26': 'https://www.booking.com/hotel/fr/marriott-lyon.fr.html?aid', 'city__26': 'Lyon', 'hotel_name__26': 'Lyon Marriott Hotel Cité Internationale', 'lat__26': 45.78492085, 'lon__26': 4.85289931, 'hotel_description__26': \"Le Lyon Marriott Hôtel Cité Internationale vous propose des chambres climatisées près du Rhône et du parc de la Tête d'Or. Installé au sein du comple ... (784 characters truncated) ... vant le centre-ville de Lyon, accessible en seulement 10 minutes de route. Vous rejoindrez l’aéroport de Lyon-Saint-Exupéry en 30 minutes en voiture.\", 'id__26': 17, 'score_given__27': 7.3, 'url_hotel__27': 'https://www.booking.com/hotel/fr/appart-ha-tel-odalys-lyon-confluence.fr.html?aid', 'city__27': 'Lyon', 'hotel_name__27': 'Odalys City Lyon Confluence', 'lat__27': 45.74457016, 'lon__27': 4.82010044, 'hotel_description__27': \"Situé à Lyon, dans le quartier de la Confluence, l'Odalys City Lyon Confluence dispose d'une piscine intérieure chauffée et d'une salle de sport. Il  ... (821 characters truncated) ... s City Lyon Confluence. L'arrêt de tramway Sainte-Blandine est à 1\\xa0minute de marche, tandis que la gare de Lyon-Perrache se situe à 650\\xa0mètres.\", 'id__27': 17, 'score_given__28': 8.5, 'url_hotel__28': 'https://www.booking.com/hotel/fr/lyon-ouest-lyon.fr.html?aid', 'city__28': 'Lyon', 'hotel_name__28': 'Hotel Lyon-ouest', 'lat__28': 45.788608, 'lon__28': 4.814676, 'hotel_description__28': \"Situé sur les rives de la Saône, à 6\\xa0km de la place Bellecour, l'Hôtel Lyon-ouest propose 102\\xa0chambres, un restaurant, un bar et une salle de s ... (551 characters truncated) ... oute de la vieille ville de Lyon ainsi qu’à 2\\xa0km de la gare de Lyon-Vaise. L'aéroport de Lyon-Saint-Exupéry est situé à une demi-heure en voiture.\", 'id__28': 17}\n",
      "2024-01-24 11:15:23,773 INFO sqlalchemy.engine.Engine COMMIT\n",
      "2024-01-24 11:15:23,926 INFO sqlalchemy.engine.Engine BEGIN (implicit)\n",
      "2024-01-24 11:15:23,927 INFO sqlalchemy.engine.Engine SELECT pg_catalog.pg_class.relname \n",
      "FROM pg_catalog.pg_class JOIN pg_catalog.pg_namespace ON pg_catalog.pg_namespace.oid = pg_catalog.pg_class.relnamespace \n",
      "WHERE pg_catalog.pg_class.relname = %(table_name)s AND pg_catalog.pg_class.relkind = ANY (ARRAY[%(param_1)s, %(param_2)s, %(param_3)s, %(param_4)s, %(param_5)s]) AND pg_catalog.pg_table_is_visible(pg_catalog.pg_class.oid) AND pg_catalog.pg_namespace.nspname != %(nspname_1)s\n",
      "2024-01-24 11:15:23,928 INFO sqlalchemy.engine.Engine [cached since 11.08s ago] {'table_name': 'cities_booking', 'param_1': 'r', 'param_2': 'p', 'param_3': 'f', 'param_4': 'v', 'param_5': 'm', 'nspname_1': 'pg_catalog'}\n",
      "2024-01-24 11:15:24,106 INFO sqlalchemy.engine.Engine INSERT INTO cities_booking (city, hotel_name, url_hotel, score_given, lat, lon, hotel_description, id) VALUES (%(city__0)s, %(hotel_name__0)s, %(url_hotel__0)s, %(score_given__0)s, %(lat__0)s, %(lon__0)s, %(hotel_description__0)s, %(id__0)s), (%(city ... 2780 characters truncated ... l_hotel__21)s, %(score_given__21)s, %(lat__21)s, %(lon__21)s, %(hotel_description__21)s, %(id__21)s)\n",
      "2024-01-24 11:15:24,106 INFO sqlalchemy.engine.Engine [generated in 0.00015s (insertmanyvalues) 1/1 (unordered)] {'score_given__0': 7.3, 'url_hotel__0': 'https://www.booking.com/hotel/fr/montempo-marseille-centre.fr.html?aid', 'city__0': 'Marseille', 'hotel_name__0': 'Montempô Marseille Centre Dôme', 'lat__0': 43.31371049, 'lon__0': 5.40388192, 'hotel_description__0': \"Le Montempô Marseille Centre Dôme propose des hébergements avec une connexion Wi-Fi gratuite, une télévision à écran plat et une kitchenette à Marsei ... (241 characters truncated) ... a station de métro Castellane et de la gare de Marseille Saint-Charles. L’aéroport le plus proche, celui de Marseille-Provence, est situé à 24\\xa0km.\", 'id__0': 21, 'score_given__1': 8.5, 'url_hotel__1': 'https://www.booking.com/hotel/fr/crowne-plaza-marseille-le-dome.fr.html?aid', 'city__1': 'Marseille', 'hotel_name__1': 'Crowne Plaza - Marseille Le Dôme', 'lat__1': 43.31327, 'lon__1': 5.40482, 'hotel_description__1': \"Situé à Marseille, à 2,8 km de la station de métro La Timone, le Crowne Plaza - Marseille Le Dôme propose des hébergements avec une piscine extérieur ... (624 characters truncated) ...  4,1 km de la station de métro Vieux-Port et à 4,2 km de celle de Castellane. L'aéroport de Marseille-Provence, le plus proche, est implanté à 23 km.\", 'id__1': 21, 'score_given__2': 8.2, 'url_hotel__2': 'https://www.booking.com/hotel/fr/odalys-city-marseille-centre-euromed.fr.html?aid', 'city__2': 'Marseille', 'hotel_name__2': 'Odalys City Marseille Centre Euromed', 'lat__2': 43.312771, 'lon__2': 5.367682, 'hotel_description__2': \"L’établissement Odalys City Marseille Centre Euromed se trouve à Marseille, à proximité de ces lieux d’intérêt : Métro Joliette, Centre commercial Le ... (585 characters truncated) ...  Civilisations de l'Europe et de la Méditerranée (MuCEM) et Métro Vieux-Port. L'aéroport le plus proche (Aéroport de Marseille Provence) est à 20 km.\", 'id__2': 21, 'score_given__3': 9.1, 'url_hotel__3': 'https://www.booking.com/hotel/fr/appartement-vieux-port-de-marseille-davso-marseille.fr.html?aid', 'city__3': 'Marseille', 'hotel_name__3': 'Appartement Vieux-Port de Marseille - Davso', 'lat__3': 43.2933393, 'lon__3': 5.3765135, 'hotel_description__3': \"Situé au cœur de Marseille, à proximité de la station de métro Vieux Port et de la rue Saint-Ferréol, l'Appartement Vieux-Port de Marseille - Davso p ... (557 characters truncated) ... sations de l'Europe et de la Méditerranée et de la station de métro Joliette. L'aéroport de Marseille-Provence, le plus proche, est implanté à 22 km.\", 'id__3': 21, 'score_given__4': 7.8, 'url_hotel__4': 'https://www.booking.com/hotel/fr/adira-resid-marseille-vieux-port.fr.html?aid', 'city__4': 'Marseille', 'hotel_name__4': \"ADIRA Résid'Marseille Vieux-port\", 'lat__4': 43.29445834, 'lon__4': 5.37761973, 'hotel_description__4': \"L’établissement ADIRA Résid'Marseille Vieux-port vous accueille dans le centre de Marseille, à respectivement 2 km et 300 mètres de ces lieux d’intér ... (556 characters truncated) ... t\\xa0: Métro Castellane, Métro Vieux-Port et Gare de Marseille-Saint-Charles. L'aéroport le plus proche (Aéroport de Marseille Provence) est à 23 km.\", 'id__4': 21, 'score_given__5': 8.0, 'url_hotel__5': 'https://www.booking.com/hotel/fr/montgrand.fr.html?aid', 'city__5': 'Marseille', 'hotel_name__5': 'Hôtel Maison Montgrand - Vieux Port', 'lat__5': 43.2909627, 'lon__5': 5.3764292, 'hotel_description__5': \"Idéalement situé dans le centre de Marseille, l'Hôtel Maison Montgrand\\xa0-\\xa0Vieux Port propose des chambres climatisées, un jardin, une terrasse e ... (729 characters truncated) ... -Ferréol ainsi que des stations de métro Vieux-Port et Castellane. L’aéroport de Marseille-Provence, le plus proche, est situé à 23\\xa0km de l’hôtel.\", 'id__5': 21, 'score_given__6': 8.1, 'url_hotel__6': 'https://www.booking.com/hotel/fr/hermes.fr.html?aid' ... 76 parameters truncated ... 'hotel_description__15': \"Le Residhome Marseille Saint-Charles est situé à Marseille, à seulement 5 minutes à pied de la gare Saint-Charles, à 12 minutes de marche du Vieux-Po ... (749 characters truncated) ... Charles se trouve à 15 minutes à pied de l'opéra et à 1 km de la cathédrale de Marseille. Enfin, un parking public payant est accessible à proximité.\", 'id__15': 21, 'score_given__16': 7.7, 'url_hotel__16': 'https://www.booking.com/hotel/fr/citea-marseille-prado-perier.fr.html?aid', 'city__16': 'Marseille', 'hotel_name__16': 'Aparthotel Adagio Access Marseille Prado Périer', 'lat__16': 43.27869234, 'lon__16': 5.38806036, 'hotel_description__16': \" L'Aparthotel Adagio Access Marseille Prado Périer vous accueille dans un quartier résidentiel, à 150 mètres seulement de la station de métro Prado P ... (836 characters truncated) ... e à 4 km de la plage, à 3 km du Vieux-Port de Marseille et à 8 minutes de marche du parc Chanot. Un parking public payant est disponible à proximité.\", 'id__16': 21, 'score_given__17': 8.3, 'url_hotel__17': 'https://www.booking.com/hotel/fr/the-people-hostel-marseille.fr.html?aid', 'city__17': 'Marseille', 'hotel_name__17': 'The People - Marseille', 'lat__17': 43.301105, 'lon__17': 5.371282, 'hotel_description__17': \"L’établissement The People - Marseille bénéficie d’un emplacement stratégique à Marseille. Il comprend une connexion Wi-Fi gratuite, un salon commun, ... (665 characters truncated) ... Civilisations de l'Europe et de la Méditerranée (MuCEM) et Rue Saint-Ferréol. L'aéroport le plus proche (Aéroport de Marseille Provence) est à 21 km.\", 'id__17': 21, 'score_given__18': 7.8, 'url_hotel__18': 'https://www.booking.com/hotel/fr/le-panier-enchante-suites-amp-spa.fr.html?aid', 'city__18': 'Marseille', 'hotel_name__18': 'LE PANIER ENCHANTÉ - Suites & Loft - Terrasse et patio au dessus du Vieux Port', 'lat__18': 43.300097, 'lon__18': 5.367585, 'hotel_description__18': \"L’établissement LE PANIER ENCHANTÉ - Suites & Loft - Terrasse et patio au dessus du Vieux Port se situe à 1 km du centre de Marseille et à 2,8 km de  ... (577 characters truncated) ... liette, Métro Vieux-Port et Centre commercial Les Terrasses du Port. L'aéroport le plus proche (Aéroport de Marseille Provence) est implanté à 21 km.\", 'id__18': 21, 'score_given__19': 7.5, 'url_hotel__19': 'https://www.booking.com/hotel/fr/residence-kley.fr.html?aid', 'city__19': 'Marseille', 'hotel_name__19': 'Résidence Kley', 'lat__19': 43.308979, 'lon__19': 5.376493, 'hotel_description__19': \"Située à Marseille, la Résidence Kley possède un salon commun, une terrasse, des installations de sports nautiques et un court de tennis. Vous séjour ... (441 characters truncated) ... are de Marseille-Saint-Charles et à 1,9 km de la station de métro Vieux Port. L'aéroport de Marseille-Provence, le plus proche, est implanté à 21 km.\", 'id__19': 21, 'score_given__20': 7.4, 'url_hotel__20': 'https://www.booking.com/hotel/fr/adagio-city-aparthotel-marseille-saint-charles.fr.html?aid', 'city__20': 'Marseille', 'hotel_name__20': 'Aparthotel Adagio Access Marseille Saint Charles', 'lat__20': 43.30459067, 'lon__20': 5.3819409, 'hotel_description__20': \"L'Aparthotel Adagio Access Marseille Saint Charles propose des hébergements spacieux, à seulement 100\\xa0mètres de la gare Saint-Charles. Vous séjour ... (575 characters truncated) ... e du Vieux-Port de Marseille et du palais Longchamp. Enfin, l'aéroport de Marseille-Provence est situé à 26\\xa0km et desservi par une navette locale.\", 'id__20': 21, 'score_given__21': 7.9, 'url_hotel__21': 'https://www.booking.com/hotel/fr/holiday-inn-express-marseille-saint-charles.fr.html?aid', 'city__21': 'Marseille', 'hotel_name__21': 'Holiday Inn Express Marseille Saint Charles, an IHG Hotel', 'lat__21': 43.30272424, 'lon__21': 5.37933044, 'hotel_description__21': \"L'Holiday Inn Express Marseille Saint Charles se situe en face de la gare dans le centre-ville de Marseille, à 10 minutes de marche du Vieux-Port. Il ... (683 characters truncated) ... rect au parc Chanot et au centre-ville. Enfin, accessible depuis l'A7, l'Holiday Inn Express Marseille Saint Charles possède un parking privé payant.\", 'id__21': 21}\n",
      "2024-01-24 11:15:24,205 INFO sqlalchemy.engine.Engine COMMIT\n",
      "2024-01-24 11:15:24,354 INFO sqlalchemy.engine.Engine BEGIN (implicit)\n",
      "2024-01-24 11:15:24,356 INFO sqlalchemy.engine.Engine SELECT pg_catalog.pg_class.relname \n",
      "FROM pg_catalog.pg_class JOIN pg_catalog.pg_namespace ON pg_catalog.pg_namespace.oid = pg_catalog.pg_class.relnamespace \n",
      "WHERE pg_catalog.pg_class.relname = %(table_name)s AND pg_catalog.pg_class.relkind = ANY (ARRAY[%(param_1)s, %(param_2)s, %(param_3)s, %(param_4)s, %(param_5)s]) AND pg_catalog.pg_table_is_visible(pg_catalog.pg_class.oid) AND pg_catalog.pg_namespace.nspname != %(nspname_1)s\n",
      "2024-01-24 11:15:24,356 INFO sqlalchemy.engine.Engine [cached since 11.51s ago] {'table_name': 'cities_booking', 'param_1': 'r', 'param_2': 'p', 'param_3': 'f', 'param_4': 'v', 'param_5': 'm', 'nspname_1': 'pg_catalog'}\n",
      "2024-01-24 11:15:24,537 INFO sqlalchemy.engine.Engine INSERT INTO cities_booking (city, hotel_name, url_hotel, score_given, lat, lon, hotel_description, id) VALUES (%(city__0)s, %(hotel_name__0)s, %(url_hotel__0)s, %(score_given__0)s, %(lat__0)s, %(lon__0)s, %(hotel_description__0)s, %(id__0)s), (%(city ... 3203 characters truncated ... l_hotel__24)s, %(score_given__24)s, %(lat__24)s, %(lon__24)s, %(hotel_description__24)s, %(id__24)s)\n",
      "2024-01-24 11:15:24,537 INFO sqlalchemy.engine.Engine [generated in 0.00014s (insertmanyvalues) 1/1 (unordered)] {'score_given__0': 8.0, 'url_hotel__0': 'https://www.booking.com/hotel/fr/vert.fr.html?aid', 'city__0': 'Mont Saint Michel', 'hotel_name__0': 'Hôtel Vert', 'lat__0': 48.61470049, 'lon__0': -1.50961697, 'hotel_description__0': \"L’Hotel Vert vous propose des chambres décorées dans des tons pastel, dotées d’une salle de bains privative, d’une télévision ainsi que d’une connexi ... (355 characters truncated) ... isposition une réception ouverte 24h/24 ainsi qu’un parking privé. Vous bénéficierez aussi d’un supermarché et d’une boutique de souvenirs sur place.\", 'id__0': 1, 'score_given__1': 7.4, 'url_hotel__1': 'https://www.booking.com/hotel/fr/les-terrasses-poulard.fr.html?aid', 'city__1': 'Mont Saint Michel', 'hotel_name__1': 'Les Terrasses Poulard', 'lat__1': 48.63534943, 'lon__1': -1.51037872, 'hotel_description__1': \"Occupant 2 bâtiments différents au cœur du Mont-Saint-Michel, l'établissement historique Les Terrasses Poulard propose des hébergements avec une vue  ... (646 characters truncated) ... n ouverte 24h/24 avec une bagagerie.  La région constitue un cadre idéal pour diverses activités telles que la pêche, le vélo et la randonnée à pied.\", 'id__1': 1, 'score_given__2': 8.2, 'url_hotel__2': 'https://www.booking.com/hotel/fr/mont-saint-michel.fr.html?aid', 'city__2': 'Mont Saint Michel', 'hotel_name__2': 'Mercure Mont Saint Michel', 'lat__2': 48.61424653, 'lon__2': -1.51054502, 'hotel_description__2': \"Installé dans des espaces verts à seulement 2 km de l'abbaye du Mont-Saint-Michel, le Mercure Mont Saint Michel propose des chambres spacieuses avec  ... (389 characters truncated) ... ert des boissons dans un cadre convivial et décontracté.  Le Mercure Mont Saint Michel vous accueille à 6,5 km de Pontorson et à 52 km de Saint-Malo.\", 'id__2': 1, 'score_given__3': 7.3, 'url_hotel__3': 'https://www.booking.com/hotel/fr/la-vieille-auberge-le-mont-saint-michel.fr.html?aid', 'city__3': 'Mont Saint Michel', 'hotel_name__3': 'La Vieille Auberge', 'lat__3': 48.636063, 'lon__3': -1.511457, 'hotel_description__3': 'La Vieille Auberge vous accueille dans le village médiéval du Mont-Saint-Michel, à quelques pas de la célèbre abbaye du Mont-Saint-Michel. L’établiss ... (560 characters truncated) ... uisine française traditionnelle.  Vous séjournerez à 24\\xa0km d’Avranches et à 49\\xa0km de Cancale. La ville de Dol-de-Bretagne se trouve à 30\\xa0km.', 'id__3': 1, 'score_given__4': 8.0, 'url_hotel__4': 'https://www.booking.com/hotel/fr/le-relais-du-roy.fr.html?aid', 'city__4': 'Mont Saint Michel', 'hotel_name__4': 'Le Relais Du Roy', 'lat__4': 48.6162627, 'lon__4': -1.51090577, 'hotel_description__4': 'Le Relais Du Roy est un hôtel 3\\xa0étoiles situé au bord du Couesnon, à seulement 1,5\\xa0km du Mont Saint-Michel et à 50\\xa0mètres de la navette grat ... (456 characters truncated) ... ed. La ville de Pontorson est quant à elle accessible à 7\\xa0km. Un espace de stationnement privé est disponible moyennant des frais supplémentaires.', 'id__4': 1, 'score_given__5': 7.9, 'url_hotel__5': 'https://www.booking.com/hotel/fr/le-relais-saint-michel.fr.html?aid', 'city__5': 'Mont Saint Michel', 'hotel_name__5': 'Le Relais Saint Michel', 'lat__5': 48.61758727, 'lon__5': -1.51039615, 'hotel_description__5': \"Le Relais Saint Michel vous accueille face à la baie du Mont-Saint-Michel. Les chambres de cet hôtel (à l'exception de la chambre lits jumeaux Saint- ... (719 characters truncated) ...  la nuit. Par ailleurs, si vous arrivez en voiture, vous pourrez profiter d'un espace de stationnement surveillé moyennant des frais supplémentaires.\", 'id__5': 1, 'score_given__6': 7.2, 'url_hotel__6': 'https://www.booking.com/hotel/fr/de-la-digue.fr.html?aid' ... 100 parameters truncated ... 'hotel_description__18': \"L'établissement Chambres Les Salles est situé à Beauvoir, à 5 km du Mont-Saint-Michel et à 25 km d'Avranches. Il propose des logements au décor indiv ... (464 characters truncated) ...  de l'établissement. Les villes de Cancale et Saint-Malo sont toutes deux implantées à 49 km. Un parking privé est accessible gratuitement sur place.\", 'id__18': 1, 'score_given__19': 8.1, 'url_hotel__19': 'https://www.booking.com/hotel/fr/residence-fleurdumont.fr.html?aid', 'city__19': 'Mont Saint Michel', 'hotel_name__19': 'Apparthôtel Mont Saint Michel - Résidence Fleurdumont', 'lat__19': 48.59648217, 'lon__19': -1.50314692, 'hotel_description__19': \"L’Apparthôtel Mont Saint Michel\\xa0-\\xa0Résidence Fleurdumont propose un hébergement acceptant les animaux domestiques à Beauvoir, à 4,4 km de l’abba ... (556 characters truncated) ... . Un kit petit-déjeuner est proposé tous les matins.  L'aéroport de Pleurtuit, le plus proche, est accessible à 42\\xa0km de la Résidence Fleurdumont.\", 'id__19': 1, 'score_given__20': 9.4, 'url_hotel__20': 'https://www.booking.com/hotel/fr/etoile-des-greves.fr.html?aid', 'city__20': 'Mont Saint Michel', 'hotel_name__20': 'Etoile des Grèves', 'lat__20': 48.615509, 'lon__20': -1.491524, 'hotel_description__20': \"Situé à Ardevon, en Basse-Normandie, l'Etoile des Grèves propose des hébergements avec connexion Wi-Fi et parking privé gratuits.  La salle de bains  ... (386 characters truncated) ...  d'Avranches, musee des manuscrits. Le Mont-Saint-Michel se trouve à 21 km. L'aéroport de Rennes-Saint-Jacques, le plus proche, est implanté à 93 km.\", 'id__20': 1, 'score_given__21': 8.9, 'url_hotel__21': 'https://www.booking.com/hotel/fr/les-pra-s-sala-s.fr.html?aid', 'city__21': 'Mont Saint Michel', 'hotel_name__21': 'Les Pres-Salés', 'lat__21': 48.624222, 'lon__21': -1.4457804, 'hotel_description__21': \"L'établissement Les Pres-Salés propose un hébergement en maison d'hôtes dans une ferme rénovée avec vue sur le Mont-Saint-Michel et la baie. Un petit ... (570 characters truncated) ... ssement se trouve à 4 km des parkings du Mont-Saint-Michel. La plage de Carolles est à 25 km et vous pourrez déguster des huîtres à Cancale, à 35 km.\", 'id__21': 1, 'score_given__22': 9.2, 'url_hotel__22': 'https://www.booking.com/hotel/fr/vent-des-greves-pontorson.fr.html?aid', 'city__22': 'Mont Saint Michel', 'hotel_name__22': 'Vent des Grèves', 'lat__22': 48.615403, 'lon__22': -1.49144, 'hotel_description__22': \"Offrant une vue sur le jardin, l’établissement Vent des Grèves comprend une connexion Wi-Fi gratuite et un parking privé gratuit. Il se situe à Ponto ... (495 characters truncated) ... es lieux d’intérêt : Scriptorial d'Avranches et Gare de Granville. L'aéroport le plus proche (Aéroport de Rennes-Saint-Jacques) est implanté à 93 km.\", 'id__22': 1, 'score_given__23': 8.6, 'url_hotel__23': 'https://www.booking.com/hotel/fr/mon-saint-michel.fr.html?aid', 'city__23': 'Mont Saint Michel', 'hotel_name__23': 'Mon Saint Michel', 'lat__23': 48.613627, 'lon__23': -1.485791, 'hotel_description__23': \"Offrant une vue sur le jardin, le Mon Saint Michel est situé à Ardevon, à 8,6 km de l'abbaye du Mont-Saint-Michel. Vous bénéficierez gratuitement d'u ... (683 characters truncated) ... e plus proche, celui de Rennes-Saint-Jacques, est situé à 85 km. Un service de navette aéroport peut être assuré moyennant des frais supplémentaires.\", 'id__23': 1, 'score_given__24': 7.8, 'url_hotel__24': 'https://www.booking.com/hotel/fr/auberge-de-la-baie.fr.html?aid', 'city__24': 'Mont Saint Michel', 'hotel_name__24': 'Auberge de la Baie', 'lat__24': 48.61599318, 'lon__24': -1.48825318, 'hotel_description__24': \"Situé dans la campagne normande, cet hôtel dispose d’une connexion Wi-Fi gratuite.  Toutes les chambres modernes de l'Auberge de la Baie sont équipée ... (197 characters truncated) ... t la ville d'Avranches se trouve à 23\\xa0km. Vous séjournerez à 45\\xa0minutes en voiture des plages de Saint-Malo et à 1\\xa0heure de route de Rennes.\", 'id__24': 1}\n",
      "2024-01-24 11:15:24,628 INFO sqlalchemy.engine.Engine COMMIT\n",
      "2024-01-24 11:15:24,790 INFO sqlalchemy.engine.Engine BEGIN (implicit)\n",
      "2024-01-24 11:15:24,791 INFO sqlalchemy.engine.Engine SELECT pg_catalog.pg_class.relname \n",
      "FROM pg_catalog.pg_class JOIN pg_catalog.pg_namespace ON pg_catalog.pg_namespace.oid = pg_catalog.pg_class.relnamespace \n",
      "WHERE pg_catalog.pg_class.relname = %(table_name)s AND pg_catalog.pg_class.relkind = ANY (ARRAY[%(param_1)s, %(param_2)s, %(param_3)s, %(param_4)s, %(param_5)s]) AND pg_catalog.pg_table_is_visible(pg_catalog.pg_class.oid) AND pg_catalog.pg_namespace.nspname != %(nspname_1)s\n",
      "2024-01-24 11:15:24,791 INFO sqlalchemy.engine.Engine [cached since 11.95s ago] {'table_name': 'cities_booking', 'param_1': 'r', 'param_2': 'p', 'param_3': 'f', 'param_4': 'v', 'param_5': 'm', 'nspname_1': 'pg_catalog'}\n",
      "2024-01-24 11:15:24,968 INFO sqlalchemy.engine.Engine INSERT INTO cities_booking (city, hotel_name, url_hotel, score_given, lat, lon, hotel_description, id) VALUES (%(city__0)s, %(hotel_name__0)s, %(url_hotel__0)s, %(score_given__0)s, %(lat__0)s, %(lon__0)s, %(hotel_description__0)s, %(id__0)s), (%(city ... 3485 characters truncated ... l_hotel__26)s, %(score_given__26)s, %(lat__26)s, %(lon__26)s, %(hotel_description__26)s, %(id__26)s)\n",
      "2024-01-24 11:15:24,969 INFO sqlalchemy.engine.Engine [generated in 0.00015s (insertmanyvalues) 1/1 (unordered)] {'score_given__0': 8.7, 'url_hotel__0': 'https://www.booking.com/hotel/fr/sure-by-best-western-les-portes-de-montauban.fr.html?aid', 'city__0': 'Montauban', 'hotel_name__0': 'Sure Hotel by Best Western Les Portes de Montauban', 'lat__0': 43.93628721, 'lon__0': 1.32209783, 'hotel_description__0': \"Situé à Montauban, à 42 km de l'amphithéâtre Purpan-Ancely, Le Sure Hotel by Best Western Les Portes de Montauban propose des hébergements avec un ja ... (507 characters truncated) ... us séjournerez à 44 km du Zénith de Toulouse et à 46 km du Stadium de Toulouse. L'aéroport de Toulouse-Blagnac, le plus proche, est implanté à 43 km.\", 'id__0': 32, 'score_given__1': 9.2, 'url_hotel__1': 'https://www.booking.com/hotel/fr/vanille-bourbon.fr.html?aid', 'city__1': 'Montauban', 'hotel_name__1': 'Vanille Bourbon', 'lat__1': 44.01324, 'lon__1': 1.344591, 'hotel_description__1': \"Offrant une vue sur la ville, le Vanille Bourbon est situé à Montauban, à 50 km de l'amphithéâtre Purpan-Ancely. Vous bénéficierez gratuitement d'une ... (384 characters truncated) ... ible au Vanille Bourbon, tandis que vous pourrez vous détendre dans le jardin.  L'aéroport de Toulouse-Blagnac, le plus proche, est implanté à 50 km.\", 'id__1': 32, 'score_given__2': 8.8, 'url_hotel__2': 'https://www.booking.com/hotel/fr/studio-carreyrat-cadre-calme-et-verdoyant.fr.html?aid', 'city__2': 'Montauban', 'hotel_name__2': 'DORMIR A MONTAUBAN Logements Carreyrat Calme et Verdoyant', 'lat__2': 43.98098686, 'lon__2': 1.38958597, 'hotel_description__2': \"L’établissement DORMIR A MONTAUBAN Logements Carreyrat Calme et Verdoyant vous accueille à Montauban. Offrant une vue sur le jardin, il comprend une  ... (362 characters truncated) ... e, de même qu’une machine à café.  L’établissement dispose d’une aire de jeux.  L'aéroport le plus proche (Aéroport de Toulouse-Blagnac) est à 54 km.\", 'id__2': 32, 'score_given__3': 9.5, 'url_hotel__3': 'https://www.booking.com/hotel/fr/le-manoir-de-la-gravette.fr.html?aid', 'city__3': 'Montauban', 'hotel_name__3': \"Manoir de la Gravette Maison d'Hôtes\", 'lat__3': 44.04904337, 'lon__3': 1.34388352, 'hotel_description__3': \"Situé à Montauban, Le Manoir de la Gravette Maison d'Hôtes dispose d'une piscine extérieure ouverte en saison, d'un bar et d'un salon commun. Il poss ... (470 characters truncated) ... de Saint-Sauveur et à 70 km d’Albi. Enfin, l'aéroport de Toulouse-Blagnac, le plus proche, se trouve à 57 km du Manoir de la Gravette Maison d'Hôtes.\", 'id__3': 32, 'score_given__4': 5.7, 'url_hotel__4': 'https://www.booking.com/hotel/fr/hotelpremiereclasse.fr.html?aid', 'city__4': 'Montauban', 'hotel_name__4': 'Premiere Classe Montauban', 'lat__4': 43.98291262, 'lon__4': 1.33401543, 'hotel_description__4': \"Le Première Classe Montauban est situé à 10\\xa0minutes en voiture du centre de Montauban. L’hôtel dispose d'une réception ouverte 24h/24 et d'une con ... (192 characters truncated) ...   Le Première Classe Montauban se trouve au cœur de la zone Albasud3 et à proximité de la sortie 66 de l'autoroute A20. Le parking privé est gratuit.\", 'id__4': 32, 'score_given__5': 7.7, 'url_hotel__5': 'https://www.booking.com/hotel/fr/deltour-montauban-city.fr.html?aid', 'city__5': 'Montauban', 'hotel_name__5': 'Brit Hotel Confort Montauban', 'lat__5': 43.98081084, 'lon__5': 1.33039445, 'hotel_description__5': \"Le Brit Hotel Confort Montauban est situé au sud de la ville de Montauban, à 300 mètres de la sortie 66 de l'autoroute A20. Il propose des chambres c ... (175 characters truncated) ... .  Le Brit Hotel Confort Montauban se trouve à 6 km de la gare de Montauban et à 7 km de la cathédrale. Un parking privé est disponible gratuitement.\", 'id__5': 32, 'score_given__6': 8.6, 'url_hotel__6': 'https://www.booking.com/hotel/fr/chateau-de-loubejac.fr.html?aid' ... 116 parameters truncated ... 'hotel_description__20': None, 'id__20': 32, 'score_given__21': 8.8, 'url_hotel__21': 'https://www.booking.com/hotel/fr/t3-90-m-hypercentre-a-50-m-de-la-cathedrale.fr.html?aid', 'city__21': 'Montauban', 'hotel_name__21': \"Le bon'appart - 50m de la cathédrale\", 'lat__21': 44.01632797, 'lon__21': 1.35513816, 'hotel_description__21': \"Le bon'appart - 50m de la cathédrale est situé à Montauban. Il offre une vue sur la ville et dispose d'une connexion Wi-Fi gratuite dans tout l'établ ... (324 characters truncated) ... êche et la randonnée. Un service de location de voitures est assuré sur place.  L'aéroport de Toulouse-Blagnac, le plus proche, est implanté à 51 km.\", 'id__21': 32, 'score_given__22': 8.8, 'url_hotel__22': 'https://www.booking.com/hotel/fr/ibis-styles-montauban.fr.html?aid', 'city__22': 'Montauban', 'hotel_name__22': 'ibis Styles Montauban', 'lat__22': 44.00526, 'lon__22': 1.383153, 'hotel_description__22': \"L'ibis Styles Montauban propose des hébergements à Montauban. Doté d'une piscine extérieure, cet hôtel 3 étoiles propose des chambres climatisées ave ... (119 characters truncated) ... ire.  L'ibis Styles Montauban sert un petit-déjeuner continental chaque matin.  L'aéroport de Toulouse-Blagnac, le plus proche, est implanté à 52 km.\", 'id__22': 32, 'score_given__23': 8.9, 'url_hotel__23': 'https://www.booking.com/hotel/fr/le-clos-de-saint-amour.fr.html?aid', 'city__23': 'Montauban', 'hotel_name__23': 'Le Clos de Saint Amour', 'lat__23': 44.02487667, 'lon__23': 1.3928175, 'hotel_description__23': \"Située à 6 km de Montauban, la petite ferme Le Clos de Saint Amour date du XVIIIe siècle et dispose d'une piscine extérieure ainsi que d'un grand jar ... (583 characters truncated) ... té de jouer à la pétanque sur place. L'établissement Le Clos de Saint Amour est implanté à 5 km de la gare de Montauban et à 2 km de l'autoroute A20.\", 'id__23': 32, 'score_given__24': 8.1, 'url_hotel__24': 'https://www.booking.com/hotel/fr/ha-tel-ibis-montauban.fr.html?aid', 'city__24': 'Montauban', 'hotel_name__24': 'ibis Montauban', 'lat__24': 44.0053675, 'lon__24': 1.3837342, 'hotel_description__24': \"Situé à la sortie de l'autoroute A20, à 5 minutes en voiture de Montauban, cet hôtel ibis possède un bar, une piscine extérieure et une salle de réun ... (834 characters truncated) ... du stade Sapiac. En voiture, vous pourrez rejoindre la gare de Montauban-Ville-Bourbon en 15 minutes et l'aéroport de Toulouse-Blagnac en 35 minutes.\", 'id__24': 32, 'score_given__25': 7.7, 'url_hotel__25': 'https://www.booking.com/hotel/fr/ibis-budget-montauban-les-chaumes.fr.html?aid', 'city__25': 'Montauban', 'hotel_name__25': 'ibis budget Montauban Les Chaumes', 'lat__25': 44.00649224, 'lon__25': 1.38643178, 'hotel_description__25': \"L'ibis budget Montauban Les Chaumes vous accueille à 4 km du centre de Montauban et à 270 mètres de l'autoroute A20. Il propose une connexion Wi-Fi g ... (480 characters truncated) ... 0 mètres.  La gare de Montauban est à 2 km et le parcours de golf des Aiguillons est à 10 km. Vous bénéficierez d'un parking privé gratuit sur place.\", 'id__25': 32, 'score_given__26': 9.4, 'url_hotel__26': 'https://www.booking.com/hotel/fr/la-maison-de-maxou-montauban.fr.html?aid', 'city__26': 'Montauban', 'hotel_name__26': 'La Maison de Maxou', 'lat__26': 44.0252096, 'lon__26': 1.3338553, 'hotel_description__26': \"L’hébergement La Maison de Maxou vous accueille à Montauban. Cet hébergement comprend une connexion Wi-Fi gratuite, une piscine extérieure ouverte en ... (170 characters truncated) ...  parking privé gratuit.  Un petit-déjeuner continental est servi chaque matin.  L'aéroport le plus proche (Aéroport de Toulouse-Blagnac) est à 53 km.\", 'id__26': 32}\n",
      "2024-01-24 11:15:25,061 INFO sqlalchemy.engine.Engine COMMIT\n",
      "2024-01-24 11:15:25,216 INFO sqlalchemy.engine.Engine BEGIN (implicit)\n",
      "2024-01-24 11:15:25,217 INFO sqlalchemy.engine.Engine SELECT pg_catalog.pg_class.relname \n",
      "FROM pg_catalog.pg_class JOIN pg_catalog.pg_namespace ON pg_catalog.pg_namespace.oid = pg_catalog.pg_class.relnamespace \n",
      "WHERE pg_catalog.pg_class.relname = %(table_name)s AND pg_catalog.pg_class.relkind = ANY (ARRAY[%(param_1)s, %(param_2)s, %(param_3)s, %(param_4)s, %(param_5)s]) AND pg_catalog.pg_table_is_visible(pg_catalog.pg_class.oid) AND pg_catalog.pg_namespace.nspname != %(nspname_1)s\n",
      "2024-01-24 11:15:25,218 INFO sqlalchemy.engine.Engine [cached since 12.37s ago] {'table_name': 'cities_booking', 'param_1': 'r', 'param_2': 'p', 'param_3': 'f', 'param_4': 'v', 'param_5': 'm', 'nspname_1': 'pg_catalog'}\n",
      "2024-01-24 11:15:25,396 INFO sqlalchemy.engine.Engine INSERT INTO cities_booking (city, hotel_name, url_hotel, score_given, lat, lon, hotel_description, id) VALUES (%(city__0)s, %(hotel_name__0)s, %(url_hotel__0)s, %(score_given__0)s, %(lat__0)s, %(lon__0)s, %(hotel_description__0)s, %(id__0)s), (%(city ... 4895 characters truncated ... l_hotel__36)s, %(score_given__36)s, %(lat__36)s, %(lon__36)s, %(hotel_description__36)s, %(id__36)s)\n",
      "2024-01-24 11:15:25,396 INFO sqlalchemy.engine.Engine [generated in 0.00017s (insertmanyvalues) 1/1 (unordered)] {'score_given__0': 9.7, 'url_hotel__0': 'https://www.booking.com/hotel/fr/mazet-pierre-de-vers.fr.html?aid', 'city__0': 'Nimes', 'hotel_name__0': 'Mazet Pierre de Vers - Le Mas des Olivers Nîmes', 'lat__0': 43.8587306, 'lon__0': 4.3925497, 'hotel_description__0': \"L’hébergement Mazet Pierre de Vers - Le Mas des Olivers Nîmes propose une piscine extérieure ouverte en saison et un salon commun. Il se situe à Nîme ... (729 characters truncated) ... ntérêt : Palais des Papes d'Avignon et Gare TGV d'Avignon. L'aéroport le plus proche (Aéroport de Nîmes Alès Camargue Cévennes) est implanté à 14 km.\", 'id__0': 25, 'score_given__1': 8.6, 'url_hotel__1': 'https://www.booking.com/hotel/fr/appart-39-city-nimes.fr.html?aid', 'city__1': 'Nimes', 'hotel_name__1': \"Appart'City Collection Nîmes Arènes\", 'lat__1': 43.83387353, 'lon__1': 4.36143396, 'hotel_description__1': \"L'Appart'City Confort Nîmes Arenes est situé dans le centre historique de Nîmes, à 1 minute à pied des arènes, à 300 mètres de la gare et à proximité ... (532 characters truncated) ...  également proposés.  Enfin, l'aéroport de Nîmes-Garons, le plus proche, est à Garons/Saint-Gilles, à 12 km de l'Appart'City Collection Nîmes Arènes.\", 'id__1': 25, 'score_given__2': 8.2, 'url_hotel__2': 'https://www.booking.com/hotel/fr/twenty-campus-nimes-trigone.fr.html?aid', 'city__2': 'Nimes', 'hotel_name__2': 'Twenty Business Flats Nîmes Trigone', 'lat__2': 43.831504, 'lon__2': 4.367797, 'hotel_description__2': \"Situé à Nîmes, à 13 km du parc des expositions, le Twenty Business Flats Nîmes Trigone propose un hébergement avec accès à une salle de sport. Vous b ... (435 characters truncated) ... nerez à 34 km de l'amphithéâtre d'Arles et à 43 km de la gare centrale d'Avignon. L'aéroport le plus proche, celui de Nîmes-Garons, est situé à 9 km.\", 'id__2': 25, 'score_given__3': 8.0, 'url_hotel__3': 'https://www.booking.com/hotel/fr/ha-tel-la-baume.fr.html?aid', 'city__3': 'Nimes', 'hotel_name__3': 'Best Western Marquis de la Baume', 'lat__3': 43.83959476, 'lon__3': 4.3610841, 'hotel_description__3': \"Situé dans le centre de la ville historique de Nîmes, le Best Western Marquis de la Baume occupe une maison de ville du XVIIe siècle, à seulement 3,7 ... (550 characters truncated) ... ception ouverte 24h/24 et un bar.  L'hôtel n'est qu'à 10 minutes à pied du Colisée et de la tour Magne. Un parking public est disponible à proximité.\", 'id__3': 25, 'score_given__4': 9.0, 'url_hotel__4': 'https://www.booking.com/hotel/fr/appartement-des-myrtes.fr.html?aid', 'city__4': 'Nimes', 'hotel_name__4': 'Appartement des Myrtes', 'lat__4': 43.8391034, 'lon__4': 4.34296523, 'hotel_description__4': \"L’hébergement Appartement des Myrtes propose un jardin et une terrasse. Il se situe à Nîmes, à respectivement 34 km, 45 km et 47 km de ces lieux d’in ... (525 characters truncated) ...  d’intérêt : Zénith Sud Montpellier et Gare TGV d'Avignon. L'aéroport le plus proche (Aéroport de Nîmes Alès Camargue Cévennes) est implanté à 11 km.\", 'id__4': 25, 'score_given__5': 8.7, 'url_hotel__5': 'https://www.booking.com/hotel/fr/appartement-cosy-nimes-centre-2.fr.html?aid', 'city__5': 'Nimes', 'hotel_name__5': 'Appartement Cosy Nîmes-Centre 2', 'lat__5': 43.8403329, 'lon__5': 4.370304, 'hotel_description__5': \"L’hébergement Appartement Cosy Nîmes-Centre 2 vous accueille à respectivement 13 km et 35 km de ces lieux d’intérêt : Parc des expositions de Nîmes e ... (583 characters truncated) ...  lieux d’intérêt\\xa0: Gare TGV d'Avignon et Zénith Sud Montpellier. L'aéroport le plus proche (Aéroport de Nîmes Alès Camargue Cévennes) est à 10 km.\", 'id__5': 25, 'score_given__6': 7.0, 'url_hotel__6': 'https://www.booking.com/hotel/fr/adagio-access-nimes.fr.html?aid' ... 196 parameters truncated ... 'hotel_description__30': \"Situé dans une rue piétonne du centre de Nîmes, l'Hôtel Concorde vous propose des chambres sobres dotées d'une connexion Wi-Fi gratuite. Les arènes a ... (699 characters truncated) ... e Nîmes se trouve à 8 minutes de marche et l'aéroport de Montpellier est à 53 km. Des places de stationnement publiques sont accessibles à proximité.\", 'id__30': 25, 'score_given__31': 6.4, 'url_hotel__31': 'https://www.booking.com/hotel/fr/hotelf1-nimes-ouest.fr.html?aid', 'city__31': 'Nimes', 'hotel_name__31': 'hotelF1 Nîmes Ouest', 'lat__31': 43.815334, 'lon__31': 4.344052, 'hotel_description__31': \"L'hotelF1 Nîmes Ouest est situé à Nîmes, à 44 km de Montpellier et à 40 km d'Avignon.  Toutes les chambres donnent accès à une salle de bains commune ... (164 characters truncated) ... à 2,8 km de l'Hotelf1 Nîmes Ouest, tandis qu'Arles vous attend à 28 km. L'aéroport de Montpellier-Méditerranée, le plus proche, est implanté à 41 km.\", 'id__31': 25, 'score_given__32': 8.3, 'url_hotel__32': 'https://www.booking.com/hotel/fr/ibis-styles-nimes-centre-gare.fr.html?aid', 'city__32': 'Nimes', 'hotel_name__32': 'ibis Styles Nimes Gare Centre', 'lat__32': 43.83175755, 'lon__32': 4.36697356, 'hotel_description__32': \"Situé en face de la gare de Nîmes, cet hôtel propose des chambres abordables dotées d'une connexion Wi-Fi gratuite et de la télévision par satellite. ... (434 characters truncated) ... sposition des journaux et une bagagerie.  Les arènes de Nîmes, son centre historique et la cathédrale de Nîmes sont accessibles en 10 minutes à pied.\", 'id__32': 25, 'score_given__33': 9.0, 'url_hotel__33': 'https://www.booking.com/hotel/fr/la-cigale-et-la-fourmi-nimes.fr.html?aid', 'city__33': 'Nimes', 'hotel_name__33': 'La cigale et la fourmi', 'lat__33': 43.84345325, 'lon__33': 4.3340147, 'hotel_description__33': \"Situé à Nîmes, l’établissement La cigale et la fourmi propose une piscine extérieure ouverte en saison, une connexion Wi-Fi gratuite, un jardin et un ... (438 characters truncated) ...  lieux d’intérêt : Parc des expositions de Nîmes et Arènes d'Arles. L'aéroport le plus proche (Aéroport de Nîmes Alès Camargue Cévennes) est à 12 km.\", 'id__33': 25, 'score_given__34': 8.2, 'url_hotel__34': 'https://www.booking.com/hotel/fr/studio-boucarie.fr.html?aid', 'city__34': 'Nimes', 'hotel_name__34': 'Studio Nîmes Centre', 'lat__34': 43.8397628, 'lon__34': 4.35694199, 'hotel_description__34': \"Le Studio Nîmes Centre propose des hébergements à Nîmes, à 2,5 km du parc des expositions et à 200 mètres de la bibliothèque du Carré d'art. L'hôtel  ... (474 characters truncated) ...  400 mètres du Studio Nîmes Centre tandis que le palais de justice de Nîmes est à 1,1 km. L'aéroport de Montpellier-Méditerranée se situe à 43\\xa0km.\", 'id__34': 25, 'score_given__35': 8.0, 'url_hotel__35': 'https://www.booking.com/hotel/fr/appartement-mezzanine-proche-des-arenes.fr.html?aid', 'city__35': 'Nimes', 'hotel_name__35': 'Appartement mezzanine proche des Arènes', 'lat__35': 43.8325599, 'lon__35': 4.3586406, 'hotel_description__35': \"L’hébergement Appartement mezzanine proche des Arènes se trouve à Nîmes, à respectivement 14 km, 33 km et 44 km de ces lieux d’intérêt : Parc des exp ... (475 characters truncated) ... rêt : Zénith Sud Montpellier et Centre commercial régional Odysseum. L'aéroport le plus proche (Aéroport de Nîmes Alès Camargue Cévennes) est à 8 km.\", 'id__35': 25, 'score_given__36': 7.3, 'url_hotel__36': 'https://www.booking.com/hotel/fr/b-amp-b-nimes-villes-active.fr.html?aid', 'city__36': 'Nimes', 'hotel_name__36': 'B&B HOTEL Nîmes Ville Active, parking sécurisé gratuit', 'lat__36': 43.8157834, 'lon__36': 4.3463127, 'hotel_description__36': 'L’B&B HOTEL Nîmes Ville Active, parking sécurisé gratuit vous accueille à Nîmes, à proximité de la sortie 25 de l’autoroute A9 et à 2\\xa0km du centre ... (518 characters truncated) ...  des expositions de Nîmes et à 2,8\\xa0km des Jardins de la Fontaine. La cathédrale Notre-Dame et la gare de Nîmes sont toutes deux situées à 3\\xa0km.', 'id__36': 25}\n",
      "2024-01-24 11:15:25,494 INFO sqlalchemy.engine.Engine COMMIT\n",
      "2024-01-24 11:15:25,663 INFO sqlalchemy.engine.Engine BEGIN (implicit)\n",
      "2024-01-24 11:15:25,665 INFO sqlalchemy.engine.Engine SELECT pg_catalog.pg_class.relname \n",
      "FROM pg_catalog.pg_class JOIN pg_catalog.pg_namespace ON pg_catalog.pg_namespace.oid = pg_catalog.pg_class.relnamespace \n",
      "WHERE pg_catalog.pg_class.relname = %(table_name)s AND pg_catalog.pg_class.relkind = ANY (ARRAY[%(param_1)s, %(param_2)s, %(param_3)s, %(param_4)s, %(param_5)s]) AND pg_catalog.pg_table_is_visible(pg_catalog.pg_class.oid) AND pg_catalog.pg_namespace.nspname != %(nspname_1)s\n",
      "2024-01-24 11:15:25,665 INFO sqlalchemy.engine.Engine [cached since 12.82s ago] {'table_name': 'cities_booking', 'param_1': 'r', 'param_2': 'p', 'param_3': 'f', 'param_4': 'v', 'param_5': 'm', 'nspname_1': 'pg_catalog'}\n",
      "2024-01-24 11:15:25,842 INFO sqlalchemy.engine.Engine INSERT INTO cities_booking (city, hotel_name, url_hotel, score_given, lat, lon, hotel_description, id) VALUES (%(city__0)s, %(hotel_name__0)s, %(url_hotel__0)s, %(score_given__0)s, %(lat__0)s, %(lon__0)s, %(hotel_description__0)s, %(id__0)s), (%(city ... 1511 characters truncated ... l_hotel__12)s, %(score_given__12)s, %(lat__12)s, %(lon__12)s, %(hotel_description__12)s, %(id__12)s)\n",
      "2024-01-24 11:15:25,842 INFO sqlalchemy.engine.Engine [generated in 0.00010s (insertmanyvalues) 1/1 (unordered)] {'score_given__0': 7.5, 'url_hotel__0': 'https://www.booking.com/hotel/fr/appart-39-odalys-paris-xvii.fr.html?aid', 'city__0': 'Paris', 'hotel_name__0': 'Odalys City Paris XVII', 'lat__0': 48.8997159, 'lon__0': 2.3215052, 'hotel_description__0': \"Situé dans le XVIIème arrondissement de Paris, l'Appart'hôtel Odalys Paris XVII se trouve à 20 minutes du centre-ville en transports en commun, à 30  ... (194 characters truncated) ... ur et de plaques de cuisson.  Un petit-déjeuner buffet est servi sur place.  L'aéroport de Paris-Orly est le plus proche, à 28 km de l'établissement.\", 'id__0': 6, 'score_given__1': 7.9, 'url_hotel__1': 'https://www.booking.com/hotel/fr/avenir-jonquiere.fr.html?aid', 'city__1': 'Paris', 'hotel_name__1': 'Hôtel Avenir Jonquière', 'lat__1': 48.89349841, 'lon__1': 2.32500155, 'hotel_description__1': \"Doté d'une connexion Wi-Fi gratuitement accessible dans tout l'établissement, l'Hôtel Avenir Jonquière vous propose des chambres avec télévision à éc ... (282 characters truncated) ...  l'établissement à l'avance.  L'Hôtel Avenir Jonquière se trouve à 1,5 km du Sacré-Cœur, à 2,5 km de l'opéra Garnier et à 18 km de l'aéroport d'Orly.\", 'id__1': 6, 'score_given__2': 6.7, 'url_hotel__2': 'https://www.booking.com/hotel/fr/tour-eiffel-motte-picquet-1-paris.fr.html?aid', 'city__2': 'Paris', 'hotel_name__2': 'Tour Eiffel Motte Picquet 1 Paris', 'lat__2': 48.8476219, 'lon__2': 2.2987156, 'hotel_description__2': \"Situé à Paris, le Tour Eiffel Motte Picquet 1 Paris propose un hébergement climatisé avec balcon. Cet appartement se trouve à 2,8 km du musée d'Orsay ... (202 characters truncated) ... selle et four.  Vous séjournerez à 2 km du musée Rodin et à 1,7 km de la tour Eiffel. L'aéroport de Paris-Orly, le plus proche, est implanté à 15 km.\", 'id__2': 6, 'score_given__3': 8.0, 'url_hotel__3': 'https://www.booking.com/hotel/fr/ucpa-sport-station-hostel-paris.fr.html?aid', 'city__3': 'Paris', 'hotel_name__3': 'UCPA SPORT STATION HOSTEL PARIS', 'lat__3': 48.89610166, 'lon__3': 2.37182865, 'hotel_description__3': \"Situé à Paris, l’établissement UCPA SPORT STATION HOSTEL PARIS comprend une salle de sport, une terrasse, un restaurant et un bar. L’établissement se ... (553 characters truncated) ...  lieux d’intérêt : Métro Pigalle et Stade de France. L'aéroport le plus proche (Aéroport de Paris - Roissy - Charles-de-Gaulle) est implanté à 17 km.\", 'id__3': 6, 'score_given__4': 9.3, 'url_hotel__4': 'https://www.booking.com/hotel/fr/edgar-suites-montmartre-paul-albert.fr.html?aid', 'city__4': 'Paris', 'hotel_name__4': 'Edgar Suites Montmartre - Paul Albert', 'lat__4': 48.886693, 'lon__4': 2.3449407, 'hotel_description__4': \"L’établissement Edgar Suites Montmartre - Paul Albert vous accueille à Paris, à respectivement 800 mètres et 900 mètres de ces lieux d’intérêt : Sall ... (564 characters truncated) ... eux d’intérêt\\xa0: Gare du Nord, Gare de l'Est et Sacré-Cœur. L'aéroport le plus proche (Aéroport de Paris - Roissy - Charles-de-Gaulle) est à 20 km.\", 'id__4': 6, 'score_given__5': 8.3, 'url_hotel__5': 'https://www.booking.com/hotel/fr/virgina.fr.html?aid', 'city__5': 'Paris', 'hotel_name__5': 'Virgina', 'lat__5': 48.82401168, 'lon__5': 2.32749537, 'hotel_description__5': \"Le Virgina se trouve à 2 minutes à pied de la station de métro et de l'arrêt de tramway Porte d'Orléans et à 7 minutes du parc des expositions de la  ... (474 characters truncated) ... réception de l'établissement est ouverte 24h/24. Un parking privé est accessible sur place. Vous pourrez rejoindre Montparnasse directement en métro.\", 'id__5': 6, 'score_given__6': 8.9, 'url_hotel__6': 'https://www.booking.com/hotel/fr/alfa-paris-nation.fr.html?aid' ... 4 parameters truncated ... 'hotel_description__6': \"Situé à Paris, à 500\\xa0mètres de la place de la Nation, le District Nation vous accueille dans un établissement non-fumeurs doté d’une réception ouv ... (608 characters truncated) ...  les Champs-Elysées en moins de 20\\xa0minutes en transports en commun. L’aéroport de Paris-Orly, le plus proche, est à 18,5\\xa0km de l’établissement.\", 'id__6': 6, 'score_given__7': 7.7, 'url_hotel__7': 'https://www.booking.com/hotel/fr/auberge-de-jeunesse-hi-paris-yves-robert.fr.html?aid', 'city__7': 'Paris', 'hotel_name__7': 'Auberge de Jeunesse HI Paris Yves Robert', 'lat__7': 48.888661, 'lon__7': 2.362734, 'hotel_description__7': \"L'Auberge de Jeunesse HI Paris Yves Robert vous accueille à Paris, à 1,5\\xa0km du Sacré-Cœur. Membre du réseau Hostelling International Network, l’ét ... (406 characters truncated) ...  Cigale et à 2,9 km de l'opéra Garnier. L'aéroport de Paris-Orly, le plus proche, se trouve à 18\\xa0km de l’Auberge de Jeunesse HI Paris Yves Robert.\", 'id__7': 6, 'score_given__8': 7.9, 'url_hotel__8': 'https://www.booking.com/hotel/fr/parisboulevardberthier.fr.html?aid', 'city__8': 'Paris', 'hotel_name__8': 'B&B HOTEL Paris 17 Batignolles', 'lat__8': 48.89431407, 'lon__8': 2.31234401, 'hotel_description__8': 'Le B&B Hôtel Paris\\xa017 Batignolles est situé dans le nord-ouest de Paris, à seulement 50\\xa0mètres de la station de métro et gare RER Porte de Clic ... (900 characters truncated) ...  station de métro et gare RER Porte de Clichy vous permettra de rejoindre directement la tour Eiffel, les Champs-Élysées et la cathédrale Notre-Dame.', 'id__8': 6, 'score_given__9': 8.6, 'url_hotel__9': 'https://www.booking.com/hotel/fr/charma.fr.html?aid', 'city__9': 'Paris', 'hotel_name__9': 'Hôtel Piapia', 'lat__9': 48.84868382, 'lon__9': 2.40787536, 'hotel_description__9': 'Inauguré en décembre\\xa02021, l’Hôtel Piapia est situé à l’est de Paris, à seulement 900\\xa0mètres de la place de la Nation avec ses nombreux transpo ... (746 characters truncated) ... \\xa0mètres de la station de métro Porte de Vincennes, qui permet de rejoindre directement le Louvre, le quartier de La Défense et les Champs-Élysées.', 'id__9': 6, 'score_given__10': 8.1, 'url_hotel__10': 'https://www.booking.com/hotel/fr/holiday-inn-express-paris-canal-de-la-villette.fr.html?aid', 'city__10': 'Paris', 'hotel_name__10': 'Holiday Inn Express Paris-Canal De La Villette, an IHG Hotel', 'lat__10': 48.88843586, 'lon__10': 2.37839654, 'hotel_description__10': 'Le Holiday Inn Express Paris-Canal De La Villette, an IHG Hotel est situé sur les rives du canal de l’Ourcq et du bassin de la Villette à Paris. Inst ... (783 characters truncated) ... n de métro Riquet, qui offre un accès direct à l’opéra Garnier et au musée du Louvre. La salle de réception Les Docks de Paris se trouve à 2,6\\xa0km.', 'id__10': 6, 'score_given__11': 7.7, 'url_hotel__11': 'https://www.booking.com/hotel/fr/luxia.fr.html?aid', 'city__11': 'Paris', 'hotel_name__11': 'Hotel Luxia', 'lat__11': 48.88372753, 'lon__11': 2.34498201, 'hotel_description__11': \"L'hôtel Luxia se situe dans le 18ème arrondissement de Paris, à 2 minutes à pied de la station de métro Anvers et à 10 minutes de marche du Sacré-Cœu ... (334 characters truncated) ... nutes en empruntant les transports en commun et les Champs-Élysées, en 30 minutes de métro. L'aéroport de Paris-Orly, le plus proche, est à 21\\xa0km.\", 'id__11': 6, 'score_given__12': 8.5, 'url_hotel__12': 'https://www.booking.com/hotel/fr/hotelbrittanyparis.fr.html?aid', 'city__12': 'Paris', 'hotel_name__12': 'Hôtel Brittany', 'lat__12': 48.87678576, 'lon__12': 2.33845711, 'hotel_description__12': \"L'Hôtel Brittany bénéficie d'un emplacement idéal dans le centre de Paris, à 15 minutes à pied de l'opéra et du quartier de Montmartre. Il est situé  ... (648 characters truncated) ... rendez-vous chez le coiffeur ou le nettoyage à sec de vos vêtements. La station de métro Notre-Dame-de-Lorette est accessible en 2 minutes de marche.\", 'id__12': 6}\n",
      "2024-01-24 11:15:25,938 INFO sqlalchemy.engine.Engine COMMIT\n",
      "2024-01-24 11:15:26,096 INFO sqlalchemy.engine.Engine BEGIN (implicit)\n",
      "2024-01-24 11:15:26,097 INFO sqlalchemy.engine.Engine SELECT pg_catalog.pg_class.relname \n",
      "FROM pg_catalog.pg_class JOIN pg_catalog.pg_namespace ON pg_catalog.pg_namespace.oid = pg_catalog.pg_class.relnamespace \n",
      "WHERE pg_catalog.pg_class.relname = %(table_name)s AND pg_catalog.pg_class.relkind = ANY (ARRAY[%(param_1)s, %(param_2)s, %(param_3)s, %(param_4)s, %(param_5)s]) AND pg_catalog.pg_table_is_visible(pg_catalog.pg_class.oid) AND pg_catalog.pg_namespace.nspname != %(nspname_1)s\n",
      "2024-01-24 11:15:26,098 INFO sqlalchemy.engine.Engine [cached since 13.25s ago] {'table_name': 'cities_booking', 'param_1': 'r', 'param_2': 'p', 'param_3': 'f', 'param_4': 'v', 'param_5': 'm', 'nspname_1': 'pg_catalog'}\n",
      "2024-01-24 11:15:26,274 INFO sqlalchemy.engine.Engine INSERT INTO cities_booking (city, hotel_name, url_hotel, score_given, lat, lon, hotel_description, id) VALUES (%(city__0)s, %(hotel_name__0)s, %(url_hotel__0)s, %(score_given__0)s, %(lat__0)s, %(lon__0)s, %(hotel_description__0)s, %(id__0)s), (%(city ... 4049 characters truncated ... l_hotel__30)s, %(score_given__30)s, %(lat__30)s, %(lon__30)s, %(hotel_description__30)s, %(id__30)s)\n",
      "2024-01-24 11:15:26,275 INFO sqlalchemy.engine.Engine [generated in 0.00015s (insertmanyvalues) 1/1 (unordered)] {'score_given__0': 8.9, 'url_hotel__0': 'https://www.booking.com/hotel/fr/eaux-spa.fr.html?aid', 'city__0': 'Rouen', 'hotel_name__0': 'Eaux Spa', 'lat__0': 49.42901466, 'lon__0': 1.07721213, 'hotel_description__0': \"Situé à Rouen, l'Eaux Spa propose un hébergement à 1,3 km de la gare de Voltaire et à 2,4 km de la gare de l'hôtel de ville de Soteville. Une connexi ... (415 characters truncated) ... de la station de tramway 14-juillet et à 3,8 km de la cathédrale Notre-Dame de Rouen. L'aéroport de Deauville-Normandie, le plus proche, est à 83 km.\", 'id__0': 5, 'score_given__1': 8.7, 'url_hotel__1': 'https://www.booking.com/hotel/fr/domitys-les-mosaiques.fr.html?aid', 'city__1': 'Rouen', 'hotel_name__1': 'DOMITYS Les Mosaïques', 'lat__1': 49.4290146, 'lon__1': 1.0832807, 'hotel_description__1': \"Situé à 1 km de la gare de Voltaire, Rouen, le DOMITYS Les Mosaïques propose des hébergements, un restaurant, une piscine intérieure, un jardin et un ... (674 characters truncated) ... ville de Soteville et à 2,8 km de la station de tramway 14-juillet de Rouen. L'aéroport de Deauville-Normandie, le plus proche, est implanté à 84 km.\", 'id__1': 5, 'score_given__2': 8.5, 'url_hotel__2': 'https://www.booking.com/hotel/fr/ecrin-avec-salle-de-sport.fr.html?aid', 'city__2': 'Rouen', 'hotel_name__2': \"L'écrin avec salle de sport\", 'lat__2': 49.4233015, 'lon__2': 1.080963, 'hotel_description__2': \"L'établissement L'écrin avec salle de sport est situé à Rouen, à 1,6 km de la gare de l'Hôtel de ville de Soteville, à 2 km de la station de tramway  ... (415 characters truncated) ... 1 km de la cathédrale Notre-Dame et du palais des sports Kindarena de Rouen. L'aéroport de Deauville-Normandie, le plus proche, est implanté à 81 km.\", 'id__2': 5, 'score_given__3': 9.4, 'url_hotel__3': 'https://www.booking.com/hotel/fr/spacieux-duplex-pret-des-quais-de-seine.fr.html?aid', 'city__3': 'Rouen', 'hotel_name__3': 'SPACIEUX DUPLEX PRES DES QUAIS DE SEINE LINGE MAISON TOUT FOURNI v', 'lat__3': 49.4321143, 'lon__3': 1.082383, 'hotel_description__3': \"L’hébergement SPACIEUX DUPLEX PRES DES QUAIS DE SEINE LINGE MAISON TOUT FOURNI v se trouve à Rouen, à respectivement 1,5 km et 1,7 km de ces lieux d’ ... (552 characters truncated) ... de ville de Soteville Station, Rouen et 14-juillet Tramway Station, Rouen. L'aéroport le plus proche (Aéroport de Deauville - Normandie) est à 84 km.\", 'id__3': 5, 'score_given__4': 9.5, 'url_hotel__4': 'https://www.booking.com/hotel/fr/cosyrouen-bali-spa-hamman.fr.html?aid', 'city__4': 'Rouen', 'hotel_name__4': 'CosyRouen Bali Spa Hamman', 'lat__4': 49.4460214, 'lon__4': 1.0978981, 'hotel_description__4': \"Proposant une terrasse, l’hébergement CosyRouen Bali Spa Hamman bénéficie d’un emplacement de choix dans le centre de Rouen. Cet appartement possède  ... (469 characters truncated) ... me de Rouen, Gare de Rouen-Rive-Droite et Musée des beaux-arts de Rouen. L'aéroport le plus proche (Aéroport de Paris-Beauvais) est implanté à 84 km.\", 'id__4': 5, 'score_given__5': 8.6, 'url_hotel__5': 'https://www.booking.com/hotel/fr/maison-hypercentre-rouen-tout-confort.fr.html?aid', 'city__5': 'Rouen', 'hotel_name__5': 'Maison hypercentre Rouen tout confort', 'lat__5': 49.4446518, 'lon__5': 1.0913262, 'hotel_description__5': \"Située dans le centre de Rouen, à seulement 700 mètres de la cathédrale Notre-Dame, la Maison hypercentre Rouen tout confort offre une vue sur la vil ... (210 characters truncated) ... ns pourvue d'une douche.  Enfin, l'aéroport de Deauville-Normandie, le plus proche, est implanté à 68 km de la Maison hypercentre Rouen tout confort.\", 'id__5': 5, 'score_given__6': 8.4, 'url_hotel__6': 'https://www.booking.com/hotel/fr/appartement-centre-2-chambres-tout-confort.fr.html?aid' ... 148 parameters truncated ... 'hotel_description__24': 'Le Brit Hotel Confort Rouen Centre se situe dans le centre de Rouen, à proximité de la faculté de médecine et à 4\\xa0km de la salle omnisports Le Kin ... (397 characters truncated) ... e. Enfin, le Brit Hotel Confort Rouen Centre se trouve à 1,5 km de la cathédrale de la ville et 8 minutes en voiture de la gare de Rouen-Rive-Droite.', 'id__24': 5, 'score_given__25': 8.5, 'url_hotel__25': 'https://www.booking.com/hotel/fr/le-spa-beauvoisine-jacuzzi-sauna-rouen-centre.fr.html?aid', 'city__25': 'Rouen', 'hotel_name__25': 'Le Spa Beauvoisine***** - Jacuzzi Sauna Rouen Centre', 'lat__25': 49.447124, 'lon__25': 1.0985225, 'hotel_description__25': \"L’hébergement Le Spa Beauvoisine***** - Jacuzzi Sauna Rouen Centre se trouve dans un quartier central de Rouen, à proximité de ces lieux d’intérêt :  ... (756 characters truncated) ...  Hotel de ville de Soteville Station, Rouen et 14-juillet Tramway Station, Rouen. L'aéroport le plus proche (Aéroport de Paris-Beauvais) est à 84 km.\", 'id__25': 5, 'score_given__26': 8.6, 'url_hotel__26': 'https://www.booking.com/hotel/fr/hotellitterairegustaveflaubert.fr.html?aid', 'city__26': 'Rouen', 'hotel_name__26': 'Hôtel Littéraire Gustave Flaubert, BW Signature Collection', 'lat__26': 49.44263508, 'lon__26': 1.08685791, 'hotel_description__26': \"Situé dans le centre historique de Rouen, l'Hôtel Littéraire Gustave Flaubert, BW Signature Collection propose un hébergement sur le thème de la litt ... (699 characters truncated) ...  les environs.  Vous séjournerez à seulement 10\\xa0minutes de marche de la cathédrale Notre-Dame de Rouen et à 800\\xa0mètres du musée des Beaux-Arts.\", 'id__26': 5, 'score_given__27': 8.1, 'url_hotel__27': 'https://www.booking.com/hotel/fr/studi-39-home.fr.html?aid', 'city__27': 'Rouen', 'hotel_name__27': \"studi'home\", 'lat__27': 49.443658, 'lon__27': 1.090557, 'hotel_description__27': \"Situé à 600 mètres du centre de Rouen, l’établissement studi'home propose des hébergements avec une connexion Wi-Fi gratuite ainsi qu'une cuisine pou ... (124 characters truncated) ...  Notre-Dame de Rouen, Gare de Rouen-Rive-Droite et Musée des beaux-arts de Rouen. L'aéroport le plus proche (Aéroport de Paris-Beauvais) est à 85 km.\", 'id__27': 5, 'score_given__28': 7.1, 'url_hotel__28': 'https://www.booking.com/hotel/fr/ibis-styles-rouen-centre-cathedrale.fr.html?aid', 'city__28': 'Rouen', 'hotel_name__28': 'Ibis Styles Rouen Centre Cathédrale', 'lat__28': 49.437454, 'lon__28': 1.096183, 'hotel_description__28': \"Doté d'une connexion Wi-Fi gratuite et d'une terrasse, l'Ibis Styles Rouen Centre Cathédrale propose des hébergements à Rouen, à 1,6 km de la gare de ... (580 characters truncated) ... e Cathédrale, tandis que l'hôpital universitaire de Rouen est à 900 mètres. Enfin, l'aéroport de Beauvais-Tillé, le plus proche, se situe à 73\\xa0km.\", 'id__28': 5, 'score_given__29': 8.9, 'url_hotel__29': 'https://www.booking.com/hotel/fr/sous-les-etoiles-rouen.fr.html?aid', 'city__29': 'Rouen', 'hotel_name__29': 'Sous les Etoiles', 'lat__29': 49.4400384, 'lon__29': 1.0856876, 'hotel_description__29': None, 'id__29': 5, 'score_given__30': 8.0, 'url_hotel__30': 'https://www.booking.com/hotel/fr/hotel-celine.fr.html?aid', 'city__30': 'Rouen', 'hotel_name__30': 'Hôtel Céline - Hôtel de la Gare', 'lat__30': 49.44903352, 'lon__30': 1.09021068, 'hotel_description__30': \"L'Hôtel Céline - Hôtel de la Gare se trouve dans une rue calme du centre-ville de Rouen, à 5 minutes à pied de la gare de Rouen-Rive-Droite. Une conn ... (205 characters truncated) ... uner vous sera servi dans la salle prévue à cet effet.  Vous pourrez également profiter de la terrasse et du jardin pendant les mois les plus chauds.\", 'id__30': 5}\n",
      "2024-01-24 11:15:26,369 INFO sqlalchemy.engine.Engine COMMIT\n",
      "2024-01-24 11:15:26,521 INFO sqlalchemy.engine.Engine BEGIN (implicit)\n",
      "2024-01-24 11:15:26,522 INFO sqlalchemy.engine.Engine SELECT pg_catalog.pg_class.relname \n",
      "FROM pg_catalog.pg_class JOIN pg_catalog.pg_namespace ON pg_catalog.pg_namespace.oid = pg_catalog.pg_class.relnamespace \n",
      "WHERE pg_catalog.pg_class.relname = %(table_name)s AND pg_catalog.pg_class.relkind = ANY (ARRAY[%(param_1)s, %(param_2)s, %(param_3)s, %(param_4)s, %(param_5)s]) AND pg_catalog.pg_table_is_visible(pg_catalog.pg_class.oid) AND pg_catalog.pg_namespace.nspname != %(nspname_1)s\n",
      "2024-01-24 11:15:26,523 INFO sqlalchemy.engine.Engine [cached since 13.68s ago] {'table_name': 'cities_booking', 'param_1': 'r', 'param_2': 'p', 'param_3': 'f', 'param_4': 'v', 'param_5': 'm', 'nspname_1': 'pg_catalog'}\n",
      "2024-01-24 11:15:26,700 INFO sqlalchemy.engine.Engine INSERT INTO cities_booking (city, hotel_name, url_hotel, score_given, lat, lon, hotel_description, id) VALUES (%(city__0)s, %(hotel_name__0)s, %(url_hotel__0)s, %(score_given__0)s, %(lat__0)s, %(lon__0)s, %(hotel_description__0)s, %(id__0)s), (%(city ... 3344 characters truncated ... l_hotel__25)s, %(score_given__25)s, %(lat__25)s, %(lon__25)s, %(hotel_description__25)s, %(id__25)s)\n",
      "2024-01-24 11:15:26,700 INFO sqlalchemy.engine.Engine [generated in 0.00014s (insertmanyvalues) 1/1 (unordered)] {'score_given__0': 7.6, 'url_hotel__0': 'https://www.booking.com/hotel/fr/le-bleu-marine.fr.html?aid', 'city__0': 'Saintes Maries de la mer', 'hotel_name__0': 'Hotel Le Bleu Marine', 'lat__0': 43.45463818, 'lon__0': 4.433202, 'hotel_description__0': \"L'Hôtel Le Bleu Marine se trouve à seulement 150 mètres des plages de la Méditerranée et à 300 mètres du centre des Saintes-Maries-de-la-Mer. Il prop ... (537 characters truncated) ... ssothérapie à seulement 100 mètres de l'hôtel.  L'établissement se situe à 40 km d'Arles et à 60 km de Montpellier. Le parking sur place est gratuit.\", 'id__0': 27, 'score_given__1': 8.0, 'url_hotel__1': 'https://www.booking.com/hotel/fr/camille.fr.html?aid', 'city__1': 'Saintes Maries de la mer', 'hotel_name__1': 'Hotel Camille', 'lat__1': 43.45039148, 'lon__1': 4.42991227, 'hotel_description__1': \"Doté d'une terrasse, l'Hotel Camille est un établissement climatisé situé en front de mer aux Saintes-Maries-de-la-Mer, à 35 km d'Arles. Il propose d ... (499 characters truncated) ...  Un parking public gratuit est disponible à proximité et la propriété dispose d'un garage pour motos et vélos que vous pourrez utiliser gratuitement.\", 'id__1': 27, 'score_given__2': 8.0, 'url_hotel__2': 'https://www.booking.com/hotel/fr/les-palmiers-en-camargue.fr.html?aid', 'city__2': 'Saintes Maries de la mer', 'hotel_name__2': 'Hotel Les Palmiers En Camargue', 'lat__2': 43.45106618, 'lon__2': 4.42509368, 'hotel_description__2': \"Doté d'une connexion Wi-Fi gratuite, l'Hotel Les Palmiers En Camargue est situé à Saintes-Maries-de-la-Mer, à 100\\xa0mètres des plages de sable et à  ... (488 characters truncated) ... g public est accessible gratuitement à 50\\xa0mètres, tandis que vous disposerez d'un garage privé sur demande et moyennant des frais supplémentaires.\", 'id__2': 27, 'score_given__3': 7.8, 'url_hotel__3': 'https://www.booking.com/hotel/fr/thalacap-camargue.fr.html?aid', 'city__3': 'Saintes Maries de la mer', 'hotel_name__3': 'Thalacap Camargue', 'lat__3': 43.45349134, 'lon__3': 4.43545103, 'hotel_description__3': \"Le Thalacap Camargue est situé en face de la plage des Saintes-Maries-de-la-Mer, à 5\\xa0minutes de marche du centre-ville. Vous pourrez profiter grat ... (619 characters truncated) ... moyennant des frais supplémentaires.  Vous rejoindrez la ville d’Arles à 37\\xa0km. Un parking privé est disponible sur place pour 10\\xa0EUR par nuit.\", 'id__3': 27, 'score_given__4': 9.0, 'url_hotel__4': 'https://www.booking.com/hotel/fr/la-tramontane.fr.html?aid', 'city__4': 'Saintes Maries de la mer', 'hotel_name__4': 'La Tramontane', 'lat__4': 43.47260109, 'lon__4': 4.41012025, 'hotel_description__4': \"L'établissement La Tramontane vous accueille aux Saintes-Maries-de-la-Mer, au cœur de la Camargue. Il propose des chambres décorées individuellement  ... (472 characters truncated) ... fiter de spectacles musicaux, tels que des soirées à thème tous les samedis soirs.  Un parking privé surveillé est disponible gratuitement sur place.\", 'id__4': 27, 'score_given__5': 8.9, 'url_hotel__5': 'https://www.booking.com/hotel/fr/casa-marina-saintes-maries-de-la-mer.fr.html?aid', 'city__5': 'Saintes Maries de la mer', 'hotel_name__5': 'Hôtel Casa Marina', 'lat__5': 43.451133, 'lon__5': 4.430953, 'hotel_description__5': \"L'Hôtel Casa Marina est situé sur le front de mer des Saintes-Maries-de-la-Mer, à 400\\xa0mètres de la plage d'Arenas et à moins de 1\\xa0km de la plag ... (575 characters truncated) ... s gluten.  L'amphithéâtre d'Arles se trouve à 39\\xa0km de l'Hôtel Casa Marina. L’aéroport de Nîmes-Garons, le plus proche, est accessible à 41\\xa0km.\", 'id__5': 27, 'score_given__6': 8.4, 'url_hotel__6': 'https://www.booking.com/hotel/fr/ha-tel-le-mirage.fr.html?aid' ... 108 parameters truncated ... 'hotel_description__19': \"Situé aux Saintes-Maries-de-la-Mer, en Provence-Alpes-Côte d'Azur, à 100 mètres de l'église des Saintes-Maries et à 2 minutes à pied de la plage et d ... (225 characters truncated) ... e petit-déjeuner est servi tous les matins sur la terrasse.  L'établissement possède une bagagerie.  L'aéroport de Nîmes-Garons est implanté à 34 km.\", 'id__19': 27, 'score_given__20': 8.2, 'url_hotel__20': 'https://www.booking.com/hotel/fr/le-petit-mas-des-barres.fr.html?aid', 'city__20': 'Saintes Maries de la mer', 'hotel_name__20': 'Hotel Mas Des Barres', 'lat__20': 43.5192832, 'lon__20': 4.39884961, 'hotel_description__20': \"Situé à seulement 5 minutes en voiture du village des Saintes-Maries-de-la-Mer, l'Hotel Mas Des Barres se trouve dans le parc naturel régional de Cam ... (292 characters truncated) ... r réservation, l'Hotel Mas des Barres propose des excursions à cheval, la meilleure façon de découvrir la faune et la flore de la région de Camargue.\", 'id__20': 27, 'score_given__21': 8.2, 'url_hotel__21': 'https://www.booking.com/hotel/fr/ra-c-sidence-palma.fr.html?aid', 'city__21': 'Saintes Maries de la mer', 'hotel_name__21': 'Résidence La Palma', 'lat__21': 43.45105644, 'lon__21': 4.42515671, 'hotel_description__21': \"La Résidence La Palma est située à Saintes-Maries-de-la-Mer, à seulement 100 mètres de la plage et du centre du village. Vous pourrez explorer la Cam ... (705 characters truncated) ... espèces de la Camargue se trouve à 4 km. Vous pourrez aussi découvrir les producteurs de fleur de sel d'Aigues-Mortes, situés à seulement 35 minutes.\", 'id__21': 27, 'score_given__22': 8.2, 'url_hotel__22': 'https://www.booking.com/hotel/fr/bastide-blanche-saintes-maries-de-la-mer.fr.html?aid', 'city__22': 'Saintes Maries de la mer', 'hotel_name__22': 'Vila De La Mar & Spa', 'lat__22': 43.45334531, 'lon__22': 4.43066597, 'hotel_description__22': \"Le Vila De La Mar & Spa est un petit hôtel décoré dans un style moderne situé dans le centre des Saintes-Maries-de-la-Mer, à 100\\xa0mètres de la plag ... (936 characters truncated) ... oins de 60\\xa0km de Nîmes et de l’aéroport de Nîmes-Garons, et à 120\\xa0km de l’aéroport de Marseille-Provence. La gare d’Arles se trouve à 36\\xa0km.\", 'id__22': 27, 'score_given__23': 7.7, 'url_hotel__23': 'https://www.booking.com/hotel/fr/lodge-de-la-fouque.fr.html?aid', 'city__23': 'Saintes Maries de la mer', 'hotel_name__23': 'Mas de la Fouque - Hôtel & Spa', 'lat__23': 43.4670806, 'lon__23': 4.40451175, 'hotel_description__23': \"Le boutique-hôtel Mas de la Fouque - Hôtel & Spa vous accueille au cœur de la réserve naturelle de la Camargue, à seulement 10\\xa0minutes de route de ... (947 characters truncated) ... lace. Le Mas de la Fouque se trouve à 40\\xa0minutes de la gare de Nîmes, tandis que l’aéroport de Montpellier-Méditerranée est accessible à 35\\xa0km.\", 'id__23': 27, 'score_given__24': 8.6, 'url_hotel__24': 'https://www.booking.com/hotel/fr/le-mas-de-cocagne-les-saintes-maries-de-la-mer.fr.html?aid', 'city__24': 'Saintes Maries de la mer', 'hotel_name__24': 'Le Mas de Cocagne', 'lat__24': 43.45831608, 'lon__24': 4.42523181, 'hotel_description__24': \"Le Mas de Cocagne dispose d'une piscine extérieure chauffée ouverte en saison et d'un jardin. Cet hôtel est situé à l'entrée des Saintes-Maries-de-la ... (693 characters truncated) ... ifférentes activités de plein air vous attendent également aux abords du Mas de Cocagne, notamment l'équitation, le vélo et des excursions en bateau.\", 'id__24': 27, 'score_given__25': 8.3, 'url_hotel__25': 'https://www.booking.com/hotel/fr/ha-tel-mas-de-la-grenouilla-re.fr.html?aid', 'city__25': 'Saintes Maries de la mer', 'hotel_name__25': 'Mas de la Grenouillère Hôtel et Centre équestre en pleine nature', 'lat__25': 43.47145266, 'lon__25': 4.40182686, 'hotel_description__25': \"Cet hôtel et centre équestre est situé dans un corps de ferme provençal à Saintes-Maries-de-la-Mer, au sein du parc naturel régional de la Camargue.  ... (595 characters truncated) ... s est disponible sur place et les rives du Petit Rhône ne se situent qu'à 1 km de là. L'hôtel est implanté à 36 km de la ville et de la gare d'Arles.\", 'id__25': 27}\n",
      "2024-01-24 11:15:26,793 INFO sqlalchemy.engine.Engine COMMIT\n",
      "2024-01-24 11:15:26,976 INFO sqlalchemy.engine.Engine BEGIN (implicit)\n",
      "2024-01-24 11:15:26,978 INFO sqlalchemy.engine.Engine SELECT pg_catalog.pg_class.relname \n",
      "FROM pg_catalog.pg_class JOIN pg_catalog.pg_namespace ON pg_catalog.pg_namespace.oid = pg_catalog.pg_class.relnamespace \n",
      "WHERE pg_catalog.pg_class.relname = %(table_name)s AND pg_catalog.pg_class.relkind = ANY (ARRAY[%(param_1)s, %(param_2)s, %(param_3)s, %(param_4)s, %(param_5)s]) AND pg_catalog.pg_table_is_visible(pg_catalog.pg_class.oid) AND pg_catalog.pg_namespace.nspname != %(nspname_1)s\n",
      "2024-01-24 11:15:26,978 INFO sqlalchemy.engine.Engine [cached since 14.13s ago] {'table_name': 'cities_booking', 'param_1': 'r', 'param_2': 'p', 'param_3': 'f', 'param_4': 'v', 'param_5': 'm', 'nspname_1': 'pg_catalog'}\n",
      "2024-01-24 11:15:27,155 INFO sqlalchemy.engine.Engine INSERT INTO cities_booking (city, hotel_name, url_hotel, score_given, lat, lon, hotel_description, id) VALUES (%(city__0)s, %(hotel_name__0)s, %(url_hotel__0)s, %(score_given__0)s, %(lat__0)s, %(lon__0)s, %(hotel_description__0)s, %(id__0)s), (%(city ... 3767 characters truncated ... l_hotel__28)s, %(score_given__28)s, %(lat__28)s, %(lon__28)s, %(hotel_description__28)s, %(id__28)s)\n",
      "2024-01-24 11:15:27,155 INFO sqlalchemy.engine.Engine [generated in 0.00015s (insertmanyvalues) 1/1 (unordered)] {'score_given__0': 8.5, 'url_hotel__0': 'https://www.booking.com/hotel/fr/alba-saint-malo.fr.html?aid', 'city__0': 'St Malo', 'hotel_name__0': 'Alba hotel', 'lat__0': 48.65649842, 'lon__0': -2.00342774, 'hotel_description__0': \"L'Alba hotel est situé à Saint-Malo, en face de la plage et à côté du port. L’établissement propose un bar et des chambres offrant une vue sur la mer ... (618 characters truncated) ... le du Grand Bé, la cathédrale Saint-Vincent et le château de la ville.  Le parking est facturé 9\\xa0EUR. Vous disposerez de 4\\xa0places, sur demande.\", 'id__0': 2, 'score_given__1': 8.6, 'url_hotel__1': 'https://www.booking.com/hotel/fr/de-l-europe-appartements.fr.html?aid', 'city__1': 'St Malo', 'hotel_name__1': \"Apparts'hôtel l'Europe - centre gare-\", 'lat__1': 48.64788206, 'lon__1': -2.00856944, 'hotel_description__1': \"L’établissement Apparts'hôtel l'Europe - centre gare- se situe à Saint-Malo, à respectivement 1 km et 1,3 km de ces lieux d’intérêt : Grande plage du ... (379 characters truncated) ... a0: Plage des Bas Sablons, Palais du Grand Large et Casino. L'aéroport le plus proche (Aéroport de Dinard-Pleurtuit-Saint-Malo) est implanté à 12 km.\", 'id__1': 2, 'score_given__2': 7.8, 'url_hotel__2': 'https://www.booking.com/hotel/fr/d-aleth.fr.html?aid', 'city__2': 'St Malo', 'hotel_name__2': \"Hotel d'Aleth\", 'lat__2': 48.63593081, 'lon__2': -2.02171236, 'hotel_description__2': \"Situé en face du port des Bas Sablons, l'Hotel d'Aleth se trouve à seulement 1,9 km de la vieille ville de Saint-Malo. Vous pourrez vous détendre sur ... (446 characters truncated) ... la salle prévue à cet effet.  L'hôtel est installé un étage au-dessus d'un bar qui propose des sets de DJ le vendredi et le samedi soir jusqu'à 3h00.\", 'id__2': 2, 'score_given__3': 8.8, 'url_hotel__3': 'https://www.booking.com/hotel/fr/bristol-union.fr.html?aid', 'city__3': 'St Malo', 'hotel_name__3': 'Hôtel Bristol Union Intra Muros', 'lat__3': 48.649611, 'lon__3': -2.02430338, 'hotel_description__3': 'L’Hôtel Bristol Union Intra Muros est situé au cœur de Saint-Malo, dans l’enceinte des remparts de la vieille ville, à 180\\xa0mètres du port de plais ... (384 characters truncated) ... z d’un emplacement idéal pour découvrir Saint-Malo et la pittoresque région de Bretagne. Le Mont-Saint-Michel est à seulement 45\\xa0minutes de route.', 'id__3': 2, 'score_given__4': 8.4, 'url_hotel__4': 'https://www.booking.com/hotel/fr/ajoncsdor.fr.html?aid', 'city__4': 'St Malo', 'hotel_name__4': \"Hotel Ajoncs d'Or\", 'lat__4': 48.64735692, 'lon__4': -2.02519655, 'hotel_description__4': \"L'hôtel Ajoncs d'Or se situe au cœur des remparts historiques de la ville fortifiée de Saint-Malo, à 350 mètres du port de plaisance de la ville. Vou ... (634 characters truncated) ... la plage. La gare ferroviaire de Saint-Malo se trouve à 1,8 km. Un parking privé est disponible moyennant un supplément et sur réservation préalable.\", 'id__4': 2, 'score_given__5': 8.1, 'url_hotel__5': 'https://www.booking.com/hotel/fr/de-la-gare-saint-malo.fr.html?aid', 'city__5': 'St Malo', 'hotel_name__5': 'Hôtel de la Gare', 'lat__5': 48.646646, 'lon__5': -2.009096, 'hotel_description__5': \"L'Hôtel de la Gare propose des hébergements à Saint-Malo, à proximité du casino Barrière et du fort national. Il propose une réception ouverte 24h/24 ... (230 characters truncated) ... l de la Gare incluent les plages d'Eventail, des Bas-Sablons et du Palais du Grand Large. L'aéroport de Jersey, le plus proche, est implanté à 72 km.\", 'id__5': 2, 'score_given__6': 7.7, 'url_hotel__6': 'https://www.booking.com/hotel/fr/ibis-styles-saint-malo-port.fr.html?aid' ... 132 parameters truncated ... 'hotel_description__22': \"L'établissement Les Chiens du Guet est situé au cœur de Saint-Malo, à seulement 50 mètres de la plage et à 550 mètres du port de plaisance. Vous pour ... (407 characters truncated) ... mentaires. Le restaurant de l'hôtel sert des plats à la carte préparés avec des produits locaux.  Dinard est à 11 km de l'hôtel. Cancale est à 17 km.\", 'id__22': 2, 'score_given__23': 8.0, 'url_hotel__23': 'https://www.booking.com/hotel/fr/de-l-univers.fr.html?aid', 'city__23': 'St Malo', 'hotel_name__23': \"Hotel De L'univers\", 'lat__23': 48.65104101, 'lon__23': -2.0237267, 'hotel_description__23': \"L'Hotel De L'univers est installé dans la ville fortifiée de Saint-Malo, en Bretagne, à quelques pas du port ferry et de la gare. Pourvu d'une connex ... (359 characters truncated) ... univers se trouve directement devant le château, à proximité de la mer. À partir de là, vous pourrez explorer facilement la ville historique, à pied.\", 'id__23': 2, 'score_given__24': 9.3, 'url_hotel__24': 'https://www.booking.com/hotel/fr/l-39-accrochecoeur.fr.html?aid', 'city__24': 'St Malo', 'hotel_name__24': \"L'AccrocheCoeur\", 'lat__24': 48.64812105, 'lon__24': -2.02697917, 'hotel_description__24': \"L’établissement L'AccrocheCoeur bénéficie d’un emplacement attractif à Saint-Malo. Il sert un petit-déjeuner continental et propose une connexion Wi- ... (509 characters truncated) ... ntérêt\\xa0: Plage du Môle, Plage de l'Éventail et Grand Bé. L'aéroport le plus proche (Aéroport de Dinard-Pleurtuit-Saint-Malo) est implanté à 13 km.\", 'id__24': 2, 'score_given__25': 7.9, 'url_hotel__25': 'https://www.booking.com/hotel/fr/le-port-malo.fr.html?aid', 'city__25': 'St Malo', 'hotel_name__25': 'Le Port Malo', 'lat__25': 48.65090634, 'lon__25': -2.02474326, 'hotel_description__25': \"Installé au cœur du centre historique de Saint-Malo, l'hôtel Le Port Malo propose des chambres insonorisées avec une télévision et une salle de bains ... (598 characters truncated) ... e visiter la cathédrale Saint-Vincent, à quelques pas. Les îles de Jersey et de Guernesey sont facilement accessibles depuis le port ferry, à 1,5 km.\", 'id__25': 2, 'score_given__26': 8.2, 'url_hotel__26': 'https://www.booking.com/hotel/fr/san-pedro.fr.html?aid', 'city__26': 'St Malo', 'hotel_name__26': 'Hôtel San Pedro', 'lat__26': 48.64908143, 'lon__26': -2.02793335, 'hotel_description__26': \"L'Hôtel San Pedro est situé à Saint-Malo, à 50 mètres de la plage et à 400 mètres du port de plaisance. Décoré dans un style nautique et traditionnel ... (533 characters truncated) ...  randonnée à pied et à vélo. L'hôtel se trouve à 400 mètres du ferry Cale de Dinan, à 500 mètres du Grand Bé et à 600 mètres du casino de Saint-Malo.\", 'id__26': 2, 'score_given__27': 8.5, 'url_hotel__27': 'https://www.booking.com/hotel/fr/brasserie-armoricaine.fr.html?aid', 'city__27': 'St Malo', 'hotel_name__27': 'Hotel Brasserie Armoricaine', 'lat__27': 48.648813, 'lon__27': -2.027441, 'hotel_description__27': \"Idéalement situé dans le centre de Saint-Malo, l'Hotel Brasserie Armoricaine propose un restaurant, une connexion Wi-Fi gratuite et un bar. Vous séjo ... (336 characters truncated) ... rasserie Armoricaine se trouve à proximité des plages de Mole, d'Eventail et de Grand Bé. L'aéroport de Jersey, le plus proche, est implanté à 71 km.\", 'id__27': 2, 'score_given__28': 6.9, 'url_hotel__28': 'https://www.booking.com/hotel/fr/le-britannic.fr.html?aid', 'city__28': 'St Malo', 'hotel_name__28': 'Hôtel Le Britannic - centre gare-', 'lat__28': 48.64678829, 'lon__28': -2.00719357, 'hotel_description__28': \"L’établissement Hôtel Le Britannic - centre gare- se situe à Saint-Malo, à respectivement 1,5 km et 1,9 km de ces lieux d’intérêt : Plage de l'Éventa ... (354 characters truncated) ... z à proximité de ces lieux d’intérêt\\xa0: Palais du Grand Large, Casino et Fort National. L'aéroport le plus proche (Aéroport de Jersey) est à 72 km.\", 'id__28': 2}\n",
      "2024-01-24 11:15:27,248 INFO sqlalchemy.engine.Engine COMMIT\n",
      "2024-01-24 11:15:27,406 INFO sqlalchemy.engine.Engine BEGIN (implicit)\n",
      "2024-01-24 11:15:27,406 INFO sqlalchemy.engine.Engine SELECT pg_catalog.pg_class.relname \n",
      "FROM pg_catalog.pg_class JOIN pg_catalog.pg_namespace ON pg_catalog.pg_namespace.oid = pg_catalog.pg_class.relnamespace \n",
      "WHERE pg_catalog.pg_class.relname = %(table_name)s AND pg_catalog.pg_class.relkind = ANY (ARRAY[%(param_1)s, %(param_2)s, %(param_3)s, %(param_4)s, %(param_5)s]) AND pg_catalog.pg_table_is_visible(pg_catalog.pg_class.oid) AND pg_catalog.pg_namespace.nspname != %(nspname_1)s\n",
      "2024-01-24 11:15:27,407 INFO sqlalchemy.engine.Engine [cached since 14.56s ago] {'table_name': 'cities_booking', 'param_1': 'r', 'param_2': 'p', 'param_3': 'f', 'param_4': 'v', 'param_5': 'm', 'nspname_1': 'pg_catalog'}\n",
      "2024-01-24 11:15:27,586 INFO sqlalchemy.engine.Engine INSERT INTO cities_booking (city, hotel_name, url_hotel, score_given, lat, lon, hotel_description, id) VALUES (%(city__0)s, %(hotel_name__0)s, %(url_hotel__0)s, %(score_given__0)s, %(lat__0)s, %(lon__0)s, %(hotel_description__0)s, %(id__0)s), (%(city ... 3626 characters truncated ... l_hotel__27)s, %(score_given__27)s, %(lat__27)s, %(lon__27)s, %(hotel_description__27)s, %(id__27)s)\n",
      "2024-01-24 11:15:27,587 INFO sqlalchemy.engine.Engine [generated in 0.00019s (insertmanyvalues) 1/1 (unordered)] {'score_given__0': 8.2, 'url_hotel__0': 'https://www.booking.com/hotel/fr/comforthotelstras.fr.html?aid', 'city__0': 'Strasbourg', 'hotel_name__0': 'Hotel Strasbourg - Montagne Verte & Restaurant Louisiane', 'lat__0': 48.57269177, 'lon__0': 7.72871353, 'hotel_description__0': \"L’Hotel Strasbourg\\xa0-\\xa0Montagne Verte\\xa0&\\xa0Restaurant Louisiane est installé à proximité des rives de l’Ill et à 2\\xa0km du centre historique. ... (1081 characters truncated) ... réservations. Tout séjour implique l'acceptation du règlement intérieur de l'hôtel, ce règlement intérieur est disponible sur demande à la réception.\", 'id__0': 9, 'score_given__1': 7.7, 'url_hotel__1': 'https://www.booking.com/hotel/fr/residhome-strasbourg-kleber.fr.html?aid', 'city__1': 'Strasbourg', 'hotel_name__1': 'Séjours & Affaires Strasbourg Kleber', 'lat__1': 48.58319667, 'lon__1': 7.74285212, 'hotel_description__1': \"Cette résidence propose un hébergement individuel confortable. Elle se trouve dans une rue calme du centre-ville, à 5 minutes à pied du quartier hist ... (512 characters truncated) ... t bien desservie par le tramway, qui vous permettra de vous rendre dans le reste de la ville, et est située à seulement 10 minutes à pied de la gare.\", 'id__1': 9, 'score_given__2': 8.1, 'url_hotel__2': 'https://www.booking.com/hotel/fr/clapclap-strasbourg.fr.html?aid', 'city__2': 'Strasbourg', 'hotel_name__2': 'ClapClap Hôtel, Food & Bar', 'lat__2': 48.58249845, 'lon__2': 7.7372396, 'hotel_description__2': \"Le ClapClap Hotel se trouve à 400\\xa0mètres de la gare TGV de Strasbourg et de la station de tramway. Situé à 600\\xa0mètres du centre-ville, cet étab ... (716 characters truncated) ... ite limiter le nombre de réservations de groupe. Les réservations de plus de 5\\xa0chambres font ainsi l’objet de conditions d'annulation différentes.\", 'id__2': 9, 'score_given__3': 7.1, 'url_hotel__3': 'https://www.booking.com/hotel/fr/appart-victoria-garden-strasbourg.fr.html?aid', 'city__3': 'Strasbourg', 'hotel_name__3': 'City Résidence Strasbourg Centre', 'lat__3': 48.58906194, 'lon__3': 7.73879863, 'hotel_description__3': \"Situé à 1 km de la gare de Strasbourg ainsi qu'à 1,5 km du quartier de La Petite France, l'établissement City Résidence Strasbourg Centre dispose d'u ... (470 characters truncated) ... Le City Résidence Strasbourg Centre est implanté à 20 minutes de marche de la cathédrale de Strasbourg et à 2 km du parc des expositions de la ville.\", 'id__3': 9, 'score_given__4': 7.3, 'url_hotel__4': 'https://www.booking.com/hotel/fr/patricia.fr.html?aid', 'city__4': 'Strasbourg', 'hotel_name__4': 'Hôtel Patricia - Strasbourg Hyper Centre', 'lat__4': 48.57968064, 'lon__4': 7.74689153, 'hotel_description__4': 'L’Hôtel Patricia\\xa0-\\xa0Strasbourg Hyper Centre est situé dans le quartier de la Petite France, au cœur du centre pittoresque de Strasbourg, à quelq ... (542 characters truncated) ... n quartier paisible, est entièrement non-fumeurs. Vous bénéficierez gracieusement d’une connexion Wi-Fi et d’un petit-déjeuner continental quotidien.', 'id__4': 9, 'score_given__5': 7.1, 'url_hotel__5': 'https://www.booking.com/hotel/fr/alpha-le-21eme.fr.html?aid', 'city__5': 'Strasbourg', 'hotel_name__5': 'Hotel Le 21ème', 'lat__5': 48.58315586, 'lon__5': 7.7439934, 'hotel_description__5': \"L'Hotel Le 21ème est situé dans le centre-ville de Strasbourg, à quelques pas du quartier de la Petite-France et de la place Kléber. Desservis par un ... (138 characters truncated) ... e 21ème se trouve sur la Grande Île de Strasbourg. Vous pourrez visiter la cathédrale et le musée des Beaux-Arts, accessibles à 10 minutes de marche.\", 'id__5': 9, 'score_given__6': 8.4, 'url_hotel__6': 'https://www.booking.com/hotel/fr/golden-tulip-strasbourg-centre-the-garden.fr.html?aid' ... 124 parameters truncated ... 'hotel_description__21': 'Situé à Strasbourg, à moins de 2\\xa0km de la cathédrale, l\\'Aloft Strasbourg Etoile dispose d\\'un bar et d\\'une terrasse. Il offre une vue sur la vil ... (840 characters truncated) ... international le plus proche, celui de Strasbourg, se trouve, quant à lui, à 10\\xa0km.  Cet établissement a reçu le label écologique \"la clef verte\".', 'id__21': 9, 'score_given__22': 8.0, 'url_hotel__22': 'https://www.booking.com/hotel/fr/lagrange-city-strasbourg.fr.html?aid', 'city__22': 'Strasbourg', 'hotel_name__22': 'Lagrange Apart’Hotel Strasbourg Wilson', 'lat__22': 48.58741328, 'lon__22': 7.73824275, 'hotel_description__22': \"Le Lagrange Apart’Hotel Strasbourg Wilson est situé à 5 minutes à pied de la gare de Strasbourg, à 270 mètres du centre commercial Place des Halles e ... (665 characters truncated) ... ge Apart’Hotel Strasbourg Wilson, vous profiterez d'une bagagerie gratuite, ainsi que d'un hammam et d'un sauna, moyennant des frais supplémentaires.\", 'id__22': 9, 'score_given__23': 7.8, 'url_hotel__23': 'https://www.booking.com/hotel/fr/appart-city-strasbourg.fr.html?aid', 'city__23': 'Strasbourg', 'hotel_name__23': \"Appart'City Confort Strasbourg Centre\", 'lat__23': 48.57772068, 'lon__23': 7.73397669, 'hotel_description__23': \"L’Appart'City Confort Strasbourg Centre bénéficie d’un emplacement idéal dans le centre de Strasbourg, à 10\\xa0minutes de marche de la gare. Cet étab ... (829 characters truncated) ... km de l’aéroport de Strasbourg-Entzheim. Un parking privé est disponible sur place, sur réservation préalable et moyennant des frais supplémentaires.\", 'id__23': 9, 'score_given__24': 7.8, 'url_hotel__24': 'https://www.booking.com/hotel/fr/residence-hoteliere-louise.fr.html?aid', 'city__24': 'Strasbourg', 'hotel_name__24': 'Résidence Hôtelière Louise', 'lat__24': 48.59022795, 'lon__24': 7.73982861, 'hotel_description__24': \"La Résidence Hôtelière Louise est située à Strasbourg et propose des hébergements indépendants. Cet établissement vous accueille à 1,1\\xa0km du quart ... (445 characters truncated) ... ogement.  La Cathédrale de Strasbourg est située à 1,2 km de la Résidence Hôtelière Louise et l&#39;aéroport international de Strasbourg est à 10 km.\", 'id__24': 9, 'score_given__25': 8.6, 'url_hotel__25': 'https://www.booking.com/hotel/fr/ac-by-marriott-strasbourg.fr.html?aid', 'city__25': 'Strasbourg', 'hotel_name__25': 'AC Hotel by Marriott Strasbourg', 'lat__25': 48.59900335, 'lon__25': 7.76195994, 'hotel_description__25': \"Proposant un bar, l’établissement AC Hotel by Marriott Strasbourg se situe à Strasbourg dans la région Alsace, à respectivement 200 mètres et 700 mèt ... (840 characters truncated) ... ique de l'Université de Strasbourg et Parc du Château de Pourtalès. L'aéroport le plus proche (Aéroport de Strasbourg Entzheim) est implanté à 13 km.\", 'id__25': 9, 'score_given__26': 8.3, 'url_hotel__26': 'https://www.booking.com/hotel/fr/legrandhotel.fr.html?aid', 'city__26': 'Strasbourg', 'hotel_name__26': 'Le Grand Hotel', 'lat__26': 48.58469688, 'lon__26': 7.736561, 'hotel_description__26': \"Le Grand Hôtel est situé en face de la gare de Strasbourg, à 10 minutes à pied du centre-ville et de la place Kléber. Il dispose d'un bar, d'une terr ... (681 characters truncated) ... d'un emplacement idéal pour découvrir les alentours. Vous pourrez vous rendre aux célèbres Galeries Lafayette ou visiter la cathédrale de Strasbourg.\", 'id__26': 9, 'score_given__27': 7.5, 'url_hotel__27': 'https://www.booking.com/hotel/fr/appart-odalys-green-mars.fr.html?aid', 'city__27': 'Strasbourg', 'hotel_name__27': 'Odalys City Strasbourg Green Marsh', 'lat__27': 48.58668685, 'lon__27': 7.74025977, 'hotel_description__27': 'L’Odalys City Strasbourg Green Marsh est situé à Strasbourg, à 10\\xa0minutes à pied du quartier de la Petite France. Il propose une réception ouverte ... (827 characters truncated) ... \\xa0minutes à pied. Un nombre limité de places de parking est disponible sur place, moyennant des frais supplémentaires et sur réservation préalable.', 'id__27': 9}\n",
      "2024-01-24 11:15:27,686 INFO sqlalchemy.engine.Engine COMMIT\n",
      "2024-01-24 11:15:27,860 INFO sqlalchemy.engine.Engine BEGIN (implicit)\n",
      "2024-01-24 11:15:27,862 INFO sqlalchemy.engine.Engine SELECT pg_catalog.pg_class.relname \n",
      "FROM pg_catalog.pg_class JOIN pg_catalog.pg_namespace ON pg_catalog.pg_namespace.oid = pg_catalog.pg_class.relnamespace \n",
      "WHERE pg_catalog.pg_class.relname = %(table_name)s AND pg_catalog.pg_class.relkind = ANY (ARRAY[%(param_1)s, %(param_2)s, %(param_3)s, %(param_4)s, %(param_5)s]) AND pg_catalog.pg_table_is_visible(pg_catalog.pg_class.oid) AND pg_catalog.pg_namespace.nspname != %(nspname_1)s\n",
      "2024-01-24 11:15:27,863 INFO sqlalchemy.engine.Engine [cached since 15.02s ago] {'table_name': 'cities_booking', 'param_1': 'r', 'param_2': 'p', 'param_3': 'f', 'param_4': 'v', 'param_5': 'm', 'nspname_1': 'pg_catalog'}\n",
      "2024-01-24 11:15:28,041 INFO sqlalchemy.engine.Engine INSERT INTO cities_booking (city, hotel_name, url_hotel, score_given, lat, lon, hotel_description, id) VALUES (%(city__0)s, %(hotel_name__0)s, %(url_hotel__0)s, %(score_given__0)s, %(lat__0)s, %(lon__0)s, %(hotel_description__0)s, %(id__0)s), (%(city ... 4895 characters truncated ... l_hotel__36)s, %(score_given__36)s, %(lat__36)s, %(lon__36)s, %(hotel_description__36)s, %(id__36)s)\n",
      "2024-01-24 11:15:28,042 INFO sqlalchemy.engine.Engine [generated in 0.00021s (insertmanyvalues) 1/1 (unordered)] {'score_given__0': 8.8, 'url_hotel__0': 'https://www.booking.com/hotel/fr/le-loft-roquelaine.fr.html?aid', 'city__0': 'Toulouse', 'hotel_name__0': 'Le Loft Roquelaine', 'lat__0': 43.6112075, 'lon__0': 1.4459987, 'hotel_description__0': \"Doté d'une connexion Wi-Fi gratuite, l'établissement Le Loft Roquelaine est situé dans le centre de Toulouse, à 4,7 km du Zénith et du stade. Cet app ... (431 characters truncated) ... urnerez à proximité des stations de métro Jeanne d'Arc, Jean-Jaures et Capitole. L'aéroport de Toulouse-Blagnac, le plus proche, est implanté à 7 km.\", 'id__0': 31, 'score_given__1': 9.5, 'url_hotel__1': 'https://www.booking.com/hotel/fr/le-meuble-toulousain.fr.html?aid', 'city__1': 'Toulouse', 'hotel_name__1': 'Le meublé toulousain', 'lat__1': 43.60087616, 'lon__1': 1.45886871, 'hotel_description__1': \"Situé à Toulouse, cet appartement se trouve à 1,8 km de la gare de Toulouse-Matabiau. Le meublé toulousain offre une vue sur la ville. Une connexion  ... (528 characters truncated) ... trouve à 4 km du Zénith de Toulouse et à 5 km de l’amphithéâtre romain de Purpan-Ancely. Enfin, vous serez à 10 km de l'aéroport de Toulouse-Blagnac.\", 'id__1': 31, 'score_given__2': 8.0, 'url_hotel__2': 'https://www.booking.com/hotel/fr/bara-superbe-t2-avec-balcon-a-patte-d-oie.fr.html?aid', 'city__2': 'Toulouse', 'hotel_name__2': 'Bara by Yumē', 'lat__2': 43.5977711, 'lon__2': 1.4225194, 'hotel_description__2': \"L’hébergement Bara by Yumē se trouve à Toulouse dans ce quartier : Toulouse Rive Gauche. Il vous accueille à respectivement 1,2 km, 3,5 km et 4,1 km  ... (514 characters truncated) ... d’intérêt\\xa0: Métro Saint-Cyprien – République, Le Pont Neuf et Métro Esquirol. L'aéroport le plus proche (Aéroport de Toulouse-Blagnac) est à 5 km.\", 'id__2': 31, 'score_given__3': 8.6, 'url_hotel__3': 'https://www.booking.com/hotel/fr/chambres-privatives-dans-un-appartement-integralement-equipe.fr.html?aid', 'city__3': 'Toulouse', 'hotel_name__3': 'Chambres privatives dans un appartement intégralement équipé', 'lat__3': 43.5711858, 'lon__3': 1.4169242, 'hotel_description__3': \"L’établissement Chambres privatives dans un appartement intégralement équipé vous accueille à Toulouse, à respectivement 3,7 km et 5,7 km de ces lieu ... (604 characters truncated) ... phithéâtre romain de Purpan-Ancely et Centre de Congrès et d’Exposition Diagora. L'aéroport le plus proche (Aéroport de Toulouse-Blagnac) est à 8 km.\", 'id__3': 31, 'score_given__4': 8.5, 'url_hotel__4': 'https://www.booking.com/hotel/fr/barberina-studio-en-centre-ville.fr.html?aid', 'city__4': 'Toulouse', 'hotel_name__4': 'Barberina - Studio en centre ville', 'lat__4': 43.60676623, 'lon__4': 1.45188894, 'hotel_description__4': \"L’hébergement Barberina - Studio en centre ville vous accueille dans le centre de Toulouse, à respectivement 4,2 km et 5,5 km de ces lieux d’intérêt  ... (492 characters truncated) ... es lieux d’intérêt\\xa0: Métro Jeanne d'Arc, Métro Capitole et Métro Jean-Jaurès. L'aéroport le plus proche (Aéroport de Toulouse-Blagnac) est à 7 km.\", 'id__4': 31, 'score_given__5': 3.0, 'url_hotel__5': 'https://www.booking.com/hotel/fr/morhange-au-coeur-du-quartier-de-saint-michel.fr.html?aid', 'city__5': 'Toulouse', 'hotel_name__5': 'Morhange - Au cœur du quartier de Saint-Michel', 'lat__5': 43.5866091, 'lon__5': 1.4444267, 'hotel_description__5': \"L’hébergement Morhange - Au cœur du quartier de Saint-Michel se trouve à Toulouse, à respectivement 1,2 km et 4,5 km de ces lieux d’intérêt : Stadium ... (575 characters truncated) ... té de ces lieux d’intérêt\\xa0: Métro des Carmes, Jardin Royal et Métro Esquirol. L'aéroport le plus proche (Aéroport de Toulouse-Blagnac) est à 8 km.\", 'id__5': 31, 'score_given__6': 9.2, 'url_hotel__6': 'https://www.booking.com/hotel/fr/aparthotel-adagio-original-toulouse-centre-la-grave.fr.html?aid' ... 196 parameters truncated ... 'hotel_description__30': 'Facilement accessible par l’autoroute A620/E09, le Residhome Toulouse Tolosa se situe entre l’aéroport de Toulouse-Blagnac et le centre-ville de Toul ... (818 characters truncated) ... -ville de Toulouse s’arrête juste devant le Toulouse Tolosa Residhome. Un parking privé est disponible sur place moyennant des frais supplémentaires.', 'id__30': 31, 'score_given__31': 7.1, 'url_hotel__31': 'https://www.booking.com/hotel/fr/campaniletoulousesesquieres.fr.html?aid', 'city__31': 'Toulouse', 'hotel_name__31': 'Campanile Toulouse Sesquieres', 'lat__31': 43.6465374, 'lon__31': 1.41912863, 'hotel_description__31': \"Situé à 8 km au nord du centre de Toulouse, cet hôtel Campanile se trouve à côté de l'autoroute A62 et du lac de Sesquières. Il propose des chambres  ... (420 characters truncated) ...  à 2,5 km du Campanile Sesquières et permet de rejoindre le centre-ville et la gare de Toulouse-Matabiau. L'aéroport de Toulouse-Blagnac est à 10 km.\", 'id__31': 31, 'score_given__32': 8.4, 'url_hotel__32': 'https://www.booking.com/hotel/fr/residhome-toulouse-occitania.fr.html?aid', 'city__32': 'Toulouse', 'hotel_name__32': 'Residhome Toulouse Occitania', 'lat__32': 43.5938049, 'lon__32': 1.41036384, 'hotel_description__32': 'Doté d’une piscine extérieure, le Residhome Toulouse Occitania propose des hébergements à moins de 100 mètres de l’arrêt de tramway Hippodrome, d’où  ... (918 characters truncated) ... places de stationnement publiques gratuites et un parking privé sont disponibles sur place. L’autoroute A620 se situe à seulement 3 minutes de route.', 'id__32': 31, 'score_given__33': 7.9, 'url_hotel__33': 'https://www.booking.com/hotel/fr/terminus-toulouse.fr.html?aid', 'city__33': 'Toulouse', 'hotel_name__33': 'ibis Styles Toulouse Centre Gare', 'lat__33': 43.61112245, 'lon__33': 1.45225525, 'hotel_description__33': \"L’établissement ibis Styles Toulouse Centre Gare se trouve à Toulouse, à 5,5 km de ce lieu d’intérêt : Stadium de Toulouse. Il propose un enregistrem ... (485 characters truncated) ... intérêt\\xa0: Gare de Toulouse-Matabiau, Métro Jeanne d'Arc et Métro Jean-Jaurès. L'aéroport le plus proche (Aéroport de Toulouse-Blagnac) est à 7 km.\", 'id__33': 31, 'score_given__34': 9.6, 'url_hotel__34': 'https://www.booking.com/hotel/fr/le-clos-des-salins.fr.html?aid', 'city__34': 'Toulouse', 'hotel_name__34': 'Le Clos des Salins', 'lat__34': 43.59441362, 'lon__34': 1.44607276, 'hotel_description__34': \"Situé au cœur du centre-ville historique de Toulouse, à 450 mètres de la station de métro Carmes, à 5 minutes à pied du tramway T2 desservant l'aérop ... (463 characters truncated) ...  un lave-linge commun.  Situé à 16 km de l'aéroport de Toulouse-Blagnac, Le Clos des Salins se trouve également à seulement 3 km de l'autoroute A620.\", 'id__34': 31, 'score_given__35': 7.0, 'url_hotel__35': 'https://www.booking.com/hotel/fr/ours-blanc-centre.fr.html?aid', 'city__35': 'Toulouse', 'hotel_name__35': 'Hotel Ours Blanc - Centre', 'lat__35': 43.606274, 'lon__35': 1.44707523, 'hotel_description__35': \"L'Hotel Ours Blanc - Centre vous accueille sur la place Victor Hugo, dans le centre de Toulouse. Il est situé à 200 mètres de la station de métro Jea ... (481 characters truncated) ... . Dans les alentours de l'Hotel Ours Blanc - Centre, vous pourrez en outre découvrir le canal du Midi, la place du Capitole et le marché Victor Hugo.\", 'id__35': 31, 'score_given__36': 8.0, 'url_hotel__36': 'https://www.booking.com/hotel/fr/ha-tel-la-chartreuse.fr.html?aid', 'city__36': 'Toulouse', 'hotel_name__36': 'Hôtel La Chartreuse', 'lat__36': 43.6100905, 'lon__36': 1.4530466, 'hotel_description__36': \"Doté d'une terrasse, d'une bagagerie et d'une connexion Wi-Fi gratuite, l'Hôtel La Chartreuse propose des hébergements à Toulouse, à 140 mètres de la ... (485 characters truncated) ... autoroute A61. Le jardin botanique Henri Gaussen\\xa0est\\xa0à seulement 16 minutes de marche. Vous pourrez garer votre voiture dans les rues voisines.\", 'id__36': 31}\n",
      "2024-01-24 11:15:28,142 INFO sqlalchemy.engine.Engine COMMIT\n",
      "2024-01-24 11:15:28,314 INFO sqlalchemy.engine.Engine BEGIN (implicit)\n",
      "2024-01-24 11:15:28,316 INFO sqlalchemy.engine.Engine SELECT pg_catalog.pg_class.relname \n",
      "FROM pg_catalog.pg_class JOIN pg_catalog.pg_namespace ON pg_catalog.pg_namespace.oid = pg_catalog.pg_class.relnamespace \n",
      "WHERE pg_catalog.pg_class.relname = %(table_name)s AND pg_catalog.pg_class.relkind = ANY (ARRAY[%(param_1)s, %(param_2)s, %(param_3)s, %(param_4)s, %(param_5)s]) AND pg_catalog.pg_table_is_visible(pg_catalog.pg_class.oid) AND pg_catalog.pg_namespace.nspname != %(nspname_1)s\n",
      "2024-01-24 11:15:28,316 INFO sqlalchemy.engine.Engine [cached since 15.47s ago] {'table_name': 'cities_booking', 'param_1': 'r', 'param_2': 'p', 'param_3': 'f', 'param_4': 'v', 'param_5': 'm', 'nspname_1': 'pg_catalog'}\n",
      "2024-01-24 11:15:28,496 INFO sqlalchemy.engine.Engine INSERT INTO cities_booking (city, hotel_name, url_hotel, score_given, lat, lon, hotel_description, id) VALUES (%(city__0)s, %(hotel_name__0)s, %(url_hotel__0)s, %(score_given__0)s, %(lat__0)s, %(lon__0)s, %(hotel_description__0)s, %(id__0)s), (%(city ... 2921 characters truncated ... l_hotel__22)s, %(score_given__22)s, %(lat__22)s, %(lon__22)s, %(hotel_description__22)s, %(id__22)s)\n",
      "2024-01-24 11:15:28,496 INFO sqlalchemy.engine.Engine [generated in 0.00014s (insertmanyvalues) 1/1 (unordered)] {'score_given__0': 8.9, 'url_hotel__0': 'https://www.booking.com/hotel/fr/entraigues-uzes2.fr.html?aid', 'city__0': 'Uzes', 'hotel_name__0': 'Boutique Hôtel Entraigues', 'lat__0': 44.01246437, 'lon__0': 4.42180011, 'hotel_description__0': 'Doté d’une piscine extérieure, le Boutique Hôtel Entraigues vous accueille à Uzès, dans le Languedoc-Roussillon, à 32\\xa0km d’Avignon. Il possède une ... (659 characters truncated) ... es que le golf et le vélo. L’Hôtel Entraigues est à 20 km de Nîmes et à 41 km d’Arles. L’aéroport d’Avignon-Provence est, quant à lui, situé à 40 km.', 'id__0': 24, 'score_given__1': 9.5, 'url_hotel__1': 'https://www.booking.com/hotel/fr/mini-suite-vue-splendide.fr.html?aid', 'city__1': 'Uzes', 'hotel_name__1': 'Chambre Hôte vue splendide', 'lat__1': 44.0115749, 'lon__1': 4.4207409, 'hotel_description__1': \"Situé à Uzès, à 32 km du parc des expositions de Nîmes et à 39 km de la gare centrale d'Avignon, La Chambre Hôte vue splendide propose des hébergemen ... (526 characters truncated) ...  d'Avignon est à 41 km. Vous séjournerez à 48 km du parc des expositions d'Avignon. L'aéroport de Nîmes-Garons, le plus proche, est implanté à 35 km.\", 'id__1': 24, 'score_given__2': 10.0, 'url_hotel__2': 'https://www.booking.com/hotel/fr/la-dame-de-flaux.fr.html?aid', 'city__2': 'Uzes', 'hotel_name__2': 'La DAME de FLAUX', 'lat__2': 44.0120504, 'lon__2': 4.4192438, 'hotel_description__2': \"L’hébergement La DAME de FLAUX vous accueille à Uzès, à respectivement 31 km et 38 km de ces lieux d’intérêt : Parc des expositions de Nîmes et Gare  ... (428 characters truncated) ... ieux d’intérêt\\xa0: Parc des expositions d'Avignon et Pont du Gard. L'aéroport le plus proche (Aéroport de Nîmes Alès Camargue Cévennes) est à 35 km.\", 'id__2': 24, 'score_given__3': 8.8, 'url_hotel__3': 'https://www.booking.com/hotel/fr/le-saint-genies.fr.html?aid', 'city__3': 'Uzes', 'hotel_name__3': 'Hôtel Le Saint-Geniès', 'lat__3': 44.02305334, 'lon__3': 4.42047223, 'hotel_description__3': \"Cet hôtel à la gestion familiale est situé au cœur d'un jardin, dans un quartier résidentiel paisible à 1,5 km du centre historique d'Uzès. Il compre ... (609 characters truncated) ... ment se trouve à 30 km de Nîmes, à 16 km du Pont du Gard et à 30 minutes de route d'Avignon. Un parking public est disponible gratuitement sur place.\", 'id__3': 24, 'score_given__4': 8.6, 'url_hotel__4': 'https://www.booking.com/hotel/fr/la-taverne.fr.html?aid', 'city__4': 'Uzes', 'hotel_name__4': 'La Taverne', 'lat__4': 44.014659, 'lon__4': 4.4200515, 'hotel_description__4': \"La Taverne est située à Uzès, dans une rue piétonne, à seulement 2 minutes à pied du château du Duché. L'office de tourisme se trouve à 100 mètres et ... (692 characters truncated) ...  escaliers ou au rez-de-chaussée dans l'annexe.  La réception est ouverte tous les jours de 16h00 à 19h00. L'hôtel n'a pas la réceptionniste de nuit.\", 'id__4': 24, 'score_given__5': 9.0, 'url_hotel__5': 'https://www.booking.com/hotel/fr/le-trente-trois.fr.html?aid', 'city__5': 'Uzes', 'hotel_name__5': 'Le trente trois', 'lat__5': 44.00964195, 'lon__5': 4.41788524, 'hotel_description__5': \"Situé à Uzès, à 31 km du parc des expositions de Nîmes et à 38 km de la gare centrale d'Avignon, Le trente trois offre une vue sur la ville et dispos ... (379 characters truncated) ... ous séjournerez à 39 km du palais des Papes et à 40 km de la gare TGV d'Avignon. L'aéroport le plus proche, celui de Nîmes-Garons, est situé à 34 km.\", 'id__5': 24, 'score_given__6': 9.2, 'url_hotel__6': 'https://www.booking.com/hotel/fr/une-chambre-a-uzes.fr.html?aid' ... 84 parameters truncated ... 'hotel_description__16': \"Situé à Uzès, l'In Situ propose un hébergement à 32 km du parc des expositions de Nîmes et à 38 km de la gare centrale d'Avignon. Une connexion Wi-Fi ... (360 characters truncated) ...   Vous séjournerez à 40 km du palais des Papes et à 41 km de la gare TGV d'Avignon. L'aéroport de Nîmes-Garons, le plus proche, est implanté à 35 km.\", 'id__16': 24, 'score_given__17': 8.9, 'url_hotel__17': 'https://www.booking.com/hotel/fr/le-mas-des-lilas-uzes.fr.html?aid', 'city__17': 'Uzes', 'hotel_name__17': 'Le mas des Lilas', 'lat__17': 43.99711946, 'lon__17': 4.42578703, 'hotel_description__17': \"Offrant une vue sur le jardin, l'établissement Le mas des Lilas est situé à Uzès, à 31 km du parc des expositions de Nîmes. Vous bénéficierez gratuit ... (617 characters truncated) ... s séjournerez à 36 km de la gare centrale d'Avignon et à 37 km du palais des papes. L'aéroport de Nîmes-Garons, le plus proche, est implanté à 35 km.\", 'id__17': 24, 'score_given__18': 9.1, 'url_hotel__18': 'https://www.booking.com/hotel/fr/la-petite-hostellerie-uzes1.fr.html?aid', 'city__18': 'Uzes', 'hotel_name__18': 'La petite hostellerie', 'lat__18': 44.0108258, 'lon__18': 4.4177601, 'hotel_description__18': \"L’établissement La petite hostellerie se situe à Uzès, à respectivement 38 km et 39 km de ces lieux d’intérêt : Gare d'Avignon-Centre et Palais des P ... (742 characters truncated) ... n.  Vous séjournerez à 39 km de ce lieu d’intérêt : Pont d'Avignon. L'aéroport le plus proche (Aéroport de Nîmes Alès Camargue Cévennes) est à 34 km.\", 'id__18': 24, 'score_given__19': 9.5, 'url_hotel__19': 'https://www.booking.com/hotel/fr/le-mas-des-alexandrins.fr.html?aid', 'city__19': 'Uzes', 'hotel_name__19': 'Le Mas des Alexandrins', 'lat__19': 43.99589186, 'lon__19': 4.42746718, 'hotel_description__19': None, 'id__19': 24, 'score_given__20': 9.5, 'url_hotel__20': 'https://www.booking.com/hotel/fr/appartement-ulysse-uzes.fr.html?aid', 'city__20': 'Uzes', 'hotel_name__20': 'Appartement Ulysse', 'lat__20': 44.0132239, 'lon__20': 4.4222682, 'hotel_description__20': \"L’hébergement Appartement Ulysse se situe à Uzès, à respectivement 32 km et 38 km de ces lieux d’intérêt : Parc des expositions de Nîmes et Gare d'Av ... (561 characters truncated) ... ’intérêt : Parc des expositions d'Avignon et Pont du Gard. L'aéroport le plus proche (Aéroport de Nîmes Alès Camargue Cévennes) est implanté à 35 km.\", 'id__20': 24, 'score_given__21': 9.4, 'url_hotel__21': 'https://www.booking.com/hotel/fr/maison-de-roche-uzes-la-fenestrelle.fr.html?aid', 'city__21': 'Uzes', 'hotel_name__21': 'Maison de Roche - Uzès Centre historique La Fenestrelle', 'lat__21': 44.0112246, 'lon__21': 4.4199226, 'hotel_description__21': \"L’hébergement Maison de Roche - Uzès Centre historique La Fenestrelle vous accueille à Uzès, à respectivement 31 km et 38 km de ces lieux d’intérêt : ... (520 characters truncated) ... ieux d’intérêt\\xa0: Parc des expositions d'Avignon et Pont du Gard. L'aéroport le plus proche (Aéroport de Nîmes Alès Camargue Cévennes) est à 34 km.\", 'id__21': 24, 'score_given__22': 8.7, 'url_hotel__22': 'https://www.booking.com/hotel/fr/patio-de-violette.fr.html?aid', 'city__22': 'Uzes', 'hotel_name__22': 'Patio De Violette', 'lat__22': 44.02843142, 'lon__22': 4.42002386, 'hotel_description__22': \"Situé dans la campagne du Languedoc-Roussillon, le Patio De Violette se trouve à 2 minutes de route de la ville d'Uzès. Il dispose d'une piscine exté ... (434 characters truncated) ... m du célèbre pont du Gard. Le musée Haribo est accessible en 5 minutes de route et un service de navette gratuit est assuré les mercredis et samedis.\", 'id__22': 24}\n",
      "2024-01-24 11:15:28,589 INFO sqlalchemy.engine.Engine COMMIT\n"
     ]
    }
   ],
   "source": [
    "# # Création de la table Cities-booking sur le Postgres RDS\n",
    "\n",
    "# import boto3\n",
    "\n",
    "# # Connexion à la session S3\n",
    "# session = boto3.Session(profile_name='default')\n",
    "# s3 = session.resource(\"s3\")\n",
    "\n",
    "# bucket_name = 'jedha-bucket-clementb'\n",
    "# bucket = s3.Bucket(bucket_name)\n",
    "\n",
    "# # Extraction des fichiers du bucket dans une liste\n",
    "# prefix = 'project_kayak/cities_booking/'\n",
    "# csv_files = [obj.key for obj in bucket.objects.filter(Prefix=prefix)]\n",
    "\n",
    "# # Créer la table SQL (et la remplacer si elle est déjà existante)\n",
    "# df = pd.read_csv(f's3://{bucket_name}/{csv_files[0]}')\n",
    "# df.head(0).to_sql('cities_booking', engine, index=False, if_exists='replace')\n",
    "\n",
    "# # Boucle for pour lancer la création et ajout dans la database RDS\n",
    "# for csv_file in csv_files:\n",
    "#     s3_path = f's3://{bucket_name}/{csv_file}'\n",
    "\n",
    "#     # Load data from CSV into DataFrame\n",
    "#     df = pd.read_csv(s3_path)\n",
    "    \n",
    "#     # Use the to_sql method to insert data into the database\n",
    "#     # Replace 'your_table_name' with the actual table name\n",
    "#     df.to_sql('cities_booking', engine, index=False, if_exists='append')"
   ]
  },
  {
   "cell_type": "code",
   "execution_count": 16,
   "metadata": {},
   "outputs": [
    {
     "name": "stdout",
     "output_type": "stream",
     "text": [
      "2024-01-24 11:17:28,934 INFO sqlalchemy.engine.Engine BEGIN (implicit)\n",
      "2024-01-24 11:17:28,934 INFO sqlalchemy.engine.Engine SELECT * FROM weather_daily LIMIT 5\n",
      "2024-01-24 11:17:28,935 INFO sqlalchemy.engine.Engine [generated in 0.00098s] {}\n"
     ]
    },
    {
     "data": {
      "text/html": [
       "<div>\n",
       "<style scoped>\n",
       "    .dataframe tbody tr th:only-of-type {\n",
       "        vertical-align: middle;\n",
       "    }\n",
       "\n",
       "    .dataframe tbody tr th {\n",
       "        vertical-align: top;\n",
       "    }\n",
       "\n",
       "    .dataframe thead th {\n",
       "        text-align: right;\n",
       "    }\n",
       "</style>\n",
       "<table border=\"1\" class=\"dataframe\">\n",
       "  <thead>\n",
       "    <tr style=\"text-align: right;\">\n",
       "      <th></th>\n",
       "      <th>id</th>\n",
       "      <th>city</th>\n",
       "      <th>datetime</th>\n",
       "      <th>max_temperature</th>\n",
       "      <th>most_frequent_weather</th>\n",
       "      <th>pop_rain</th>\n",
       "    </tr>\n",
       "  </thead>\n",
       "  <tbody>\n",
       "    <tr>\n",
       "      <th>0</th>\n",
       "      <td>1</td>\n",
       "      <td>Mont Saint Michel</td>\n",
       "      <td>2023-11-02</td>\n",
       "      <td>11.97</td>\n",
       "      <td>Rain</td>\n",
       "      <td>9.5584</td>\n",
       "    </tr>\n",
       "    <tr>\n",
       "      <th>1</th>\n",
       "      <td>1</td>\n",
       "      <td>Mont Saint Michel</td>\n",
       "      <td>2023-11-03</td>\n",
       "      <td>12.42</td>\n",
       "      <td>Rain</td>\n",
       "      <td>2.1129</td>\n",
       "    </tr>\n",
       "    <tr>\n",
       "      <th>2</th>\n",
       "      <td>1</td>\n",
       "      <td>Mont Saint Michel</td>\n",
       "      <td>2023-11-04</td>\n",
       "      <td>13.39</td>\n",
       "      <td>Rain</td>\n",
       "      <td>11.4685</td>\n",
       "    </tr>\n",
       "    <tr>\n",
       "      <th>3</th>\n",
       "      <td>1</td>\n",
       "      <td>Mont Saint Michel</td>\n",
       "      <td>2023-11-05</td>\n",
       "      <td>12.78</td>\n",
       "      <td>Rain</td>\n",
       "      <td>5.8715</td>\n",
       "    </tr>\n",
       "    <tr>\n",
       "      <th>4</th>\n",
       "      <td>1</td>\n",
       "      <td>Mont Saint Michel</td>\n",
       "      <td>2023-11-06</td>\n",
       "      <td>12.44</td>\n",
       "      <td>Rain</td>\n",
       "      <td>2.2328</td>\n",
       "    </tr>\n",
       "  </tbody>\n",
       "</table>\n",
       "</div>"
      ],
      "text/plain": [
       "   id               city    datetime  max_temperature most_frequent_weather  \\\n",
       "0   1  Mont Saint Michel  2023-11-02            11.97                  Rain   \n",
       "1   1  Mont Saint Michel  2023-11-03            12.42                  Rain   \n",
       "2   1  Mont Saint Michel  2023-11-04            13.39                  Rain   \n",
       "3   1  Mont Saint Michel  2023-11-05            12.78                  Rain   \n",
       "4   1  Mont Saint Michel  2023-11-06            12.44                  Rain   \n",
       "\n",
       "   pop_rain  \n",
       "0    9.5584  \n",
       "1    2.1129  \n",
       "2   11.4685  \n",
       "3    5.8715  \n",
       "4    2.2328  "
      ]
     },
     "execution_count": 16,
     "metadata": {},
     "output_type": "execute_result"
    }
   ],
   "source": [
    "# Affichage de la table weather_daily (à partir du RDS)\n",
    "\n",
    "conn.rollback()\n",
    "\n",
    "stmt = text(\"SELECT * \"\n",
    "            \"FROM weather_daily \"\n",
    "            \"LIMIT 5\")\n",
    "pd.read_sql_query(stmt, conn)"
   ]
  },
  {
   "cell_type": "code",
   "execution_count": 17,
   "metadata": {},
   "outputs": [
    {
     "name": "stdout",
     "output_type": "stream",
     "text": [
      "2024-01-24 11:17:29,680 INFO sqlalchemy.engine.Engine ROLLBACK\n",
      "2024-01-24 11:17:29,772 INFO sqlalchemy.engine.Engine BEGIN (implicit)\n",
      "2024-01-24 11:17:29,773 INFO sqlalchemy.engine.Engine SELECT * FROM cities_booking WHERE id = 1 LIMIT 5\n",
      "2024-01-24 11:17:29,773 INFO sqlalchemy.engine.Engine [generated in 0.00135s] {}\n"
     ]
    },
    {
     "data": {
      "text/html": [
       "<div>\n",
       "<style scoped>\n",
       "    .dataframe tbody tr th:only-of-type {\n",
       "        vertical-align: middle;\n",
       "    }\n",
       "\n",
       "    .dataframe tbody tr th {\n",
       "        vertical-align: top;\n",
       "    }\n",
       "\n",
       "    .dataframe thead th {\n",
       "        text-align: right;\n",
       "    }\n",
       "</style>\n",
       "<table border=\"1\" class=\"dataframe\">\n",
       "  <thead>\n",
       "    <tr style=\"text-align: right;\">\n",
       "      <th></th>\n",
       "      <th>city</th>\n",
       "      <th>hotel_name</th>\n",
       "      <th>url_hotel</th>\n",
       "      <th>score_given</th>\n",
       "      <th>lat</th>\n",
       "      <th>lon</th>\n",
       "      <th>hotel_description</th>\n",
       "      <th>id</th>\n",
       "    </tr>\n",
       "  </thead>\n",
       "  <tbody>\n",
       "    <tr>\n",
       "      <th>0</th>\n",
       "      <td>Mont Saint Michel</td>\n",
       "      <td>Hôtel Vert</td>\n",
       "      <td>https://www.booking.com/hotel/fr/vert.fr.html?aid</td>\n",
       "      <td>8.0</td>\n",
       "      <td>48.614700</td>\n",
       "      <td>-1.509617</td>\n",
       "      <td>L’Hotel Vert vous propose des chambres décorée...</td>\n",
       "      <td>1</td>\n",
       "    </tr>\n",
       "    <tr>\n",
       "      <th>1</th>\n",
       "      <td>Mont Saint Michel</td>\n",
       "      <td>Les Terrasses Poulard</td>\n",
       "      <td>https://www.booking.com/hotel/fr/les-terrasses...</td>\n",
       "      <td>7.4</td>\n",
       "      <td>48.635349</td>\n",
       "      <td>-1.510379</td>\n",
       "      <td>Occupant 2 bâtiments différents au cœur du Mon...</td>\n",
       "      <td>1</td>\n",
       "    </tr>\n",
       "    <tr>\n",
       "      <th>2</th>\n",
       "      <td>Mont Saint Michel</td>\n",
       "      <td>Mercure Mont Saint Michel</td>\n",
       "      <td>https://www.booking.com/hotel/fr/mont-saint-mi...</td>\n",
       "      <td>8.2</td>\n",
       "      <td>48.614247</td>\n",
       "      <td>-1.510545</td>\n",
       "      <td>Installé dans des espaces verts à seulement 2 ...</td>\n",
       "      <td>1</td>\n",
       "    </tr>\n",
       "    <tr>\n",
       "      <th>3</th>\n",
       "      <td>Mont Saint Michel</td>\n",
       "      <td>La Vieille Auberge</td>\n",
       "      <td>https://www.booking.com/hotel/fr/la-vieille-au...</td>\n",
       "      <td>7.3</td>\n",
       "      <td>48.636063</td>\n",
       "      <td>-1.511457</td>\n",
       "      <td>La Vieille Auberge vous accueille dans le vill...</td>\n",
       "      <td>1</td>\n",
       "    </tr>\n",
       "    <tr>\n",
       "      <th>4</th>\n",
       "      <td>Mont Saint Michel</td>\n",
       "      <td>Le Relais Du Roy</td>\n",
       "      <td>https://www.booking.com/hotel/fr/le-relais-du-...</td>\n",
       "      <td>8.0</td>\n",
       "      <td>48.616263</td>\n",
       "      <td>-1.510906</td>\n",
       "      <td>Le Relais Du Roy est un hôtel 3 étoiles situé ...</td>\n",
       "      <td>1</td>\n",
       "    </tr>\n",
       "  </tbody>\n",
       "</table>\n",
       "</div>"
      ],
      "text/plain": [
       "                city                 hotel_name  \\\n",
       "0  Mont Saint Michel                 Hôtel Vert   \n",
       "1  Mont Saint Michel      Les Terrasses Poulard   \n",
       "2  Mont Saint Michel  Mercure Mont Saint Michel   \n",
       "3  Mont Saint Michel         La Vieille Auberge   \n",
       "4  Mont Saint Michel           Le Relais Du Roy   \n",
       "\n",
       "                                           url_hotel  score_given        lat  \\\n",
       "0  https://www.booking.com/hotel/fr/vert.fr.html?aid          8.0  48.614700   \n",
       "1  https://www.booking.com/hotel/fr/les-terrasses...          7.4  48.635349   \n",
       "2  https://www.booking.com/hotel/fr/mont-saint-mi...          8.2  48.614247   \n",
       "3  https://www.booking.com/hotel/fr/la-vieille-au...          7.3  48.636063   \n",
       "4  https://www.booking.com/hotel/fr/le-relais-du-...          8.0  48.616263   \n",
       "\n",
       "        lon                                  hotel_description  id  \n",
       "0 -1.509617  L’Hotel Vert vous propose des chambres décorée...   1  \n",
       "1 -1.510379  Occupant 2 bâtiments différents au cœur du Mon...   1  \n",
       "2 -1.510545  Installé dans des espaces verts à seulement 2 ...   1  \n",
       "3 -1.511457  La Vieille Auberge vous accueille dans le vill...   1  \n",
       "4 -1.510906  Le Relais Du Roy est un hôtel 3 étoiles situé ...   1  "
      ]
     },
     "execution_count": 17,
     "metadata": {},
     "output_type": "execute_result"
    }
   ],
   "source": [
    "# Affichage de la table cities_booking, filtré sur id = 1 (à partir du RDS)\n",
    "\n",
    "conn.rollback()\n",
    "\n",
    "stmt = text(\"SELECT * \"\n",
    "            \"FROM cities_booking \"\n",
    "            \"WHERE id = 1 \"\n",
    "            \"LIMIT 5\")\n",
    "pd.read_sql_query(stmt, conn)"
   ]
  }
 ],
 "metadata": {
  "kernelspec": {
   "display_name": "base",
   "language": "python",
   "name": "python3"
  },
  "language_info": {
   "codemirror_mode": {
    "name": "ipython",
    "version": 3
   },
   "file_extension": ".py",
   "mimetype": "text/x-python",
   "name": "python",
   "nbconvert_exporter": "python",
   "pygments_lexer": "ipython3",
   "version": "3.11.5"
  }
 },
 "nbformat": 4,
 "nbformat_minor": 2
}
